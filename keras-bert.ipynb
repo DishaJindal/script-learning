{
 "cells": [
  {
   "cell_type": "code",
   "execution_count": 1,
   "metadata": {
    "scrolled": true
   },
   "outputs": [
    {
     "name": "stderr",
     "output_type": "stream",
     "text": [
      "WARNING: Logging before flag parsing goes to stderr.\n",
      "W0513 20:09:19.771799 139659388524288 __init__.py:56] Some hub symbols are not available because TensorFlow version is less than 1.14\n"
     ]
    },
    {
     "name": "stdout",
     "output_type": "stream",
     "text": [
      "WARNING:tensorflow:From /usr/local/lib/python3.5/dist-packages/tensorflow/python/ops/control_flow_ops.py:3632: colocate_with (from tensorflow.python.framework.ops) is deprecated and will be removed in a future version.\n",
      "Instructions for updating:\n",
      "Colocations handled automatically by placer.\n"
     ]
    },
    {
     "name": "stderr",
     "output_type": "stream",
     "text": [
      "W0513 20:09:21.385396 139659388524288 deprecation.py:323] From /usr/local/lib/python3.5/dist-packages/tensorflow/python/ops/control_flow_ops.py:3632: colocate_with (from tensorflow.python.framework.ops) is deprecated and will be removed in a future version.\n",
      "Instructions for updating:\n",
      "Colocations handled automatically by placer.\n"
     ]
    },
    {
     "name": "stdout",
     "output_type": "stream",
     "text": [
      "INFO:tensorflow:Saver not created because there are no variables in the graph to restore\n"
     ]
    },
    {
     "name": "stderr",
     "output_type": "stream",
     "text": [
      "I0513 20:09:23.344399 139659388524288 saver.py:1483] Saver not created because there are no variables in the graph to restore\n",
      "Using TensorFlow backend.\n"
     ]
    }
   ],
   "source": [
    "import tensorflow as tf\n",
    "from tensorflow import keras\n",
    "from tensorflow.keras import layers, models\n",
    "import pandas as pd\n",
    "import tensorflow_hub as hub\n",
    "import os\n",
    "import re\n",
    "import numpy as np\n",
    "from bert.tokenization import FullTokenizer\n",
    "from tqdm import tqdm_notebook\n",
    "from tensorflow.keras import backend as K\n",
    "import prepare_data\n",
    "from prepare_data import tokenizer, tokenize_if_small_enough\n",
    "import read\n",
    "from keras.utils import to_categorical\n",
    "# # Initialize session\n",
    "sess = tf.Session()\n",
    "\n",
    "# # Params for bert model and tokenization\n",
    "# # bert_path = \"https://tfhub.dev/google/bert_uncased_L-12_H-768_A-12/1\"\n",
    "# # max_seq_length = 256"
   ]
  },
  {
   "cell_type": "markdown",
   "metadata": {},
   "source": [
    "# Data\n",
    "\n",
    "First, we load the data"
   ]
  },
  {
   "cell_type": "code",
   "execution_count": 2,
   "metadata": {},
   "outputs": [],
   "source": [
    "sentence=True\n",
    "no_context=False\n",
    "neeg_dataset=False\n",
    "conceptnet=True\n",
    "input_size=10000"
   ]
  },
  {
   "cell_type": "code",
   "execution_count": 3,
   "metadata": {},
   "outputs": [],
   "source": [
    "train_dataset = read.read_data_iterator('dataset/gw_extractions.pickle')\n",
    "features = list(tokenize_if_small_enough(train_dataset,\n",
    "                                         sentence, no_context,\n",
    "                                         is_neeg=neeg_dataset,\n",
    "                                         conceptnet=conceptnet,\n",
    "                                         input_size=input_size))\n",
    "sample_size = len(features)\n",
    "training_pct = 0.8\n",
    "val_pct = 0.1\n",
    "test_pct = 0.1\n",
    "train_set_size = int(sample_size * training_pct)\n",
    "val_set_size = int(sample_size * val_pct)\n",
    "test_set_size = sample_size - train_set_size - val_set_size\n",
    "\n",
    "train_features = features[:train_set_size]\n",
    "val_features = features[train_set_size:train_set_size+val_set_size]\n",
    "test_features = features[train_set_size+val_set_size:train_set_size+val_set_size+test_set_size]"
   ]
  },
  {
   "cell_type": "markdown",
   "metadata": {},
   "source": [
    "# Tokenize\n",
    "\n",
    "Next, tokenize our text to create `input_ids`, `input_masks`, and `segment_ids`"
   ]
  },
  {
   "cell_type": "code",
   "execution_count": 4,
   "metadata": {},
   "outputs": [],
   "source": [
    "train_input_ids = np.array([f.input_ids for f in train_features])\n",
    "train_input_masks = np.array([f.input_mask for f in train_features])\n",
    "train_segment_ids = np.array([f.segment_ids for f in train_features])\n",
    "train_labels = np.array([to_categorical(f.label_id - 1, num_classes=5) for f in train_features])\n",
    "\n",
    "\n",
    "val_input_ids = np.array([f.input_ids for f in val_features])\n",
    "val_input_masks = np.array([f.input_mask for f in val_features])\n",
    "val_segment_ids = np.array([f.segment_ids for f in val_features])\n",
    "val_labels = np.array([to_categorical(f.label_id - 1, num_classes=5) for f in val_features])"
   ]
  },
  {
   "cell_type": "markdown",
   "metadata": {},
   "source": [
    "# Model Definition"
   ]
  },
  {
   "cell_type": "code",
   "execution_count": 5,
   "metadata": {},
   "outputs": [],
   "source": [
    "class BertLayer(tf.layers.Layer):\n",
    "    def __init__(self, n_fine_tune_layers=10, **kwargs):\n",
    "        self.n_fine_tune_layers = n_fine_tune_layers\n",
    "        self.trainable = True\n",
    "        self.output_size = 768\n",
    "        super().__init__(**kwargs)\n",
    "\n",
    "    def build(self, input_shape):\n",
    "        self.bert = hub.Module(\n",
    "            prepare_data.BERT_MODEL_HUB,\n",
    "            trainable=self.trainable,\n",
    "            name=\"{}_module\".format(self.name)\n",
    "        )\n",
    "        \n",
    "        trainable_vars = self.bert.variables\n",
    "\n",
    "        # Remove unused layers\n",
    "        trainable_vars = [var for var in trainable_vars if not \"/cls/\" in var.name]\n",
    "\n",
    "        # Select how many layers to fine tune\n",
    "        trainable_vars = trainable_vars[-self.n_fine_tune_layers :]\n",
    "\n",
    "        # Add to trainable weights\n",
    "        for var in trainable_vars:\n",
    "            self._trainable_weights.append(var)\n",
    "            \n",
    "        for var in self.bert.variables:\n",
    "            if var not in self._trainable_weights:\n",
    "                self._non_trainable_weights.append(var)\n",
    "        super(BertLayer, self).build(input_shape)\n",
    "\n",
    "    def call(self, inputs):\n",
    "        inputs = [K.cast(x, dtype=\"int32\") for x in inputs]\n",
    "        input_ids, input_mask, segment_ids = inputs\n",
    "        bert_inputs = dict(\n",
    "            input_ids=input_ids, input_mask=input_mask, segment_ids=segment_ids\n",
    "        )\n",
    "        result = self.bert(inputs=bert_inputs, signature=\"tokens\", as_dict=True)[\n",
    "            \"pooled_output\"\n",
    "        ]\n",
    "        return result\n",
    "\n",
    "    def compute_output_shape(self, input_shape):\n",
    "        return (input_shape[0], self.output_size)"
   ]
  },
  {
   "cell_type": "code",
   "execution_count": 6,
   "metadata": {},
   "outputs": [],
   "source": [
    "class MultiBertLayer(BertLayer):\n",
    "    def call(self, inputs):\n",
    "        return [super(MultiBertLayer, self).call(ip) for ip in zip(*inputs)]\n",
    "\n",
    "    def compute_output_shape(self, input_shape):\n",
    "        #(batch size, num_labels, max_seq_size)\n",
    "        return (input_shape[0], input_shape[1], self.output_size)"
   ]
  },
  {
   "cell_type": "code",
   "execution_count": 18,
   "metadata": {},
   "outputs": [],
   "source": [
    "# Build model\n",
    "def build_model(max_seq_length, num_labels, word_vec_len=0, sentence_vec_len=0, num_sents=5): \n",
    "    \n",
    "    #Inputs\n",
    "    in_ids = layers.Input(shape=(num_labels, max_seq_length), name=\"input_ids\")\n",
    "    in_masks = layers.Input(shape=(num_labels, max_seq_length), name=\"input_masks\")\n",
    "    in_segments = layers.Input(shape=(num_labels, max_seq_length), name=\"segment_ids\")\n",
    "    inputs = [in_ids, in_masks, in_segments]\n",
    "    \n",
    "    if word_vec_len:\n",
    "        in_candidates_words = layers.Input(shape=(num_labels, None, word_vec_len), name=\"input_candidates_words\")\n",
    "        in_events_words = layers.Input(shape=(num_sents, None, word_vec_len), name=\"input_event_words\")\n",
    "        inputs.extend([in_candidates_words, in_events_words])\n",
    "        \n",
    "    if sentence_vec_len:\n",
    "        in_candidates_sentences = layers.Input(shape=(num_labels, 1, sentence_vec_len), name=\"input_candidates_sentences\")\n",
    "        in_events_sentences = layers.Input(shape=(num_sents, sentence_vec_len), name=\"input_events_sentences\")\n",
    "        inputs.extend([in_candidates_sentences, in_events_sentences])\n",
    "    \n",
    "    \n",
    "    #Split inputs if they should be operated on individually\n",
    "    split_in_ids = [layers.Lambda(lambda x: x[:, i, :])(in_ids) for i in range(num_labels)]\n",
    "    split_in_masks = [layers.Lambda(lambda x: x[:, i, :])(in_masks) for i in range(num_labels)]\n",
    "    split_in_segments = [layers.Lambda(lambda x: x[:, i, :])(in_segments) for i in range(num_labels)]\n",
    "    \n",
    "    if word_vec_len:\n",
    "        #Split by candidate\n",
    "        split_in_candidates_words = [layers.Lambda(lambda x: x[:, i, :, :])(in_candidates_words) for i in range(num_labels)]\n",
    "        #Split by sentence\n",
    "        split_in_events_words = [layers.Lambda(lambda x: x[:, i, :, :])(in_events_words) for i in range(num_sents)]\n",
    "        \n",
    "    if sentence_vec_len:\n",
    "        split_in_candidates_sentences = [layers.Lambda(lambda x: x[:, i, :])(in_candidates_sentences) \n",
    "                                         for i in range(num_labels)]\n",
    "    \n",
    "    \n",
    "    #Bert\n",
    "    bert_outputs = MultiBertLayer(n_fine_tune_layers=0)([split_in_ids, split_in_masks, split_in_segments])\n",
    "    \n",
    "    \n",
    "    #Autoencoders to convert word and sentence embeddings into fixed vector embeddings\n",
    "    word_to_sentence_autoencoder = layers.LSTM(sentence_vec_len, name=\"word_to_sword_to_sentence_autoencoder\")\n",
    "    sentences_to_vec_autoencoder = layers.LSTM(300, name='sentences_to_vec_autoencoder')\n",
    "    \n",
    "    if word_vec_len:\n",
    "        autoencoded_word_event_sentence_vectors = [\n",
    "            layers.Lambda(lambda x: K.expand_dims(word_to_sentence_autoencoder(x), 1))(ew) \n",
    "            for ew in split_in_events_words]\n",
    "#         autoencoded_candidates = [\n",
    "#             word_to_sentence_autoencoder(layers.Lambda(lambda x: K.expand_dims(x, 1))(cw))\n",
    "#             for cw in split_in_candidates_words]\n",
    "    \n",
    "        autoencoded_candidates = [\n",
    "            layers.Lambda(lambda x: K.expand_dims(x, 1))(word_to_sentence_autoencoder(cw))\n",
    "            for cw in split_in_candidates_words\n",
    "        ]\n",
    "        word_event_candidate_autoencoded = [\n",
    "            layers.Concatenate(axis=1)(autoencoded_word_event_sentence_vectors + [ac]) \n",
    "            for ac in autoencoded_candidates]\n",
    "\n",
    "        autencoded_chains_from_words = [sentences_to_vec_autoencoder(wec) \n",
    "                                        for wec in word_event_candidate_autoencoded]\n",
    "    if sentence_vec_len:\n",
    "        sentence_candidate_vectors = [\n",
    "            layers.Concatenate(axis=1)([in_events_sentences, ics]) \n",
    "            for ics in split_in_candidates_sentences]\n",
    "        autencoded_chains_from_sents = [sentences_to_vec_autoencoder(scv) \n",
    "                                        for scv in sentence_candidate_vectors]\n",
    "    \n",
    "    if word_vec_len and sentence_vec_len:\n",
    "        enhancing_vectors = [layers.Concatenate(axis=1)([wv, sv])\n",
    "            for (wv, sv) in \n",
    "            zip(autencoded_chains_from_words, \n",
    "                autencoded_chains_from_sents)]\n",
    "    elif word_vec_len:\n",
    "        enhancing_vectors = combined_word_candidate_event_sentence_vectors\n",
    "    elif sentence_vec_len:\n",
    "        enhancing_vectors = combined_sentence_candidate_event_sentence_vectors\n",
    "        \n",
    "        \n",
    "    #Combine Bert and autoencoder embeddings (if provided)\n",
    "    if word_vec_len or sentence_vec_len:\n",
    "        augmented_outputs = [layers.Concatenate(axis=1)([bo, ev]) for (bo, ev) in zip(bert_outputs, enhancing_vectors)]\n",
    "    else:\n",
    "        augmented_outputs = bert_outputs\n",
    "    concat_output = layers.Concatenate(axis=1)(augmented_outputs)\n",
    "    \n",
    "    #Single Hidden Layer and classification\n",
    "    dense = layers.Dense(256, activation='relu')(concat_output)\n",
    "    pred = layers.Dense(num_labels, activation='softmax')(dense)\n",
    "    \n",
    "    model = models.Model(inputs=inputs, outputs=pred)\n",
    "    model.compile(loss='categorical_crossentropy', optimizer='adam', metrics=['accuracy'])\n",
    "    model.summary()\n",
    "    \n",
    "    return model\n",
    "\n",
    "def initialize_vars(sess):\n",
    "    sess.run(tf.local_variables_initializer())\n",
    "    sess.run(tf.global_variables_initializer())\n",
    "    sess.run(tf.tables_initializer())\n",
    "    K.set_session(sess)"
   ]
  },
  {
   "cell_type": "code",
   "execution_count": 19,
   "metadata": {},
   "outputs": [
    {
     "name": "stdout",
     "output_type": "stream",
     "text": [
      "INFO:tensorflow:Saver not created because there are no variables in the graph to restore\n"
     ]
    },
    {
     "name": "stderr",
     "output_type": "stream",
     "text": [
      "I0513 22:35:01.247047 139659388524288 saver.py:1483] Saver not created because there are no variables in the graph to restore\n"
     ]
    },
    {
     "name": "stdout",
     "output_type": "stream",
     "text": [
      "INFO:tensorflow:Saver not created because there are no variables in the graph to restore\n"
     ]
    },
    {
     "name": "stderr",
     "output_type": "stream",
     "text": [
      "I0513 22:35:03.868959 139659388524288 saver.py:1483] Saver not created because there are no variables in the graph to restore\n"
     ]
    },
    {
     "name": "stdout",
     "output_type": "stream",
     "text": [
      "INFO:tensorflow:Saver not created because there are no variables in the graph to restore\n"
     ]
    },
    {
     "name": "stderr",
     "output_type": "stream",
     "text": [
      "I0513 22:35:05.807701 139659388524288 saver.py:1483] Saver not created because there are no variables in the graph to restore\n"
     ]
    },
    {
     "name": "stdout",
     "output_type": "stream",
     "text": [
      "INFO:tensorflow:Saver not created because there are no variables in the graph to restore\n"
     ]
    },
    {
     "name": "stderr",
     "output_type": "stream",
     "text": [
      "I0513 22:35:07.810960 139659388524288 saver.py:1483] Saver not created because there are no variables in the graph to restore\n"
     ]
    },
    {
     "name": "stdout",
     "output_type": "stream",
     "text": [
      "INFO:tensorflow:Saver not created because there are no variables in the graph to restore\n"
     ]
    },
    {
     "name": "stderr",
     "output_type": "stream",
     "text": [
      "I0513 22:35:09.852611 139659388524288 saver.py:1483] Saver not created because there are no variables in the graph to restore\n"
     ]
    },
    {
     "name": "stdout",
     "output_type": "stream",
     "text": [
      "INFO:tensorflow:Saver not created because there are no variables in the graph to restore\n"
     ]
    },
    {
     "name": "stderr",
     "output_type": "stream",
     "text": [
      "I0513 22:35:11.941896 139659388524288 saver.py:1483] Saver not created because there are no variables in the graph to restore\n"
     ]
    },
    {
     "name": "stdout",
     "output_type": "stream",
     "text": [
      "__________________________________________________________________________________________________\n",
      "Layer (type)                    Output Shape         Param #     Connected to                     \n",
      "==================================================================================================\n",
      "input_candidates_words (InputLa (None, 5, None, 10)  0                                            \n",
      "__________________________________________________________________________________________________\n",
      "input_event_words (InputLayer)  (None, 5, None, 10)  0                                            \n",
      "__________________________________________________________________________________________________\n",
      "lambda_231 (Lambda)             (None, None, 10)     0           input_candidates_words[0][0]     \n",
      "__________________________________________________________________________________________________\n",
      "lambda_232 (Lambda)             (None, None, 10)     0           input_candidates_words[0][0]     \n",
      "__________________________________________________________________________________________________\n",
      "lambda_233 (Lambda)             (None, None, 10)     0           input_candidates_words[0][0]     \n",
      "__________________________________________________________________________________________________\n",
      "lambda_234 (Lambda)             (None, None, 10)     0           input_candidates_words[0][0]     \n",
      "__________________________________________________________________________________________________\n",
      "lambda_235 (Lambda)             (None, None, 10)     0           input_candidates_words[0][0]     \n",
      "__________________________________________________________________________________________________\n",
      "lambda_236 (Lambda)             (None, None, 10)     0           input_event_words[0][0]          \n",
      "__________________________________________________________________________________________________\n",
      "lambda_237 (Lambda)             (None, None, 10)     0           input_event_words[0][0]          \n",
      "__________________________________________________________________________________________________\n",
      "lambda_238 (Lambda)             (None, None, 10)     0           input_event_words[0][0]          \n",
      "__________________________________________________________________________________________________\n",
      "lambda_239 (Lambda)             (None, None, 10)     0           input_event_words[0][0]          \n",
      "__________________________________________________________________________________________________\n",
      "lambda_240 (Lambda)             (None, None, 10)     0           input_event_words[0][0]          \n",
      "__________________________________________________________________________________________________\n",
      "word_to_sword_to_sentence_autoe (None, 10)           840         lambda_231[0][0]                 \n",
      "                                                                 lambda_232[0][0]                 \n",
      "                                                                 lambda_233[0][0]                 \n",
      "                                                                 lambda_234[0][0]                 \n",
      "                                                                 lambda_235[0][0]                 \n",
      "__________________________________________________________________________________________________\n",
      "input_candidates_sentences (Inp (None, 5, 1, 10)     0                                            \n",
      "__________________________________________________________________________________________________\n",
      "lambda_246 (Lambda)             (None, 1, 10)        0           lambda_236[0][0]                 \n",
      "__________________________________________________________________________________________________\n",
      "lambda_247 (Lambda)             (None, 1, 10)        0           lambda_237[0][0]                 \n",
      "__________________________________________________________________________________________________\n",
      "lambda_248 (Lambda)             (None, 1, 10)        0           lambda_238[0][0]                 \n",
      "__________________________________________________________________________________________________\n",
      "lambda_249 (Lambda)             (None, 1, 10)        0           lambda_239[0][0]                 \n",
      "__________________________________________________________________________________________________\n",
      "lambda_250 (Lambda)             (None, 1, 10)        0           lambda_240[0][0]                 \n",
      "__________________________________________________________________________________________________\n",
      "lambda_251 (Lambda)             (None, 1, 10)        0           word_to_sword_to_sentence_autoenc\n",
      "__________________________________________________________________________________________________\n",
      "input_events_sentences (InputLa (None, 5, 10)        0                                            \n",
      "__________________________________________________________________________________________________\n",
      "lambda_241 (Lambda)             (None, 1, 10)        0           input_candidates_sentences[0][0] \n",
      "__________________________________________________________________________________________________\n",
      "lambda_252 (Lambda)             (None, 1, 10)        0           word_to_sword_to_sentence_autoenc\n",
      "__________________________________________________________________________________________________\n",
      "lambda_242 (Lambda)             (None, 1, 10)        0           input_candidates_sentences[0][0] \n",
      "__________________________________________________________________________________________________\n",
      "lambda_253 (Lambda)             (None, 1, 10)        0           word_to_sword_to_sentence_autoenc\n",
      "__________________________________________________________________________________________________\n",
      "lambda_243 (Lambda)             (None, 1, 10)        0           input_candidates_sentences[0][0] \n",
      "__________________________________________________________________________________________________\n",
      "lambda_254 (Lambda)             (None, 1, 10)        0           word_to_sword_to_sentence_autoenc\n",
      "__________________________________________________________________________________________________\n",
      "lambda_244 (Lambda)             (None, 1, 10)        0           input_candidates_sentences[0][0] \n",
      "__________________________________________________________________________________________________\n",
      "lambda_255 (Lambda)             (None, 1, 10)        0           word_to_sword_to_sentence_autoenc\n",
      "__________________________________________________________________________________________________\n",
      "lambda_245 (Lambda)             (None, 1, 10)        0           input_candidates_sentences[0][0] \n",
      "__________________________________________________________________________________________________\n",
      "input_ids (InputLayer)          (None, 5, 128)       0                                            \n",
      "__________________________________________________________________________________________________\n",
      "input_masks (InputLayer)        (None, 5, 128)       0                                            \n",
      "__________________________________________________________________________________________________\n",
      "segment_ids (InputLayer)        (None, 5, 128)       0                                            \n",
      "__________________________________________________________________________________________________\n",
      "concatenate_45 (Concatenate)    (None, 6, 10)        0           lambda_246[0][0]                 \n",
      "                                                                 lambda_247[0][0]                 \n",
      "                                                                 lambda_248[0][0]                 \n",
      "                                                                 lambda_249[0][0]                 \n",
      "                                                                 lambda_250[0][0]                 \n",
      "                                                                 lambda_251[0][0]                 \n",
      "__________________________________________________________________________________________________\n",
      "concatenate_50 (Concatenate)    (None, 6, 10)        0           input_events_sentences[0][0]     \n",
      "                                                                 lambda_241[0][0]                 \n",
      "__________________________________________________________________________________________________\n",
      "concatenate_46 (Concatenate)    (None, 6, 10)        0           lambda_246[0][0]                 \n",
      "                                                                 lambda_247[0][0]                 \n",
      "                                                                 lambda_248[0][0]                 \n",
      "                                                                 lambda_249[0][0]                 \n",
      "                                                                 lambda_250[0][0]                 \n",
      "                                                                 lambda_252[0][0]                 \n",
      "__________________________________________________________________________________________________\n",
      "concatenate_51 (Concatenate)    (None, 6, 10)        0           input_events_sentences[0][0]     \n",
      "                                                                 lambda_242[0][0]                 \n",
      "__________________________________________________________________________________________________\n",
      "concatenate_47 (Concatenate)    (None, 6, 10)        0           lambda_246[0][0]                 \n",
      "                                                                 lambda_247[0][0]                 \n",
      "                                                                 lambda_248[0][0]                 \n",
      "                                                                 lambda_249[0][0]                 \n",
      "                                                                 lambda_250[0][0]                 \n",
      "                                                                 lambda_253[0][0]                 \n",
      "__________________________________________________________________________________________________\n",
      "concatenate_52 (Concatenate)    (None, 6, 10)        0           input_events_sentences[0][0]     \n",
      "                                                                 lambda_243[0][0]                 \n",
      "__________________________________________________________________________________________________\n",
      "concatenate_48 (Concatenate)    (None, 6, 10)        0           lambda_246[0][0]                 \n",
      "                                                                 lambda_247[0][0]                 \n",
      "                                                                 lambda_248[0][0]                 \n",
      "                                                                 lambda_249[0][0]                 \n",
      "                                                                 lambda_250[0][0]                 \n",
      "                                                                 lambda_254[0][0]                 \n",
      "__________________________________________________________________________________________________\n",
      "concatenate_53 (Concatenate)    (None, 6, 10)        0           input_events_sentences[0][0]     \n",
      "                                                                 lambda_244[0][0]                 \n",
      "__________________________________________________________________________________________________\n",
      "concatenate_49 (Concatenate)    (None, 6, 10)        0           lambda_246[0][0]                 \n",
      "                                                                 lambda_247[0][0]                 \n",
      "                                                                 lambda_248[0][0]                 \n",
      "                                                                 lambda_249[0][0]                 \n",
      "                                                                 lambda_250[0][0]                 \n",
      "                                                                 lambda_255[0][0]                 \n",
      "__________________________________________________________________________________________________\n",
      "concatenate_54 (Concatenate)    (None, 6, 10)        0           input_events_sentences[0][0]     \n",
      "                                                                 lambda_245[0][0]                 \n",
      "__________________________________________________________________________________________________\n",
      "lambda_216 (Lambda)             (None, 128)          0           input_ids[0][0]                  \n",
      "__________________________________________________________________________________________________\n",
      "lambda_217 (Lambda)             (None, 128)          0           input_ids[0][0]                  \n",
      "__________________________________________________________________________________________________\n",
      "lambda_218 (Lambda)             (None, 128)          0           input_ids[0][0]                  \n",
      "__________________________________________________________________________________________________\n",
      "lambda_219 (Lambda)             (None, 128)          0           input_ids[0][0]                  \n",
      "__________________________________________________________________________________________________\n",
      "lambda_220 (Lambda)             (None, 128)          0           input_ids[0][0]                  \n",
      "__________________________________________________________________________________________________\n",
      "lambda_221 (Lambda)             (None, 128)          0           input_masks[0][0]                \n",
      "__________________________________________________________________________________________________\n",
      "lambda_222 (Lambda)             (None, 128)          0           input_masks[0][0]                \n",
      "__________________________________________________________________________________________________\n",
      "lambda_223 (Lambda)             (None, 128)          0           input_masks[0][0]                \n",
      "__________________________________________________________________________________________________\n",
      "lambda_224 (Lambda)             (None, 128)          0           input_masks[0][0]                \n",
      "__________________________________________________________________________________________________\n",
      "lambda_225 (Lambda)             (None, 128)          0           input_masks[0][0]                \n",
      "__________________________________________________________________________________________________\n",
      "lambda_226 (Lambda)             (None, 128)          0           segment_ids[0][0]                \n",
      "__________________________________________________________________________________________________\n",
      "lambda_227 (Lambda)             (None, 128)          0           segment_ids[0][0]                \n",
      "__________________________________________________________________________________________________\n",
      "lambda_228 (Lambda)             (None, 128)          0           segment_ids[0][0]                \n",
      "__________________________________________________________________________________________________\n",
      "lambda_229 (Lambda)             (None, 128)          0           segment_ids[0][0]                \n",
      "__________________________________________________________________________________________________\n",
      "lambda_230 (Lambda)             (None, 128)          0           segment_ids[0][0]                \n",
      "__________________________________________________________________________________________________\n",
      "sentences_to_vec_autoencoder (L (None, 300)          373200      concatenate_45[0][0]             \n",
      "                                                                 concatenate_46[0][0]             \n",
      "                                                                 concatenate_47[0][0]             \n",
      "                                                                 concatenate_48[0][0]             \n",
      "                                                                 concatenate_49[0][0]             \n",
      "                                                                 concatenate_50[0][0]             \n",
      "                                                                 concatenate_51[0][0]             \n",
      "                                                                 concatenate_52[0][0]             \n",
      "                                                                 concatenate_53[0][0]             \n",
      "                                                                 concatenate_54[0][0]             \n",
      "__________________________________________________________________________________________________\n",
      "multi_bert_layer_7 (MultiBertLa [(None, 768), (None, 110104890   lambda_216[0][0]                 \n",
      "                                                                 lambda_217[0][0]                 \n",
      "                                                                 lambda_218[0][0]                 \n",
      "                                                                 lambda_219[0][0]                 \n",
      "                                                                 lambda_220[0][0]                 \n",
      "                                                                 lambda_221[0][0]                 \n",
      "                                                                 lambda_222[0][0]                 \n",
      "                                                                 lambda_223[0][0]                 \n",
      "                                                                 lambda_224[0][0]                 \n",
      "                                                                 lambda_225[0][0]                 \n",
      "                                                                 lambda_226[0][0]                 \n",
      "                                                                 lambda_227[0][0]                 \n",
      "                                                                 lambda_228[0][0]                 \n",
      "                                                                 lambda_229[0][0]                 \n",
      "                                                                 lambda_230[0][0]                 \n",
      "__________________________________________________________________________________________________\n",
      "concatenate_55 (Concatenate)    (None, 600)          0           sentences_to_vec_autoencoder[0][0\n",
      "                                                                 sentences_to_vec_autoencoder[5][0\n",
      "__________________________________________________________________________________________________\n",
      "concatenate_56 (Concatenate)    (None, 600)          0           sentences_to_vec_autoencoder[1][0\n",
      "                                                                 sentences_to_vec_autoencoder[6][0\n",
      "__________________________________________________________________________________________________\n",
      "concatenate_57 (Concatenate)    (None, 600)          0           sentences_to_vec_autoencoder[2][0\n",
      "                                                                 sentences_to_vec_autoencoder[7][0\n",
      "__________________________________________________________________________________________________\n",
      "concatenate_58 (Concatenate)    (None, 600)          0           sentences_to_vec_autoencoder[3][0\n",
      "                                                                 sentences_to_vec_autoencoder[8][0\n",
      "__________________________________________________________________________________________________\n",
      "concatenate_59 (Concatenate)    (None, 600)          0           sentences_to_vec_autoencoder[4][0\n",
      "                                                                 sentences_to_vec_autoencoder[9][0\n",
      "__________________________________________________________________________________________________\n",
      "concatenate_60 (Concatenate)    (None, 1368)         0           multi_bert_layer_7[0][0]         \n",
      "                                                                 concatenate_55[0][0]             \n",
      "__________________________________________________________________________________________________\n",
      "concatenate_61 (Concatenate)    (None, 1368)         0           multi_bert_layer_7[0][1]         \n",
      "                                                                 concatenate_56[0][0]             \n",
      "__________________________________________________________________________________________________\n",
      "concatenate_62 (Concatenate)    (None, 1368)         0           multi_bert_layer_7[0][2]         \n",
      "                                                                 concatenate_57[0][0]             \n",
      "__________________________________________________________________________________________________\n",
      "concatenate_63 (Concatenate)    (None, 1368)         0           multi_bert_layer_7[0][3]         \n",
      "                                                                 concatenate_58[0][0]             \n",
      "__________________________________________________________________________________________________\n",
      "concatenate_64 (Concatenate)    (None, 1368)         0           multi_bert_layer_7[0][4]         \n",
      "                                                                 concatenate_59[0][0]             \n",
      "__________________________________________________________________________________________________\n",
      "concatenate_65 (Concatenate)    (None, 6840)         0           concatenate_60[0][0]             \n",
      "                                                                 concatenate_61[0][0]             \n",
      "                                                                 concatenate_62[0][0]             \n",
      "                                                                 concatenate_63[0][0]             \n",
      "                                                                 concatenate_64[0][0]             \n",
      "__________________________________________________________________________________________________\n",
      "dense_4 (Dense)                 (None, 256)          1751296     concatenate_65[0][0]             \n",
      "__________________________________________________________________________________________________\n",
      "dense_5 (Dense)                 (None, 5)            1285        dense_4[0][0]                    \n",
      "==================================================================================================\n",
      "Total params: 112,231,511\n",
      "Trainable params: 111,608,861\n",
      "Non-trainable params: 622,650\n",
      "__________________________________________________________________________________________________\n"
     ]
    }
   ],
   "source": [
    "model = build_model(prepare_data.MAX_SEQ_LENGTH, num_labels=5, word_vec_len=10, sentence_vec_len=10)\n",
    "\n",
    "# Instantiate variables\n"
   ]
  },
  {
   "cell_type": "markdown",
   "metadata": {},
   "source": [
    "# Train"
   ]
  },
  {
   "cell_type": "code",
   "execution_count": null,
   "metadata": {},
   "outputs": [],
   "source": [
    "initialize_vars(sess)\n",
    "\n",
    "model.fit(\n",
    "    [train_input_ids, train_input_masks, train_segment_ids], \n",
    "    train_labels,\n",
    "    validation_data=([val_input_ids, val_input_masks, val_segment_ids], val_labels),\n",
    "    epochs=1,\n",
    "    batch_size=1\n",
    ")"
   ]
  },
  {
   "cell_type": "markdown",
   "metadata": {},
   "source": [
    "# Predict"
   ]
  },
  {
   "cell_type": "code",
   "execution_count": null,
   "metadata": {},
   "outputs": [],
   "source": [
    "model.save('BertModel.h5')\n",
    "pre_save_preds = model.predict([test_input_ids[0:100], \n",
    "                                test_input_masks[0:100], \n",
    "                                test_segment_ids[0:100]]\n",
    "                              ) # predictions before we clear and reload model\n",
    "\n",
    "# Clear and load model\n",
    "model = None\n",
    "model = build_model(max_seq_length)\n",
    "initialize_vars(sess)\n",
    "model.load_weights('BertModel.h5')\n",
    "\n",
    "post_save_preds = model.predict([test_input_ids[0:100], \n",
    "                                test_input_masks[0:100], \n",
    "                                test_segment_ids[0:100]]\n",
    "                              ) # predictions after we clear and reload model\n",
    "all(pre_save_preds == post_save_preds) # Are they the same?"
   ]
  }
 ],
 "metadata": {
  "kernelspec": {
   "display_name": "Python 3",
   "language": "python",
   "name": "python3"
  },
  "language_info": {
   "codemirror_mode": {
    "name": "ipython",
    "version": 3
   },
   "file_extension": ".py",
   "mimetype": "text/x-python",
   "name": "python",
   "nbconvert_exporter": "python",
   "pygments_lexer": "ipython3",
   "version": "3.5.2"
  }
 },
 "nbformat": 4,
 "nbformat_minor": 2
}
