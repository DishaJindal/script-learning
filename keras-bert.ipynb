{
 "cells": [
  {
   "cell_type": "code",
   "execution_count": 1,
   "metadata": {
    "scrolled": true
   },
   "outputs": [
    {
     "name": "stderr",
     "output_type": "stream",
     "text": [
      "WARNING: Logging before flag parsing goes to stderr.\n",
      "W0514 01:01:49.830568 140307046811392 __init__.py:56] Some hub symbols are not available because TensorFlow version is less than 1.14\n"
     ]
    },
    {
     "name": "stdout",
     "output_type": "stream",
     "text": [
      "WARNING:tensorflow:From /usr/local/lib/python3.5/dist-packages/tensorflow/python/ops/control_flow_ops.py:3632: colocate_with (from tensorflow.python.framework.ops) is deprecated and will be removed in a future version.\n",
      "Instructions for updating:\n",
      "Colocations handled automatically by placer.\n"
     ]
    },
    {
     "name": "stderr",
     "output_type": "stream",
     "text": [
      "W0514 01:01:51.452780 140307046811392 deprecation.py:323] From /usr/local/lib/python3.5/dist-packages/tensorflow/python/ops/control_flow_ops.py:3632: colocate_with (from tensorflow.python.framework.ops) is deprecated and will be removed in a future version.\n",
      "Instructions for updating:\n",
      "Colocations handled automatically by placer.\n"
     ]
    },
    {
     "name": "stdout",
     "output_type": "stream",
     "text": [
      "INFO:tensorflow:Saver not created because there are no variables in the graph to restore\n"
     ]
    },
    {
     "name": "stderr",
     "output_type": "stream",
     "text": [
      "I0514 01:01:53.491857 140307046811392 saver.py:1483] Saver not created because there are no variables in the graph to restore\n",
      "Using TensorFlow backend.\n"
     ]
    }
   ],
   "source": [
    "import tensorflow as tf\n",
    "from tensorflow import keras\n",
    "from tensorflow.keras import layers, models\n",
    "import pandas as pd\n",
    "import tensorflow_hub as hub\n",
    "import os\n",
    "import re\n",
    "import numpy as np\n",
    "from bert.tokenization import FullTokenizer\n",
    "from tqdm import tqdm_notebook\n",
    "from tensorflow.keras import backend as K\n",
    "import prepare_data\n",
    "from prepare_data import tokenizer, tokenize_if_small_enough\n",
    "import read\n",
    "from keras.utils import to_categorical\n",
    "# # Initialize session\n",
    "sess = tf.Session()\n",
    "\n",
    "# # Params for bert model and tokenization\n",
    "# # bert_path = \"https://tfhub.dev/google/bert_uncased_L-12_H-768_A-12/1\"\n",
    "# # max_seq_length = 256"
   ]
  },
  {
   "cell_type": "markdown",
   "metadata": {},
   "source": [
    "# Data\n",
    "\n",
    "First, we load the data"
   ]
  },
  {
   "cell_type": "code",
   "execution_count": 2,
   "metadata": {},
   "outputs": [],
   "source": [
    "sentence=True\n",
    "no_context=False\n",
    "neeg_dataset=False\n",
    "conceptnet=True\n",
    "input_size=10000\n",
    "logs = './logs'"
   ]
  },
  {
   "cell_type": "code",
   "execution_count": 3,
   "metadata": {},
   "outputs": [],
   "source": [
    "train_dataset = read.read_data_iterator('dataset/gw_extractions_enriched.pickle')\n",
    "features = list(tokenize_if_small_enough(train_dataset,\n",
    "                                         sentence, no_context,\n",
    "                                         is_neeg=neeg_dataset,\n",
    "                                         conceptnet=conceptnet,\n",
    "                                         input_size=100))\n",
    "sample_size = len(features)\n",
    "training_pct = 0.8\n",
    "val_pct = 0.1\n",
    "test_pct = 0.1\n",
    "train_set_size = int(sample_size * training_pct)\n",
    "val_set_size = int(sample_size * val_pct)\n",
    "test_set_size = sample_size - train_set_size - val_set_size\n",
    "\n",
    "train_features = features[:train_set_size]\n",
    "val_features = features[train_set_size:train_set_size+val_set_size]\n",
    "test_features = features[train_set_size+val_set_size:train_set_size+val_set_size+test_set_size]"
   ]
  },
  {
   "cell_type": "markdown",
   "metadata": {},
   "source": [
    "# Tokenize\n",
    "\n",
    "Next, tokenize our text to create `input_ids`, `input_masks`, and `segment_ids`"
   ]
  },
  {
   "cell_type": "code",
   "execution_count": 6,
   "metadata": {},
   "outputs": [],
   "source": [
    "def pad_to_max_of_max(ls_ls):\n",
    "    inner_max_pad = max([max([np.array(t).shape for t in twe], key=lambda x:x[0])[0] \n",
    "                   for twe in ls_ls])\n",
    "    inner_maxed = [np.array([np.pad(np.array(a), ((0, inner_max_pad-np.array(a).shape[0]), (0, 0)), mode='constant') for a in ls]) for ls in ls_ls]\n",
    "    outer_max = max((e.shape[0] for e in inner_maxed))\n",
    "    return np.array([np.pad(e, ((0, outer_max-e.shape[0]), (0, 0), (0, 0)), mode='constant') for e in inner_maxed])\n",
    "    \n",
    "def pad_to_max(ls):\n",
    "    ls = [np.array(e) for e in ls]\n",
    "    max_pad = max((e.shape[0] for e in ls))\n",
    "    return np.array([np.pad(e, ((0, max_pad-e.shape[0]), (0, 0)), mode='constant') for e in ls])"
   ]
  },
  {
   "cell_type": "code",
   "execution_count": 7,
   "metadata": {},
   "outputs": [],
   "source": [
    "train_input_ids = np.array([f.input_ids for f in train_features])\n",
    "train_input_masks = np.array([f.input_mask for f in train_features])\n",
    "train_segment_ids = np.array([f.segment_ids for f in train_features])\n",
    "train_labels = np.array([to_categorical(f.label_id - 1, num_classes=5) for f in train_features])\n",
    "train_word_events = pad_to_max_of_max([f.event_concept_vectors for f in train_features])\n",
    "train_word_candidates = pad_to_max_of_max([f.candidate_concept_vectors for f in train_features])\n",
    "train_sent_events = pad_to_max([[np.concatenate([f.event_sentence_pos[i], f.event_sentence_dep[i]]) \n",
    "                      for i in range(len(f.event_sentence_pos))] \n",
    "                     for f in train_features])\n",
    "train_sent_candidates = np.zeros((train_sent_events.shape[0], 5, 1, train_sent_events.shape[-1]))\n",
    "\n",
    "\n",
    "val_input_ids = np.array([f.input_ids for f in val_features])\n",
    "val_input_masks = np.array([f.input_mask for f in val_features])\n",
    "val_segment_ids = np.array([f.segment_ids for f in val_features])\n",
    "val_labels = np.array([to_categorical(f.label_id - 1, num_classes=5) for f in val_features])\n",
    "val_word_events = pad_to_max_of_max([f.event_concept_vectors for f in val_features])\n",
    "val_word_candidates = pad_to_max_of_max([f.candidate_concept_vectors for f in val_features])\n",
    "val_sent_events = pad_to_max([[np.concatenate([f.event_sentence_pos[i], f.event_sentence_dep[i]]) \n",
    "                      for i in range(len(f.event_sentence_pos))] \n",
    "                     for f in val_features])\n",
    "val_sent_candidates = np.zeros((val_sent_events.shape[0], 5, 1, val_sent_events.shape[-1]))"
   ]
  },
  {
   "cell_type": "markdown",
   "metadata": {},
   "source": [
    "# Model Definition"
   ]
  },
  {
   "cell_type": "code",
   "execution_count": 8,
   "metadata": {},
   "outputs": [],
   "source": [
    "class BertLayer(tf.layers.Layer):\n",
    "    def __init__(self, n_fine_tune_layers=10, **kwargs):\n",
    "        self.n_fine_tune_layers = n_fine_tune_layers\n",
    "        self.trainable = True\n",
    "        self.output_size = 768\n",
    "        super().__init__(**kwargs)\n",
    "\n",
    "    def build(self, input_shape):\n",
    "        self.bert = hub.Module(\n",
    "            prepare_data.BERT_MODEL_HUB,\n",
    "            trainable=self.trainable,\n",
    "            name=\"{}_module\".format(self.name)\n",
    "        )\n",
    "        \n",
    "        trainable_vars = self.bert.variables\n",
    "\n",
    "        # Remove unused layers\n",
    "        trainable_vars = [var for var in trainable_vars if not \"/cls/\" in var.name]\n",
    "\n",
    "        # Select how many layers to fine tune\n",
    "        trainable_vars = trainable_vars[-self.n_fine_tune_layers :]\n",
    "\n",
    "        # Add to trainable weights\n",
    "        for var in trainable_vars:\n",
    "            self._trainable_weights.append(var)\n",
    "            \n",
    "        for var in self.bert.variables:\n",
    "            if var not in self._trainable_weights:\n",
    "                self._non_trainable_weights.append(var)\n",
    "        super(BertLayer, self).build(input_shape)\n",
    "\n",
    "    def call(self, inputs):\n",
    "        inputs = [K.cast(x, dtype=\"int32\") for x in inputs]\n",
    "        input_ids, input_mask, segment_ids = inputs\n",
    "        bert_inputs = dict(\n",
    "            input_ids=input_ids, input_mask=input_mask, segment_ids=segment_ids\n",
    "        )\n",
    "        result = self.bert(inputs=bert_inputs, signature=\"tokens\", as_dict=True)[\n",
    "            \"pooled_output\"\n",
    "        ]\n",
    "        return result\n",
    "\n",
    "    def compute_output_shape(self, input_shape):\n",
    "        return (input_shape[0], self.output_size)"
   ]
  },
  {
   "cell_type": "code",
   "execution_count": 9,
   "metadata": {},
   "outputs": [],
   "source": [
    "class MultiBertLayer(BertLayer):\n",
    "    def call(self, inputs):\n",
    "        return [super(MultiBertLayer, self).call(ip) for ip in zip(*inputs)]\n",
    "\n",
    "    def compute_output_shape(self, input_shape):\n",
    "        #(batch size, num_labels, max_seq_size)\n",
    "        return (input_shape[0], input_shape[1], self.output_size)"
   ]
  },
  {
   "cell_type": "code",
   "execution_count": 10,
   "metadata": {},
   "outputs": [],
   "source": [
    "# Build model\n",
    "def build_model(max_seq_length, num_labels, word_vec_len=0, sentence_vec_len=0, num_sents=5): \n",
    "    \n",
    "    #Inputs\n",
    "    in_ids = layers.Input(shape=(num_labels, max_seq_length), name=\"input_ids\")\n",
    "    in_masks = layers.Input(shape=(num_labels, max_seq_length), name=\"input_masks\")\n",
    "    in_segments = layers.Input(shape=(num_labels, max_seq_length), name=\"segment_ids\")\n",
    "    inputs = [in_ids, in_masks, in_segments]\n",
    "    \n",
    "    if word_vec_len:\n",
    "        in_candidates_words = layers.Input(shape=(num_labels, None, word_vec_len), name=\"input_candidates_words\")\n",
    "        in_events_words = layers.Input(shape=(num_sents, None, word_vec_len), name=\"input_event_words\")\n",
    "        inputs.extend([in_candidates_words, in_events_words])\n",
    "        \n",
    "    if sentence_vec_len:\n",
    "        in_candidates_sentences = layers.Input(shape=(num_labels, 1, sentence_vec_len), name=\"input_candidates_sentences\")\n",
    "        in_events_sentences = layers.Input(shape=(num_sents, sentence_vec_len), name=\"input_events_sentences\")\n",
    "        inputs.extend([in_candidates_sentences, in_events_sentences])\n",
    "    \n",
    "    \n",
    "    #Split inputs if they should be operated on individually\n",
    "    split_in_ids = [layers.Lambda(lambda x: x[:, i, :])(in_ids) for i in range(num_labels)]\n",
    "    split_in_masks = [layers.Lambda(lambda x: x[:, i, :])(in_masks) for i in range(num_labels)]\n",
    "    split_in_segments = [layers.Lambda(lambda x: x[:, i, :])(in_segments) for i in range(num_labels)]\n",
    "    \n",
    "    if word_vec_len:\n",
    "        #Split by candidate\n",
    "        split_in_candidates_words = [layers.Lambda(lambda x: x[:, i, :, :])(in_candidates_words) for i in range(num_labels)]\n",
    "        #Split by sentence\n",
    "        split_in_events_words = [layers.Lambda(lambda x: x[:, i, :, :])(in_events_words) for i in range(num_sents)]\n",
    "        \n",
    "    if sentence_vec_len:\n",
    "        split_in_candidates_sentences = [layers.Lambda(lambda x: x[:, i, :])(in_candidates_sentences) \n",
    "                                         for i in range(num_labels)]\n",
    "    \n",
    "    \n",
    "    #Bert\n",
    "    bert_outputs = MultiBertLayer(n_fine_tune_layers=0)([split_in_ids, split_in_masks, split_in_segments])\n",
    "    \n",
    "    \n",
    "    #Autoencoders to convert word and sentence embeddings into fixed vector embeddings\n",
    "    \n",
    "    \n",
    "    word_to_sentence_autoencoder = layers.LSTM(sentence_vec_len if sentence_vec_len else 300,\n",
    "                                               name=\"word_to_sword_to_sentence_autoencoder\")\n",
    "    sentences_to_vec_autoencoder = layers.LSTM(300, name='sentences_to_vec_autoencoder')\n",
    "    \n",
    "    if word_vec_len:\n",
    "        autoencoded_word_event_sentence_vectors = [\n",
    "            layers.Lambda(lambda x: K.expand_dims(word_to_sentence_autoencoder(x), 1))(ew) \n",
    "            for ew in split_in_events_words]\n",
    "#         autoencoded_candidates = [\n",
    "#             word_to_sentence_autoencoder(layers.Lambda(lambda x: K.expand_dims(x, 1))(cw))\n",
    "#             for cw in split_in_candidates_words]\n",
    "    \n",
    "        autoencoded_candidates = [\n",
    "            layers.Lambda(lambda x: K.expand_dims(x, 1))(word_to_sentence_autoencoder(cw))\n",
    "            for cw in split_in_candidates_words\n",
    "        ]\n",
    "        word_event_candidate_autoencoded = [\n",
    "            layers.Concatenate(axis=1)(autoencoded_word_event_sentence_vectors + [ac]) \n",
    "            for ac in autoencoded_candidates]\n",
    "\n",
    "        autencoded_chains_from_words = [sentences_to_vec_autoencoder(wec) \n",
    "                                        for wec in word_event_candidate_autoencoded]\n",
    "    if sentence_vec_len:\n",
    "        sentence_candidate_vectors = [\n",
    "            layers.Concatenate(axis=1)([in_events_sentences, ics]) \n",
    "            for ics in split_in_candidates_sentences]\n",
    "        autencoded_chains_from_sents = [sentences_to_vec_autoencoder(scv) \n",
    "                                        for scv in sentence_candidate_vectors]\n",
    "    \n",
    "    if word_vec_len and sentence_vec_len:\n",
    "        enhancing_vectors = [layers.Concatenate(axis=1)([wv, sv])\n",
    "            for (wv, sv) in \n",
    "            zip(autencoded_chains_from_words, \n",
    "                autencoded_chains_from_sents)]\n",
    "    elif word_vec_len:\n",
    "        enhancing_vectors = autencoded_chains_from_words\n",
    "    elif sentence_vec_len:\n",
    "        enhancing_vectors = autencoded_chains_from_sents\n",
    "        \n",
    "        \n",
    "    #Combine Bert and autoencoder embeddings (if provided)\n",
    "    if word_vec_len or sentence_vec_len:\n",
    "        augmented_outputs = [layers.Concatenate(axis=1)([bo, ev]) for (bo, ev) in zip(bert_outputs, enhancing_vectors)]\n",
    "    else:\n",
    "        augmented_outputs = bert_outputs\n",
    "    concat_output = layers.Concatenate(axis=1)(augmented_outputs)\n",
    "    \n",
    "    #Single Hidden Layer and classification\n",
    "    dense = layers.Dense(256, activation='relu')(concat_output)\n",
    "    pred = layers.Dense(num_labels, activation='softmax')(dense)\n",
    "    \n",
    "    model = models.Model(inputs=inputs, outputs=pred)\n",
    "    model.compile(loss='categorical_crossentropy', optimizer='adam', metrics=['accuracy'])\n",
    "    model.summary()\n",
    "    \n",
    "    print(inputs)\n",
    "    return model\n",
    "\n",
    "def initialize_vars(sess):\n",
    "    sess.run(tf.local_variables_initializer())\n",
    "    sess.run(tf.global_variables_initializer())\n",
    "    sess.run(tf.tables_initializer())\n",
    "    K.set_session(sess)"
   ]
  },
  {
   "cell_type": "code",
   "execution_count": 11,
   "metadata": {},
   "outputs": [
    {
     "name": "stdout",
     "output_type": "stream",
     "text": [
      "INFO:tensorflow:Saver not created because there are no variables in the graph to restore\n"
     ]
    },
    {
     "name": "stderr",
     "output_type": "stream",
     "text": [
      "I0514 01:02:40.342494 140307046811392 saver.py:1483] Saver not created because there are no variables in the graph to restore\n"
     ]
    },
    {
     "name": "stdout",
     "output_type": "stream",
     "text": [
      "INFO:tensorflow:Saver not created because there are no variables in the graph to restore\n"
     ]
    },
    {
     "name": "stderr",
     "output_type": "stream",
     "text": [
      "I0514 01:02:42.025304 140307046811392 saver.py:1483] Saver not created because there are no variables in the graph to restore\n"
     ]
    },
    {
     "name": "stdout",
     "output_type": "stream",
     "text": [
      "INFO:tensorflow:Saver not created because there are no variables in the graph to restore\n"
     ]
    },
    {
     "name": "stderr",
     "output_type": "stream",
     "text": [
      "I0514 01:02:42.832443 140307046811392 saver.py:1483] Saver not created because there are no variables in the graph to restore\n"
     ]
    },
    {
     "name": "stdout",
     "output_type": "stream",
     "text": [
      "INFO:tensorflow:Saver not created because there are no variables in the graph to restore\n"
     ]
    },
    {
     "name": "stderr",
     "output_type": "stream",
     "text": [
      "I0514 01:02:43.687577 140307046811392 saver.py:1483] Saver not created because there are no variables in the graph to restore\n"
     ]
    },
    {
     "name": "stdout",
     "output_type": "stream",
     "text": [
      "INFO:tensorflow:Saver not created because there are no variables in the graph to restore\n"
     ]
    },
    {
     "name": "stderr",
     "output_type": "stream",
     "text": [
      "I0514 01:02:44.592120 140307046811392 saver.py:1483] Saver not created because there are no variables in the graph to restore\n"
     ]
    },
    {
     "name": "stdout",
     "output_type": "stream",
     "text": [
      "INFO:tensorflow:Saver not created because there are no variables in the graph to restore\n"
     ]
    },
    {
     "name": "stderr",
     "output_type": "stream",
     "text": [
      "I0514 01:02:45.334447 140307046811392 saver.py:1483] Saver not created because there are no variables in the graph to restore\n"
     ]
    },
    {
     "name": "stdout",
     "output_type": "stream",
     "text": [
      "__________________________________________________________________________________________________\n",
      "Layer (type)                    Output Shape         Param #     Connected to                     \n",
      "==================================================================================================\n",
      "input_candidates_words (InputLa (None, 5, None, 300) 0                                            \n",
      "__________________________________________________________________________________________________\n",
      "input_event_words (InputLayer)  (None, 5, None, 300) 0                                            \n",
      "__________________________________________________________________________________________________\n",
      "lambda_15 (Lambda)              (None, None, 300)    0           input_candidates_words[0][0]     \n",
      "__________________________________________________________________________________________________\n",
      "lambda_16 (Lambda)              (None, None, 300)    0           input_candidates_words[0][0]     \n",
      "__________________________________________________________________________________________________\n",
      "lambda_17 (Lambda)              (None, None, 300)    0           input_candidates_words[0][0]     \n",
      "__________________________________________________________________________________________________\n",
      "lambda_18 (Lambda)              (None, None, 300)    0           input_candidates_words[0][0]     \n",
      "__________________________________________________________________________________________________\n",
      "lambda_19 (Lambda)              (None, None, 300)    0           input_candidates_words[0][0]     \n",
      "__________________________________________________________________________________________________\n",
      "lambda_20 (Lambda)              (None, None, 300)    0           input_event_words[0][0]          \n",
      "__________________________________________________________________________________________________\n",
      "lambda_21 (Lambda)              (None, None, 300)    0           input_event_words[0][0]          \n",
      "__________________________________________________________________________________________________\n",
      "lambda_22 (Lambda)              (None, None, 300)    0           input_event_words[0][0]          \n",
      "__________________________________________________________________________________________________\n",
      "lambda_23 (Lambda)              (None, None, 300)    0           input_event_words[0][0]          \n",
      "__________________________________________________________________________________________________\n",
      "lambda_24 (Lambda)              (None, None, 300)    0           input_event_words[0][0]          \n",
      "__________________________________________________________________________________________________\n",
      "word_to_sword_to_sentence_autoe (None, 169)          317720      lambda_15[0][0]                  \n",
      "                                                                 lambda_16[0][0]                  \n",
      "                                                                 lambda_17[0][0]                  \n",
      "                                                                 lambda_18[0][0]                  \n",
      "                                                                 lambda_19[0][0]                  \n",
      "__________________________________________________________________________________________________\n",
      "input_candidates_sentences (Inp (None, 5, 1, 169)    0                                            \n",
      "__________________________________________________________________________________________________\n",
      "lambda_30 (Lambda)              (None, 1, 169)       0           lambda_20[0][0]                  \n",
      "__________________________________________________________________________________________________\n",
      "lambda_31 (Lambda)              (None, 1, 169)       0           lambda_21[0][0]                  \n",
      "__________________________________________________________________________________________________\n",
      "lambda_32 (Lambda)              (None, 1, 169)       0           lambda_22[0][0]                  \n",
      "__________________________________________________________________________________________________\n",
      "lambda_33 (Lambda)              (None, 1, 169)       0           lambda_23[0][0]                  \n",
      "__________________________________________________________________________________________________\n",
      "lambda_34 (Lambda)              (None, 1, 169)       0           lambda_24[0][0]                  \n",
      "__________________________________________________________________________________________________\n",
      "lambda_35 (Lambda)              (None, 1, 169)       0           word_to_sword_to_sentence_autoenc\n",
      "__________________________________________________________________________________________________\n",
      "input_events_sentences (InputLa (None, 5, 169)       0                                            \n",
      "__________________________________________________________________________________________________\n",
      "lambda_25 (Lambda)              (None, 1, 169)       0           input_candidates_sentences[0][0] \n",
      "__________________________________________________________________________________________________\n",
      "lambda_36 (Lambda)              (None, 1, 169)       0           word_to_sword_to_sentence_autoenc\n",
      "__________________________________________________________________________________________________\n",
      "lambda_26 (Lambda)              (None, 1, 169)       0           input_candidates_sentences[0][0] \n",
      "__________________________________________________________________________________________________\n",
      "lambda_37 (Lambda)              (None, 1, 169)       0           word_to_sword_to_sentence_autoenc\n",
      "__________________________________________________________________________________________________\n",
      "lambda_27 (Lambda)              (None, 1, 169)       0           input_candidates_sentences[0][0] \n",
      "__________________________________________________________________________________________________\n",
      "lambda_38 (Lambda)              (None, 1, 169)       0           word_to_sword_to_sentence_autoenc\n",
      "__________________________________________________________________________________________________\n",
      "lambda_28 (Lambda)              (None, 1, 169)       0           input_candidates_sentences[0][0] \n",
      "__________________________________________________________________________________________________\n",
      "lambda_39 (Lambda)              (None, 1, 169)       0           word_to_sword_to_sentence_autoenc\n",
      "__________________________________________________________________________________________________\n",
      "lambda_29 (Lambda)              (None, 1, 169)       0           input_candidates_sentences[0][0] \n",
      "__________________________________________________________________________________________________\n",
      "input_ids (InputLayer)          (None, 5, 128)       0                                            \n",
      "__________________________________________________________________________________________________\n",
      "input_masks (InputLayer)        (None, 5, 128)       0                                            \n",
      "__________________________________________________________________________________________________\n",
      "segment_ids (InputLayer)        (None, 5, 128)       0                                            \n",
      "__________________________________________________________________________________________________\n",
      "concatenate (Concatenate)       (None, 6, 169)       0           lambda_30[0][0]                  \n",
      "                                                                 lambda_31[0][0]                  \n",
      "                                                                 lambda_32[0][0]                  \n",
      "                                                                 lambda_33[0][0]                  \n",
      "                                                                 lambda_34[0][0]                  \n",
      "                                                                 lambda_35[0][0]                  \n",
      "__________________________________________________________________________________________________\n",
      "concatenate_5 (Concatenate)     (None, 6, 169)       0           input_events_sentences[0][0]     \n",
      "                                                                 lambda_25[0][0]                  \n",
      "__________________________________________________________________________________________________\n",
      "concatenate_1 (Concatenate)     (None, 6, 169)       0           lambda_30[0][0]                  \n",
      "                                                                 lambda_31[0][0]                  \n",
      "                                                                 lambda_32[0][0]                  \n",
      "                                                                 lambda_33[0][0]                  \n",
      "                                                                 lambda_34[0][0]                  \n",
      "                                                                 lambda_36[0][0]                  \n",
      "__________________________________________________________________________________________________\n",
      "concatenate_6 (Concatenate)     (None, 6, 169)       0           input_events_sentences[0][0]     \n",
      "                                                                 lambda_26[0][0]                  \n",
      "__________________________________________________________________________________________________\n",
      "concatenate_2 (Concatenate)     (None, 6, 169)       0           lambda_30[0][0]                  \n",
      "                                                                 lambda_31[0][0]                  \n",
      "                                                                 lambda_32[0][0]                  \n",
      "                                                                 lambda_33[0][0]                  \n",
      "                                                                 lambda_34[0][0]                  \n",
      "                                                                 lambda_37[0][0]                  \n",
      "__________________________________________________________________________________________________\n",
      "concatenate_7 (Concatenate)     (None, 6, 169)       0           input_events_sentences[0][0]     \n",
      "                                                                 lambda_27[0][0]                  \n",
      "__________________________________________________________________________________________________\n",
      "concatenate_3 (Concatenate)     (None, 6, 169)       0           lambda_30[0][0]                  \n",
      "                                                                 lambda_31[0][0]                  \n",
      "                                                                 lambda_32[0][0]                  \n",
      "                                                                 lambda_33[0][0]                  \n",
      "                                                                 lambda_34[0][0]                  \n",
      "                                                                 lambda_38[0][0]                  \n",
      "__________________________________________________________________________________________________\n",
      "concatenate_8 (Concatenate)     (None, 6, 169)       0           input_events_sentences[0][0]     \n",
      "                                                                 lambda_28[0][0]                  \n",
      "__________________________________________________________________________________________________\n",
      "concatenate_4 (Concatenate)     (None, 6, 169)       0           lambda_30[0][0]                  \n",
      "                                                                 lambda_31[0][0]                  \n",
      "                                                                 lambda_32[0][0]                  \n",
      "                                                                 lambda_33[0][0]                  \n",
      "                                                                 lambda_34[0][0]                  \n",
      "                                                                 lambda_39[0][0]                  \n",
      "__________________________________________________________________________________________________\n",
      "concatenate_9 (Concatenate)     (None, 6, 169)       0           input_events_sentences[0][0]     \n",
      "                                                                 lambda_29[0][0]                  \n",
      "__________________________________________________________________________________________________\n",
      "lambda (Lambda)                 (None, 128)          0           input_ids[0][0]                  \n",
      "__________________________________________________________________________________________________\n",
      "lambda_1 (Lambda)               (None, 128)          0           input_ids[0][0]                  \n",
      "__________________________________________________________________________________________________\n",
      "lambda_2 (Lambda)               (None, 128)          0           input_ids[0][0]                  \n",
      "__________________________________________________________________________________________________\n",
      "lambda_3 (Lambda)               (None, 128)          0           input_ids[0][0]                  \n",
      "__________________________________________________________________________________________________\n",
      "lambda_4 (Lambda)               (None, 128)          0           input_ids[0][0]                  \n",
      "__________________________________________________________________________________________________\n",
      "lambda_5 (Lambda)               (None, 128)          0           input_masks[0][0]                \n",
      "__________________________________________________________________________________________________\n",
      "lambda_6 (Lambda)               (None, 128)          0           input_masks[0][0]                \n",
      "__________________________________________________________________________________________________\n",
      "lambda_7 (Lambda)               (None, 128)          0           input_masks[0][0]                \n",
      "__________________________________________________________________________________________________\n",
      "lambda_8 (Lambda)               (None, 128)          0           input_masks[0][0]                \n",
      "__________________________________________________________________________________________________\n",
      "lambda_9 (Lambda)               (None, 128)          0           input_masks[0][0]                \n",
      "__________________________________________________________________________________________________\n",
      "lambda_10 (Lambda)              (None, 128)          0           segment_ids[0][0]                \n",
      "__________________________________________________________________________________________________\n",
      "lambda_11 (Lambda)              (None, 128)          0           segment_ids[0][0]                \n",
      "__________________________________________________________________________________________________\n",
      "lambda_12 (Lambda)              (None, 128)          0           segment_ids[0][0]                \n",
      "__________________________________________________________________________________________________\n",
      "lambda_13 (Lambda)              (None, 128)          0           segment_ids[0][0]                \n",
      "__________________________________________________________________________________________________\n",
      "lambda_14 (Lambda)              (None, 128)          0           segment_ids[0][0]                \n",
      "__________________________________________________________________________________________________\n",
      "sentences_to_vec_autoencoder (L (None, 300)          564000      concatenate[0][0]                \n",
      "                                                                 concatenate_1[0][0]              \n",
      "                                                                 concatenate_2[0][0]              \n",
      "                                                                 concatenate_3[0][0]              \n",
      "                                                                 concatenate_4[0][0]              \n",
      "                                                                 concatenate_5[0][0]              \n",
      "                                                                 concatenate_6[0][0]              \n",
      "                                                                 concatenate_7[0][0]              \n",
      "                                                                 concatenate_8[0][0]              \n",
      "                                                                 concatenate_9[0][0]              \n",
      "__________________________________________________________________________________________________\n",
      "multi_bert_layer_1 (MultiBertLa [(None, 768), (None, 110104890   lambda[0][0]                     \n",
      "                                                                 lambda_1[0][0]                   \n",
      "                                                                 lambda_2[0][0]                   \n",
      "                                                                 lambda_3[0][0]                   \n",
      "                                                                 lambda_4[0][0]                   \n",
      "                                                                 lambda_5[0][0]                   \n",
      "                                                                 lambda_6[0][0]                   \n",
      "                                                                 lambda_7[0][0]                   \n",
      "                                                                 lambda_8[0][0]                   \n",
      "                                                                 lambda_9[0][0]                   \n",
      "                                                                 lambda_10[0][0]                  \n",
      "                                                                 lambda_11[0][0]                  \n",
      "                                                                 lambda_12[0][0]                  \n",
      "                                                                 lambda_13[0][0]                  \n",
      "                                                                 lambda_14[0][0]                  \n",
      "__________________________________________________________________________________________________\n",
      "concatenate_10 (Concatenate)    (None, 600)          0           sentences_to_vec_autoencoder[0][0\n",
      "                                                                 sentences_to_vec_autoencoder[5][0\n",
      "__________________________________________________________________________________________________\n",
      "concatenate_11 (Concatenate)    (None, 600)          0           sentences_to_vec_autoencoder[1][0\n",
      "                                                                 sentences_to_vec_autoencoder[6][0\n",
      "__________________________________________________________________________________________________\n",
      "concatenate_12 (Concatenate)    (None, 600)          0           sentences_to_vec_autoencoder[2][0\n",
      "                                                                 sentences_to_vec_autoencoder[7][0\n",
      "__________________________________________________________________________________________________\n",
      "concatenate_13 (Concatenate)    (None, 600)          0           sentences_to_vec_autoencoder[3][0\n",
      "                                                                 sentences_to_vec_autoencoder[8][0\n",
      "__________________________________________________________________________________________________\n",
      "concatenate_14 (Concatenate)    (None, 600)          0           sentences_to_vec_autoencoder[4][0\n",
      "                                                                 sentences_to_vec_autoencoder[9][0\n",
      "__________________________________________________________________________________________________\n",
      "concatenate_15 (Concatenate)    (None, 1368)         0           multi_bert_layer_1[0][0]         \n",
      "                                                                 concatenate_10[0][0]             \n",
      "__________________________________________________________________________________________________\n",
      "concatenate_16 (Concatenate)    (None, 1368)         0           multi_bert_layer_1[0][1]         \n",
      "                                                                 concatenate_11[0][0]             \n",
      "__________________________________________________________________________________________________\n",
      "concatenate_17 (Concatenate)    (None, 1368)         0           multi_bert_layer_1[0][2]         \n",
      "                                                                 concatenate_12[0][0]             \n",
      "__________________________________________________________________________________________________\n",
      "concatenate_18 (Concatenate)    (None, 1368)         0           multi_bert_layer_1[0][3]         \n",
      "                                                                 concatenate_13[0][0]             \n",
      "__________________________________________________________________________________________________\n",
      "concatenate_19 (Concatenate)    (None, 1368)         0           multi_bert_layer_1[0][4]         \n",
      "                                                                 concatenate_14[0][0]             \n",
      "__________________________________________________________________________________________________\n",
      "concatenate_20 (Concatenate)    (None, 6840)         0           concatenate_15[0][0]             \n",
      "                                                                 concatenate_16[0][0]             \n",
      "                                                                 concatenate_17[0][0]             \n",
      "                                                                 concatenate_18[0][0]             \n",
      "                                                                 concatenate_19[0][0]             \n",
      "__________________________________________________________________________________________________\n",
      "dense (Dense)                   (None, 256)          1751296     concatenate_20[0][0]             \n",
      "__________________________________________________________________________________________________\n",
      "dense_1 (Dense)                 (None, 5)            1285        dense[0][0]                      \n",
      "==================================================================================================\n",
      "Total params: 112,739,191\n",
      "Trainable params: 112,116,541\n",
      "Non-trainable params: 622,650\n",
      "__________________________________________________________________________________________________\n",
      "[<tf.Tensor 'input_ids:0' shape=(?, 5, 128) dtype=float32>, <tf.Tensor 'input_masks:0' shape=(?, 5, 128) dtype=float32>, <tf.Tensor 'segment_ids:0' shape=(?, 5, 128) dtype=float32>, <tf.Tensor 'input_candidates_words:0' shape=(?, 5, ?, 300) dtype=float32>, <tf.Tensor 'input_event_words:0' shape=(?, 5, ?, 300) dtype=float32>, <tf.Tensor 'input_candidates_sentences:0' shape=(?, 5, 1, 169) dtype=float32>, <tf.Tensor 'input_events_sentences:0' shape=(?, 5, 169) dtype=float32>]\n"
     ]
    }
   ],
   "source": [
    "model = build_model(prepare_data.MAX_SEQ_LENGTH, num_labels=5, word_vec_len=300, sentence_vec_len=169, num_sents=train_word_events.shape[1])\n",
    "\n",
    "# Instantiate variables\n"
   ]
  },
  {
   "cell_type": "markdown",
   "metadata": {},
   "source": [
    "# Train"
   ]
  },
  {
   "cell_type": "code",
   "execution_count": null,
   "metadata": {
    "scrolled": true
   },
   "outputs": [
    {
     "name": "stdout",
     "output_type": "stream",
     "text": [
      "Train on 36 samples, validate on 4 samples\n",
      "WARNING:tensorflow:From /usr/local/lib/python3.5/dist-packages/tensorflow/python/ops/math_ops.py:3066: to_int32 (from tensorflow.python.ops.math_ops) is deprecated and will be removed in a future version.\n",
      "Instructions for updating:\n",
      "Use tf.cast instead.\n"
     ]
    },
    {
     "name": "stderr",
     "output_type": "stream",
     "text": [
      "W0514 01:02:54.206941 140307046811392 deprecation.py:323] From /usr/local/lib/python3.5/dist-packages/tensorflow/python/ops/math_ops.py:3066: to_int32 (from tensorflow.python.ops.math_ops) is deprecated and will be removed in a future version.\n",
      "Instructions for updating:\n",
      "Use tf.cast instead.\n",
      "/usr/local/lib/python3.5/dist-packages/tensorflow/python/ops/gradients_impl.py:110: UserWarning: Converting sparse IndexedSlices to a dense Tensor of unknown shape. This may consume a large amount of memory.\n",
      "  \"Converting sparse IndexedSlices to a dense Tensor of unknown shape. \"\n"
     ]
    },
    {
     "name": "stdout",
     "output_type": "stream",
     "text": [
      "Epoch 1/3\n"
     ]
    }
   ],
   "source": [
    "initialize_vars(sess)\n",
    "\n",
    "callbacks = [\n",
    "    keras.callbacks.ModelCheckpoint(os.path.join(logs, '{epoch:02d}.h5')),\n",
    "    keras.callbacks.TensorBoard(log_dir=logs, update_freq=1000)\n",
    "]\n",
    "\n",
    "\n",
    "model.fit(\n",
    "    [train_input_ids, train_input_masks, train_segment_ids, \n",
    "     train_word_candidates, train_word_events, train_sent_candidates, train_sent_events], \n",
    "    train_labels,\n",
    "    validation_data=([val_input_ids, val_input_masks, val_segment_ids, \n",
    "                      val_word_candidates, np.array(val_word_events), val_sent_candidates, val_sent_events], val_labels),\n",
    "    epochs=3,\n",
    "    batch_size=1,\n",
    "    callbacks=callbacks\n",
    ")"
   ]
  },
  {
   "cell_type": "markdown",
   "metadata": {},
   "source": [
    "# Predict"
   ]
  },
  {
   "cell_type": "code",
   "execution_count": null,
   "metadata": {},
   "outputs": [],
   "source": [
    "model.save('BertModel.h5')\n",
    "pre_save_preds = model.predict([test_input_ids[0:100], \n",
    "                                test_input_masks[0:100], \n",
    "                                test_segment_ids[0:100]]\n",
    "                              ) # predictions before we clear and reload model\n",
    "\n",
    "# Clear and load model\n",
    "model = None\n",
    "model = build_model(max_seq_length)\n",
    "initialize_vars(sess)\n",
    "model.load_weights('BertModel.h5')\n",
    "\n",
    "post_save_preds = model.predict([test_input_ids[0:100], \n",
    "                                test_input_masks[0:100], \n",
    "                                test_segment_ids[0:100]]\n",
    "                              ) # predictions after we clear and reload model\n",
    "all(pre_save_preds == post_save_preds) # Are they the same?"
   ]
  }
 ],
 "metadata": {
  "kernelspec": {
   "display_name": "Python 3",
   "language": "python",
   "name": "python3"
  },
  "language_info": {
   "codemirror_mode": {
    "name": "ipython",
    "version": 3
   },
   "file_extension": ".py",
   "mimetype": "text/x-python",
   "name": "python",
   "nbconvert_exporter": "python",
   "pygments_lexer": "ipython3",
   "version": "3.5.2"
  }
 },
 "nbformat": 4,
 "nbformat_minor": 2
}
