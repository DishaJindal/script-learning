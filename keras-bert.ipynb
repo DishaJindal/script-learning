{
 "cells": [
  {
   "cell_type": "code",
   "execution_count": 1,
   "metadata": {
    "scrolled": true
   },
   "outputs": [
    {
     "name": "stderr",
     "output_type": "stream",
     "text": [
      "WARNING: Logging before flag parsing goes to stderr.\n",
      "W0513 20:09:19.771799 139659388524288 __init__.py:56] Some hub symbols are not available because TensorFlow version is less than 1.14\n"
     ]
    },
    {
     "name": "stdout",
     "output_type": "stream",
     "text": [
      "WARNING:tensorflow:From /usr/local/lib/python3.5/dist-packages/tensorflow/python/ops/control_flow_ops.py:3632: colocate_with (from tensorflow.python.framework.ops) is deprecated and will be removed in a future version.\n",
      "Instructions for updating:\n",
      "Colocations handled automatically by placer.\n"
     ]
    },
    {
     "name": "stderr",
     "output_type": "stream",
     "text": [
      "W0513 20:09:21.385396 139659388524288 deprecation.py:323] From /usr/local/lib/python3.5/dist-packages/tensorflow/python/ops/control_flow_ops.py:3632: colocate_with (from tensorflow.python.framework.ops) is deprecated and will be removed in a future version.\n",
      "Instructions for updating:\n",
      "Colocations handled automatically by placer.\n"
     ]
    },
    {
     "name": "stdout",
     "output_type": "stream",
     "text": [
      "INFO:tensorflow:Saver not created because there are no variables in the graph to restore\n"
     ]
    },
    {
     "name": "stderr",
     "output_type": "stream",
     "text": [
      "I0513 20:09:23.344399 139659388524288 saver.py:1483] Saver not created because there are no variables in the graph to restore\n",
      "Using TensorFlow backend.\n"
     ]
    }
   ],
   "source": [
    "import tensorflow as tf\n",
    "from tensorflow import keras\n",
    "from tensorflow.keras import layers, models\n",
    "import pandas as pd\n",
    "import tensorflow_hub as hub\n",
    "import os\n",
    "import re\n",
    "import numpy as np\n",
    "from bert.tokenization import FullTokenizer\n",
    "from tqdm import tqdm_notebook\n",
    "from tensorflow.keras import backend as K\n",
    "import prepare_data\n",
    "from prepare_data import tokenizer, tokenize_if_small_enough\n",
    "import read\n",
    "from keras.utils import to_categorical\n",
    "# # Initialize session\n",
    "sess = tf.Session()\n",
    "\n",
    "# # Params for bert model and tokenization\n",
    "# # bert_path = \"https://tfhub.dev/google/bert_uncased_L-12_H-768_A-12/1\"\n",
    "# # max_seq_length = 256"
   ]
  },
  {
   "cell_type": "markdown",
   "metadata": {},
   "source": [
    "# Data\n",
    "\n",
    "First, we load the data"
   ]
  },
  {
   "cell_type": "code",
   "execution_count": 29,
   "metadata": {},
   "outputs": [],
   "source": [
    "sentence=True\n",
    "no_context=False\n",
    "neeg_dataset=False\n",
    "conceptnet=True\n",
    "input_size=10000\n",
    "logs = './logs'"
   ]
  },
  {
   "cell_type": "code",
   "execution_count": null,
   "metadata": {},
   "outputs": [],
   "source": [
    "train_dataset = read.read_data_iterator('dataset/gw_extractions_enriched.pickle')\n",
    "features = list(tokenize_if_small_enough(train_dataset,\n",
    "                                         sentence, no_context,\n",
    "                                         is_neeg=neeg_dataset,\n",
    "                                         conceptnet=conceptnet,\n",
    "                                         input_size=input_size))\n",
    "sample_size = len(features)\n",
    "training_pct = 0.8\n",
    "val_pct = 0.1\n",
    "test_pct = 0.1\n",
    "train_set_size = int(sample_size * training_pct)\n",
    "val_set_size = int(sample_size * val_pct)\n",
    "test_set_size = sample_size - train_set_size - val_set_size\n",
    "\n",
    "train_features = features[:train_set_size]\n",
    "val_features = features[train_set_size:train_set_size+val_set_size]\n",
    "test_features = features[train_set_size+val_set_size:train_set_size+val_set_size+test_set_size]"
   ]
  },
  {
   "cell_type": "code",
   "execution_count": null,
   "metadata": {},
   "outputs": [],
   "source": [
    "features[0].__dict__.keys()"
   ]
  },
  {
   "cell_type": "markdown",
   "metadata": {},
   "source": [
    "# Tokenize\n",
    "\n",
    "Next, tokenize our text to create `input_ids`, `input_masks`, and `segment_ids`"
   ]
  },
  {
   "cell_type": "code",
   "execution_count": null,
   "metadata": {},
   "outputs": [],
   "source": [
    "train_input_ids = np.array([f.input_ids for f in train_features])\n",
    "train_input_masks = np.array([f.input_mask for f in train_features])\n",
    "train_segment_ids = np.array([f.segment_ids for f in train_features])\n",
    "train_labels = np.array([to_categorical(f.label_id - 1, num_classes=5) for f in train_features])\n",
    "train_word_events = [f.event_concept_vectors for f in train_features]\n",
    "train_word_candidates = [f.candidate_concept_vectors for f in train_features]\n",
    "train_sent_events = [np.concat([f.event_sentence_pos, f.event_sentence_dep]) for f in train_features]\n",
    "train_sent_candidates = [np.zeros_like(train_sent_events[0]) for f in train_features]\n",
    "\n",
    "\n",
    "val_input_ids = np.array([f.input_ids for f in val_features])\n",
    "val_input_masks = np.array([f.input_mask for f in val_features])\n",
    "val_segment_ids = np.array([f.segment_ids for f in val_features])\n",
    "val_labels = np.array([to_categorical(f.label_id - 1, num_classes=5) for f in val_features])\n",
    "val_word_events = [f.event_concept_vectors for f in val_features]\n",
    "val_word_candidates = [f.candidate_concept_vectors for f in val_features]\n",
    "val_sent_events = [np.concat([f.event_sentence_pos, f.event_sentence_dep]) for f in val_features]\n",
    "val_sent_candidates = [np.zeros_like(train_sent_events[0]) for f in val_features]"
   ]
  },
  {
   "cell_type": "markdown",
   "metadata": {},
   "source": [
    "# Model Definition"
   ]
  },
  {
   "cell_type": "code",
   "execution_count": 5,
   "metadata": {},
   "outputs": [],
   "source": [
    "class BertLayer(tf.layers.Layer):\n",
    "    def __init__(self, n_fine_tune_layers=10, **kwargs):\n",
    "        self.n_fine_tune_layers = n_fine_tune_layers\n",
    "        self.trainable = True\n",
    "        self.output_size = 768\n",
    "        super().__init__(**kwargs)\n",
    "\n",
    "    def build(self, input_shape):\n",
    "        self.bert = hub.Module(\n",
    "            prepare_data.BERT_MODEL_HUB,\n",
    "            trainable=self.trainable,\n",
    "            name=\"{}_module\".format(self.name)\n",
    "        )\n",
    "        \n",
    "        trainable_vars = self.bert.variables\n",
    "\n",
    "        # Remove unused layers\n",
    "        trainable_vars = [var for var in trainable_vars if not \"/cls/\" in var.name]\n",
    "\n",
    "        # Select how many layers to fine tune\n",
    "        trainable_vars = trainable_vars[-self.n_fine_tune_layers :]\n",
    "\n",
    "        # Add to trainable weights\n",
    "        for var in trainable_vars:\n",
    "            self._trainable_weights.append(var)\n",
    "            \n",
    "        for var in self.bert.variables:\n",
    "            if var not in self._trainable_weights:\n",
    "                self._non_trainable_weights.append(var)\n",
    "        super(BertLayer, self).build(input_shape)\n",
    "\n",
    "    def call(self, inputs):\n",
    "        inputs = [K.cast(x, dtype=\"int32\") for x in inputs]\n",
    "        input_ids, input_mask, segment_ids = inputs\n",
    "        bert_inputs = dict(\n",
    "            input_ids=input_ids, input_mask=input_mask, segment_ids=segment_ids\n",
    "        )\n",
    "        result = self.bert(inputs=bert_inputs, signature=\"tokens\", as_dict=True)[\n",
    "            \"pooled_output\"\n",
    "        ]\n",
    "        return result\n",
    "\n",
    "    def compute_output_shape(self, input_shape):\n",
    "        return (input_shape[0], self.output_size)"
   ]
  },
  {
   "cell_type": "code",
   "execution_count": 6,
   "metadata": {},
   "outputs": [],
   "source": [
    "class MultiBertLayer(BertLayer):\n",
    "    def call(self, inputs):\n",
    "        return [super(MultiBertLayer, self).call(ip) for ip in zip(*inputs)]\n",
    "\n",
    "    def compute_output_shape(self, input_shape):\n",
    "        #(batch size, num_labels, max_seq_size)\n",
    "        return (input_shape[0], input_shape[1], self.output_size)"
   ]
  },
  {
   "cell_type": "code",
   "execution_count": 27,
   "metadata": {},
   "outputs": [],
   "source": [
    "# Build model\n",
    "def build_model(max_seq_length, num_labels, word_vec_len=0, sentence_vec_len=0, num_sents=5): \n",
    "    \n",
    "    #Inputs\n",
    "    in_ids = layers.Input(shape=(num_labels, max_seq_length), name=\"input_ids\")\n",
    "    in_masks = layers.Input(shape=(num_labels, max_seq_length), name=\"input_masks\")\n",
    "    in_segments = layers.Input(shape=(num_labels, max_seq_length), name=\"segment_ids\")\n",
    "    inputs = [in_ids, in_masks, in_segments]\n",
    "    \n",
    "    if word_vec_len:\n",
    "        in_candidates_words = layers.Input(shape=(num_labels, None, word_vec_len), name=\"input_candidates_words\")\n",
    "        in_events_words = layers.Input(shape=(num_sents, None, word_vec_len), name=\"input_event_words\")\n",
    "        inputs.extend([in_candidates_words, in_events_words])\n",
    "        \n",
    "    if sentence_vec_len:\n",
    "        in_candidates_sentences = layers.Input(shape=(num_labels, 1, sentence_vec_len), name=\"input_candidates_sentences\")\n",
    "        in_events_sentences = layers.Input(shape=(num_sents, sentence_vec_len), name=\"input_events_sentences\")\n",
    "        inputs.extend([in_candidates_sentences, in_events_sentences])\n",
    "    \n",
    "    \n",
    "    #Split inputs if they should be operated on individually\n",
    "    split_in_ids = [layers.Lambda(lambda x: x[:, i, :])(in_ids) for i in range(num_labels)]\n",
    "    split_in_masks = [layers.Lambda(lambda x: x[:, i, :])(in_masks) for i in range(num_labels)]\n",
    "    split_in_segments = [layers.Lambda(lambda x: x[:, i, :])(in_segments) for i in range(num_labels)]\n",
    "    \n",
    "    if word_vec_len:\n",
    "        #Split by candidate\n",
    "        split_in_candidates_words = [layers.Lambda(lambda x: x[:, i, :, :])(in_candidates_words) for i in range(num_labels)]\n",
    "        #Split by sentence\n",
    "        split_in_events_words = [layers.Lambda(lambda x: x[:, i, :, :])(in_events_words) for i in range(num_sents)]\n",
    "        \n",
    "    if sentence_vec_len:\n",
    "        split_in_candidates_sentences = [layers.Lambda(lambda x: x[:, i, :])(in_candidates_sentences) \n",
    "                                         for i in range(num_labels)]\n",
    "    \n",
    "    \n",
    "    #Bert\n",
    "    bert_outputs = MultiBertLayer(n_fine_tune_layers=0)([split_in_ids, split_in_masks, split_in_segments])\n",
    "    \n",
    "    \n",
    "    #Autoencoders to convert word and sentence embeddings into fixed vector embeddings\n",
    "    \n",
    "    \n",
    "    word_to_sentence_autoencoder = layers.LSTM(sentence_vec_len if sentence_vec_len else 300,\n",
    "                                               name=\"word_to_sword_to_sentence_autoencoder\")\n",
    "    sentences_to_vec_autoencoder = layers.LSTM(300, name='sentences_to_vec_autoencoder')\n",
    "    \n",
    "    if word_vec_len:\n",
    "        autoencoded_word_event_sentence_vectors = [\n",
    "            layers.Lambda(lambda x: K.expand_dims(word_to_sentence_autoencoder(x), 1))(ew) \n",
    "            for ew in split_in_events_words]\n",
    "#         autoencoded_candidates = [\n",
    "#             word_to_sentence_autoencoder(layers.Lambda(lambda x: K.expand_dims(x, 1))(cw))\n",
    "#             for cw in split_in_candidates_words]\n",
    "    \n",
    "        autoencoded_candidates = [\n",
    "            layers.Lambda(lambda x: K.expand_dims(x, 1))(word_to_sentence_autoencoder(cw))\n",
    "            for cw in split_in_candidates_words\n",
    "        ]\n",
    "        word_event_candidate_autoencoded = [\n",
    "            layers.Concatenate(axis=1)(autoencoded_word_event_sentence_vectors + [ac]) \n",
    "            for ac in autoencoded_candidates]\n",
    "\n",
    "        autencoded_chains_from_words = [sentences_to_vec_autoencoder(wec) \n",
    "                                        for wec in word_event_candidate_autoencoded]\n",
    "    if sentence_vec_len:\n",
    "        sentence_candidate_vectors = [\n",
    "            layers.Concatenate(axis=1)([in_events_sentences, ics]) \n",
    "            for ics in split_in_candidates_sentences]\n",
    "        autencoded_chains_from_sents = [sentences_to_vec_autoencoder(scv) \n",
    "                                        for scv in sentence_candidate_vectors]\n",
    "    \n",
    "    if word_vec_len and sentence_vec_len:\n",
    "        enhancing_vectors = [layers.Concatenate(axis=1)([wv, sv])\n",
    "            for (wv, sv) in \n",
    "            zip(autencoded_chains_from_words, \n",
    "                autencoded_chains_from_sents)]\n",
    "    elif word_vec_len:\n",
    "        enhancing_vectors = autencoded_chains_from_words\n",
    "    elif sentence_vec_len:\n",
    "        enhancing_vectors = autencoded_chains_from_sents\n",
    "        \n",
    "        \n",
    "    #Combine Bert and autoencoder embeddings (if provided)\n",
    "    if word_vec_len or sentence_vec_len:\n",
    "        augmented_outputs = [layers.Concatenate(axis=1)([bo, ev]) for (bo, ev) in zip(bert_outputs, enhancing_vectors)]\n",
    "    else:\n",
    "        augmented_outputs = bert_outputs\n",
    "    concat_output = layers.Concatenate(axis=1)(augmented_outputs)\n",
    "    \n",
    "    #Single Hidden Layer and classification\n",
    "    dense = layers.Dense(256, activation='relu')(concat_output)\n",
    "    pred = layers.Dense(num_labels, activation='softmax')(dense)\n",
    "    \n",
    "    model = models.Model(inputs=inputs, outputs=pred)\n",
    "    model.compile(loss='categorical_crossentropy', optimizer='adam', metrics=['accuracy'])\n",
    "    model.summary()\n",
    "    \n",
    "    print(inputs)\n",
    "    return model\n",
    "\n",
    "def initialize_vars(sess):\n",
    "    sess.run(tf.local_variables_initializer())\n",
    "    sess.run(tf.global_variables_initializer())\n",
    "    sess.run(tf.tables_initializer())\n",
    "    K.set_session(sess)"
   ]
  },
  {
   "cell_type": "code",
   "execution_count": 28,
   "metadata": {},
   "outputs": [
    {
     "name": "stdout",
     "output_type": "stream",
     "text": [
      "INFO:tensorflow:Saver not created because there are no variables in the graph to restore\n"
     ]
    },
    {
     "name": "stderr",
     "output_type": "stream",
     "text": [
      "I0513 22:45:39.392282 139659388524288 saver.py:1483] Saver not created because there are no variables in the graph to restore\n"
     ]
    },
    {
     "name": "stdout",
     "output_type": "stream",
     "text": [
      "INFO:tensorflow:Saver not created because there are no variables in the graph to restore\n"
     ]
    },
    {
     "name": "stderr",
     "output_type": "stream",
     "text": [
      "I0513 22:45:43.669694 139659388524288 saver.py:1483] Saver not created because there are no variables in the graph to restore\n"
     ]
    },
    {
     "name": "stdout",
     "output_type": "stream",
     "text": [
      "INFO:tensorflow:Saver not created because there are no variables in the graph to restore\n"
     ]
    },
    {
     "name": "stderr",
     "output_type": "stream",
     "text": [
      "I0513 22:45:47.124639 139659388524288 saver.py:1483] Saver not created because there are no variables in the graph to restore\n"
     ]
    },
    {
     "name": "stdout",
     "output_type": "stream",
     "text": [
      "INFO:tensorflow:Saver not created because there are no variables in the graph to restore\n"
     ]
    },
    {
     "name": "stderr",
     "output_type": "stream",
     "text": [
      "I0513 22:45:50.654844 139659388524288 saver.py:1483] Saver not created because there are no variables in the graph to restore\n"
     ]
    },
    {
     "name": "stdout",
     "output_type": "stream",
     "text": [
      "INFO:tensorflow:Saver not created because there are no variables in the graph to restore\n"
     ]
    },
    {
     "name": "stderr",
     "output_type": "stream",
     "text": [
      "I0513 22:45:54.263101 139659388524288 saver.py:1483] Saver not created because there are no variables in the graph to restore\n"
     ]
    },
    {
     "name": "stdout",
     "output_type": "stream",
     "text": [
      "INFO:tensorflow:Saver not created because there are no variables in the graph to restore\n"
     ]
    },
    {
     "name": "stderr",
     "output_type": "stream",
     "text": [
      "I0513 22:45:57.923688 139659388524288 saver.py:1483] Saver not created because there are no variables in the graph to restore\n"
     ]
    },
    {
     "name": "stdout",
     "output_type": "stream",
     "text": [
      "__________________________________________________________________________________________________\n",
      "Layer (type)                    Output Shape         Param #     Connected to                     \n",
      "==================================================================================================\n",
      "input_candidates_words (InputLa (None, 5, None, 300) 0                                            \n",
      "__________________________________________________________________________________________________\n",
      "input_event_words (InputLayer)  (None, 5, None, 300) 0                                            \n",
      "__________________________________________________________________________________________________\n",
      "lambda_381 (Lambda)             (None, None, 300)    0           input_candidates_words[0][0]     \n",
      "__________________________________________________________________________________________________\n",
      "lambda_382 (Lambda)             (None, None, 300)    0           input_candidates_words[0][0]     \n",
      "__________________________________________________________________________________________________\n",
      "lambda_383 (Lambda)             (None, None, 300)    0           input_candidates_words[0][0]     \n",
      "__________________________________________________________________________________________________\n",
      "lambda_384 (Lambda)             (None, None, 300)    0           input_candidates_words[0][0]     \n",
      "__________________________________________________________________________________________________\n",
      "lambda_385 (Lambda)             (None, None, 300)    0           input_candidates_words[0][0]     \n",
      "__________________________________________________________________________________________________\n",
      "lambda_386 (Lambda)             (None, None, 300)    0           input_event_words[0][0]          \n",
      "__________________________________________________________________________________________________\n",
      "lambda_387 (Lambda)             (None, None, 300)    0           input_event_words[0][0]          \n",
      "__________________________________________________________________________________________________\n",
      "lambda_388 (Lambda)             (None, None, 300)    0           input_event_words[0][0]          \n",
      "__________________________________________________________________________________________________\n",
      "lambda_389 (Lambda)             (None, None, 300)    0           input_event_words[0][0]          \n",
      "__________________________________________________________________________________________________\n",
      "lambda_390 (Lambda)             (None, None, 300)    0           input_event_words[0][0]          \n",
      "__________________________________________________________________________________________________\n",
      "word_to_sword_to_sentence_autoe (None, 300)          721200      lambda_381[0][0]                 \n",
      "                                                                 lambda_382[0][0]                 \n",
      "                                                                 lambda_383[0][0]                 \n",
      "                                                                 lambda_384[0][0]                 \n",
      "                                                                 lambda_385[0][0]                 \n",
      "__________________________________________________________________________________________________\n",
      "input_ids (InputLayer)          (None, 5, 128)       0                                            \n",
      "__________________________________________________________________________________________________\n",
      "input_masks (InputLayer)        (None, 5, 128)       0                                            \n",
      "__________________________________________________________________________________________________\n",
      "segment_ids (InputLayer)        (None, 5, 128)       0                                            \n",
      "__________________________________________________________________________________________________\n",
      "lambda_391 (Lambda)             (None, 1, 300)       0           lambda_386[0][0]                 \n",
      "__________________________________________________________________________________________________\n",
      "lambda_392 (Lambda)             (None, 1, 300)       0           lambda_387[0][0]                 \n",
      "__________________________________________________________________________________________________\n",
      "lambda_393 (Lambda)             (None, 1, 300)       0           lambda_388[0][0]                 \n",
      "__________________________________________________________________________________________________\n",
      "lambda_394 (Lambda)             (None, 1, 300)       0           lambda_389[0][0]                 \n",
      "__________________________________________________________________________________________________\n",
      "lambda_395 (Lambda)             (None, 1, 300)       0           lambda_390[0][0]                 \n",
      "__________________________________________________________________________________________________\n",
      "lambda_396 (Lambda)             (None, 1, 300)       0           word_to_sword_to_sentence_autoenc\n",
      "__________________________________________________________________________________________________\n",
      "lambda_397 (Lambda)             (None, 1, 300)       0           word_to_sword_to_sentence_autoenc\n",
      "__________________________________________________________________________________________________\n",
      "lambda_398 (Lambda)             (None, 1, 300)       0           word_to_sword_to_sentence_autoenc\n",
      "__________________________________________________________________________________________________\n",
      "lambda_399 (Lambda)             (None, 1, 300)       0           word_to_sword_to_sentence_autoenc\n",
      "__________________________________________________________________________________________________\n",
      "lambda_400 (Lambda)             (None, 1, 300)       0           word_to_sword_to_sentence_autoenc\n",
      "__________________________________________________________________________________________________\n",
      "lambda_366 (Lambda)             (None, 128)          0           input_ids[0][0]                  \n",
      "__________________________________________________________________________________________________\n",
      "lambda_367 (Lambda)             (None, 128)          0           input_ids[0][0]                  \n",
      "__________________________________________________________________________________________________\n",
      "lambda_368 (Lambda)             (None, 128)          0           input_ids[0][0]                  \n",
      "__________________________________________________________________________________________________\n",
      "lambda_369 (Lambda)             (None, 128)          0           input_ids[0][0]                  \n",
      "__________________________________________________________________________________________________\n",
      "lambda_370 (Lambda)             (None, 128)          0           input_ids[0][0]                  \n",
      "__________________________________________________________________________________________________\n",
      "lambda_371 (Lambda)             (None, 128)          0           input_masks[0][0]                \n",
      "__________________________________________________________________________________________________\n",
      "lambda_372 (Lambda)             (None, 128)          0           input_masks[0][0]                \n",
      "__________________________________________________________________________________________________\n",
      "lambda_373 (Lambda)             (None, 128)          0           input_masks[0][0]                \n",
      "__________________________________________________________________________________________________\n",
      "lambda_374 (Lambda)             (None, 128)          0           input_masks[0][0]                \n",
      "__________________________________________________________________________________________________\n",
      "lambda_375 (Lambda)             (None, 128)          0           input_masks[0][0]                \n",
      "__________________________________________________________________________________________________\n",
      "lambda_376 (Lambda)             (None, 128)          0           segment_ids[0][0]                \n",
      "__________________________________________________________________________________________________\n",
      "lambda_377 (Lambda)             (None, 128)          0           segment_ids[0][0]                \n",
      "__________________________________________________________________________________________________\n",
      "lambda_378 (Lambda)             (None, 128)          0           segment_ids[0][0]                \n",
      "__________________________________________________________________________________________________\n",
      "lambda_379 (Lambda)             (None, 128)          0           segment_ids[0][0]                \n",
      "__________________________________________________________________________________________________\n",
      "lambda_380 (Lambda)             (None, 128)          0           segment_ids[0][0]                \n",
      "__________________________________________________________________________________________________\n",
      "concatenate_103 (Concatenate)   (None, 6, 300)       0           lambda_391[0][0]                 \n",
      "                                                                 lambda_392[0][0]                 \n",
      "                                                                 lambda_393[0][0]                 \n",
      "                                                                 lambda_394[0][0]                 \n",
      "                                                                 lambda_395[0][0]                 \n",
      "                                                                 lambda_396[0][0]                 \n",
      "__________________________________________________________________________________________________\n",
      "concatenate_104 (Concatenate)   (None, 6, 300)       0           lambda_391[0][0]                 \n",
      "                                                                 lambda_392[0][0]                 \n",
      "                                                                 lambda_393[0][0]                 \n",
      "                                                                 lambda_394[0][0]                 \n",
      "                                                                 lambda_395[0][0]                 \n",
      "                                                                 lambda_397[0][0]                 \n",
      "__________________________________________________________________________________________________\n",
      "concatenate_105 (Concatenate)   (None, 6, 300)       0           lambda_391[0][0]                 \n",
      "                                                                 lambda_392[0][0]                 \n",
      "                                                                 lambda_393[0][0]                 \n",
      "                                                                 lambda_394[0][0]                 \n",
      "                                                                 lambda_395[0][0]                 \n",
      "                                                                 lambda_398[0][0]                 \n",
      "__________________________________________________________________________________________________\n",
      "concatenate_106 (Concatenate)   (None, 6, 300)       0           lambda_391[0][0]                 \n",
      "                                                                 lambda_392[0][0]                 \n",
      "                                                                 lambda_393[0][0]                 \n",
      "                                                                 lambda_394[0][0]                 \n",
      "                                                                 lambda_395[0][0]                 \n",
      "                                                                 lambda_399[0][0]                 \n",
      "__________________________________________________________________________________________________\n",
      "concatenate_107 (Concatenate)   (None, 6, 300)       0           lambda_391[0][0]                 \n",
      "                                                                 lambda_392[0][0]                 \n",
      "                                                                 lambda_393[0][0]                 \n",
      "                                                                 lambda_394[0][0]                 \n",
      "                                                                 lambda_395[0][0]                 \n",
      "                                                                 lambda_400[0][0]                 \n",
      "__________________________________________________________________________________________________\n",
      "multi_bert_layer_11 (MultiBertL [(None, 768), (None, 110104890   lambda_366[0][0]                 \n",
      "                                                                 lambda_367[0][0]                 \n",
      "                                                                 lambda_368[0][0]                 \n",
      "                                                                 lambda_369[0][0]                 \n",
      "                                                                 lambda_370[0][0]                 \n",
      "                                                                 lambda_371[0][0]                 \n",
      "                                                                 lambda_372[0][0]                 \n",
      "                                                                 lambda_373[0][0]                 \n",
      "                                                                 lambda_374[0][0]                 \n",
      "                                                                 lambda_375[0][0]                 \n",
      "                                                                 lambda_376[0][0]                 \n",
      "                                                                 lambda_377[0][0]                 \n",
      "                                                                 lambda_378[0][0]                 \n",
      "                                                                 lambda_379[0][0]                 \n",
      "                                                                 lambda_380[0][0]                 \n",
      "__________________________________________________________________________________________________\n",
      "sentences_to_vec_autoencoder (L (None, 300)          721200      concatenate_103[0][0]            \n",
      "                                                                 concatenate_104[0][0]            \n",
      "                                                                 concatenate_105[0][0]            \n",
      "                                                                 concatenate_106[0][0]            \n",
      "                                                                 concatenate_107[0][0]            \n",
      "__________________________________________________________________________________________________\n",
      "concatenate_108 (Concatenate)   (None, 1068)         0           multi_bert_layer_11[0][0]        \n",
      "                                                                 sentences_to_vec_autoencoder[0][0\n",
      "__________________________________________________________________________________________________\n",
      "concatenate_109 (Concatenate)   (None, 1068)         0           multi_bert_layer_11[0][1]        \n",
      "                                                                 sentences_to_vec_autoencoder[1][0\n",
      "__________________________________________________________________________________________________\n",
      "concatenate_110 (Concatenate)   (None, 1068)         0           multi_bert_layer_11[0][2]        \n",
      "                                                                 sentences_to_vec_autoencoder[2][0\n",
      "__________________________________________________________________________________________________\n",
      "concatenate_111 (Concatenate)   (None, 1068)         0           multi_bert_layer_11[0][3]        \n",
      "                                                                 sentences_to_vec_autoencoder[3][0\n",
      "__________________________________________________________________________________________________\n",
      "concatenate_112 (Concatenate)   (None, 1068)         0           multi_bert_layer_11[0][4]        \n",
      "                                                                 sentences_to_vec_autoencoder[4][0\n",
      "__________________________________________________________________________________________________\n",
      "concatenate_113 (Concatenate)   (None, 5340)         0           concatenate_108[0][0]            \n",
      "                                                                 concatenate_109[0][0]            \n",
      "                                                                 concatenate_110[0][0]            \n",
      "                                                                 concatenate_111[0][0]            \n",
      "                                                                 concatenate_112[0][0]            \n",
      "__________________________________________________________________________________________________\n",
      "dense_10 (Dense)                (None, 256)          1367296     concatenate_113[0][0]            \n",
      "__________________________________________________________________________________________________\n",
      "dense_11 (Dense)                (None, 5)            1285        dense_10[0][0]                   \n",
      "==================================================================================================\n",
      "Total params: 112,915,871\n",
      "Trainable params: 112,293,221\n",
      "Non-trainable params: 622,650\n",
      "__________________________________________________________________________________________________\n",
      "[<tf.Tensor 'input_ids_10:0' shape=(?, 5, 128) dtype=float32>, <tf.Tensor 'input_masks_10:0' shape=(?, 5, 128) dtype=float32>, <tf.Tensor 'segment_ids_10:0' shape=(?, 5, 128) dtype=float32>, <tf.Tensor 'input_candidates_words_10:0' shape=(?, 5, ?, 300) dtype=float32>, <tf.Tensor 'input_event_words_10:0' shape=(?, 5, ?, 300) dtype=float32>]\n"
     ]
    }
   ],
   "source": [
    "model = build_model(prepare_data.MAX_SEQ_LENGTH, num_labels=5, word_vec_len=300, sentence_vec_len=0)\n",
    "\n",
    "# Instantiate variables\n"
   ]
  },
  {
   "cell_type": "markdown",
   "metadata": {},
   "source": [
    "# Train"
   ]
  },
  {
   "cell_type": "code",
   "execution_count": 31,
   "metadata": {},
   "outputs": [
    {
     "ename": "AttributeError",
     "evalue": "'list' object has no attribute 'shape'",
     "output_type": "error",
     "traceback": [
      "\u001b[0;31m\u001b[0m",
      "\u001b[0;31mAttributeError\u001b[0mTraceback (most recent call last)",
      "\u001b[0;32m<ipython-input-31-3ec83aeccd0a>\u001b[0m in \u001b[0;36m<module>\u001b[0;34m\u001b[0m\n\u001b[1;32m     12\u001b[0m     \u001b[0mepochs\u001b[0m\u001b[0;34m=\u001b[0m\u001b[0;36m3\u001b[0m\u001b[0;34m,\u001b[0m\u001b[0;34m\u001b[0m\u001b[0m\n\u001b[1;32m     13\u001b[0m     \u001b[0mbatch_size\u001b[0m\u001b[0;34m=\u001b[0m\u001b[0;36m1\u001b[0m\u001b[0;34m,\u001b[0m\u001b[0;34m\u001b[0m\u001b[0m\n\u001b[0;32m---> 14\u001b[0;31m     \u001b[0mcallbacks\u001b[0m\u001b[0;34m=\u001b[0m\u001b[0mcallbacks\u001b[0m\u001b[0;34m\u001b[0m\u001b[0m\n\u001b[0m\u001b[1;32m     15\u001b[0m )\n",
      "\u001b[0;32m/usr/local/lib/python3.5/dist-packages/tensorflow/python/keras/engine/training.py\u001b[0m in \u001b[0;36mfit\u001b[0;34m(self, x, y, batch_size, epochs, verbose, callbacks, validation_split, validation_data, shuffle, class_weight, sample_weight, initial_epoch, steps_per_epoch, validation_steps, max_queue_size, workers, use_multiprocessing, **kwargs)\u001b[0m\n\u001b[1;32m    774\u001b[0m         \u001b[0msteps\u001b[0m\u001b[0;34m=\u001b[0m\u001b[0msteps_per_epoch\u001b[0m\u001b[0;34m,\u001b[0m\u001b[0;34m\u001b[0m\u001b[0m\n\u001b[1;32m    775\u001b[0m         \u001b[0mvalidation_split\u001b[0m\u001b[0;34m=\u001b[0m\u001b[0mvalidation_split\u001b[0m\u001b[0;34m,\u001b[0m\u001b[0;34m\u001b[0m\u001b[0m\n\u001b[0;32m--> 776\u001b[0;31m         shuffle=shuffle)\n\u001b[0m\u001b[1;32m    777\u001b[0m \u001b[0;34m\u001b[0m\u001b[0m\n\u001b[1;32m    778\u001b[0m     \u001b[0;31m# Prepare validation data.\u001b[0m\u001b[0;34m\u001b[0m\u001b[0;34m\u001b[0m\u001b[0m\n",
      "\u001b[0;32m/usr/local/lib/python3.5/dist-packages/tensorflow/python/keras/engine/training.py\u001b[0m in \u001b[0;36m_standardize_user_data\u001b[0;34m(self, x, y, sample_weight, class_weight, batch_size, check_steps, steps_name, steps, validation_split, shuffle)\u001b[0m\n\u001b[1;32m   2380\u001b[0m         \u001b[0mfeed_input_shapes\u001b[0m\u001b[0;34m,\u001b[0m\u001b[0;34m\u001b[0m\u001b[0m\n\u001b[1;32m   2381\u001b[0m         \u001b[0mcheck_batch_axis\u001b[0m\u001b[0;34m=\u001b[0m\u001b[0;32mFalse\u001b[0m\u001b[0;34m,\u001b[0m  \u001b[0;31m# Don't enforce the batch size.\u001b[0m\u001b[0;34m\u001b[0m\u001b[0m\n\u001b[0;32m-> 2382\u001b[0;31m         exception_prefix='input')\n\u001b[0m\u001b[1;32m   2383\u001b[0m \u001b[0;34m\u001b[0m\u001b[0m\n\u001b[1;32m   2384\u001b[0m     \u001b[0;32mif\u001b[0m \u001b[0my\u001b[0m \u001b[0;32mis\u001b[0m \u001b[0;32mnot\u001b[0m \u001b[0;32mNone\u001b[0m\u001b[0;34m:\u001b[0m\u001b[0;34m\u001b[0m\u001b[0m\n",
      "\u001b[0;32m/usr/local/lib/python3.5/dist-packages/tensorflow/python/keras/engine/training_utils.py\u001b[0m in \u001b[0;36mstandardize_input_data\u001b[0;34m(data, names, shapes, check_batch_axis, exception_prefix)\u001b[0m\n\u001b[1;32m    310\u001b[0m   \u001b[0;32mif\u001b[0m \u001b[0mshapes\u001b[0m \u001b[0;32mis\u001b[0m \u001b[0;32mnot\u001b[0m \u001b[0;32mNone\u001b[0m\u001b[0;34m:\u001b[0m\u001b[0;34m\u001b[0m\u001b[0m\n\u001b[1;32m    311\u001b[0m     data = [standardize_single_array(x, shape)\n\u001b[0;32m--> 312\u001b[0;31m             for (x, shape) in zip(data, shapes)]\n\u001b[0m\u001b[1;32m    313\u001b[0m   \u001b[0;32melse\u001b[0m\u001b[0;34m:\u001b[0m\u001b[0;34m\u001b[0m\u001b[0m\n\u001b[1;32m    314\u001b[0m     \u001b[0mdata\u001b[0m \u001b[0;34m=\u001b[0m \u001b[0;34m[\u001b[0m\u001b[0mstandardize_single_array\u001b[0m\u001b[0;34m(\u001b[0m\u001b[0mx\u001b[0m\u001b[0;34m)\u001b[0m \u001b[0;32mfor\u001b[0m \u001b[0mx\u001b[0m \u001b[0;32min\u001b[0m \u001b[0mdata\u001b[0m\u001b[0;34m]\u001b[0m\u001b[0;34m\u001b[0m\u001b[0m\n",
      "\u001b[0;32m/usr/local/lib/python3.5/dist-packages/tensorflow/python/keras/engine/training_utils.py\u001b[0m in \u001b[0;36m<listcomp>\u001b[0;34m(.0)\u001b[0m\n\u001b[1;32m    310\u001b[0m   \u001b[0;32mif\u001b[0m \u001b[0mshapes\u001b[0m \u001b[0;32mis\u001b[0m \u001b[0;32mnot\u001b[0m \u001b[0;32mNone\u001b[0m\u001b[0;34m:\u001b[0m\u001b[0;34m\u001b[0m\u001b[0m\n\u001b[1;32m    311\u001b[0m     data = [standardize_single_array(x, shape)\n\u001b[0;32m--> 312\u001b[0;31m             for (x, shape) in zip(data, shapes)]\n\u001b[0m\u001b[1;32m    313\u001b[0m   \u001b[0;32melse\u001b[0m\u001b[0;34m:\u001b[0m\u001b[0;34m\u001b[0m\u001b[0m\n\u001b[1;32m    314\u001b[0m     \u001b[0mdata\u001b[0m \u001b[0;34m=\u001b[0m \u001b[0;34m[\u001b[0m\u001b[0mstandardize_single_array\u001b[0m\u001b[0;34m(\u001b[0m\u001b[0mx\u001b[0m\u001b[0;34m)\u001b[0m \u001b[0;32mfor\u001b[0m \u001b[0mx\u001b[0m \u001b[0;32min\u001b[0m \u001b[0mdata\u001b[0m\u001b[0;34m]\u001b[0m\u001b[0;34m\u001b[0m\u001b[0m\n",
      "\u001b[0;32m/usr/local/lib/python3.5/dist-packages/tensorflow/python/keras/engine/training_utils.py\u001b[0m in \u001b[0;36mstandardize_single_array\u001b[0;34m(x, expected_shape)\u001b[0m\n\u001b[1;32m    240\u001b[0m     \u001b[0;32mreturn\u001b[0m \u001b[0;32mNone\u001b[0m\u001b[0;34m\u001b[0m\u001b[0m\n\u001b[1;32m    241\u001b[0m \u001b[0;34m\u001b[0m\u001b[0m\n\u001b[0;32m--> 242\u001b[0;31m   if (x.shape is not None\n\u001b[0m\u001b[1;32m    243\u001b[0m       \u001b[0;32mand\u001b[0m \u001b[0mlen\u001b[0m\u001b[0;34m(\u001b[0m\u001b[0mx\u001b[0m\u001b[0;34m.\u001b[0m\u001b[0mshape\u001b[0m\u001b[0;34m)\u001b[0m \u001b[0;34m==\u001b[0m \u001b[0;36m1\u001b[0m\u001b[0;34m\u001b[0m\u001b[0m\n\u001b[1;32m    244\u001b[0m       and (expected_shape is None or len(expected_shape) != 1)):\n",
      "\u001b[0;31mAttributeError\u001b[0m: 'list' object has no attribute 'shape'"
     ]
    }
   ],
   "source": [
    "initialize_vars(sess)\n",
    "\n",
    "callbacks = [\n",
    "    keras.callbacks.ModelCheckpoint(os.path.join(logs, '{epoch:02d}.h5')),\n",
    "    keras.callbacks.TensorBoard(log_dir=logs, update_freq=1000)\n",
    "]\n",
    "\n",
    "\n",
    "model.fit(\n",
    "    [train_input_ids, train_input_masks, train_segment_ids, train_aug_vecs], \n",
    "    train_labels,\n",
    "    validation_data=([val_input_ids, val_input_masks, val_segment_ids, val_aug_vecs], val_labels),\n",
    "    epochs=3,\n",
    "    batch_size=1,\n",
    "    callbacks=callbacks\n",
    ")"
   ]
  },
  {
   "cell_type": "markdown",
   "metadata": {},
   "source": [
    "# Predict"
   ]
  },
  {
   "cell_type": "code",
   "execution_count": null,
   "metadata": {},
   "outputs": [],
   "source": [
    "model.save('BertModel.h5')\n",
    "pre_save_preds = model.predict([test_input_ids[0:100], \n",
    "                                test_input_masks[0:100], \n",
    "                                test_segment_ids[0:100]]\n",
    "                              ) # predictions before we clear and reload model\n",
    "\n",
    "# Clear and load model\n",
    "model = None\n",
    "model = build_model(max_seq_length)\n",
    "initialize_vars(sess)\n",
    "model.load_weights('BertModel.h5')\n",
    "\n",
    "post_save_preds = model.predict([test_input_ids[0:100], \n",
    "                                test_input_masks[0:100], \n",
    "                                test_segment_ids[0:100]]\n",
    "                              ) # predictions after we clear and reload model\n",
    "all(pre_save_preds == post_save_preds) # Are they the same?"
   ]
  }
 ],
 "metadata": {
  "kernelspec": {
   "display_name": "Python 3",
   "language": "python",
   "name": "python3"
  },
  "language_info": {
   "codemirror_mode": {
    "name": "ipython",
    "version": 3
   },
   "file_extension": ".py",
   "mimetype": "text/x-python",
   "name": "python",
   "nbconvert_exporter": "python",
   "pygments_lexer": "ipython3",
   "version": "3.5.2"
  }
 },
 "nbformat": 4,
 "nbformat_minor": 2
}
