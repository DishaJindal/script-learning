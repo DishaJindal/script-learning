{
 "cells": [
  {
   "cell_type": "code",
   "execution_count": 31,
   "metadata": {},
   "outputs": [],
   "source": [
    "import pickle\n",
    "from pylatex import Document, Section, Enumerate\n",
    "from pylatex.utils import italic, bold, dumps_list, NoEscape\n",
    "import itertools\n",
    "import random"
   ]
  },
  {
   "cell_type": "code",
   "execution_count": 32,
   "metadata": {},
   "outputs": [],
   "source": [
    "def read_data_iterator(pickle_file_path):\n",
    "    with open(pickle_file_path, 'rb') as f:\n",
    "        for i in itertools.count():\n",
    "            try:\n",
    "                yield pickle.load(f)\n",
    "            except EOFError:\n",
    "                return"
   ]
  },
  {
   "cell_type": "code",
   "execution_count": 40,
   "metadata": {},
   "outputs": [
    {
     "data": {
      "text/plain": [
       "162"
      ]
     },
     "execution_count": 40,
     "metadata": {},
     "output_type": "execute_result"
    }
   ],
   "source": [
    "#data = list(read_data_iterator('../extractions.pickle'))\n",
    "data = [e for i, e in zip(range(200), read_data_iterator('gw_extractions.pickle'))]\n",
    "#random.seed('event_chain_1')\n",
    "random.seed('event_chain_gw')\n",
    "random.shuffle(data)\n",
    "data[0]['entity']\n",
    "\n",
    "data = [d for d in data if len(' '.join(d['sentences']).split()) < 150]\n",
    "len(data)"
   ]
  },
  {
   "cell_type": "code",
   "execution_count": 41,
   "metadata": {},
   "outputs": [],
   "source": [
    "def create_pdf(data, pdf_name, use_triples=False, answer_key=False):\n",
    "    text_key = ('triples' if use_triples else 'sentences')\n",
    "    doc = Document()\n",
    "    with doc.create(Enumerate()) as question_enum:\n",
    "        for i, seq in zip(range(20), data):\n",
    "            if use_triples:\n",
    "                question_enum.add_item(\n",
    "                    dumps_list((\n",
    "                       NoEscape(\"(%s)\" % dumps_list((italic(seq['entity']) if t is None else t for t in triple), token=', ')) \n",
    "                       for triple in seq['triples']\n",
    "                    ), \n",
    "                        token=', ')\n",
    "                )\n",
    "            else:\n",
    "                question_enum.add_item(' '.join([s.strip() for s in seq['sentences']]))\n",
    "            with doc.create(Enumerate(enumeration_symbol=r\"\\alph*)\")) as candidate_enum:\n",
    "                for i, candidate  in enumerate(seq['candidates']):\n",
    "                    lat_str = dumps_list((italic(seq['entity']) if c is None else c for c in candidate), escape=False, token=', ')\n",
    "                    lat_str = NoEscape(\"(%s)\"%lat_str)\n",
    "                    if answer_key and i == seq['correct']:\n",
    "                        lat_str = bold(lat_str)\n",
    "                    candidate_enum.add_item(lat_str)\n",
    "\n",
    "    doc.generate_pdf(pdf_name, silent=True, clean_tex=True)\n",
    "    \n",
    "create_pdf(data[:20], 'event_chain_gw_ak', answer_key=True)\n",
    "create_pdf(data[:20], 'event_chain_gw', answer_key=False)\n",
    "create_pdf(data[:20], 'event_chain_gw_triple', use_triples=True, answer_key=False)"
   ]
  }
 ],
 "metadata": {
  "kernelspec": {
   "display_name": "Python 3",
   "language": "python",
   "name": "python3"
  },
  "language_info": {
   "codemirror_mode": {
    "name": "ipython",
    "version": 3
   },
   "file_extension": ".py",
   "mimetype": "text/x-python",
   "name": "python",
   "nbconvert_exporter": "python",
   "pygments_lexer": "ipython3",
   "version": "3.5.2"
  }
 },
 "nbformat": 4,
 "nbformat_minor": 2
}
