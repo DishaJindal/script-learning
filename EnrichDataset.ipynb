{
 "cells": [
  {
   "cell_type": "code",
   "execution_count": 47,
   "metadata": {},
   "outputs": [],
   "source": [
    "from glob import glob\n",
    "import json\n",
    "from collections import Counter\n",
    "import pickle\n",
    "import numpy as np\n",
    "import random\n",
    "from tqdm import tqdm\n",
    "\n",
    "import spacy\n",
    "#!python -m spacy download en_core_web_sm\n",
    "import en_core_web_sm\n",
    "nlp = en_core_web_sm.load()\n",
    "import neuralcoref\n",
    "neuralcoref.add_to_pipe(nlp)\n",
    "\n",
    "from spacy import displacy\n",
    "\n",
    "import itertools\n",
    "\n",
    "import textacy\n",
    "from textacy.extract import subject_verb_object_triples\n",
    "import pprint"
   ]
  },
  {
   "cell_type": "code",
   "execution_count": 48,
   "metadata": {},
   "outputs": [
    {
     "ename": "StopIteration",
     "evalue": "",
     "output_type": "error",
     "traceback": [
      "\u001b[0;31m---------------------------------------------------------------------------\u001b[0m",
      "\u001b[0;31mEOFError\u001b[0m                                  Traceback (most recent call last)",
      "\u001b[0;32m<ipython-input-48-4e0a62ff9d6e>\u001b[0m in \u001b[0;36m<module>\u001b[0;34m\u001b[0m\n\u001b[1;32m      7\u001b[0m             \u001b[0;32mtry\u001b[0m\u001b[0;34m:\u001b[0m\u001b[0;34m\u001b[0m\u001b[0m\n\u001b[0;32m----> 8\u001b[0;31m                 \u001b[0mparse_dict\u001b[0m \u001b[0;34m=\u001b[0m \u001b[0mpickle\u001b[0m\u001b[0;34m.\u001b[0m\u001b[0mload\u001b[0m\u001b[0;34m(\u001b[0m\u001b[0mf\u001b[0m\u001b[0;34m)\u001b[0m\u001b[0;34m\u001b[0m\u001b[0m\n\u001b[0m\u001b[1;32m      9\u001b[0m                 \u001b[0msentences\u001b[0m \u001b[0;34m=\u001b[0m \u001b[0mparse_dict\u001b[0m\u001b[0;34m[\u001b[0m\u001b[0;34m'sentences'\u001b[0m\u001b[0;34m]\u001b[0m\u001b[0;34m\u001b[0m\u001b[0m\n",
      "\u001b[0;31mEOFError\u001b[0m: Ran out of input",
      "\nDuring handling of the above exception, another exception occurred:\n",
      "\u001b[0;31mStopIteration\u001b[0m                             Traceback (most recent call last)",
      "\u001b[0;32m<ipython-input-48-4e0a62ff9d6e>\u001b[0m in \u001b[0;36m<module>\u001b[0;34m\u001b[0m\n\u001b[1;32m     27\u001b[0m \u001b[0;34m\u001b[0m\u001b[0m\n\u001b[1;32m     28\u001b[0m             \u001b[0;32mexcept\u001b[0m \u001b[0mEOFError\u001b[0m\u001b[0;34m:\u001b[0m\u001b[0;34m\u001b[0m\u001b[0m\n\u001b[0;32m---> 29\u001b[0;31m                 \u001b[0;32mraise\u001b[0m \u001b[0mStopIteration\u001b[0m\u001b[0;34m\u001b[0m\u001b[0m\n\u001b[0m",
      "\u001b[0;31mStopIteration\u001b[0m: "
     ]
    }
   ],
   "source": [
    "dep_list = ['ACL','ACOMP','ADVCL','ADVMOD','AGENT','AMOD','APPOS','ATTR','AUX','AUXPASS','CASE','CC','CCOMP','COMPOUND','CONJ','CSUBJ','CSUBJPASS','DATIVE','DEP','DET','DOBJ','EXPL','INTJ','MARK','META','NEG','NOUNMOD','NPMOD','NSUBJ','NSUBJPASS','NUMMOD','OPRD','PARATAXIS','PCOMP','POBJ','POSS','PRECONJ','PREDET','PREP','PRT','PUNCT','QUANTMOD','RELCL','ROOT','XCOMP','COMPLM','INFMOD','PARTMOD','HMOD','HYPH','IOBJ','NUM','NUMBER','NMOD','NN','NPADVMOD','POSSESSIVE','RCMOD']\n",
    "in_file = \"dataset/gw_extractions.pickle\"\n",
    "out_file = \"dataset/gw_extractions_enriched.pickle\"\n",
    "with open(out_file, \"wb\") as pickle_f:\n",
    "     with open(in_file, 'rb') as f:\n",
    "        for i in itertools.count():\n",
    "            try:\n",
    "                parse_dict = pickle.load(f)\n",
    "                sentences = parse_dict['sentences']\n",
    "                sentences_pos = []\n",
    "                sentences_dep = []\n",
    "                for sent in sentences:\n",
    "                    sent_pos = np.zeros(110)\n",
    "                    sent_dep = np.zeros(59)\n",
    "                    doc = nlp(sent)\n",
    "                    for token in doc:\n",
    "                        try:\n",
    "                            sent_pos[token.pos] +=1\n",
    "                            sent_dep[dep_list.index((token.dep_).upper()) + 1] +=1\n",
    "                        except Exception:\n",
    "                            sent_dep[0] +=1\n",
    "                    sentences_pos.append(sent_pos/np.sum(sent_pos))\n",
    "                    sentences_dep.append(sent_dep/np.sum(sent_dep))\n",
    "                parse_dict['pos'] = sentences_pos\n",
    "                parse_dict['dep'] = sentences_dep\n",
    "                pickle.dump(parse_dict, pickle_f)\n",
    "                    \n",
    "            except EOFError:\n",
    "                raise StopIteration"
   ]
  },
  {
   "cell_type": "code",
   "execution_count": null,
   "metadata": {},
   "outputs": [],
   "source": []
  }
 ],
 "metadata": {
  "kernelspec": {
   "display_name": "Python 3",
   "language": "python",
   "name": "python3"
  }
 },
 "nbformat": 4,
 "nbformat_minor": 2
}
