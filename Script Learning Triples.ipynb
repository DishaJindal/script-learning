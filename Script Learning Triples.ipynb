{
 "cells": [
  {
   "cell_type": "code",
   "execution_count": 4,
   "metadata": {
    "scrolled": true
   },
   "outputs": [],
   "source": [
    "import tensorflow as tf\n",
    "\n",
    "import read\n",
    "import prepare_data\n",
    "import input_builder\n",
    "\n",
    "import importlib\n",
    "import model\n",
    "\n",
    "BATCH_SIZE = 1\n",
    "LEARNING_RATE = 2e-5\n",
    "MAX_SEQ_LENGTH = 128\n",
    "\n",
    "importlib.reload(input_builder)\n",
    "import os\n",
    "os.environ['TFHUB_CACHE_DIR'] = '/home/djjindal/bert/script-learning'\n",
    "os.environ[\"CUDA_DEVICE_ORDER\"]=\"PCI_BUS_ID\"   # see issue #152\n",
    "os.environ[\"CUDA_VISIBLE_DEVICES\"]=\"2\"\n",
    "model_dir = 'output_triple'\n"
   ]
  },
  {
   "cell_type": "markdown",
   "metadata": {},
   "source": [
    "# DATA"
   ]
  },
  {
   "cell_type": "code",
   "execution_count": 6,
   "metadata": {},
   "outputs": [
    {
     "name": "stdout",
     "output_type": "stream",
     "text": [
      "<input_builder.InputFeatures object at 0x7f9800546da0>\n"
     ]
    },
    {
     "data": {
      "text/plain": [
       "7874"
      ]
     },
     "execution_count": 6,
     "metadata": {},
     "output_type": "execute_result"
    }
   ],
   "source": [
    "dataset = 'gw_extractions.pickle'\n",
    "train_dataset = read.read_data_iterator(dataset)\n",
    "features = list(prepare_data.tokenize_if_small_enough(train_dataset,sentences=False,no_context=False))\n",
    "train_set = features[:int(0.8 * len(features))]\n",
    "val_set = features[int(0.8 * len(features)):int(0.9*len(features))]\n",
    "print(train_set[0])\n",
    "len(train_set)"
   ]
  },
  {
   "cell_type": "markdown",
   "metadata": {},
   "source": [
    "# Model Objects"
   ]
  },
  {
   "cell_type": "code",
   "execution_count": 7,
   "metadata": {},
   "outputs": [
    {
     "name": "stdout",
     "output_type": "stream",
     "text": [
      "INFO:tensorflow:Using config: {'_eval_distribute': None, '_num_worker_replicas': 1, '_cluster_spec': <tensorflow.python.training.server_lib.ClusterSpec object at 0x7f9810fec518>, '_log_step_count_steps': 100, '_keep_checkpoint_max': 5, '_master': '', '_save_summary_steps': 0, '_is_chief': True, '_keep_checkpoint_every_n_hours': 10000, '_service': None, '_protocol': None, '_global_id_in_cluster': 0, '_train_distribute': None, '_num_ps_replicas': 0, '_task_id': 0, '_device_fn': None, '_experimental_distribute': None, '_save_checkpoints_secs': None, '_tf_random_seed': None, '_task_type': 'worker', '_session_config': allow_soft_placement: true\n",
      "graph_options {\n",
      "  rewrite_options {\n",
      "    meta_optimizer_iterations: ONE\n",
      "  }\n",
      "}\n",
      ", '_save_checkpoints_steps': 0, '_model_dir': 'output_triple', '_evaluation_master': ''}\n"
     ]
    },
    {
     "name": "stderr",
     "output_type": "stream",
     "text": [
      "I0422 04:47:04.566318 140294139361024 estimator.py:201] Using config: {'_eval_distribute': None, '_num_worker_replicas': 1, '_cluster_spec': <tensorflow.python.training.server_lib.ClusterSpec object at 0x7f9810fec518>, '_log_step_count_steps': 100, '_keep_checkpoint_max': 5, '_master': '', '_save_summary_steps': 0, '_is_chief': True, '_keep_checkpoint_every_n_hours': 10000, '_service': None, '_protocol': None, '_global_id_in_cluster': 0, '_train_distribute': None, '_num_ps_replicas': 0, '_task_id': 0, '_device_fn': None, '_experimental_distribute': None, '_save_checkpoints_secs': None, '_tf_random_seed': None, '_task_type': 'worker', '_session_config': allow_soft_placement: true\n",
      "graph_options {\n",
      "  rewrite_options {\n",
      "    meta_optimizer_iterations: ONE\n",
      "  }\n",
      "}\n",
      ", '_save_checkpoints_steps': 0, '_model_dir': 'output_triple', '_evaluation_master': ''}\n"
     ]
    }
   ],
   "source": [
    "run_config = tf.estimator.RunConfig(\n",
    "    model_dir=model_dir,\n",
    "    save_summary_steps=0,\n",
    "    save_checkpoints_steps=0,\n",
    "    log_step_count_steps=100)\n",
    "\n",
    "model_fn = model.model_fn_builder(\n",
    "  num_labels=5,\n",
    "  learning_rate=LEARNING_RATE,\n",
    "  num_train_steps=1,\n",
    "  num_warmup_steps=1)\n",
    "\n",
    "train_test_input_fn = input_builder.input_fn_builder(\n",
    "    features=train_set,\n",
    "    seq_length=MAX_SEQ_LENGTH,\n",
    "    is_training=False,\n",
    "    drop_remainder=False,\n",
    "    candidates=5)\n",
    "\n",
    "val_test_input_fn = input_builder.input_fn_builder(\n",
    "    features=val_set,\n",
    "    seq_length=MAX_SEQ_LENGTH,\n",
    "    is_training=False,\n",
    "    drop_remainder=False,\n",
    "    candidates=5)\n",
    "\n",
    "estimator = tf.estimator.Estimator(\n",
    "  model_fn=model_fn,\n",
    "  config=run_config,\n",
    "  params={\"batch_size\": BATCH_SIZE})"
   ]
  },
  {
   "cell_type": "markdown",
   "metadata": {},
   "source": [
    "# PREDICT FUNCTION"
   ]
  },
  {
   "cell_type": "code",
   "execution_count": 8,
   "metadata": {},
   "outputs": [],
   "source": [
    "import numpy as np\n",
    "def predict(sentenecs, triples, candidates, entity):\n",
    "    e_dict = dict()\n",
    "    check_dataset = []\n",
    "    e_dict['sentences'] = sentenecs\n",
    "    e_dict['triples'] = triples\n",
    "    e_dict['candidates'] = candidates\n",
    "    e_dict['correct'] = 4\n",
    "    e_dict['entity'] = entity\n",
    "    check_dataset = [e_dict]\n",
    "    predict_set = list(prepare_data.tokenize_if_small_enough(check_dataset, sentences=False,no_context=False))\n",
    "\n",
    "    predict_input_fn = input_builder.input_fn_builder(\n",
    "        features=predict_set,\n",
    "        seq_length=MAX_SEQ_LENGTH,\n",
    "        is_training=False,\n",
    "        drop_remainder=False,\n",
    "        candidates=5)\n",
    "    predictions = estimator.predict(input_fn=predict_input_fn,yield_single_examples=False,no_context=False)\n",
    "\n",
    "    for (i, prediction) in enumerate(predictions):\n",
    "        arr = prediction['probabilities'][0]\n",
    "        prob = [np.exp(arr[0]),np.exp(arr[1]),np.exp(arr[2]),np.exp(arr[3]),np.exp(arr[4])]\n",
    "        total = np.sum(prob)\n",
    "        max= np.max(prob)\n",
    "        ec_dict = check_dataset[i]\n",
    "        print(\"SENTENCE EVENT CHAIN\", ec_dict['sentences'],\"\\n\")\n",
    "        print(\"TRIPLE EVENT CHAIN\", ec_dict['triples'],\"\\n\")\n",
    "        print(\"CANDIDATES\", ec_dict['candidates'],\"\\n\")\n",
    "        print(\"ENTITY\", ec_dict['entity'],\"\\n\")\n",
    "        print(\"PREDICTION\", prediction['labels'], \"with Probability\", np.max(prob),\"\\n\",\"\\n\")\n",
    "        return prediction['labels']\n",
    "\n",
    "def on_button_clicked(b):\n",
    "    print(text1.value, text2.value, text3.value)\n",
    "    print(predict([], text1.value.split('), ('), text2.value.split('), ('), text3.value))    "
   ]
  },
  {
   "cell_type": "markdown",
   "metadata": {},
   "source": [
    "# DEMO"
   ]
  },
  {
   "cell_type": "code",
   "execution_count": 9,
   "metadata": {},
   "outputs": [
    {
     "data": {
      "application/vnd.jupyter.widget-view+json": {
       "model_id": "3e9acb0f951b48e59c41367f6bce7934",
       "version_major": 2,
       "version_minor": 0
      },
      "text/plain": [
       "Text(value='', description='Event Chain')"
      ]
     },
     "metadata": {},
     "output_type": "display_data"
    },
    {
     "data": {
      "application/vnd.jupyter.widget-view+json": {
       "model_id": "c60b518e2fdc4b98bde3619ce190df65",
       "version_major": 2,
       "version_minor": 0
      },
      "text/plain": [
       "Text(value='', description='Candidates')"
      ]
     },
     "metadata": {},
     "output_type": "display_data"
    },
    {
     "data": {
      "application/vnd.jupyter.widget-view+json": {
       "model_id": "c4df6b909eee45d6be4862d3af03ad5a",
       "version_major": 2,
       "version_minor": 0
      },
      "text/plain": [
       "Text(value='', description='Entity')"
      ]
     },
     "metadata": {},
     "output_type": "display_data"
    },
    {
     "data": {
      "application/vnd.jupyter.widget-view+json": {
       "model_id": "3fa4466064af4c00a49f154f6b862c1f",
       "version_major": 2,
       "version_minor": 0
      },
      "text/plain": [
       "Button(description='Predict', style=ButtonStyle())"
      ]
     },
     "metadata": {},
     "output_type": "display_data"
    }
   ],
   "source": [
    "import pandas as pd\n",
    "import matplotlib.pyplot as plt\n",
    "from ipywidgets import *\n",
    "from IPython.display import display\n",
    "from IPython.html import widgets\n",
    "text1 = widgets.Text(description=\"Event Chain\", width=200)\n",
    "text2 = widgets.Text(description=\"Candidates\", width=200)\n",
    "text3 = widgets.Text(description=\"Entity\", width=200)\n",
    "button = widgets.Button(description=\"Predict\")\n",
    "button.on_click(on_button_clicked)\n",
    "display(text1)\n",
    "display(text2)\n",
    "display(text3)\n",
    "display(button)\n",
    "\n",
    "# [('john','ordered',None),('john','ate','food')]\n",
    "# [('john','left',None),('john','stays',None)]\n",
    "\n",
    "# [('john','ordered',None),('john','paid',None),('john','ate','food')]\n",
    "# [('john','left',None),('john','stays',None)]\n",
    "\n",
    "# [(None, 'took', 'phone call'), (None, 'had', 'something'), (None, 'began', 'to squint')] \n",
    "# [(None, 'broadcast', '(the two previous record-holders'), ('the pennant', 'slammed', None), (None, \"n't imagine\", 'Maris'), (None, 'expressed', 'interest'), (None, 'turned', '68 _')] "
   ]
  },
  {
   "cell_type": "markdown",
   "metadata": {},
   "source": [
    "# Some Examples"
   ]
  },
  {
   "cell_type": "code",
   "execution_count": 10,
   "metadata": {},
   "outputs": [
    {
     "name": "stdout",
     "output_type": "stream",
     "text": [
      "INFO:tensorflow:Could not find trained model in model_dir: output_triple, running initialization to predict.\n"
     ]
    },
    {
     "name": "stderr",
     "output_type": "stream",
     "text": [
      "I0422 04:47:06.796191 140294139361024 estimator.py:604] Could not find trained model in model_dir: output_triple, running initialization to predict.\n"
     ]
    },
    {
     "name": "stdout",
     "output_type": "stream",
     "text": [
      "INFO:tensorflow:Calling model_fn.\n"
     ]
    },
    {
     "name": "stderr",
     "output_type": "stream",
     "text": [
      "I0422 04:47:06.816890 140294139361024 estimator.py:1111] Calling model_fn.\n"
     ]
    },
    {
     "name": "stdout",
     "output_type": "stream",
     "text": [
      "INFO:tensorflow:Saver not created because there are no variables in the graph to restore\n"
     ]
    },
    {
     "name": "stderr",
     "output_type": "stream",
     "text": [
      "I0422 04:47:09.573111 140294139361024 saver.py:1483] Saver not created because there are no variables in the graph to restore\n"
     ]
    },
    {
     "name": "stdout",
     "output_type": "stream",
     "text": [
      "INFO:tensorflow:Saver not created because there are no variables in the graph to restore\n"
     ]
    },
    {
     "name": "stderr",
     "output_type": "stream",
     "text": [
      "I0422 04:47:10.109275 140294139361024 saver.py:1483] Saver not created because there are no variables in the graph to restore\n"
     ]
    },
    {
     "name": "stdout",
     "output_type": "stream",
     "text": [
      "INFO:tensorflow:Saver not created because there are no variables in the graph to restore\n"
     ]
    },
    {
     "name": "stderr",
     "output_type": "stream",
     "text": [
      "I0422 04:47:11.130607 140294139361024 saver.py:1483] Saver not created because there are no variables in the graph to restore\n"
     ]
    },
    {
     "name": "stdout",
     "output_type": "stream",
     "text": [
      "INFO:tensorflow:Saver not created because there are no variables in the graph to restore\n"
     ]
    },
    {
     "name": "stderr",
     "output_type": "stream",
     "text": [
      "I0422 04:47:11.712443 140294139361024 saver.py:1483] Saver not created because there are no variables in the graph to restore\n"
     ]
    },
    {
     "name": "stdout",
     "output_type": "stream",
     "text": [
      "INFO:tensorflow:Saver not created because there are no variables in the graph to restore\n"
     ]
    },
    {
     "name": "stderr",
     "output_type": "stream",
     "text": [
      "I0422 04:47:12.816493 140294139361024 saver.py:1483] Saver not created because there are no variables in the graph to restore\n"
     ]
    },
    {
     "name": "stdout",
     "output_type": "stream",
     "text": [
      "INFO:tensorflow:Done calling model_fn.\n"
     ]
    },
    {
     "name": "stderr",
     "output_type": "stream",
     "text": [
      "I0422 04:47:12.980440 140294139361024 estimator.py:1113] Done calling model_fn.\n"
     ]
    },
    {
     "name": "stdout",
     "output_type": "stream",
     "text": [
      "INFO:tensorflow:Graph was finalized.\n"
     ]
    },
    {
     "name": "stderr",
     "output_type": "stream",
     "text": [
      "I0422 04:47:13.389273 140294139361024 monitored_session.py:222] Graph was finalized.\n"
     ]
    },
    {
     "name": "stdout",
     "output_type": "stream",
     "text": [
      "INFO:tensorflow:Running local_init_op.\n"
     ]
    },
    {
     "name": "stderr",
     "output_type": "stream",
     "text": [
      "I0422 04:47:15.469549 140294139361024 session_manager.py:491] Running local_init_op.\n"
     ]
    },
    {
     "name": "stdout",
     "output_type": "stream",
     "text": [
      "INFO:tensorflow:Done running local_init_op.\n"
     ]
    },
    {
     "name": "stderr",
     "output_type": "stream",
     "text": [
      "I0422 04:47:15.680929 140294139361024 session_manager.py:493] Done running local_init_op.\n"
     ]
    },
    {
     "name": "stdout",
     "output_type": "stream",
     "text": [
      "SENTENCE EVENT CHAIN [\"``We begin this session with a national spotlight on us,'' he told\\nlawmakers.\", 'Bush also took a a cue from Washington, where presidents often\\nintroduce special guests during their State of the Union speeches.\\n', 'Bush introduced ninth-grader Adam Gonzales of Lubbock as a student\\nwho overcame years of social promotion that put him on an\\neducational course to nowhere.\\n\\n\\n'] \n",
      "\n",
      "TRIPLE EVENT CHAIN [(None, 'told', 'lawmakers'), (None, 'took', 'cue'), (None, 'introduced', 'Gonzales')] \n",
      "\n",
      "CANDIDATES [(None, 'introduced', 'Burgin'), (None, 'can offer', 'campaign-trail promises'), ('all the people', 'expanding', None), (None, 'echoing', 'light'), (None, 'will lay', 'chairman')] \n",
      "\n",
      "ENTITY Bush \n",
      "\n",
      "CORRECT 1 \n",
      "\n",
      "PREDICTION 3 with Probability 0.31022337 \n",
      " \n",
      "\n",
      "INFO:tensorflow:Could not find trained model in model_dir: output_triple, running initialization to predict.\n"
     ]
    },
    {
     "name": "stderr",
     "output_type": "stream",
     "text": [
      "I0422 04:47:18.352639 140294139361024 estimator.py:604] Could not find trained model in model_dir: output_triple, running initialization to predict.\n"
     ]
    },
    {
     "name": "stdout",
     "output_type": "stream",
     "text": [
      "INFO:tensorflow:Calling model_fn.\n"
     ]
    },
    {
     "name": "stderr",
     "output_type": "stream",
     "text": [
      "I0422 04:47:18.369930 140294139361024 estimator.py:1111] Calling model_fn.\n"
     ]
    },
    {
     "name": "stdout",
     "output_type": "stream",
     "text": [
      "INFO:tensorflow:Saver not created because there are no variables in the graph to restore\n"
     ]
    },
    {
     "name": "stderr",
     "output_type": "stream",
     "text": [
      "I0422 04:47:21.134216 140294139361024 saver.py:1483] Saver not created because there are no variables in the graph to restore\n"
     ]
    },
    {
     "name": "stdout",
     "output_type": "stream",
     "text": [
      "INFO:tensorflow:Saver not created because there are no variables in the graph to restore\n"
     ]
    },
    {
     "name": "stderr",
     "output_type": "stream",
     "text": [
      "I0422 04:47:22.144675 140294139361024 saver.py:1483] Saver not created because there are no variables in the graph to restore\n"
     ]
    },
    {
     "name": "stdout",
     "output_type": "stream",
     "text": [
      "INFO:tensorflow:Saver not created because there are no variables in the graph to restore\n"
     ]
    },
    {
     "name": "stderr",
     "output_type": "stream",
     "text": [
      "I0422 04:47:22.728375 140294139361024 saver.py:1483] Saver not created because there are no variables in the graph to restore\n"
     ]
    },
    {
     "name": "stdout",
     "output_type": "stream",
     "text": [
      "INFO:tensorflow:Saver not created because there are no variables in the graph to restore\n"
     ]
    },
    {
     "name": "stderr",
     "output_type": "stream",
     "text": [
      "I0422 04:47:23.338118 140294139361024 saver.py:1483] Saver not created because there are no variables in the graph to restore\n"
     ]
    },
    {
     "name": "stdout",
     "output_type": "stream",
     "text": [
      "INFO:tensorflow:Saver not created because there are no variables in the graph to restore\n"
     ]
    },
    {
     "name": "stderr",
     "output_type": "stream",
     "text": [
      "I0422 04:47:24.463042 140294139361024 saver.py:1483] Saver not created because there are no variables in the graph to restore\n"
     ]
    },
    {
     "name": "stdout",
     "output_type": "stream",
     "text": [
      "INFO:tensorflow:Done calling model_fn.\n"
     ]
    },
    {
     "name": "stderr",
     "output_type": "stream",
     "text": [
      "I0422 04:47:24.630605 140294139361024 estimator.py:1113] Done calling model_fn.\n"
     ]
    },
    {
     "name": "stdout",
     "output_type": "stream",
     "text": [
      "INFO:tensorflow:Graph was finalized.\n"
     ]
    },
    {
     "name": "stderr",
     "output_type": "stream",
     "text": [
      "I0422 04:47:25.045641 140294139361024 monitored_session.py:222] Graph was finalized.\n"
     ]
    },
    {
     "name": "stdout",
     "output_type": "stream",
     "text": [
      "INFO:tensorflow:Running local_init_op.\n"
     ]
    },
    {
     "name": "stderr",
     "output_type": "stream",
     "text": [
      "I0422 04:47:26.657248 140294139361024 session_manager.py:491] Running local_init_op.\n"
     ]
    },
    {
     "name": "stdout",
     "output_type": "stream",
     "text": [
      "INFO:tensorflow:Done running local_init_op.\n"
     ]
    },
    {
     "name": "stderr",
     "output_type": "stream",
     "text": [
      "I0422 04:47:26.887696 140294139361024 session_manager.py:493] Done running local_init_op.\n"
     ]
    },
    {
     "name": "stdout",
     "output_type": "stream",
     "text": [
      "INFO:tensorflow:Could not find trained model in model_dir: output_triple, running initialization to predict.\n"
     ]
    },
    {
     "name": "stderr",
     "output_type": "stream",
     "text": [
      "I0422 04:47:29.425459 140294139361024 estimator.py:604] Could not find trained model in model_dir: output_triple, running initialization to predict.\n"
     ]
    },
    {
     "name": "stdout",
     "output_type": "stream",
     "text": [
      "INFO:tensorflow:Calling model_fn.\n"
     ]
    },
    {
     "name": "stderr",
     "output_type": "stream",
     "text": [
      "I0422 04:47:29.444224 140294139361024 estimator.py:1111] Calling model_fn.\n"
     ]
    },
    {
     "name": "stdout",
     "output_type": "stream",
     "text": [
      "INFO:tensorflow:Saver not created because there are no variables in the graph to restore\n"
     ]
    },
    {
     "name": "stderr",
     "output_type": "stream",
     "text": [
      "I0422 04:47:32.716416 140294139361024 saver.py:1483] Saver not created because there are no variables in the graph to restore\n"
     ]
    },
    {
     "name": "stdout",
     "output_type": "stream",
     "text": [
      "INFO:tensorflow:Saver not created because there are no variables in the graph to restore\n"
     ]
    },
    {
     "name": "stderr",
     "output_type": "stream",
     "text": [
      "I0422 04:47:33.271503 140294139361024 saver.py:1483] Saver not created because there are no variables in the graph to restore\n"
     ]
    },
    {
     "name": "stdout",
     "output_type": "stream",
     "text": [
      "INFO:tensorflow:Saver not created because there are no variables in the graph to restore\n"
     ]
    },
    {
     "name": "stderr",
     "output_type": "stream",
     "text": [
      "I0422 04:47:34.322919 140294139361024 saver.py:1483] Saver not created because there are no variables in the graph to restore\n"
     ]
    },
    {
     "name": "stdout",
     "output_type": "stream",
     "text": [
      "INFO:tensorflow:Saver not created because there are no variables in the graph to restore\n"
     ]
    },
    {
     "name": "stderr",
     "output_type": "stream",
     "text": [
      "I0422 04:47:34.930689 140294139361024 saver.py:1483] Saver not created because there are no variables in the graph to restore\n"
     ]
    },
    {
     "name": "stdout",
     "output_type": "stream",
     "text": [
      "INFO:tensorflow:Saver not created because there are no variables in the graph to restore\n"
     ]
    },
    {
     "name": "stderr",
     "output_type": "stream",
     "text": [
      "I0422 04:47:35.549142 140294139361024 saver.py:1483] Saver not created because there are no variables in the graph to restore\n"
     ]
    },
    {
     "name": "stdout",
     "output_type": "stream",
     "text": [
      "INFO:tensorflow:Done calling model_fn.\n"
     ]
    },
    {
     "name": "stderr",
     "output_type": "stream",
     "text": [
      "I0422 04:47:35.711529 140294139361024 estimator.py:1113] Done calling model_fn.\n"
     ]
    },
    {
     "name": "stdout",
     "output_type": "stream",
     "text": [
      "INFO:tensorflow:Graph was finalized.\n"
     ]
    },
    {
     "name": "stderr",
     "output_type": "stream",
     "text": [
      "I0422 04:47:36.641062 140294139361024 monitored_session.py:222] Graph was finalized.\n"
     ]
    },
    {
     "name": "stdout",
     "output_type": "stream",
     "text": [
      "INFO:tensorflow:Running local_init_op.\n"
     ]
    },
    {
     "name": "stderr",
     "output_type": "stream",
     "text": [
      "I0422 04:47:38.212869 140294139361024 session_manager.py:491] Running local_init_op.\n"
     ]
    },
    {
     "name": "stdout",
     "output_type": "stream",
     "text": [
      "INFO:tensorflow:Done running local_init_op.\n"
     ]
    },
    {
     "name": "stderr",
     "output_type": "stream",
     "text": [
      "I0422 04:47:38.461338 140294139361024 session_manager.py:493] Done running local_init_op.\n"
     ]
    },
    {
     "name": "stdout",
     "output_type": "stream",
     "text": [
      "SENTENCE EVENT CHAIN [\"``He'd\\nkeep it to himself.\", 'I just told him to do the best that he could\\ndo.', \"Jackson said he wanted to give one of his kidneys to his mother,\\nbut his blood type didn't match.\", 'Jackson did other things to help his mother', 'He is an honor student who is on\\nschedule to graduate this year with a degree in child psychology.\\n', 'Last year, he made the All-Atlantic Coast Conference academic team.\\n\\n\\n', \"This season, he is the Seminoles' second-leading tackler with\\n69, including 44 solo stops.\", 'He has four interceptions.\\n\\n\\n', \"She always told me to keep the faith and don't\\nquestion God's call.''\\n\\n\\n\"] \n",
      "\n",
      "TRIPLE EVENT CHAIN [(None, '\\nkeep', 'it'), ('I', 'told', None), (None, 'wanted', 'to give'), (None, 'did', 'things'), (None, 'is', 'honor student'), (None, 'made', 'team'), (None, 'is', 'tackler'), (None, 'has', 'interceptions'), (None, 'told', 'me')] \n",
      "\n",
      "CANDIDATES [('`It', 'moved', None), (None, 'tells', 'Green'), (\"God's call\", 'is gone', None), (None, 'So can senior', 'a lot'), (None, 'say', 'Quincy')] \n",
      "\n",
      "ENTITY whose father \n",
      "\n",
      "CORRECT 2 \n",
      "\n",
      "PREDICTION 1 with Probability 0.3690006 \n",
      " \n",
      "\n",
      "INFO:tensorflow:Could not find trained model in model_dir: output_triple, running initialization to predict.\n"
     ]
    },
    {
     "name": "stderr",
     "output_type": "stream",
     "text": [
      "I0422 04:47:41.106966 140294139361024 estimator.py:604] Could not find trained model in model_dir: output_triple, running initialization to predict.\n"
     ]
    },
    {
     "name": "stdout",
     "output_type": "stream",
     "text": [
      "INFO:tensorflow:Calling model_fn.\n"
     ]
    },
    {
     "name": "stderr",
     "output_type": "stream",
     "text": [
      "I0422 04:47:41.125199 140294139361024 estimator.py:1111] Calling model_fn.\n"
     ]
    },
    {
     "name": "stdout",
     "output_type": "stream",
     "text": [
      "INFO:tensorflow:Saver not created because there are no variables in the graph to restore\n"
     ]
    },
    {
     "name": "stderr",
     "output_type": "stream",
     "text": [
      "I0422 04:47:43.947036 140294139361024 saver.py:1483] Saver not created because there are no variables in the graph to restore\n"
     ]
    },
    {
     "name": "stdout",
     "output_type": "stream",
     "text": [
      "INFO:tensorflow:Saver not created because there are no variables in the graph to restore\n"
     ]
    },
    {
     "name": "stderr",
     "output_type": "stream",
     "text": [
      "I0422 04:47:44.519009 140294139361024 saver.py:1483] Saver not created because there are no variables in the graph to restore\n"
     ]
    },
    {
     "name": "stdout",
     "output_type": "stream",
     "text": [
      "INFO:tensorflow:Saver not created because there are no variables in the graph to restore\n"
     ]
    },
    {
     "name": "stderr",
     "output_type": "stream",
     "text": [
      "I0422 04:47:45.611713 140294139361024 saver.py:1483] Saver not created because there are no variables in the graph to restore\n"
     ]
    },
    {
     "name": "stdout",
     "output_type": "stream",
     "text": [
      "INFO:tensorflow:Saver not created because there are no variables in the graph to restore\n"
     ]
    },
    {
     "name": "stderr",
     "output_type": "stream",
     "text": [
      "I0422 04:47:46.251966 140294139361024 saver.py:1483] Saver not created because there are no variables in the graph to restore\n"
     ]
    },
    {
     "name": "stdout",
     "output_type": "stream",
     "text": [
      "INFO:tensorflow:Saver not created because there are no variables in the graph to restore\n"
     ]
    },
    {
     "name": "stderr",
     "output_type": "stream",
     "text": [
      "I0422 04:47:47.422681 140294139361024 saver.py:1483] Saver not created because there are no variables in the graph to restore\n"
     ]
    },
    {
     "name": "stdout",
     "output_type": "stream",
     "text": [
      "INFO:tensorflow:Done calling model_fn.\n"
     ]
    },
    {
     "name": "stderr",
     "output_type": "stream",
     "text": [
      "I0422 04:47:47.599634 140294139361024 estimator.py:1113] Done calling model_fn.\n"
     ]
    },
    {
     "name": "stdout",
     "output_type": "stream",
     "text": [
      "INFO:tensorflow:Graph was finalized.\n"
     ]
    },
    {
     "name": "stderr",
     "output_type": "stream",
     "text": [
      "I0422 04:47:48.009466 140294139361024 monitored_session.py:222] Graph was finalized.\n"
     ]
    },
    {
     "name": "stdout",
     "output_type": "stream",
     "text": [
      "INFO:tensorflow:Running local_init_op.\n"
     ]
    },
    {
     "name": "stderr",
     "output_type": "stream",
     "text": [
      "I0422 04:47:49.621673 140294139361024 session_manager.py:491] Running local_init_op.\n"
     ]
    },
    {
     "name": "stdout",
     "output_type": "stream",
     "text": [
      "INFO:tensorflow:Done running local_init_op.\n"
     ]
    },
    {
     "name": "stderr",
     "output_type": "stream",
     "text": [
      "I0422 04:47:49.871304 140294139361024 session_manager.py:493] Done running local_init_op.\n"
     ]
    },
    {
     "name": "stdout",
     "output_type": "stream",
     "text": [
      "SENTENCE EVENT CHAIN ['For the most part, critics\\nembraced the work, but the authors did not know if the book-buying\\npublic would; now, three months after its release in late\\nSeptember, the two have traveled to more than 30 cities to push\\ntheir book at lectures, talks, and book signings.', 'The authors\\ncreated a Web site.', \"They've done more than 40 print interviews.\"] \n",
      "\n",
      "TRIPLE EVENT CHAIN [(None, 'did not know', 'would'), (None, 'created', 'Web site'), (None, \"'ve done\", 'print interviews')] \n",
      "\n",
      "CANDIDATES [(None, 'promoting', '``Marie Curie'), ('no way', 'set', None), ('the fall season', 'there is', None), (None, 'hired', 'radio'), ('James Carroll', 'makes', None)] \n",
      "\n",
      "ENTITY the authors \n",
      "\n",
      "CORRECT 4 \n",
      "\n",
      "PREDICTION 3 with Probability 0.502362 \n",
      " \n",
      "\n",
      "INFO:tensorflow:Could not find trained model in model_dir: output_triple, running initialization to predict.\n"
     ]
    },
    {
     "name": "stderr",
     "output_type": "stream",
     "text": [
      "I0422 04:47:52.501032 140294139361024 estimator.py:604] Could not find trained model in model_dir: output_triple, running initialization to predict.\n"
     ]
    },
    {
     "name": "stdout",
     "output_type": "stream",
     "text": [
      "INFO:tensorflow:Calling model_fn.\n"
     ]
    },
    {
     "name": "stderr",
     "output_type": "stream",
     "text": [
      "I0422 04:47:52.519374 140294139361024 estimator.py:1111] Calling model_fn.\n"
     ]
    },
    {
     "name": "stdout",
     "output_type": "stream",
     "text": [
      "INFO:tensorflow:Saver not created because there are no variables in the graph to restore\n"
     ]
    },
    {
     "name": "stderr",
     "output_type": "stream",
     "text": [
      "I0422 04:47:55.342734 140294139361024 saver.py:1483] Saver not created because there are no variables in the graph to restore\n"
     ]
    },
    {
     "name": "stdout",
     "output_type": "stream",
     "text": [
      "INFO:tensorflow:Saver not created because there are no variables in the graph to restore\n"
     ]
    },
    {
     "name": "stderr",
     "output_type": "stream",
     "text": [
      "I0422 04:47:55.907775 140294139361024 saver.py:1483] Saver not created because there are no variables in the graph to restore\n"
     ]
    },
    {
     "name": "stdout",
     "output_type": "stream",
     "text": [
      "INFO:tensorflow:Saver not created because there are no variables in the graph to restore\n"
     ]
    },
    {
     "name": "stderr",
     "output_type": "stream",
     "text": [
      "I0422 04:47:56.983346 140294139361024 saver.py:1483] Saver not created because there are no variables in the graph to restore\n"
     ]
    },
    {
     "name": "stdout",
     "output_type": "stream",
     "text": [
      "INFO:tensorflow:Saver not created because there are no variables in the graph to restore\n"
     ]
    },
    {
     "name": "stderr",
     "output_type": "stream",
     "text": [
      "I0422 04:47:57.613079 140294139361024 saver.py:1483] Saver not created because there are no variables in the graph to restore\n"
     ]
    },
    {
     "name": "stdout",
     "output_type": "stream",
     "text": [
      "INFO:tensorflow:Saver not created because there are no variables in the graph to restore\n"
     ]
    },
    {
     "name": "stderr",
     "output_type": "stream",
     "text": [
      "I0422 04:47:58.765809 140294139361024 saver.py:1483] Saver not created because there are no variables in the graph to restore\n"
     ]
    },
    {
     "name": "stdout",
     "output_type": "stream",
     "text": [
      "INFO:tensorflow:Done calling model_fn.\n"
     ]
    },
    {
     "name": "stderr",
     "output_type": "stream",
     "text": [
      "I0422 04:47:58.943045 140294139361024 estimator.py:1113] Done calling model_fn.\n"
     ]
    },
    {
     "name": "stdout",
     "output_type": "stream",
     "text": [
      "INFO:tensorflow:Graph was finalized.\n"
     ]
    },
    {
     "name": "stderr",
     "output_type": "stream",
     "text": [
      "I0422 04:47:59.359284 140294139361024 monitored_session.py:222] Graph was finalized.\n"
     ]
    },
    {
     "name": "stdout",
     "output_type": "stream",
     "text": [
      "INFO:tensorflow:Running local_init_op.\n"
     ]
    },
    {
     "name": "stderr",
     "output_type": "stream",
     "text": [
      "I0422 04:48:00.985979 140294139361024 session_manager.py:491] Running local_init_op.\n"
     ]
    },
    {
     "name": "stdout",
     "output_type": "stream",
     "text": [
      "INFO:tensorflow:Done running local_init_op.\n"
     ]
    },
    {
     "name": "stderr",
     "output_type": "stream",
     "text": [
      "I0422 04:48:01.225213 140294139361024 session_manager.py:493] Done running local_init_op.\n"
     ]
    },
    {
     "name": "stdout",
     "output_type": "stream",
     "text": [
      "SENTENCE EVENT CHAIN ['Rigby, the spokesman for the Defense Threat Reduction Agency,\\nsaid he did not know why the agency had decided not to demand that\\nRitter comply with the requirement.\\n\\n\\n', \"But he said that the agency was ``concerned by the tone'' of the\\nletter and that ``it may not reflect our current position on the\\nissue of security reviews.'\", \"The agency would still welcome an\\nadvance copy of Ritter's book ``to assist him in insuring that no\\nclassified information is disclosed,'' he said.\"] \n",
      "\n",
      "TRIPLE EVENT CHAIN [(None, 'had decided', 'not to demand'), (None, 'may not reflect', 'position'), (None, 'welcome', 'copy')] \n",
      "\n",
      "CANDIDATES [(None, 'had decided', 'efforts'), (None, 'decided', 'to reverse'), (None, 'would publish', 'no intention'), ('Lifflander', 'be submitted', None), ('the Department', 'working', None)] \n",
      "\n",
      "ENTITY the Defense Threat Reduction Agency \n",
      "\n",
      "CORRECT 2 \n",
      "\n",
      "PREDICTION 1 with Probability 0.3773764 \n",
      " \n",
      "\n",
      "INFO:tensorflow:Could not find trained model in model_dir: output_triple, running initialization to predict.\n"
     ]
    },
    {
     "name": "stderr",
     "output_type": "stream",
     "text": [
      "I0422 04:48:03.868979 140294139361024 estimator.py:604] Could not find trained model in model_dir: output_triple, running initialization to predict.\n"
     ]
    },
    {
     "name": "stdout",
     "output_type": "stream",
     "text": [
      "INFO:tensorflow:Calling model_fn.\n"
     ]
    },
    {
     "name": "stderr",
     "output_type": "stream",
     "text": [
      "I0422 04:48:03.888948 140294139361024 estimator.py:1111] Calling model_fn.\n"
     ]
    },
    {
     "name": "stdout",
     "output_type": "stream",
     "text": [
      "INFO:tensorflow:Saver not created because there are no variables in the graph to restore\n"
     ]
    },
    {
     "name": "stderr",
     "output_type": "stream",
     "text": [
      "I0422 04:48:07.186219 140294139361024 saver.py:1483] Saver not created because there are no variables in the graph to restore\n"
     ]
    },
    {
     "name": "stdout",
     "output_type": "stream",
     "text": [
      "INFO:tensorflow:Saver not created because there are no variables in the graph to restore\n"
     ]
    },
    {
     "name": "stderr",
     "output_type": "stream",
     "text": [
      "I0422 04:48:07.752013 140294139361024 saver.py:1483] Saver not created because there are no variables in the graph to restore\n"
     ]
    },
    {
     "name": "stdout",
     "output_type": "stream",
     "text": [
      "INFO:tensorflow:Saver not created because there are no variables in the graph to restore\n"
     ]
    },
    {
     "name": "stderr",
     "output_type": "stream",
     "text": [
      "I0422 04:48:08.827471 140294139361024 saver.py:1483] Saver not created because there are no variables in the graph to restore\n"
     ]
    },
    {
     "name": "stdout",
     "output_type": "stream",
     "text": [
      "INFO:tensorflow:Saver not created because there are no variables in the graph to restore\n"
     ]
    },
    {
     "name": "stderr",
     "output_type": "stream",
     "text": [
      "I0422 04:48:09.443024 140294139361024 saver.py:1483] Saver not created because there are no variables in the graph to restore\n"
     ]
    },
    {
     "name": "stdout",
     "output_type": "stream",
     "text": [
      "INFO:tensorflow:Saver not created because there are no variables in the graph to restore\n"
     ]
    },
    {
     "name": "stderr",
     "output_type": "stream",
     "text": [
      "I0422 04:48:10.072901 140294139361024 saver.py:1483] Saver not created because there are no variables in the graph to restore\n"
     ]
    },
    {
     "name": "stdout",
     "output_type": "stream",
     "text": [
      "INFO:tensorflow:Done calling model_fn.\n"
     ]
    },
    {
     "name": "stderr",
     "output_type": "stream",
     "text": [
      "I0422 04:48:10.237910 140294139361024 estimator.py:1113] Done calling model_fn.\n"
     ]
    },
    {
     "name": "stdout",
     "output_type": "stream",
     "text": [
      "INFO:tensorflow:Graph was finalized.\n"
     ]
    },
    {
     "name": "stderr",
     "output_type": "stream",
     "text": [
      "I0422 04:48:11.183825 140294139361024 monitored_session.py:222] Graph was finalized.\n"
     ]
    },
    {
     "name": "stdout",
     "output_type": "stream",
     "text": [
      "INFO:tensorflow:Running local_init_op.\n"
     ]
    },
    {
     "name": "stderr",
     "output_type": "stream",
     "text": [
      "I0422 04:48:12.774931 140294139361024 session_manager.py:491] Running local_init_op.\n"
     ]
    },
    {
     "name": "stdout",
     "output_type": "stream",
     "text": [
      "INFO:tensorflow:Done running local_init_op.\n"
     ]
    },
    {
     "name": "stderr",
     "output_type": "stream",
     "text": [
      "I0422 04:48:13.014043 140294139361024 session_manager.py:493] Done running local_init_op.\n"
     ]
    },
    {
     "name": "stdout",
     "output_type": "stream",
     "text": [
      "SENTENCE EVENT CHAIN ['Darlene,\\nJerry, Pete, Michael and Bonnie have filed tens of thousands of\\npapers in court.\\n\\n\\n', 'They spend their days preparing filings and meeting court\\ndeadlines.', \"They destroyed our businesses, they destroyed our livelihoods and\\ntook our homes in one sweep.''\\n\\n\\n\"] \n",
      "\n",
      "TRIPLE EVENT CHAIN [(None, 'have filed', 'thousands'), (None, 'spend', 'days'), (None, 'destroyed', 'businesses')] \n",
      "\n",
      "CANDIDATES [('a hard-working family', 'collected', None), ('the\\nrush', 'now need', None), ('the\\njury', 'been properly instructed', None), ('we', \"'s\", None), (None, 'refused', 'to leave')] \n",
      "\n",
      "ENTITY Darlene \n",
      "\n",
      "CORRECT 5 \n",
      "\n",
      "PREDICTION 1 with Probability 0.3222848 \n",
      " \n",
      "\n",
      "INFO:tensorflow:Could not find trained model in model_dir: output_triple, running initialization to predict.\n"
     ]
    },
    {
     "name": "stderr",
     "output_type": "stream",
     "text": [
      "I0422 04:48:15.683073 140294139361024 estimator.py:604] Could not find trained model in model_dir: output_triple, running initialization to predict.\n"
     ]
    },
    {
     "name": "stdout",
     "output_type": "stream",
     "text": [
      "INFO:tensorflow:Calling model_fn.\n"
     ]
    },
    {
     "name": "stderr",
     "output_type": "stream",
     "text": [
      "I0422 04:48:15.701478 140294139361024 estimator.py:1111] Calling model_fn.\n"
     ]
    },
    {
     "name": "stdout",
     "output_type": "stream",
     "text": [
      "INFO:tensorflow:Saver not created because there are no variables in the graph to restore\n"
     ]
    },
    {
     "name": "stderr",
     "output_type": "stream",
     "text": [
      "I0422 04:48:18.575141 140294139361024 saver.py:1483] Saver not created because there are no variables in the graph to restore\n"
     ]
    },
    {
     "name": "stdout",
     "output_type": "stream",
     "text": [
      "INFO:tensorflow:Saver not created because there are no variables in the graph to restore\n"
     ]
    },
    {
     "name": "stderr",
     "output_type": "stream",
     "text": [
      "I0422 04:48:19.155011 140294139361024 saver.py:1483] Saver not created because there are no variables in the graph to restore\n"
     ]
    },
    {
     "name": "stdout",
     "output_type": "stream",
     "text": [
      "INFO:tensorflow:Saver not created because there are no variables in the graph to restore\n"
     ]
    },
    {
     "name": "stderr",
     "output_type": "stream",
     "text": [
      "I0422 04:48:20.269702 140294139361024 saver.py:1483] Saver not created because there are no variables in the graph to restore\n"
     ]
    },
    {
     "name": "stdout",
     "output_type": "stream",
     "text": [
      "INFO:tensorflow:Saver not created because there are no variables in the graph to restore\n"
     ]
    },
    {
     "name": "stderr",
     "output_type": "stream",
     "text": [
      "I0422 04:48:20.920632 140294139361024 saver.py:1483] Saver not created because there are no variables in the graph to restore\n"
     ]
    },
    {
     "name": "stdout",
     "output_type": "stream",
     "text": [
      "INFO:tensorflow:Saver not created because there are no variables in the graph to restore\n"
     ]
    },
    {
     "name": "stderr",
     "output_type": "stream",
     "text": [
      "I0422 04:48:22.104479 140294139361024 saver.py:1483] Saver not created because there are no variables in the graph to restore\n"
     ]
    },
    {
     "name": "stdout",
     "output_type": "stream",
     "text": [
      "INFO:tensorflow:Done calling model_fn.\n"
     ]
    },
    {
     "name": "stderr",
     "output_type": "stream",
     "text": [
      "I0422 04:48:22.283587 140294139361024 estimator.py:1113] Done calling model_fn.\n"
     ]
    },
    {
     "name": "stdout",
     "output_type": "stream",
     "text": [
      "INFO:tensorflow:Graph was finalized.\n"
     ]
    },
    {
     "name": "stderr",
     "output_type": "stream",
     "text": [
      "I0422 04:48:22.696872 140294139361024 monitored_session.py:222] Graph was finalized.\n"
     ]
    },
    {
     "name": "stdout",
     "output_type": "stream",
     "text": [
      "INFO:tensorflow:Running local_init_op.\n"
     ]
    },
    {
     "name": "stderr",
     "output_type": "stream",
     "text": [
      "I0422 04:48:24.337255 140294139361024 session_manager.py:491] Running local_init_op.\n"
     ]
    },
    {
     "name": "stdout",
     "output_type": "stream",
     "text": [
      "INFO:tensorflow:Done running local_init_op.\n"
     ]
    },
    {
     "name": "stderr",
     "output_type": "stream",
     "text": [
      "I0422 04:48:24.578572 140294139361024 session_manager.py:493] Done running local_init_op.\n"
     ]
    },
    {
     "name": "stdout",
     "output_type": "stream",
     "text": [
      "SENTENCE EVENT CHAIN ['The other day, Ettinger unabashedly took\\na phone call in front of a visitor.', 'The caller had something to\\nsell.', 'Then he began to squint, seemingly pondering.'] \n",
      "\n",
      "TRIPLE EVENT CHAIN [(None, 'took', 'phone call'), (None, 'had', 'something'), (None, 'began', 'to squint')] \n",
      "\n",
      "CANDIDATES [(None, 'broadcast', '(the two previous record-holders'), ('the pennant', 'slammed', None), (None, \"n't imagine\", 'Maris'), (None, 'expressed', 'interest'), (None, 'turned', '68 _')] \n",
      "\n",
      "ENTITY Ettinger \n",
      "\n",
      "CORRECT 4 \n",
      "\n",
      "PREDICTION 3 with Probability 0.5530698 \n",
      " \n",
      "\n",
      "INFO:tensorflow:Could not find trained model in model_dir: output_triple, running initialization to predict.\n"
     ]
    },
    {
     "name": "stderr",
     "output_type": "stream",
     "text": [
      "I0422 04:48:27.250167 140294139361024 estimator.py:604] Could not find trained model in model_dir: output_triple, running initialization to predict.\n"
     ]
    },
    {
     "name": "stdout",
     "output_type": "stream",
     "text": [
      "INFO:tensorflow:Calling model_fn.\n"
     ]
    },
    {
     "name": "stderr",
     "output_type": "stream",
     "text": [
      "I0422 04:48:27.283789 140294139361024 estimator.py:1111] Calling model_fn.\n"
     ]
    },
    {
     "name": "stdout",
     "output_type": "stream",
     "text": [
      "INFO:tensorflow:Saver not created because there are no variables in the graph to restore\n"
     ]
    },
    {
     "name": "stderr",
     "output_type": "stream",
     "text": [
      "I0422 04:48:30.106323 140294139361024 saver.py:1483] Saver not created because there are no variables in the graph to restore\n"
     ]
    },
    {
     "name": "stdout",
     "output_type": "stream",
     "text": [
      "INFO:tensorflow:Saver not created because there are no variables in the graph to restore\n"
     ]
    },
    {
     "name": "stderr",
     "output_type": "stream",
     "text": [
      "I0422 04:48:30.671942 140294139361024 saver.py:1483] Saver not created because there are no variables in the graph to restore\n"
     ]
    },
    {
     "name": "stdout",
     "output_type": "stream",
     "text": [
      "INFO:tensorflow:Saver not created because there are no variables in the graph to restore\n"
     ]
    },
    {
     "name": "stderr",
     "output_type": "stream",
     "text": [
      "I0422 04:48:31.755774 140294139361024 saver.py:1483] Saver not created because there are no variables in the graph to restore\n"
     ]
    },
    {
     "name": "stdout",
     "output_type": "stream",
     "text": [
      "INFO:tensorflow:Saver not created because there are no variables in the graph to restore\n"
     ]
    },
    {
     "name": "stderr",
     "output_type": "stream",
     "text": [
      "I0422 04:48:32.393487 140294139361024 saver.py:1483] Saver not created because there are no variables in the graph to restore\n"
     ]
    },
    {
     "name": "stdout",
     "output_type": "stream",
     "text": [
      "INFO:tensorflow:Saver not created because there are no variables in the graph to restore\n"
     ]
    },
    {
     "name": "stderr",
     "output_type": "stream",
     "text": [
      "I0422 04:48:33.555034 140294139361024 saver.py:1483] Saver not created because there are no variables in the graph to restore\n"
     ]
    },
    {
     "name": "stdout",
     "output_type": "stream",
     "text": [
      "INFO:tensorflow:Done calling model_fn.\n"
     ]
    },
    {
     "name": "stderr",
     "output_type": "stream",
     "text": [
      "I0422 04:48:33.743196 140294139361024 estimator.py:1113] Done calling model_fn.\n"
     ]
    },
    {
     "name": "stdout",
     "output_type": "stream",
     "text": [
      "INFO:tensorflow:Graph was finalized.\n"
     ]
    },
    {
     "name": "stderr",
     "output_type": "stream",
     "text": [
      "I0422 04:48:34.163313 140294139361024 monitored_session.py:222] Graph was finalized.\n"
     ]
    },
    {
     "name": "stdout",
     "output_type": "stream",
     "text": [
      "INFO:tensorflow:Running local_init_op.\n"
     ]
    },
    {
     "name": "stderr",
     "output_type": "stream",
     "text": [
      "I0422 04:48:35.839029 140294139361024 session_manager.py:491] Running local_init_op.\n"
     ]
    },
    {
     "name": "stdout",
     "output_type": "stream",
     "text": [
      "INFO:tensorflow:Done running local_init_op.\n"
     ]
    },
    {
     "name": "stderr",
     "output_type": "stream",
     "text": [
      "I0422 04:48:36.095717 140294139361024 session_manager.py:493] Done running local_init_op.\n"
     ]
    },
    {
     "name": "stdout",
     "output_type": "stream",
     "text": [
      "SENTENCE EVENT CHAIN [\"\\nTreading cautiously as he begins his second term,\\nGov. George Pataki on Wednesday delivered a State of the State\\nmessage notably light on new initiatives, while proposing that the\\nstate's budget surplus be set aside to pay for the ballooning tax\\ncuts already enacted.\\n\\n\\n\", 'While legislators might balk at\\ncreating a reserve fund, they also realize Pataki can achieve the\\nsame end by vetoing spending they approve, as he did last year.\\n\\n\\n', \"But he paid little attention to an issue that he had pledged in\\nOctober to make one of his priorities, reforming the state's\\ncampaign finance laws.\", 'He devoted only half a sentence in his\\nhourlong speech to the topic.\\n\\n\\n', 'After two years in which conservative groups have accused him of\\nrunaway spending, the Republican governor pledged a return to the\\nbudget stringency he brought to Albany four years ago, proposing an\\namendment to the state constitution to require a two-thirds vote of\\nboth houses of the Legislature to increase taxes.'] \n",
      "\n",
      "TRIPLE EVENT CHAIN [(None, 'delivered', 'light'), (None, 'can achieve', 'end'), (None, 'paid', 'attention'), (None, 'devoted', 'sentence'), ('groups', 'have accused', None)] \n",
      "\n",
      "CANDIDATES [(None, 'has been', \"this year's legislative battlegrounds\"), ('an\\namendment', 'live', None), ('the\\nstate', 'was first elected', None), (None, 'proposed', 'requiring'), ('lower taxes', 'save', None)] \n",
      "\n",
      "ENTITY Gov. George Pataki \n",
      "\n",
      "CORRECT 4 \n",
      "\n",
      "PREDICTION 1 with Probability 0.43577042 \n",
      " \n",
      "\n",
      "INFO:tensorflow:Could not find trained model in model_dir: output_triple, running initialization to predict.\n"
     ]
    },
    {
     "name": "stderr",
     "output_type": "stream",
     "text": [
      "I0422 04:48:38.783401 140294139361024 estimator.py:604] Could not find trained model in model_dir: output_triple, running initialization to predict.\n"
     ]
    },
    {
     "name": "stdout",
     "output_type": "stream",
     "text": [
      "INFO:tensorflow:Calling model_fn.\n"
     ]
    },
    {
     "name": "stderr",
     "output_type": "stream",
     "text": [
      "I0422 04:48:38.802138 140294139361024 estimator.py:1111] Calling model_fn.\n"
     ]
    },
    {
     "name": "stdout",
     "output_type": "stream",
     "text": [
      "INFO:tensorflow:Saver not created because there are no variables in the graph to restore\n"
     ]
    },
    {
     "name": "stderr",
     "output_type": "stream",
     "text": [
      "I0422 04:48:41.658409 140294139361024 saver.py:1483] Saver not created because there are no variables in the graph to restore\n"
     ]
    },
    {
     "name": "stdout",
     "output_type": "stream",
     "text": [
      "INFO:tensorflow:Saver not created because there are no variables in the graph to restore\n"
     ]
    },
    {
     "name": "stderr",
     "output_type": "stream",
     "text": [
      "I0422 04:48:42.702032 140294139361024 saver.py:1483] Saver not created because there are no variables in the graph to restore\n"
     ]
    },
    {
     "name": "stdout",
     "output_type": "stream",
     "text": [
      "INFO:tensorflow:Saver not created because there are no variables in the graph to restore\n"
     ]
    },
    {
     "name": "stderr",
     "output_type": "stream",
     "text": [
      "I0422 04:48:43.314849 140294139361024 saver.py:1483] Saver not created because there are no variables in the graph to restore\n"
     ]
    },
    {
     "name": "stdout",
     "output_type": "stream",
     "text": [
      "INFO:tensorflow:Saver not created because there are no variables in the graph to restore\n"
     ]
    },
    {
     "name": "stderr",
     "output_type": "stream",
     "text": [
      "I0422 04:48:44.445765 140294139361024 saver.py:1483] Saver not created because there are no variables in the graph to restore\n"
     ]
    },
    {
     "name": "stdout",
     "output_type": "stream",
     "text": [
      "INFO:tensorflow:Saver not created because there are no variables in the graph to restore\n"
     ]
    },
    {
     "name": "stderr",
     "output_type": "stream",
     "text": [
      "I0422 04:48:45.104279 140294139361024 saver.py:1483] Saver not created because there are no variables in the graph to restore\n"
     ]
    },
    {
     "name": "stdout",
     "output_type": "stream",
     "text": [
      "INFO:tensorflow:Done calling model_fn.\n"
     ]
    },
    {
     "name": "stderr",
     "output_type": "stream",
     "text": [
      "I0422 04:48:45.283224 140294139361024 estimator.py:1113] Done calling model_fn.\n"
     ]
    },
    {
     "name": "stdout",
     "output_type": "stream",
     "text": [
      "INFO:tensorflow:Graph was finalized.\n"
     ]
    },
    {
     "name": "stderr",
     "output_type": "stream",
     "text": [
      "I0422 04:48:45.702521 140294139361024 monitored_session.py:222] Graph was finalized.\n"
     ]
    },
    {
     "name": "stdout",
     "output_type": "stream",
     "text": [
      "INFO:tensorflow:Running local_init_op.\n"
     ]
    },
    {
     "name": "stderr",
     "output_type": "stream",
     "text": [
      "I0422 04:48:47.325310 140294139361024 session_manager.py:491] Running local_init_op.\n"
     ]
    },
    {
     "name": "stdout",
     "output_type": "stream",
     "text": [
      "INFO:tensorflow:Done running local_init_op.\n"
     ]
    },
    {
     "name": "stderr",
     "output_type": "stream",
     "text": [
      "I0422 04:48:47.567303 140294139361024 session_manager.py:493] Done running local_init_op.\n"
     ]
    },
    {
     "name": "stdout",
     "output_type": "stream",
     "text": [
      "SENTENCE EVENT CHAIN ['Serge Savard played defense for the Montreal Canadiens, filled\\nhis fingers with Stanley Cup rings and then took his place in the\\nHall of Fame.\\n\\n\\n', 'Denis Savard was a flashy center for the Chicago Blackhawks and\\nthe Canadiens, who retired in 1997 and now works as an assistant\\ncoach of the Hawks.', \"Last season, Savard's first as a professional, he played 58\\nminor league games and 28 in the National Hockey League.\", 'This\\nseason, after spending the first month in Hartford, he has played\\n35 games with the Rangers.\\n\\n\\n', 'In recent games, Savard has lost\\nice time to the rookie Manny Malhotra.', 'Although the Rangers lost by 3-2 in overtime, they played well and\\nSavard was one of their best players.\\n\\n\\n', 'In 10 minutes 49 seconds of action, spread over 14 shifts,\\nSavard scored one goal and assisted on the other _ by Mathieu\\nSchneider _ on the power play.', 'Savard put five shots on goal, the\\nmost for the team.\\n\\n\\n', 'Generously listed at 5 feet 11 inches and 187 pounds, the\\n21-year-old Savard is not a large or an experienced player, but he\\nplays with a certain canniness, or savvy, which just happens to be\\nhis nickname.\\n\\n\\n', \"MacTavish replied, ``It's a very real danger,'' but quickly added\\nthat Savard is often fouled because of his size and the way he\\nprotects the puck.\\n\\n\\n\"] \n",
      "\n",
      "TRIPLE EVENT CHAIN [(None, 'played', 'defense'), (None, 'was', 'center'), (None, 'played', 'league games'), (None, 'has played', 'games'), (None, 'has lost', 'ice time'), (None, 'was', 'one'), (None, 'scored', 'goal'), (None, 'put', 'shots'), (None, 'is not', 'player'), (None, 'protects', 'puck')] \n",
      "\n",
      "CANDIDATES [(None, 'has painted', 'the same intensity'), ('Hartford', 'quickly added', None), (None, 'is often fouled', '14 shifts'), ('the Hawks', 'filled', None), ('players', 'run', None)] \n",
      "\n",
      "ENTITY Serge Savard \n",
      "\n",
      "CORRECT 5 \n",
      "\n",
      "PREDICTION 1 with Probability 0.4265726 \n",
      " \n",
      "\n",
      "INFO:tensorflow:Could not find trained model in model_dir: output_triple, running initialization to predict.\n"
     ]
    },
    {
     "name": "stderr",
     "output_type": "stream",
     "text": [
      "I0422 04:48:50.242989 140294139361024 estimator.py:604] Could not find trained model in model_dir: output_triple, running initialization to predict.\n"
     ]
    },
    {
     "name": "stdout",
     "output_type": "stream",
     "text": [
      "INFO:tensorflow:Calling model_fn.\n"
     ]
    },
    {
     "name": "stderr",
     "output_type": "stream",
     "text": [
      "I0422 04:48:50.262012 140294139361024 estimator.py:1111] Calling model_fn.\n"
     ]
    },
    {
     "name": "stdout",
     "output_type": "stream",
     "text": [
      "INFO:tensorflow:Saver not created because there are no variables in the graph to restore\n"
     ]
    },
    {
     "name": "stderr",
     "output_type": "stream",
     "text": [
      "I0422 04:48:53.473368 140294139361024 saver.py:1483] Saver not created because there are no variables in the graph to restore\n"
     ]
    },
    {
     "name": "stdout",
     "output_type": "stream",
     "text": [
      "INFO:tensorflow:Saver not created because there are no variables in the graph to restore\n"
     ]
    },
    {
     "name": "stderr",
     "output_type": "stream",
     "text": [
      "I0422 04:48:54.498103 140294139361024 saver.py:1483] Saver not created because there are no variables in the graph to restore\n"
     ]
    },
    {
     "name": "stdout",
     "output_type": "stream",
     "text": [
      "INFO:tensorflow:Saver not created because there are no variables in the graph to restore\n"
     ]
    },
    {
     "name": "stderr",
     "output_type": "stream",
     "text": [
      "I0422 04:48:55.081611 140294139361024 saver.py:1483] Saver not created because there are no variables in the graph to restore\n"
     ]
    },
    {
     "name": "stdout",
     "output_type": "stream",
     "text": [
      "INFO:tensorflow:Saver not created because there are no variables in the graph to restore\n"
     ]
    },
    {
     "name": "stderr",
     "output_type": "stream",
     "text": [
      "I0422 04:48:56.176259 140294139361024 saver.py:1483] Saver not created because there are no variables in the graph to restore\n"
     ]
    },
    {
     "name": "stdout",
     "output_type": "stream",
     "text": [
      "INFO:tensorflow:Saver not created because there are no variables in the graph to restore\n"
     ]
    },
    {
     "name": "stderr",
     "output_type": "stream",
     "text": [
      "I0422 04:48:56.803184 140294139361024 saver.py:1483] Saver not created because there are no variables in the graph to restore\n"
     ]
    },
    {
     "name": "stdout",
     "output_type": "stream",
     "text": [
      "INFO:tensorflow:Done calling model_fn.\n"
     ]
    },
    {
     "name": "stderr",
     "output_type": "stream",
     "text": [
      "I0422 04:48:56.963766 140294139361024 estimator.py:1113] Done calling model_fn.\n"
     ]
    },
    {
     "name": "stdout",
     "output_type": "stream",
     "text": [
      "INFO:tensorflow:Graph was finalized.\n"
     ]
    },
    {
     "name": "stderr",
     "output_type": "stream",
     "text": [
      "I0422 04:48:57.373219 140294139361024 monitored_session.py:222] Graph was finalized.\n"
     ]
    },
    {
     "name": "stdout",
     "output_type": "stream",
     "text": [
      "INFO:tensorflow:Running local_init_op.\n"
     ]
    },
    {
     "name": "stderr",
     "output_type": "stream",
     "text": [
      "I0422 04:48:58.972707 140294139361024 session_manager.py:491] Running local_init_op.\n"
     ]
    },
    {
     "name": "stdout",
     "output_type": "stream",
     "text": [
      "INFO:tensorflow:Done running local_init_op.\n"
     ]
    },
    {
     "name": "stderr",
     "output_type": "stream",
     "text": [
      "I0422 04:48:59.213999 140294139361024 session_manager.py:493] Done running local_init_op.\n"
     ]
    },
    {
     "name": "stdout",
     "output_type": "stream",
     "text": [
      "SENTENCE EVENT CHAIN ['Andreessen, 27, will join AOL as chief technology officer when\\nthe $4.2 billion merger of the online titans closes next month,\\nsources said.\\n\\n\\n', \"In addition to helping AOL and Netscape integrate their\\ntechnologies as the combined company faces Microsoft, Yahoo, Excite\\nand others in the fledgling Internet market, Andreessen's\\nappointment is rife with symbolism.\\n\\n\\n\", \"AOL officials hope the hiring averts a potential brain-drain at\\nNetscape, where engineers historically dismissed AOL as the\\n``McDonald's of cyberspace'' _ a high-tech lightweight that catered\\nto the lowest common denominator.\\n\\n\\n\", \"``It sends a reassuring signal to Netscape's engineers that AOL\\nis serious about technology, and it maintains Andreessen's valuable\\ncachet as an articulate spokesman for the company to the outside\\nworld,'' said Jim Balderston of Zona Research in Redwood City.\\n\\n\\n\", \"Still up in the air is whether anyone else from Netscape's\\nexecutive offices will join AOL.\\n\\n\\n\"] \n",
      "\n",
      "TRIPLE EVENT CHAIN [('Andreessen', 'will join', None), (None, 'integrate', 'technologies'), ('engineers', 'dismissed', None), (None, 'maintains', 'cachet'), ('anyone', 'will join', None)] \n",
      "\n",
      "CANDIDATES [(None, 'boasts', 'subscribers'), (None, 'badly damaged', 'a co-founder'), (None, 'according', 'eyeballs'), ('_', 'spearhead', None), (None, 'is considered', 'the $4.2 billion merger')] \n",
      "\n",
      "ENTITY AOL \n",
      "\n",
      "CORRECT 1 \n",
      "\n",
      "PREDICTION 5 with Probability 0.4021821 \n",
      " \n",
      "\n"
     ]
    }
   ],
   "source": [
    "dataset = list(read.read_data_iterator('gw_extractions.pickle'))\n",
    "# train_data = dataset[:int(0.8 * len(features))]\n",
    "val_data = dataset[int(0.8 * len(features)):int(0.9*len(features))]\n",
    "\n",
    "for i, ec_dict in zip(range(10), val_data):\n",
    "    check_dataset = [ec_dict]\n",
    "    \n",
    "    predict_set = list(prepare_data.tokenize_if_small_enough(check_dataset, sentences=False))\n",
    "    predict_input_fn = input_builder.input_fn_builder(\n",
    "        features=predict_set,\n",
    "        seq_length=MAX_SEQ_LENGTH,\n",
    "        is_training=False,\n",
    "        drop_remainder=False,\n",
    "        candidates=5)\n",
    "\n",
    "    predictions = estimator.predict(input_fn=predict_input_fn,yield_single_examples=False)\n",
    "    for (i, prediction) in enumerate(predictions):\n",
    "        arr = prediction['probabilities'][0]\n",
    "        prob = [np.exp(arr[0]),np.exp(arr[1]),np.exp(arr[2]),np.exp(arr[3]),np.exp(arr[4])]\n",
    "        total = np.sum(prob)\n",
    "        max= np.max(prob)\n",
    "        print(\"SENTENCE EVENT CHAIN\", ec_dict['sentences'],\"\\n\")\n",
    "        print(\"TRIPLE EVENT CHAIN\", ec_dict['triples'],\"\\n\")\n",
    "        print(\"CANDIDATES\", ec_dict['candidates'],\"\\n\")\n",
    "        print(\"ENTITY\", ec_dict['entity'],\"\\n\")\n",
    "        print(\"CORRECT\", ec_dict['correct'] + 1,\"\\n\")\n",
    "        print(\"PREDICTION\", prediction['labels'] + 1, \"with Probability\", np.max(prob),\"\\n\",\"\\n\")\n",
    "\n"
   ]
  },
  {
   "cell_type": "code",
   "execution_count": 12,
   "metadata": {
    "scrolled": true
   },
   "outputs": [
    {
     "name": "stdout",
     "output_type": "stream",
     "text": [
      "INFO:tensorflow:Could not find trained model in model_dir: output_triple, running initialization to predict.\n"
     ]
    },
    {
     "name": "stderr",
     "output_type": "stream",
     "text": [
      "I0422 04:49:49.403486 140294139361024 estimator.py:604] Could not find trained model in model_dir: output_triple, running initialization to predict.\n"
     ]
    },
    {
     "name": "stdout",
     "output_type": "stream",
     "text": [
      "INFO:tensorflow:Calling model_fn.\n"
     ]
    },
    {
     "name": "stderr",
     "output_type": "stream",
     "text": [
      "I0422 04:50:10.102341 140294139361024 estimator.py:1111] Calling model_fn.\n"
     ]
    },
    {
     "name": "stdout",
     "output_type": "stream",
     "text": [
      "INFO:tensorflow:Saver not created because there are no variables in the graph to restore\n"
     ]
    },
    {
     "name": "stderr",
     "output_type": "stream",
     "text": [
      "I0422 04:50:13.161079 140294139361024 saver.py:1483] Saver not created because there are no variables in the graph to restore\n"
     ]
    },
    {
     "name": "stdout",
     "output_type": "stream",
     "text": [
      "INFO:tensorflow:Saver not created because there are no variables in the graph to restore\n"
     ]
    },
    {
     "name": "stderr",
     "output_type": "stream",
     "text": [
      "I0422 04:50:14.311925 140294139361024 saver.py:1483] Saver not created because there are no variables in the graph to restore\n"
     ]
    },
    {
     "name": "stdout",
     "output_type": "stream",
     "text": [
      "INFO:tensorflow:Saver not created because there are no variables in the graph to restore\n"
     ]
    },
    {
     "name": "stderr",
     "output_type": "stream",
     "text": [
      "I0422 04:50:14.868558 140294139361024 saver.py:1483] Saver not created because there are no variables in the graph to restore\n"
     ]
    },
    {
     "name": "stdout",
     "output_type": "stream",
     "text": [
      "INFO:tensorflow:Saver not created because there are no variables in the graph to restore\n"
     ]
    },
    {
     "name": "stderr",
     "output_type": "stream",
     "text": [
      "I0422 04:50:16.126628 140294139361024 saver.py:1483] Saver not created because there are no variables in the graph to restore\n"
     ]
    },
    {
     "name": "stdout",
     "output_type": "stream",
     "text": [
      "INFO:tensorflow:Saver not created because there are no variables in the graph to restore\n"
     ]
    },
    {
     "name": "stderr",
     "output_type": "stream",
     "text": [
      "I0422 04:50:16.729908 140294139361024 saver.py:1483] Saver not created because there are no variables in the graph to restore\n"
     ]
    },
    {
     "name": "stdout",
     "output_type": "stream",
     "text": [
      "INFO:tensorflow:Done calling model_fn.\n"
     ]
    },
    {
     "name": "stderr",
     "output_type": "stream",
     "text": [
      "I0422 04:50:16.880013 140294139361024 estimator.py:1113] Done calling model_fn.\n"
     ]
    },
    {
     "name": "stdout",
     "output_type": "stream",
     "text": [
      "INFO:tensorflow:Graph was finalized.\n"
     ]
    },
    {
     "name": "stderr",
     "output_type": "stream",
     "text": [
      "I0422 04:50:17.312193 140294139361024 monitored_session.py:222] Graph was finalized.\n"
     ]
    },
    {
     "name": "stdout",
     "output_type": "stream",
     "text": [
      "INFO:tensorflow:Running local_init_op.\n"
     ]
    },
    {
     "name": "stderr",
     "output_type": "stream",
     "text": [
      "I0422 04:50:18.917027 140294139361024 session_manager.py:491] Running local_init_op.\n"
     ]
    },
    {
     "name": "stdout",
     "output_type": "stream",
     "text": [
      "INFO:tensorflow:Done running local_init_op.\n"
     ]
    },
    {
     "name": "stderr",
     "output_type": "stream",
     "text": [
      "I0422 04:50:19.148870 140294139361024 session_manager.py:493] Done running local_init_op.\n"
     ]
    }
   ],
   "source": [
    "dataset = list(read.read_data_iterator('gw_extractions.pickle'))\n",
    "train_data = dataset[:int(0.8 * len(features))]\n",
    "val_data = dataset[int(0.8 * len(features)):]\n",
    "\n",
    "check_dataset = []\n",
    "\n",
    "for i, ec_dict in zip(range(len(val_data)), val_data):\n",
    "    check_dataset.append(ec_dict)\n",
    "    \n",
    "    \n",
    "predict_set = list(prepare_data.tokenize_if_small_enough(check_dataset,sentences=True,no_context=False))\n",
    "predict_input_fn = input_builder.input_fn_builder(\n",
    "    features=predict_set,\n",
    "    seq_length=MAX_SEQ_LENGTH,\n",
    "    is_training=False,\n",
    "    drop_remainder=False,\n",
    "    candidates=5)\n",
    "\n",
    "predictions = estimator.predict(input_fn=predict_input_fn,yield_single_examples=False)\n",
    "predictions_list = list(predictions)\n",
    "for (i, prediction) in enumerate(predictions):\n",
    "    arr = prediction['probabilities'][0]\n",
    "    prob = [np.exp(arr[0]),np.exp(arr[1]),np.exp(arr[2]),np.exp(arr[3]),np.exp(arr[4])]\n",
    "    total = np.sum(prob)\n",
    "    max= np.max(prob)\n",
    "    ec_dict = check_dataset[i]\n",
    "    print(\"SENTENCE EVENT CHAIN\", ec_dict['sentences'],\"\\n\")\n",
    "    print(\"TRIPLE EVENT CHAIN\", ec_dict['triples'],\"\\n\")\n",
    "    print(\"CANDIDATES\", ec_dict['candidates'],\"\\n\")\n",
    "    print(\"ENTITY\", ec_dict['entity'],\"\\n\")\n",
    "    print(prob)\n",
    "    print(\"CORRECT\", ec_dict['correct'] + 1,\"\\n\")\n",
    "    print(\"PREDICTION\", prediction['labels']+1, \"with Probability\", np.max(prob),\"\\n\",\"\\n\")\n",
    "\n"
   ]
  },
  {
   "cell_type": "code",
   "execution_count": null,
   "metadata": {},
   "outputs": [],
   "source": [
    "bad = []\n",
    "for i, c in enumerate(check_dataset):\n",
    "    r = list(prepare_data.tokenize_if_small_enough([c],sentences=True,no_context=False))\n",
    "    if not r:\n",
    "        print(i)\n",
    "        bad.append(i)\n",
    "good_gt = [c for i, c in enumerate(check_dataset) if i not in bad]"
   ]
  },
  {
   "cell_type": "code",
   "execution_count": null,
   "metadata": {},
   "outputs": [],
   "source": [
    "pred_df = pd.DataFrame.from_dict({'predictions':predictions_list, 'dataset':good_gt})"
   ]
  },
  {
   "cell_type": "code",
   "execution_count": null,
   "metadata": {},
   "outputs": [],
   "source": [
    "pred_df['pred_label'] = pred_df.predictions.apply(lambda x: x['labels'] - 1)\n",
    "pred_df['gt_label'] = pred_df.dataset.apply(lambda x: x['correct'])\n",
    "pred_df['correct_pred'] = pred_df.apply(lambda s: s.pred_label == s.gt_label, axis=1)\n",
    "print(pred_df.correct_pred.sum()/len(pred_df.index))"
   ]
  },
  {
   "cell_type": "code",
   "execution_count": 51,
   "metadata": {},
   "outputs": [
    {
     "name": "stdout",
     "output_type": "stream",
     "text": [
      "SENTENCE EVENT CHAIN [\"``We begin this session with a national spotlight on us,'' he told\\nlawmakers.\", 'Bush also took a a cue from Washington, where presidents often\\nintroduce special guests during their State of the Union speeches.\\n', 'Bush introduced ninth-grader Adam Gonzales of Lubbock as a student\\nwho overcame years of social promotion that put him on an\\neducational course to nowhere.\\n\\n\\n'] \n",
      "\n",
      "TRIPLE EVENT CHAIN [(None, 'told', 'lawmakers'), (None, 'took', 'cue'), (None, 'introduced', 'Gonzales')] \n",
      "\n",
      "CANDIDATES [(None, 'introduced', 'Burgin'), (None, 'can offer', 'campaign-trail promises'), ('all the people', 'expanding', None), (None, 'echoing', 'light'), (None, 'will lay', 'chairman')] \n",
      "\n",
      "ENTITY Bush \n",
      "\n",
      "CORRECT 1 \n",
      "\n",
      "PREDICTION 1 with Probability 0.8401629 \n",
      " \n",
      "\n",
      "SENTENCE EVENT CHAIN ['\\nAs a Vatican diplomat for almost 30 years, Justin\\nRigali saw the fervor.', \"When Rigali became archbishop of St. Louis in 1994, he wanted\\nhis new flock to experience his friend's inspiration firsthand.\\n\\n\\n\", 'Every time Rigali asked the pope to visit St. Louis, his friend\\nwould just smile.', \"Meanwhile, Rigali followed the pope's example.\", 'He tried to be a\\nteacher.', 'He tried to cling to his principles _ too stubbornly, some\\ncritics say.\\n\\n\\n', 'And he finally achieved another goal.', 'When the pope arrives in St. Louis on Tuesday, Rigali will be at\\nhis side again.', \"Up to 1 million people could turn out for the\\nvisit, and Rigali can't wait to introduce his friend to his\\nspiritual family.\\n\\n\\n\", '``Archbishop Rigali is a good person to head up that task.', \"He's\\na very talented, experienced person,'' said Hanus, who will\\ncelebrate the Mass at the Trans World Dome.\", 'After returning to the Vatican, Rigali held several jobs,\\nincluding translating documents, teaching diplomats and directing\\nthe diplomatic school.', \"He later became secretary of the\\nCongregation of Bishops and of the College of Cardinals, the\\nVatican's decisionmaking body.\\n\\n\\n\", \"He also helped plan several of the pope's overseas trips.\\n\\n\\n\", 'Concerned that poor residents would not have access to health\\ncare, Rigali opposed the sale of St. Louis University Hospital to a\\nfor-profit corporation.', \"That placed Rigali at odds with the Jesuit\\ninstitution's president.\\n\\n\\n\", \"Also, Rigali resisted efforts by teachers in the archdiocese's\\nschools to form a union.\", 'Still, Rigali tries to maintain his privacy.\\n\\n\\n', 'In an interview\\nbefore becoming archbishop, he advised a St. Louis reporter not to\\nask personal questions.\\n\\n\\n', \"``I don't want to talk about what kinds of books I read, and\\nthings like that,'' he told the reporter.\\n\\n\\n\", 'Rigali praised the pope for being oblivious to his critics.', \"They've seen\\nhim with old people, with children, with the sick,''\", \"Rigali respects the pope's unwavering beliefs, including his\\nopposition to abortion and birth control.\", \"In his own secular debates, Rigali has tried to follow the\\npope's example.\"] \n",
      "\n",
      "TRIPLE EVENT CHAIN [(None, 'saw', 'fervor'), (None, 'became', 'archbishop'), (None, 'asked', 'pope'), (None, 'followed', 'example'), (None, 'tried', 'to be'), (None, 'tried', 'to cling'), (None, 'achieved', 'goal'), (None, 'will be', 'side'), (None, \"can't wait\", 'to introduce'), (None, 'is', 'person'), (None, \"'s\", 'person'), (None, 'held', 'jobs'), (None, 'became', 'secretary'), (None, 'helped', 'plan'), (None, 'opposed', 'sale'), ('That', 'placed', None), (None, 'resisted', 'efforts'), (None, 'tries', 'to maintain'), (None, 'advised', 'Louis reporter'), (None, 'told', 'reporter'), (None, 'praised', 'pope'), ('They', \"'ve seen\", None), (None, 'respects', 'beliefs'), (None, 'has tried', 'to follow')] \n",
      "\n",
      "CANDIDATES [('birth control', 'introduce', None), (None, 'has created', 'the fervor'), ('Up to 1 million people', 'held', None), (None, 'praises', 'pope'), (None, 'approved', 'archbishop')] \n",
      "\n",
      "ENTITY Justin\n",
      "Rigali \n",
      "\n",
      "CORRECT 4 \n",
      "\n",
      "PREDICTION 1 with Probability 0.8401629 \n",
      " \n",
      "\n",
      "SENTENCE EVENT CHAIN [\"``He'd\\nkeep it to himself.\", 'I just told him to do the best that he could\\ndo.', \"Jackson said he wanted to give one of his kidneys to his mother,\\nbut his blood type didn't match.\", 'Jackson did other things to help his mother', 'He is an honor student who is on\\nschedule to graduate this year with a degree in child psychology.\\n', 'Last year, he made the All-Atlantic Coast Conference academic team.\\n\\n\\n', \"This season, he is the Seminoles' second-leading tackler with\\n69, including 44 solo stops.\", 'He has four interceptions.\\n\\n\\n', \"She always told me to keep the faith and don't\\nquestion God's call.''\\n\\n\\n\"] \n",
      "\n",
      "TRIPLE EVENT CHAIN [(None, '\\nkeep', 'it'), ('I', 'told', None), (None, 'wanted', 'to give'), (None, 'did', 'things'), (None, 'is', 'honor student'), (None, 'made', 'team'), (None, 'is', 'tackler'), (None, 'has', 'interceptions'), (None, 'told', 'me')] \n",
      "\n",
      "CANDIDATES [('`It', 'moved', None), (None, 'tells', 'Green'), (\"God's call\", 'is gone', None), (None, 'So can senior', 'a lot'), (None, 'say', 'Quincy')] \n",
      "\n",
      "ENTITY whose father \n",
      "\n",
      "CORRECT 2 \n",
      "\n",
      "PREDICTION 1 with Probability 0.8401629 \n",
      " \n",
      "\n",
      "SENTENCE EVENT CHAIN ['For the most part, critics\\nembraced the work, but the authors did not know if the book-buying\\npublic would; now, three months after its release in late\\nSeptember, the two have traveled to more than 30 cities to push\\ntheir book at lectures, talks, and book signings.', 'The authors\\ncreated a Web site.', \"They've done more than 40 print interviews.\"] \n",
      "\n",
      "TRIPLE EVENT CHAIN [(None, 'did not know', 'would'), (None, 'created', 'Web site'), (None, \"'ve done\", 'print interviews')] \n",
      "\n",
      "CANDIDATES [(None, 'promoting', '``Marie Curie'), ('no way', 'set', None), ('the fall season', 'there is', None), (None, 'hired', 'radio'), ('James Carroll', 'makes', None)] \n",
      "\n",
      "ENTITY the authors \n",
      "\n",
      "CORRECT 4 \n",
      "\n",
      "PREDICTION 1 with Probability 0.8401629 \n",
      " \n",
      "\n",
      "SENTENCE EVENT CHAIN ['Rigby, the spokesman for the Defense Threat Reduction Agency,\\nsaid he did not know why the agency had decided not to demand that\\nRitter comply with the requirement.\\n\\n\\n', \"But he said that the agency was ``concerned by the tone'' of the\\nletter and that ``it may not reflect our current position on the\\nissue of security reviews.'\", \"The agency would still welcome an\\nadvance copy of Ritter's book ``to assist him in insuring that no\\nclassified information is disclosed,'' he said.\"] \n",
      "\n",
      "TRIPLE EVENT CHAIN [(None, 'had decided', 'not to demand'), (None, 'may not reflect', 'position'), (None, 'welcome', 'copy')] \n",
      "\n",
      "CANDIDATES [(None, 'had decided', 'efforts'), (None, 'decided', 'to reverse'), (None, 'would publish', 'no intention'), ('Lifflander', 'be submitted', None), ('the Department', 'working', None)] \n",
      "\n",
      "ENTITY the Defense Threat Reduction Agency \n",
      "\n",
      "CORRECT 2 \n",
      "\n",
      "PREDICTION 1 with Probability 0.8401629 \n",
      " \n",
      "\n",
      "SENTENCE EVENT CHAIN ['Darlene,\\nJerry, Pete, Michael and Bonnie have filed tens of thousands of\\npapers in court.\\n\\n\\n', 'They spend their days preparing filings and meeting court\\ndeadlines.', \"They destroyed our businesses, they destroyed our livelihoods and\\ntook our homes in one sweep.''\\n\\n\\n\"] \n",
      "\n",
      "TRIPLE EVENT CHAIN [(None, 'have filed', 'thousands'), (None, 'spend', 'days'), (None, 'destroyed', 'businesses')] \n",
      "\n",
      "CANDIDATES [('a hard-working family', 'collected', None), ('the\\nrush', 'now need', None), ('the\\njury', 'been properly instructed', None), ('we', \"'s\", None), (None, 'refused', 'to leave')] \n",
      "\n",
      "ENTITY Darlene \n",
      "\n",
      "CORRECT 5 \n",
      "\n",
      "PREDICTION 1 with Probability 0.8401629 \n",
      " \n",
      "\n",
      "SENTENCE EVENT CHAIN ['The other day, Ettinger unabashedly took\\na phone call in front of a visitor.', 'The caller had something to\\nsell.', 'Then he began to squint, seemingly pondering.'] \n",
      "\n",
      "TRIPLE EVENT CHAIN [(None, 'took', 'phone call'), (None, 'had', 'something'), (None, 'began', 'to squint')] \n",
      "\n",
      "CANDIDATES [(None, 'broadcast', '(the two previous record-holders'), ('the pennant', 'slammed', None), (None, \"n't imagine\", 'Maris'), (None, 'expressed', 'interest'), (None, 'turned', '68 _')] \n",
      "\n",
      "ENTITY Ettinger \n",
      "\n",
      "CORRECT 4 \n",
      "\n",
      "PREDICTION 1 with Probability 0.8401629 \n",
      " \n",
      "\n",
      "SENTENCE EVENT CHAIN [\"\\nTreading cautiously as he begins his second term,\\nGov. George Pataki on Wednesday delivered a State of the State\\nmessage notably light on new initiatives, while proposing that the\\nstate's budget surplus be set aside to pay for the ballooning tax\\ncuts already enacted.\\n\\n\\n\", 'While legislators might balk at\\ncreating a reserve fund, they also realize Pataki can achieve the\\nsame end by vetoing spending they approve, as he did last year.\\n\\n\\n', \"But he paid little attention to an issue that he had pledged in\\nOctober to make one of his priorities, reforming the state's\\ncampaign finance laws.\", 'He devoted only half a sentence in his\\nhourlong speech to the topic.\\n\\n\\n', 'After two years in which conservative groups have accused him of\\nrunaway spending, the Republican governor pledged a return to the\\nbudget stringency he brought to Albany four years ago, proposing an\\namendment to the state constitution to require a two-thirds vote of\\nboth houses of the Legislature to increase taxes.'] \n",
      "\n",
      "TRIPLE EVENT CHAIN [(None, 'delivered', 'light'), (None, 'can achieve', 'end'), (None, 'paid', 'attention'), (None, 'devoted', 'sentence'), ('groups', 'have accused', None)] \n",
      "\n",
      "CANDIDATES [(None, 'has been', \"this year's legislative battlegrounds\"), ('an\\namendment', 'live', None), ('the\\nstate', 'was first elected', None), (None, 'proposed', 'requiring'), ('lower taxes', 'save', None)] \n",
      "\n",
      "ENTITY Gov. George Pataki \n",
      "\n",
      "CORRECT 4 \n",
      "\n",
      "PREDICTION 1 with Probability 0.8401629 \n",
      " \n",
      "\n",
      "SENTENCE EVENT CHAIN ['Serge Savard played defense for the Montreal Canadiens, filled\\nhis fingers with Stanley Cup rings and then took his place in the\\nHall of Fame.\\n\\n\\n', 'Denis Savard was a flashy center for the Chicago Blackhawks and\\nthe Canadiens, who retired in 1997 and now works as an assistant\\ncoach of the Hawks.', \"Last season, Savard's first as a professional, he played 58\\nminor league games and 28 in the National Hockey League.\", 'This\\nseason, after spending the first month in Hartford, he has played\\n35 games with the Rangers.\\n\\n\\n', 'In recent games, Savard has lost\\nice time to the rookie Manny Malhotra.', 'Although the Rangers lost by 3-2 in overtime, they played well and\\nSavard was one of their best players.\\n\\n\\n', 'In 10 minutes 49 seconds of action, spread over 14 shifts,\\nSavard scored one goal and assisted on the other _ by Mathieu\\nSchneider _ on the power play.', 'Savard put five shots on goal, the\\nmost for the team.\\n\\n\\n', 'Generously listed at 5 feet 11 inches and 187 pounds, the\\n21-year-old Savard is not a large or an experienced player, but he\\nplays with a certain canniness, or savvy, which just happens to be\\nhis nickname.\\n\\n\\n', \"MacTavish replied, ``It's a very real danger,'' but quickly added\\nthat Savard is often fouled because of his size and the way he\\nprotects the puck.\\n\\n\\n\"] \n",
      "\n",
      "TRIPLE EVENT CHAIN [(None, 'played', 'defense'), (None, 'was', 'center'), (None, 'played', 'league games'), (None, 'has played', 'games'), (None, 'has lost', 'ice time'), (None, 'was', 'one'), (None, 'scored', 'goal'), (None, 'put', 'shots'), (None, 'is not', 'player'), (None, 'protects', 'puck')] \n",
      "\n",
      "CANDIDATES [(None, 'has painted', 'the same intensity'), ('Hartford', 'quickly added', None), (None, 'is often fouled', '14 shifts'), ('the Hawks', 'filled', None), ('players', 'run', None)] \n",
      "\n",
      "ENTITY Serge Savard \n",
      "\n",
      "CORRECT 5 \n",
      "\n",
      "PREDICTION 1 with Probability 0.8401629 \n",
      " \n",
      "\n",
      "SENTENCE EVENT CHAIN ['Andreessen, 27, will join AOL as chief technology officer when\\nthe $4.2 billion merger of the online titans closes next month,\\nsources said.\\n\\n\\n', \"In addition to helping AOL and Netscape integrate their\\ntechnologies as the combined company faces Microsoft, Yahoo, Excite\\nand others in the fledgling Internet market, Andreessen's\\nappointment is rife with symbolism.\\n\\n\\n\", \"AOL officials hope the hiring averts a potential brain-drain at\\nNetscape, where engineers historically dismissed AOL as the\\n``McDonald's of cyberspace'' _ a high-tech lightweight that catered\\nto the lowest common denominator.\\n\\n\\n\", \"``It sends a reassuring signal to Netscape's engineers that AOL\\nis serious about technology, and it maintains Andreessen's valuable\\ncachet as an articulate spokesman for the company to the outside\\nworld,'' said Jim Balderston of Zona Research in Redwood City.\\n\\n\\n\", \"Still up in the air is whether anyone else from Netscape's\\nexecutive offices will join AOL.\\n\\n\\n\"] \n",
      "\n",
      "TRIPLE EVENT CHAIN [('Andreessen', 'will join', None), (None, 'integrate', 'technologies'), ('engineers', 'dismissed', None), (None, 'maintains', 'cachet'), ('anyone', 'will join', None)] \n",
      "\n",
      "CANDIDATES [(None, 'boasts', 'subscribers'), (None, 'badly damaged', 'a co-founder'), (None, 'according', 'eyeballs'), ('_', 'spearhead', None), (None, 'is considered', 'the $4.2 billion merger')] \n",
      "\n",
      "ENTITY AOL \n",
      "\n",
      "CORRECT 1 \n",
      "\n",
      "PREDICTION 1 with Probability 0.8401629 \n",
      " \n",
      "\n",
      "SENTENCE EVENT CHAIN [\"Although Malick hasn't made a movie in two decades, he hasn't\\nlost his touch for eye-catching vistas and the poetics of conflict.\\n\", 'He captures the mix of courage, cowardice and chaos that imbues\\nbattle movies with that there-but-for-the-grace-of-God sense.', \"But\\nhe fails to catch us up in the rush of war or in the plight of the\\nindividuals caught in its fury, as Spielberg did so well in\\n``Saving Private Ryan.''\\n\\n\\n\", 'Undoubtedly, Malick is making some point\\nthat nature is cruel but men are crueler, or perhaps that nature is\\nindifferent to our struggles.'] \n",
      "\n",
      "TRIPLE EVENT CHAIN [(None, \"hasn't made\", 'movie'), (None, 'captures', 'mix'), (None, 'fails', 'to catch'), (None, 'is making', 'point')] \n",
      "\n",
      "CANDIDATES [(None, 'dominate', \"Terrence Malick's World War II drama\"), ('any fight', 'catch', None), (None, 'may be', 'the entrenched enemy'), (None, 'shows', 'us'), ('the island', 'catching', None)] \n",
      "\n",
      "ENTITY Malick \n",
      "\n",
      "CORRECT 4 \n",
      "\n",
      "PREDICTION 1 with Probability 0.8401629 \n",
      " \n",
      "\n",
      "SENTENCE EVENT CHAIN ['When golf pro Greg\\nNorman ordered a BBJ, Boeing put him in ads.', 'Airbus Industrie, based in Tolouse, France, is familiar to those\\nwho know Boeing.', 'Boeing, when it announced the BBJ, told the press it expected to\\nsell 10 planes a year.', 'Boeing delivered eight BBJs in 1998.', 'It plans to deliver 29 this\\nyear and 25 next year.', 'It has 46 firm orders.\\n\\n\\n'] \n",
      "\n",
      "TRIPLE EVENT CHAIN [(None, 'put', 'him'), ('who', 'know', None), (None, 'announced', 'BBJ'), (None, 'delivered', 'BBJs'), (None, 'plans', 'to deliver'), (None, 'has', 'orders')] \n",
      "\n",
      "CANDIDATES [(None, 'projects', 'market'), ('similar-priced offerings', 'would', None), (None, 'expects', 'a\\n35-degree sweep-back'), (None, 'developed', 'The pride'), ('the rivalry', 'issue', None)] \n",
      "\n",
      "ENTITY Boeing \n",
      "\n",
      "CORRECT 1 \n",
      "\n",
      "PREDICTION 1 with Probability 0.8401629 \n",
      " \n",
      "\n",
      "SENTENCE EVENT CHAIN ['At the Fez promoting a soon-to-be-released solo\\nacoustic album, Ms. Wilson traced the origins of that sound in a\\nsolo set that blended Joni Mitchell-style introspection with\\nfervent singing and strumming indebted to Led Zeppelin.\\n\\n\\n', \"Ms. Wilson honored her pop-folk influences with cover versions\\nof songs by Ms. Mitchell, Paul Simon and Elton John; she nodded to\\nprogressive rock (and to her husband, the director Cameron Crowe,\\nwho used the song in his film ``Say Anything'') by performing Peter\\nGabriel's\", \"Just when the incense of\\nthe ages began to overwhelm, Ms. Wilson would throw in a casual\\nphrase, as if to imply that she's just your average modern-day\\npagan, finding magic at the kitchen table.\\n\\n\\n\"] \n",
      "\n",
      "TRIPLE EVENT CHAIN [(None, 'traced', 'origins'), (None, 'honored', 'folk influences'), (None, 'would throw', 'phrase')] \n",
      "\n",
      "CANDIDATES [(None, 'styled', 'an expression'), ('originals', 'began', None), (None, 'is approaching', 'solo career'), ('Cameron Crowe', 'wailing', None), (None, 'is approaching', 'normal girls')] \n",
      "\n",
      "ENTITY Ms. Wilson \n",
      "\n",
      "CORRECT 3 \n",
      "\n",
      "PREDICTION 1 with Probability 0.8401629 \n",
      " \n",
      "\n",
      "SENTENCE EVENT CHAIN [\"While a Mobil spokeswoman\\ndeclined to comment, because of the ``quiet period'' rules, the\\nspokeswoman for WGBH in Boston, the producing station, said that in\\nJuly Mobil renewed its commitment to the show through 2002.\\n\\n\\n\", 'But arts organizations in the Washington area, where Mobil\\nmaintains its headquarters in Fairfax, Va., are concerned.', \"``In the scheme of things, Mobil has been our largest single\\ncorporate underwriter,'' she said.\", '``They establish a record that\\ntells other companies that this is a worthwhile venture.'] \n",
      "\n",
      "TRIPLE EVENT CHAIN [(None, 'declined', 'to comment'), (None, 'maintains', 'headquarters'), (None, 'has been', 'underwriter'), (None, 'establish', 'record')] \n",
      "\n",
      "CANDIDATES [('something', 'departed', None), ('12 percent', 'change', None), ('Mich.', 'are concerned', None), ('Stuttgart', 'will maintain', None), (None, 'will have', 'to show')] \n",
      "\n",
      "ENTITY Mobil \n",
      "\n",
      "CORRECT 5 \n",
      "\n",
      "PREDICTION 1 with Probability 0.8401629 \n",
      " \n",
      "\n",
      "SENTENCE EVENT CHAIN ['He said Ms. Webdale\\nopened her office each morning and at lunchtime would come\\ndownstairs to smoke a cigarette on the sidewalk.', 'In off hours or on days off, Ms. Webdale loved to lounge on the\\nhills of Central Park, friends said.', 'She also spent hours at the\\nNew York Public Library researching ideas for a screenplay she\\nhoped to write, her friends and parents said.', '_ her father taught her to\\nwaterski in Lake Erie when she was a teen-ager _ and she kept in\\nshape in New York, rising before dawn for a 5:30 daily run through\\nher neighborhood.\\n\\n\\n'] \n",
      "\n",
      "TRIPLE EVENT CHAIN [(None, 'opened', 'office'), (None, 'loved', 'to lounge'), (None, 'spent', 'hours'), ('father', 'taught', None)] \n",
      "\n",
      "CANDIDATES [('master recordings', 'produces', None), ('rock music', 'did not complain', None), (None, 'often stopped', 'a smile'), (None, 'liked', 'a Central Park\\nevent'), (None, 'loved', 'hanging')] \n",
      "\n",
      "ENTITY Ms. Webdale\n",
      " \n",
      "\n",
      "CORRECT 5 \n",
      "\n",
      "PREDICTION 1 with Probability 0.8401629 \n",
      " \n",
      "\n",
      "SENTENCE EVENT CHAIN ['The FAA had sought a fine of $8,750, but the case was closed as\\npart of the general settlement in November 1996.\\n\\n\\n', 'An FAA agent, posing as a passenger, paid $326\\ncash at the ticket counter at Charlotte, N.C., for a round-trip\\nticket to Raleigh, and checked a bag, a combination that should\\nhave triggered a special search of the bag.', 'The FAA deleted the amount of the proposed fine.\\n\\n\\n', \"``I put the briefcase on the X-ray machine on its side as I\\nusually do and it passed through screening without any\\ninterruption,'' he later told the FAA in a letter.\", \"USAir told the FAA that ``due to the position of the gun during\\npresentation, the X-ray image produced a long, narrow bar,\\nresembling a curling iron or similar device.''\"] \n",
      "\n",
      "TRIPLE EVENT CHAIN [(None, 'had sought', 'fine'), (None, 'paid', 'cash'), (None, 'deleted', 'amount'), ('he', 'told', None), ('USAir', 'told', None)] \n",
      "\n",
      "CANDIDATES [('Akron-Canton Regional Airport', 'take', None), ('a\\nflight', 'ask', None), (None, 'reviewed', 'records'), ('response', 'take', None), (', Ohio', 'Asked', None)] \n",
      "\n",
      "ENTITY FAA \n",
      "\n",
      "CORRECT 3 \n",
      "\n",
      "PREDICTION 1 with Probability 0.8401629 \n",
      " \n",
      "\n",
      "SENTENCE EVENT CHAIN [\"Davis won election in November, in part, by promising to fix the\\nstate's ailing public schools, and he has made education reform the\\ncenterpiece of his first budget.\\n\\n\\n\", 'Davis has proposed giving $10,000 to teachers who\\nget more rigorous certification.\\n\\n\\n', 'Davis wants more money for teacher training programs.\\n\\n\\n'] \n",
      "\n",
      "TRIPLE EVENT CHAIN [(None, 'won', 'election'), (None, 'has proposed', 'giving'), (None, 'wants', 'money')] \n",
      "\n",
      "CANDIDATES [('who', 'gave', None), (None, 'cited', 'good\\nteachers'), (None, 'fix', 'reform proposals'), (None, 'has proposed', 'graduation exam'), (None, 'has urged', 'high school seniors')] \n",
      "\n",
      "ENTITY Gov. Gray Davis'\n",
      " \n",
      "\n",
      "CORRECT 4 \n",
      "\n",
      "PREDICTION 1 with Probability 0.8401629 \n",
      " \n",
      "\n",
      "SENTENCE EVENT CHAIN ['Goldstein liked winning so much, he did it again in the doubles,\\nteaming with former TCU all-American David Roditi to beat Devin\\nBowen and Brandon Coupe, 6-2, 6-3.\\n\\n\\nRoditi, who accomplished his goal of finishing in time to watch\\nthe Super Bowl, has won the doubles all three years of the\\ntournament.\\n\\n\\n', 'Goldstein won the singles with the all-around game that got him\\ninto the final.', \"He gets\\na lot of balls back.''\\n\\n\\n\", \"Goldstein handily won the first set, breaking Joyce's serve\\nthree times.\\n\\n\\n\", 'Joyce picked up his game in the second set, and Goldstein\\nsuffered a letdown.\\n\\n\\n', 'But Goldstein won the first when\\nJoyce hit a forehand over the baseline, and the second when he\\nripped a service return.\\n\\n\\n'] \n",
      "\n",
      "TRIPLE EVENT CHAIN [(None, 'liked', 'winning'), (None, 'won', 'singles'), (None, 'gets', 'lot'), (None, 'won', 'set'), (None, 'suffered', 'letdown'), (None, 'won', 'first')] \n",
      "\n",
      "CANDIDATES [(None, 'loosened', 'Bowen'), ('Fort\\nWorth', 'budding', None), (None, 'graduated', '`I'), (None, 'won', 'match'), (None, 'breaking', 'Ky.')] \n",
      "\n",
      "ENTITY Goldstein \n",
      "\n",
      "CORRECT 4 \n",
      "\n",
      "PREDICTION 1 with Probability 0.8401629 \n",
      " \n",
      "\n",
      "SENTENCE EVENT CHAIN ['\\nThe news that organizers had canceled the Morning\\nParty on Fire Island did not surprise Michael Ruggiero.', \"He has\\nattended the annual AIDS fund-raising event and social gathering\\nfor the last three years, and while he described it as ``a very\\nspiritual thing,'\", 'He recalled the positive emotion of standing on the beach,\\ndancing and remembering those lost to AIDS.'] \n",
      "\n",
      "TRIPLE EVENT CHAIN [('news', 'did not surprise', None), (None, '\\nattended', 'event'), (None, 'recalled', 'emotion')] \n",
      "\n",
      "CANDIDATES [(None, 'is rarely questioned', 'some people'), (None, 'leading', 'an event'), (None, 'acknowledged', 'drug use'), (None, 'acknowledged', 'illegal drug use'), (None, 'have ruined', 'They')] \n",
      "\n",
      "ENTITY Michael Ruggiero \n",
      "\n",
      "CORRECT 3 \n",
      "\n",
      "PREDICTION 1 with Probability 0.8401629 \n",
      " \n",
      "\n",
      "SENTENCE EVENT CHAIN ['Midway through his college years, Tamaurice Martin knows this:\\n\\n\\n', 'It will bother him, not destroy him.', \"Since taking over as the starter this season following Manning's\\nrecord-setting four-year career as the Vols' quarterback, Martin\\nhas proven that he is a good quarterback.\", 'And he has done something\\n', 'Martin has fought the perception that he is a quarterback who\\nwould prefer to run.', \"Not that Martin doesn't like to run.\", 'He will take off if you\\ngive him an opening.', 'Martin used to stay out of trouble, or as\\nfar away from it as he could.', 'Although Pierre\\nMaurice was more of an occasional influence, Tee idolized him.', 'In\\nhigh school, he wanted to wear the same No. 17', 'By the time he was freshman at Williamson High School, he was a\\nstarter.', 'By the time he left, he was a two-time all-state\\nquarterback and a Parade', 'Martin had colleges from all over the country calling and\\noffering him things.', 'Mary Posley told him to try and look people in\\nthe eye and make judgments.', 'So Martin worked his way through the process.', \"He was not naive,\\nnot with all the violence at his doorstep, acts that had prompted\\nhim to take a ``When-it's-your-time-to-go,-it's-your-time-to-go''\\nattitude toward life.\\n\\n\\n\", 'He\\nknows things.', 'He has said that he has learned lessons.', 'He has been\\nthe eyewitness to three killings, which has made it almost\\nimpossible for him to cry anymore.\\n\\n\\n'] \n",
      "\n",
      "TRIPLE EVENT CHAIN [(None, 'knows', 'this'), ('It', 'will bother', None), (None, 'is', 'quarterback'), (None, 'has done', 'something'), (None, 'has fought', 'perception'), (None, \"doesn't like\", 'to run'), ('you', 'give', None), (None, 'used', 'to stay'), ('Tee', 'idolized', None), (None, 'wanted', 'to wear'), (None, 'was', 'freshman'), (None, 'was', 'quarterback'), (None, 'had', 'colleges'), ('Mary Posley', 'told', None), (None, 'worked', 'way'), (None, 'was not', 'acts'), (None, 'knows', 'things'), (None, 'has learned', 'lessons'), (None, 'has been', 'eyewitness')] \n",
      "\n",
      "CANDIDATES [('life', 'knowing', None), ('Peyton Manning', 'heal', None), ('a onetime high school\\nfootball star', 'had already been', None), (None, 'expects', 'to play'), (None, 'had already been', \"go,-it's\")] \n",
      "\n",
      "ENTITY Tamaurice Martin \n",
      "\n",
      "CORRECT 4 \n",
      "\n",
      "PREDICTION 1 with Probability 0.8401629 \n",
      " \n",
      "\n",
      "SENTENCE EVENT CHAIN [\"\\nGiven his surroundings, and given the fact that\\nTennessee's Phillip Fulmer is about to coach the biggest game of\\nhis life, he should be a bundle of nerves.\", 'But this week in Tempe, Fulmer has surprised the masses with his\\nquick wit and his willingness to loosen up and have fun when the\\nstakes might suggest he behave otherwise.', \"For one, with two straight SEC championships and Tennessee's\\nfirst 12-0 season in 1998, Fulmer has finally proven _ to himself\\nand others\", '_ that he is a top-drawer coach.', 'For the longest time,\\nFulmer endured the rap of being a good recruiter who was destined\\nto come up short on game day.\\n\\n\\n', 'But this season, Fulmer did the best coaching job of his career,\\nbeginning with his preparations last spring.\\n\\n\\n', 'In the spring, he\\nchallenged his team and his coaches not to use those personnel\\nlosses as an excuse for complacency.\\n\\n\\n', \"But it didn't happen because Fulmer\\nwouldn't let it.\\n\\n\\n\", 'Tennessee went undefeated and Fulmer won his first national\\ncoach of the year honor from the Football Writers Association of\\nAmerica.'] \n",
      "\n",
      "TRIPLE EVENT CHAIN [(None, 'should be', 'bundle'), (None, 'has surprised', 'masses'), (None, 'proven', '_'), (None, 'is', 'drawer coach'), (None, 'endured', 'rap'), (None, 'did', 'coaching job'), (None, 'challenged', 'team'), (None, \"wouldn't let\", 'it'), (None, 'won', 'coach')] \n",
      "\n",
      "CANDIDATES [(None, 'has finally proven', 'the loss'), (None, 'maintain', 'a top-drawer coach'), (None, 'got', 'reality check'), ('the brink', 'there was', None), ('others', 'made', None)] \n",
      "\n",
      "ENTITY Phillip Fulmer \n",
      "\n",
      "CORRECT 3 \n",
      "\n",
      "PREDICTION 1 with Probability 0.8401629 \n",
      " \n",
      "\n",
      "SENTENCE EVENT CHAIN [\"Sassa also said he wants to see more shows with traditional\\nfamilies on NBC, pointing out the network has only one show now on\\nthe air with two parents and a child, ``Mad About You.'' ``We've\\nshifted too far away from the traditional family,'' he said.\\n\\n\\n\", \"And he added that he'd like to see more shows set in cities\\nother than New York City and more racial and ethnic diversity in\\nNBC's sitcoms, which have been criticized for having very few\\nAfrican-Americans.\\n\\n\\n\", \"Sassa said he isn't trying to turn NBC into a family channel and\\nthat his remarks should not be considered a big turnaround for NBC.\\n\"] \n",
      "\n",
      "TRIPLE EVENT CHAIN [(None, 'wants', 'to see'), (None, \"'d like\", 'to see'), (None, \"isn't trying\", 'to turn')] \n",
      "\n",
      "CANDIDATES [('preteens', 'try', None), ('Drew Jubera', 'will remain', None), (None, 'know', 'Mississippi'), (None, 'has inherited', 'Entertainment division'), (None, 'marched', 'an intentional melodrama')] \n",
      "\n",
      "ENTITY \n",
      "Scott Sassa \n",
      "\n",
      "CORRECT 4 \n",
      "\n",
      "PREDICTION 1 with Probability 0.8401629 \n",
      " \n",
      "\n",
      "SENTENCE EVENT CHAIN ['Carlos Fuentes considered that New Orleans or Los\\nAngeles had stronger historical claims, and he and I argued\\nstrongly for them until it became clear that the president had no\\nintention of changing his plans because he was counting on\\nreelection support from Miami.\\n\\n\\n', 'When we spoke of the problems of\\nnarco-traffic, the president heard me out generously.', \"' When I spoke to him about relations with Cuba,\\nhe seemed even more receptive.\", 'When we talked about Latin America in general, we realized that\\nhe was much more interested than we had supposed, although he\\nlacked some essential background.', \"When the conversation seemed to\\nstiffen a bit, we asked him what his favorite movie was, and he\\nanswered ``High Noon,'' by Fred Zinneman, whom he had recently\\nhonored in London.\"] \n",
      "\n",
      "TRIPLE EVENT CHAIN [(None, 'had', 'intention'), (None, 'heard', 'me'), (None, 'seemed', 'receptive'), (None, 'lacked', 'background'), ('we', 'asked', None)] \n",
      "\n",
      "CANDIDATES [('we', 'asked', None), (None, 'had wanted', 'William Faulkner'), (None, 'could not abide', 'Dinner'), (None, 'sighed', 'the personal destruction'), ('the expense', 'became', None)] \n",
      "\n",
      "ENTITY Clinton \n",
      "\n",
      "CORRECT 1 \n",
      "\n",
      "PREDICTION 1 with Probability 0.8401629 \n",
      " \n",
      "\n",
      "SENTENCE EVENT CHAIN [\"The state Department of Toxic Substances Control is threatening\\nto sue the Navy if it doesn't reimburse about $2.6 million that the\\nstate says it needs to review the cleanup at Treasure Island, Mare\\nIsland, Alameda and other former Navy installations.\\n\\n\\n\", \"If the Navy doesn't agree to a reasonable settlement by Jan. 30,\\nthe state will take steps to sue to recover the money, Huff wrote\\non Dec. 31.\\n\\n\\n\", 'Under federal and state law, the state has the authority to\\noversee the quality of the job of cleaning up land, air and water.\\n', 'The state also has the responsibility of determining how much that\\noversight should cost in terms of hiring scientists and requiring\\nstudies, according to Department of Toxic Substances Control\\nspokesman Ron Baker.\\n\\n\\n'] \n",
      "\n",
      "TRIPLE EVENT CHAIN [(None, 'needs', 'to review'), (None, 'will take', 'steps'), (None, 'has', 'authority'), (None, 'has', 'responsibility')] \n",
      "\n",
      "CANDIDATES [('the state review', 'hiring', None), (None, 'has', 'oversight role'), ('the amount', 'says', None), (None, 'asked', 'Treasure Island'), ('48 Navy sites', 'clean', None)] \n",
      "\n",
      "ENTITY \n",
      "State \n",
      "\n",
      "CORRECT 2 \n",
      "\n",
      "PREDICTION 1 with Probability 0.8401629 \n",
      " \n",
      "\n",
      "SENTENCE EVENT CHAIN ['Sweaty and a bit disheveled, he started collecting his belt, socks\\nand undershirt.', 'One bridesmaid, after discovering that she and the hired hunk\\nwere both out-of-work actors, invited him to come out with us.', \"He\\nsaid he'd have to go home and change first.\", 'He seemed skeptical and never did show up.\\n\\n\\n', \"``He kept asking me if\\nI felt comfortable,'' she said.\"] \n",
      "\n",
      "TRIPLE EVENT CHAIN [(None, 'started', 'collecting'), ('bridesmaid', 'invited', None), (None, \"'d have\", 'to go'), (None, 'seemed', 'skeptical'), (None, 'kept', 'asking')] \n",
      "\n",
      "CANDIDATES [('the titillating nothings', 'more debauched', None), ('a stuffed bear', 'bursting', None), (None, 'kept', 'saying'), ('party', 'lied', None), (None, \"'ve come\", 'the other hand')] \n",
      "\n",
      "ENTITY The guy \n",
      "\n",
      "CORRECT 3 \n",
      "\n",
      "PREDICTION 1 with Probability 0.8401629 \n",
      " \n",
      "\n",
      "SENTENCE EVENT CHAIN [\"It's going to be tough to accept.''\\n\\n\\n\", \"It didn't seem real.\", 'Did you see it?\\n'] \n",
      "\n",
      "TRIPLE EVENT CHAIN [(None, \"'s going\", 'to be'), (None, \"didn't seem\", 'real'), ('you', 'see', None)] \n",
      "\n",
      "CANDIDATES [(None, 'came', 'the edges'), (None, 'ended', 'a mental funk'), ('you', 'heard', None), ('a 25-yard touchdown pass', 'came', None), ('last season', 'showed', None)] \n",
      "\n",
      "ENTITY It \n",
      "\n",
      "CORRECT 3 \n",
      "\n",
      "PREDICTION 1 with Probability 0.8401629 \n",
      " \n",
      "\n",
      "SENTENCE EVENT CHAIN [\"He\\nhad a goal and two assists, and his greatest moment on the ice\\ndidn't even result in a goal.\", \"and he had\\nthe puck the whole time,'' said Sydor, who was Gretzky's teammate\\non the Los Angeles Kings four years ago.\", \"``He's still The Great\\n\"] \n",
      "\n",
      "TRIPLE EVENT CHAIN [(None, 'had', 'goal'), (None, 'had', 'puck'), (None, \"'s\", 'Great')] \n",
      "\n",
      "CANDIDATES [('a\\n1999 Dodge Durango', 'acknowledged', None), (None, 'leads', 'Rangers'), (None, 'Totally embarassed', 'the days'), (None, 'take', 'the third period'), (None, 'doing', 'Bill Murray')] \n",
      "\n",
      "ENTITY Modano \n",
      "\n",
      "CORRECT 2 \n",
      "\n",
      "PREDICTION 1 with Probability 0.8401629 \n",
      " \n",
      "\n",
      "SENTENCE EVENT CHAIN [\"\\nThen Warren read from ``The Expulsion of Demonic Forces from\\nVessels,'' a text he himself wrote.\", 'A small miracle was performed as Warren turned Newport Harbor water\\n', 'Warren\\nnearly singed his eyebrows in a flameout and the ceremony was\\nbasically over.\\n\\n\\n', \"It is a nondenominational ministry, though\\nit is not without ``certain Catholic spikes,'' as Warren puts it.\\n\\n\\n\", 'He got started exorcising demons from vessels after trouble\\nbegan brewing on his own boat.\\n\\n\\n', 'He cast the rosary into the sea, an act he felt would cleanse\\nthe vessel.', 'He also renamed the craft, which is always dangerous\\nfrom a spiritual standpoint.'] \n",
      "\n",
      "TRIPLE EVENT CHAIN [(None, 'read', 'text'), (None, 'turned', 'Harbor water'), (None, 'singed', 'eyebrows'), (None, 'puts', 'it'), (None, 'got started', 'demons'), (None, 'cast', 'rosary'), (None, 'renamed', 'craft')] \n",
      "\n",
      "CANDIDATES [(None, 'installed', 'mojos'), (None, 'founded', 'one boat'), ('I', 'then installed', None), ('the\\ndrop', 'was performed', None), (None, 'had been transferred', 'the problems')] \n",
      "\n",
      "ENTITY Warren \n",
      "\n",
      "CORRECT 1 \n",
      "\n",
      "PREDICTION 1 with Probability 0.8401629 \n",
      " \n",
      "\n",
      "SENTENCE EVENT CHAIN [\"On a bracingly cold and brilliantly clear day, Schumer, a\\nDemocrat from Brooklyn, also vowed not to let ``the cloud of\\nimpeachment'' distract him from working on what he considers the\\nstate's top issues: health care, crime, jobs, Social Security,\\neducation and campaign finance reform.\\n\\n\\n\", 'Schumer told a group of about 50 friends and relatives at a\\ncookies-and-coffee reception sponsored by the National Soft Drink\\nAssociation on Capitol Hill.\\n\\n\\n', \"Though he served nine terms in the House, Schumer sounded every\\nbit the freshman legislator on Wednesday, looking wide-eyed as he\\npumped well-wishers' hands and confessing to feeling ``tingles down\\nmy spine'' after passing the lighted Capitol dome the night before.\\n\\n\\n\", 'Schumer was one of eight new senators, four Democrats and four\\nRepublicans, sworn in to Congress on Wednesday.'] \n",
      "\n",
      "TRIPLE EVENT CHAIN [('cloud', 'distract', None), (None, 'told', 'group'), (None, 'served', 'terms'), (None, 'was', 'one')] \n",
      "\n",
      "CANDIDATES [(None, 'finally have', 'the\\nHouse chamber'), (None, 'is', 'senator'), ('OPTIONAL MATERIAL FOLLOWS', 'sounded', None), (None, 'would work', 'Wednesday'), (None, 'referring', 'Wednesday')] \n",
      "\n",
      "ENTITY Charles Schumer \n",
      "\n",
      "CORRECT 2 \n",
      "\n",
      "PREDICTION 1 with Probability 0.8401629 \n",
      " \n",
      "\n",
      "SENTENCE EVENT CHAIN ['The Jets are, for the first time in\\n30 years, a division champion.', 'They are winners of 13 games,\\nincluding a playoff victory last week, and they are having fun.\\n\\n\\n', 'But now they play a team that is attempting to defend its Super\\nBowl title and that scored 501 points in the regular season.', 'And\\nthey face a quarterback, in John Elway, who may be playing his\\nfinal home game before heading to the Hall of Fame.\\n\\n\\n', \"The last time the Jets got this\\nfar, it was the 1982 season, when their future seemed bright and\\nthey were going to unleash the league's best rushing attack against\\nthe Dolphins in Miami.\", 'In a\\nbottom-line business, the Jets allowed fewer points than any team\\nin the NFL except the Dolphins, who allowed only 1 fewer point.\\n\\n\\n'] \n",
      "\n",
      "TRIPLE EVENT CHAIN [(None, 'are', 'years'), (None, 'are', 'winners'), (None, 'play', 'team'), (None, 'face', 'quarterback'), (None, 'got', 'this'), (None, 'allowed', 'points')] \n",
      "\n",
      "CANDIDATES [(None, 'win', 'newfangled attacking schemes'), (None, 'have', 'to stay'), (None, 'stay', 'you'), ('anything', 'lose', None), (None, 'played', 'Davis')] \n",
      "\n",
      "ENTITY The Jets \n",
      "\n",
      "CORRECT 2 \n",
      "\n",
      "PREDICTION 1 with Probability 0.8401629 \n",
      " \n",
      "\n",
      "SENTENCE EVENT CHAIN ['Mrs. Ross\\ntook by far the largest single slice.\\n\\n\\n', \"The ``Ross rule,'' as Anderson called it, limits any buyer to no\\nmore than eight graves.\\n\\n\\n\", 'Mrs. Ross declined to be interviewed for this article.', \"But her\\nlawyer, Fields, said she bought so many graves because she had a\\ndifficult time selecting an ``appropriate burial place'' for Ross\\nand, in the future, ``she didn't want anyone in her extended family\\nto go through that anguish.''\\n\\n\\n\", \"He added that Mrs. Ross ``was not aware she was monopolizing the\\nremaining grave sites, and certainly would not want to antagonize\\nanyone at a difficult time.''\\n\\n\\n\", 'Blier\\nsaid Mrs. Ross chose the cemetery because she knew and admired many\\npainters who were buried there.\\n\\n\\n'] \n",
      "\n",
      "TRIPLE EVENT CHAIN [(None, 'took', 'slice'), (None, 'limits', 'buyer'), (None, 'declined', 'to be interviewed'), (None, 'bought', 'graves'), (None, 'was monopolizing', 'grave sites'), (None, 'chose', 'cemetery')] \n",
      "\n",
      "CANDIDATES [('status', 'manage', None), (None, 'said', 'let'), ('weekenders', 'winning', None), ('space', 'created', None), ('local people', 'was buried', None)] \n",
      "\n",
      "ENTITY Mrs. Ross\n",
      " \n",
      "\n",
      "CORRECT 2 \n",
      "\n",
      "PREDICTION 1 with Probability 0.8401629 \n",
      " \n",
      "\n",
      "SENTENCE EVENT CHAIN ['He is trying to raise the fear of\\nterrorism in the United States to the right level', \"_ higher, not too\\nhigh _ as he girds the nation against the possibility of an assault\\nfrom nerve gas, bacteria and viruses, and from what he calls ``an\\nelectronic Pearl Harbor.''\\n\\n\\n\", 'He has to walk a fine line.', 'Clarke has a reserved seat when Cabinet officers gather at the\\nWhite House on national security issues.', 'He helped drive the decision to fire cruise missiles at\\nAfghanistan and Sudan in August, trying to strike at Osama bin\\nLaden, overpowering dissenters at the State Department and the CIA.\\n', 'Now he is helping to steer secret operations aimed at capturing the\\nSaudi exile, who is accused of bombing two American embassies.\\n\\n\\n', 'Clarke also has written at least four classified presidential\\ndirectives on terrorism.', \"They helped expand the government's\\ncounterterrorism cadres into the $11 billion-a-year enterprise he\\nnow coordinates, stifling some protests at the Justice Department\\nand the Pentagon, which saw him as a competitor for money and\\npower.\\n\\n\\n\", \"In his office, where a small sign reads ``Think Globally/Act\\nGlobally,'' he spoke passionately about the threat of cyberwar,\\ninvisible attacks on the nation's computers, a terror so insidious,\\n\", 'so arcane he has trouble convincing corporate chieftains and\\npolitical commissars it is real.', \"But it is out there, somewhere, he\\nsays, even if he can't prove it.\\n\\n\\n\"] \n",
      "\n",
      "TRIPLE EVENT CHAIN [(None, 'is trying', 'to raise'), (None, 'girds', 'nation'), (None, 'has', 'to walk'), (None, 'has', 'seat'), (None, 'helped', 'drive'), (None, 'is helping', 'to steer'), (None, 'has written', 'directives'), ('which', 'saw', None), (None, 'spoke', 'terror'), (None, 'has', 'trouble'), (None, \"can't prove\", 'it')] \n",
      "\n",
      "CANDIDATES [(None, 'bombing', 'an electronic Pearl\\nHarbor'), ('the\\nNational Security Council', 'capturing', None), (None, 'pull', 'political commissars'), (None, 'landed', 'A president'), (None, 'said', 'shutting')] \n",
      "\n",
      "ENTITY Clarke \n",
      "\n",
      "CORRECT 5 \n",
      "\n",
      "PREDICTION 1 with Probability 0.8401629 \n",
      " \n",
      "\n",
      "SENTENCE EVENT CHAIN ['The left tackle helps the left guard.', 'The\\nleft guard helps the center.', 'He helps the right guard.', 'The right\\nguard helps the right tackle.'] \n",
      "\n",
      "TRIPLE EVENT CHAIN [('tackle', 'helps', None), (None, 'helps', 'center'), (None, 'helps', 'guard'), (None, 'helps', 'tackle')] \n",
      "\n",
      "CANDIDATES [('skilled offensive\\nlinemen', 'become', None), (None, 'alone makes', 'four quarters'), ('Both the Falcons', 'cheat', None), (None, 'become', '`People'), (None, 'helps', 'end')] \n",
      "\n",
      "ENTITY the left guard \n",
      "\n",
      "CORRECT 5 \n",
      "\n",
      "PREDICTION 1 with Probability 0.8401629 \n",
      " \n",
      "\n",
      "SENTENCE EVENT CHAIN ['How dare Jordan put his family before his fans!\\n\\n\\n', 'And although he went on to enjoy a stellar three seasons\\nat the University of North Carolina, no one believed the third\\nplayer chosen in the 1984 draft would become one of the greatest\\nathletes of the 20th century.\\n\\n\\n', \"To have lived all these years vicariously through Jordan is to\\nwonder why he'd chuck his still-sublime skills on the basketball\\ncourt for something as ordinary as schlepping his kids around town.\\n\", \"The simple truth is, even as one of his sponsors exhorts us to ``be\\nlike Mike,'' Jordan yearns to be like us.\\n\\n\\n\", 'Jordan can appreciate the value of having a dad around.', 'James Jordan was the victim of a botched robbery attempt in\\n1993.', \"Jordan did just that by noting at the start of his farewell speech\\nthat there are ``a lot of other serious things happening in the\\nworld.''\\n\\n\\n\", \"Jordan didn't just lend his name to a sweet-smelling cologne, he\\nprovided a salve for the working stiff.\"] \n",
      "\n",
      "TRIPLE EVENT CHAIN [(None, 'put', 'family'), (None, 'went', 'to enjoy'), (None, \"'d chuck\", 'skills'), (None, 'yearns', 'to be'), (None, 'can appreciate', 'value'), (None, 'was', 'victim'), (None, 'did', 'that'), (None, 'lend', 'name')] \n",
      "\n",
      "CANDIDATES [(None, 'winning', 'enduring lessons'), ('me', 'picking', None), (None, 'look', 'Part'), (None, 'think', '13 seasons'), (None, 'saw', 'it')] \n",
      "\n",
      "ENTITY Jordan's\n",
      " \n",
      "\n",
      "CORRECT 5 \n",
      "\n",
      "PREDICTION 1 with Probability 0.8401629 \n",
      " \n",
      "\n",
      "SENTENCE EVENT CHAIN ['In the Sunday issue of The Deseret News of Salt Lake City, Tom\\nWelch, who headed the Salt Lake City bid committee, said he made a\\n$50,000 cash payment to Jean-Claude Ganga, an IOC member from Congo\\nRepublic, and contributed $10,000 to the mayoral campaign of Sergio\\nSantander Fantini, an IOC member from Santiago, Chile.\\n\\n\\n', 'Welch also denied allegations that the bid\\ncommittee had hired prostitutes for members of the IOC.\\n\\n\\n', 'Welch told the newspaper.', 'Welch told the newspaper he made a $50,000 payment to Ganga when\\nthe IOC member requested help for children in his ravaged African\\nnation.'] \n",
      "\n",
      "TRIPLE EVENT CHAIN [(None, 'made', 'cash payment'), (None, 'denied', 'allegations'), (None, 'told', 'newspaper'), (None, 'told', 'newspaper')] \n",
      "\n",
      "CANDIDATES [(None, 'ravaged', 'the 1988 Winter Games'), ('the late Rene Essomba', 'made', None), (None, 'was', 'an obligation'), (None, 'declined', 'to be interviewed'), (None, 'said', 'excessive gifts')] \n",
      "\n",
      "ENTITY Jackson \n",
      "\n",
      "CORRECT 4 \n",
      "\n",
      "PREDICTION 1 with Probability 0.8401629 \n",
      " \n",
      "\n",
      "SENTENCE EVENT CHAIN ['In his keynote speech, Quayle emphasized the importance of\\nenthusiastic voters within a democracy and said that programs such\\nas Kids Voting promote such values.\\n\\n\\n', 'After his remarks, he told reporters that he does not miss the\\nSenate, even during such historic times.\\n\\n\\n', 'He had\\nno prediction for the outcome of the trial.\\n\\n\\n'] \n",
      "\n",
      "TRIPLE EVENT CHAIN [(None, 'emphasized', 'importance'), (None, 'told', 'reporters'), (None, 'had', 'prediction')] \n",
      "\n",
      "CANDIDATES [('the founders', 'also is', None), (\"Marilyn's blessing\", \"don't vote\", None), (None, 'might be', 'candidate'), (None, 'remained', 'others'), ('the political waters', 'predicted', None)] \n",
      "\n",
      "ENTITY Quayle \n",
      "\n",
      "CORRECT 3 \n",
      "\n",
      "PREDICTION 1 with Probability 0.8401629 \n",
      " \n",
      "\n",
      "SENTENCE EVENT CHAIN [\"Salon magazine wrote: ``By churning out one soporific doorstop\\nafter another, it is effectively telling editors that if you follow\\nDr. Brill's Patented System for Quality Journalism, you will\\nproduce a boring magazine.''\\n\\n\\n\", \"Some\\nof it, I think, is off the wall, because he's trying to sell his\\nmagazine.''\\n\\n\\n\", 'To lure them, he has lightened up the magazine.'] \n",
      "\n",
      "TRIPLE EVENT CHAIN [(None, 'follow', 'System'), (None, \"'s trying\", 'to sell'), (None, 'has lightened', 'magazine')] \n",
      "\n",
      "CANDIDATES [(None, 'scrutinized', 'the\\ncoffee table'), (None, 'does not want', 'magazines'), (None, 'shifted', 'focus'), (None, 'there are', 'journalists'), (None, 'judging', 'inflated salaries')] \n",
      "\n",
      "ENTITY you follow\n",
      "Dr. Brill's Patented System for Quality Journalism, you will\n",
      "produce a boring magazine \n",
      "\n",
      "CORRECT 3 \n",
      "\n",
      "PREDICTION 1 with Probability 0.8401629 \n",
      " \n",
      "\n",
      "SENTENCE EVENT CHAIN ['\\nPresident Clinton rebutted Republican criticism\\nof his Social Security rescue scheme Wednesday at a jubilant\\ncampaign-style pep rally staged by a venerable Democratic machine\\nto buoy the embattled chief executive.\\n\\n\\n', 'Joined by Vice President Al Gore, first lady Hillary Rodham\\nClinton and Tipper Gore, the president touted the centerpiece of\\nhis State of the Union address to an enthusiastic audience in an\\nindustrial, working-class city that supported the Clinton-Gore\\nticket in 1992 and 1996.\\n\\n\\n', 'Clinton disputed GOP criticism of his Social Security plan that\\nhe announced Tuesday night, cautioning Americans against GOP\\nsuggestions that the projected 15-year, $4.4 trillion federal\\nbudget surplus ought to be used for tax cuts rather than diverted\\nto bailing out the Social Security system.\\n\\n\\n', \"Clinton conceded his proposal ``is not as popular as what others\\ncan tell you,'' cautioning: ``Others can say, `We've got this\\nsurplus now, I just want a tax cut.\", \"White House Press Secretary Joe Lockhart said Clinton respected\\nGreenspan's concerns, adding: ``We are committed to working with\\nCongress to make sure that any Social Security investments are made\\nby independent, private-sector managers without political\\ninterference.''\\n\\n\\n\", \"The president opened his 46-minute address, saying the audience\\nhad gotten so excited that it had ``melted the snow for a mile\\naround this arena.''\", \"Clinton thanked the audience at the conclusion\\n``for one of the great days of my presidency, here.''\\n\\n\\n\", \"He began speaking here in Buffalo about 25\\nminutes after White House counsel Gregory Craig who opened the\\nsecond-day of the president's three-day defense before the\\n100-member Senate.\\n\\n\\n\", \"Clinton said he was ``flattered'' by Gore's suggestion that he\\nhad deflected GOP proposals with the same knack that Sabres' goalie\\nDominik ``The Dominator''\", \"Clinton struck a wistful note at another point, noting that the\\nsix years since his Jan. 20, 1993, inauguration ``have been _ to\\nput it mildly _ quite eventful.''\\n\\n\\n\", \"Gloria Elmer, a retired\\nkindergarten teacher from East Aurora, N.Y., who is active in the\\nLeague of Women Voters, said Clinton remains ``a great leader who\\nhas done what's right.\\n\\n\\n\"] \n",
      "\n",
      "TRIPLE EVENT CHAIN [(None, 'rebutted', 'criticism'), (None, 'touted', 'centerpiece'), (None, 'disputed', 'GOP criticism'), (None, 'conceded', 'proposal'), (None, 'respected', 'concerns'), (None, 'opened', 'address'), (None, 'thanked', 'audience'), (None, 'began', 'speaking'), (None, 'had deflected', 'GOP proposals'), (None, 'struck', 'note'), (None, 'remains', 'leader')] \n",
      "\n",
      "CANDIDATES [('others', 'Is', None), (None, 'has done', 'more'), (None, 'produce', '(STORY CAN END'), ('a married man', 'shouted', None), (None, 'lying', 'only an indirect reference')] \n",
      "\n",
      "ENTITY \n",
      "President Clinton \n",
      "\n",
      "CORRECT 2 \n",
      "\n",
      "PREDICTION 1 with Probability 0.8401629 \n",
      " \n",
      "\n",
      "SENTENCE EVENT CHAIN [\"The dog somehow wandered off Monday from Horny's home on Blix\\nStreet in suburban North Hollywood, leaving the quadriplegic\\nheartbroken and unable to perform many of the tasks that Tyler had\\nmade possible.\\n\\n\\n\", 'First, however, Tyler will get a steak dinner, and Horny will\\ncall off the bloodhounds -- literally.\\n\\n\\n', 'But Tyler, it turns out, had trotted about three miles to North\\nHollywood Park, where he befriended two teen-agers and followed\\nthem home.\\n\\n\\n', \"``I'm happy that we found the owner,'' said Connie Smith, whose\\n17-year-old son, Patrick, and his girlfriend found Tyler in North\\nHollywood Park on Monday.\", '``We could have taken him to the dog\\npound shelter, but we wanted to find the owner because the dog\\nlooked very well taken care of and was very lovable.', \"First thing today, Horny said, Tyler will start wearing a tag\\nwith his owner's name and phone number, which should have been done\\nlong ago.\\n\\n\\n\", 'Rescued about seven years ago off a freeway near San Antonio,\\nTexas, Tyler was professionally trained to assist disabled people.\\n'] \n",
      "\n",
      "TRIPLE EVENT CHAIN [(None, '\\nmade', 'possible'), (None, 'will get', 'steak dinner'), (None, 'befriended', 'agers'), ('Connie Smith', 'found', None), ('We', 'could have taken', None), (None, 'will start', 'wearing'), (None, 'trained', 'to assist')] \n",
      "\n",
      "CANDIDATES [(None, 'retrieves', 'wheelchair'), ('they', 'caused', None), (\"Horny's keys\", 'will', None), (None, 'apparently did', 'a steak dinner'), ('disabled populations', 'do', None)] \n",
      "\n",
      "ENTITY Tyler \n",
      "\n",
      "CORRECT 1 \n",
      "\n",
      "PREDICTION 1 with Probability 0.8401629 \n",
      " \n",
      "\n",
      "SENTENCE EVENT CHAIN [\"Dan Reeves, Denver's coach in 1983, started Elway, something\\nReeves later called ``a big mistake.''\\n\\n\\n\", 'Elway was benched after two games, though injuries to his\\nreplacement forced him back into the lineup.', 'He finished the year\\nwith the worst quarterback rating in the AFC.\\n\\n\\n', 'The next season his record as a starter was 12-2, and by the end\\nof the 1986 season he had the Broncos in the Super Bowl, thanks to\\na spectacular 98-yard drive that buried the Cleveland Browns in the\\nAFC championship game.', 'He then lost the first of three Super Bowls, this one to the\\nGiants.', \"He was the league's most valuable player the following season,\\nwhich ended with a second consecutive Super Bowl loss for the\\nBroncos, a 32-point defeat by Washington.\\n\\n\\n\", 'The 1989 season brought Elway back to the Super Bowl again.', 'It was a question that would haunt Elway.', 'Elway, once the golden boy, at times seemed to lose the glimmer in\\nhis eye.\\n\\n\\n', 'He is not a deeply religious man, though he\\nhas not missed a Sunday morning team prayer service in eight years.\\n', 'His advancing\\nage and the grace with which he had faced his professional\\nadversities had made him a sentimental favorite.\\n\\n\\n'] \n",
      "\n",
      "TRIPLE EVENT CHAIN [('Dan Reeves', 'started', None), ('injuries', 'forced', None), (None, 'finished', 'year'), (None, 'had', 'Broncos'), (None, 'lost', 'first'), (None, 'was', 'player'), ('season', 'brought', None), ('that', 'would haunt', None), (None, 'seemed', 'to lose'), (None, 'is not', 'man'), (None, 'had faced', 'adversities')] \n",
      "\n",
      "CANDIDATES [('the lineup', 'see', None), (None, \"didn't have\", 'Washington'), (None, 'willed', 'Broncos'), ('the\\nAFC championship game', 'really make', None), (None, 'are', '`They')] \n",
      "\n",
      "ENTITY Elway \n",
      "\n",
      "CORRECT 3 \n",
      "\n",
      "PREDICTION 1 with Probability 0.8401629 \n",
      " \n",
      "\n",
      "SENTENCE EVENT CHAIN [\"Bowden has had plenty of time to spend with his kids since\\nmidseason, when he resigned as Auburn's head coach when it became\\napparent to him that he would be fired at the end of the season.\\n\\n\\n\", 'He probably will spend part of it working in\\ntelevision.\\n\\n\\n', \"The Bowden family has endured all the vagaries of the collegiate\\ncoaching profession this season, from Terry's midseason resignation\\nto his older brother Tommy, 44, coaching Tulane to an undefeated\\nseason, then leaving before its Liberty Bowl game to take the head\\ncoaching job at Clemson.\\n\\n\\n\"] \n",
      "\n",
      "TRIPLE EVENT CHAIN [(None, 'has had', 'plenty'), (None, 'will spend', 'part'), (None, 'has endured', 'vagaries')] \n",
      "\n",
      "CANDIDATES [(None, 'doing', 'youth basketball'), (None, 'coaching', 'two teams'), ('a field trip', 'playing', None), (None, 'enjoyed', 'end'), ('life', 'There is', None)] \n",
      "\n",
      "ENTITY Bowden \n",
      "\n",
      "CORRECT 4 \n",
      "\n",
      "PREDICTION 1 with Probability 0.8401629 \n",
      " \n",
      "\n",
      "SENTENCE EVENT CHAIN ['Castle traded 21 years of\\nillicit freedom for an extra year in federal prison.\\n\\n\\n', \"On Friday, Castle told U.S. District Judge Kenneth Ryskamp he\\nwas sorry he made that ``erroneous'' decision to run 22 years ago.\\n\", \"``What this amounts to is he's traded some years at a younger\\nage for some years at an older age,'' Ryskamp said in sentencing\\nCastle to 12 months in prison.\", 'Castle faced a maximum of 14 months under sentencing guidelines.\\n', 'Ryskamp fined Castle $10,000.\\n\\n\\n', \"Castle's lawyer, Richard Lubin, said it was unclear if Castle\\nwill serving his original prison sentence before or after his\\nfederal sentence; already, he's served seven months of the federal\\nsentence, meaning he has five months more to serve.\\n\\n\\n\", \"In any event, it's unlikely he will spend 10 years in custody,\\nbecause his state sentence will be governed by the guidelines in\\nplace at the time of his conviction.\\n\\n\\n\"] \n",
      "\n",
      "TRIPLE EVENT CHAIN [(None, 'traded', 'years'), (None, 'told', 'Ryskamp'), ('Ryskamp', 'said', None), (None, 'faced', 'maximum'), ('Ryskamp', 'fined', None), (None, 'will serving', 'prison sentence'), (None, 'will spend', 'years')] \n",
      "\n",
      "CANDIDATES [(None, 'is not awarded', 'time'), ('Alaska', 'faced', None), (None, 'was supposed', 'a\\n$15,000 insurance policy'), (None, 'cross', 'the federal\\nsentence'), ('the state', 'used', None)] \n",
      "\n",
      "ENTITY Castle \n",
      "\n",
      "CORRECT 1 \n",
      "\n",
      "PREDICTION 1 with Probability 0.8401629 \n",
      " \n",
      "\n",
      "SENTENCE EVENT CHAIN [\"So all pretense was gone when Reeves ignored Elway's pleas after\\nthe 1992 season that the Broncos desperately needed a wide\\nreceiver; the coach not only wouldn't select Tennesssee receiver\\nCarl Pickens with his first-round draft pick but went out of his\\nway to choose a quarterback, and the eminently mediocre Tommy\\nMaddox from UCLA at that.\", \"According to Denver lore, Reeves had marched into the office of\\na certain offensive coordinator and shouted, ``How did this get in\\nthe paper?''\", \"According to Elway, Byner told him, QB, `` `I thought you were\\ngoing to be a Redskin.'\"] \n",
      "\n",
      "TRIPLE EVENT CHAIN [(None, 'ignored', 'pleas'), (None, 'had marched', 'coordinator'), ('Byner', 'told', None)] \n",
      "\n",
      "CANDIDATES [('the switch', 'have been', None), (None, 'would not be', 'Automatic'), ('assistant coaches', 'had initiated', None), (None, 'had', 'sweaty'), (None, 'to tell', 'me')] \n",
      "\n",
      "ENTITY Reeves \n",
      "\n",
      "CORRECT 5 \n",
      "\n",
      "PREDICTION 1 with Probability 0.8401629 \n",
      " \n",
      "\n",
      "SENTENCE EVENT CHAIN [\"\\nIf you're a Billy Tubbs fan, you are, de facto, a member of the\\nBilly Tubbs congregation.\\n\\n\\n\", 'You wince and look the\\nother way when the other coach charges that Tubbs was running it\\nup.\\n\\n\\n', \"If you're a Tubbs fan, you look only at the winning and the\\nfilled seats at Daniel-Meyer Coliseum.\", \"You think Tubbs is Will\\nRogers, even when you hear a fifth-place, John Calipari Starter Kit\\nlike tonight's Bill Bayno whine that Tubbs is something else.\\n\\n\\n\", 'Since Tubbs arrived on campus one stunning night five seasons\\nago, the Frogs have won 96 games and lost 50.', \"Tubbs said he would rather keep his mind occupied with tonight's\\nvisit by Bayno and conference rival Nevada-Las Vegas.\", 'The Frogs are\\n15-3 and ranked 21st, but Tubbs says he knows his team could and\\nshould be playing better.\\n\\n\\n', \"That ``commitment,'' as it turns out, was worth about $450,000,\\nTubbs' reported annual financial package, once you add up his\\nsalary, camps and shoe deal.\\n\\n\\n\", 'But as usual, Tubbs knows the score.'] \n",
      "\n",
      "TRIPLE EVENT CHAIN [('you', \"'re\", None), (None, 'was running', 'it'), ('you', \"'re\", None), (None, 'is', 'Rogers'), (None, 'arrived', 'seasons'), (None, 'keep', 'mind'), (None, 'knows', 'team'), (None, 'reported', 'package'), (None, 'knows', 'score')] \n",
      "\n",
      "CANDIDATES [(None, 'was running', 'the football coach'), (None, 'is', 'rascal'), (None, 'make', 'us'), ('a good contract', 'are', None), ('campus', 'know', None)] \n",
      "\n",
      "ENTITY Billy Tubbs \n",
      "\n",
      "CORRECT 2 \n",
      "\n",
      "PREDICTION 1 with Probability 0.8401629 \n",
      " \n",
      "\n",
      "SENTENCE EVENT CHAIN ['Tucker has also been wearing another hat, as vice president for\\nmarketing at Quaker State.', \"In that capacity, he has overseen his\\nagency's creation of advertising for the company, most recently an\\nunusually frank and edgy campaign featuring Denis Leary, the\\nacerbic comedian, as a plain-talking pitchman for what the\\ntelevision and radio spots bill as the ``sensible technology'' of\\nthe Quaker State motor oil brand.\\n\\n\\n\", 'Tucker previously held top posts at New York agencies such as\\nScali, McCabe, Sloves, which handled Castrol motor oil, and Lowe\\nTucker Metcalf.', \"``I needed someone to pull together the marketing department,''\\nsaid Bechtel, who joined Tucker for the interview, ``and there was\\nchemistry with Bill because he was someone who had the same drive\\nand focus as I did.''\\n\\n\\n\", 'When Tucker joined Quaker State, the Chicago office of Foote,\\nCone &AMP Belding, a unit of True North Communications, was handling\\nbrand advertising, with billings estimated at $20 million.', 'After\\nthe agency resigned in September 1997, Tucker supervised a review\\nthat was narrowed to two agencies in San Francisco: Goodby,\\nSilverstein &AMP Partners, part of Omnicom Group, and Leagas Delaney.\\n\\n\\n'] \n",
      "\n",
      "TRIPLE EVENT CHAIN [(None, 'been wearing', 'hat'), (None, 'has overseen', 'creation'), (None, 'held', 'posts'), ('who', 'joined', None), (None, 'joined', 'State'), (None, 'supervised', 'review')] \n",
      "\n",
      "CANDIDATES [('a $1 billion deal', 'managing', None), ('me', 'break', None), ('some instances', 'packaged', None), ('consumers', 'presents', None), ('I', 'can step', None)] \n",
      "\n",
      "ENTITY Tucker \n",
      "\n",
      "CORRECT 5 \n",
      "\n",
      "PREDICTION 1 with Probability 0.8401629 \n",
      " \n",
      "\n",
      "SENTENCE EVENT CHAIN [\"``We have some big steps we need to take, but we're taking\\nthem,'' said UT-Pan Am athletic director Bill Weidner, who was an\\nassistant athletic director at SMU for seven years.\", \"``We think\\nwe've got a state-of-the-art compliance program.\", \"We've done a lot of work\\ntrying to rebuild trust in the community.''\\n\\n\\n\"] \n",
      "\n",
      "TRIPLE EVENT CHAIN [(None, 'have', 'steps'), (None, \"'ve got\", 'compliance program'), (None, \"'ve done\", 'lot')] \n",
      "\n",
      "CANDIDATES [('a\\nfair amount', 'be', None), ('next\\nseason', 'change', None), (None, 'run', 'part'), (\"the NCAA's jailhouse\", 'think', None), (None, 'have', 'talent')] \n",
      "\n",
      "ENTITY We \n",
      "\n",
      "CORRECT 5 \n",
      "\n",
      "PREDICTION 1 with Probability 0.8401629 \n",
      " \n",
      "\n",
      "SENTENCE EVENT CHAIN [\"Amir himself told Michael Karpin and Ina\\nFriedman, the authors of the trenchant ``Murder in the Name of\\nGod'': ``My deed will be understood in the future.\", \"So although most Israelis accept that Amir was alone when he\\npulled the trigger, there are those who still ask if he wasn't\\ndecisively encouraged to act by the national-religious circles he\\nmoved in, and\", \"specifically if he didn't have rabbinical sanction to\\nmurder the Prime Minister.\"] \n",
      "\n",
      "TRIPLE EVENT CHAIN [(None, 'told', 'Karpin'), (None, 'pulled', 'trigger'), (None, \"didn't have\", 'sanction')] \n",
      "\n",
      "CANDIDATES [(None, 'would be', 'proof'), (None, \"n't go\", 'a conspiracy theorist'), ('rabbinical sanction', 'carrying', None), ('he', 'had told', None), (None, 'revealed', 'Violence')] \n",
      "\n",
      "ENTITY Yigal Amir \n",
      "\n",
      "CORRECT 4 \n",
      "\n",
      "PREDICTION 1 with Probability 0.8401629 \n",
      " \n",
      "\n",
      "SENTENCE EVENT CHAIN ['He jabbed and moved away every time Tyson telegraphed a\\npunch.', 'Botha beat Tyson to the punch?\\n\\n\\n', 'All Tyson proved in his latest comeback fight was he still has\\nthe ability to be a one-punch wonder when a mediocre opponent gets\\ncareless.', 'Trailing by a wide margin on points, Tyson dropped Botha\\nwith a right hand with 11 seconds remaining in the fifth round.\\n', \"Richard Steele's\\n10-count, Tyson had his first victory in two years and four months.\\n\\n\\n\", 'The bout ended with\\nTyson going bonkers in the ring and a near melee breaking out\\nbetween the two camps.\\n\\n\\n', \"But as the\\nround ended and the two were in a clinch, Tyson attempted to twist\\nBotha's arm (''I told the ref, 'He's trying to break my arm.''')\\nand Botha responded by throwing an overhand right after the bell.\\n\", 'That infuriated Tyson.', \"He\\ntaunted Tyson, dropping his gloves, even smiling at him and saying,\\n``Is that all you have?'\", 'Tyson began pressing\\nthe attack and caught Botha coming in with a short right on the\\nchin.', 'Tyson seemed to take his performance well, and his handlers were\\nin full spin control after the fight.', \"Told of Botha's\\ncharge that Tyson was trying to break his arm, the former champion\\nsaid, ``He's correct.\"] \n",
      "\n",
      "TRIPLE EVENT CHAIN [(None, 'telegraphed', 'punch'), ('Botha', 'beat', None), (None, 'has', 'ability'), (None, 'dropped', 'Botha'), (None, 'had', 'victory'), (None, 'going', 'bonkers'), (None, 'attempted', 'twist'), ('That', 'infuriated', None), ('He', 'taunted', None), (None, 'began', 'pressing'), (None, 'seemed', 'to take'), (None, 'was trying', 'to break')] \n",
      "\n",
      "CANDIDATES [('a dramatic career slide', 'used', None), (None, 'dropping', 'things'), ('no concern', 'work', None), (None, 'was', 'a light-punching, soft-bellied heavyweight'), (None, 'has', 'time')] \n",
      "\n",
      "ENTITY Mike Tyson \n",
      "\n",
      "CORRECT 5 \n",
      "\n",
      "PREDICTION 1 with Probability 0.8401629 \n",
      " \n",
      "\n",
      "SENTENCE EVENT CHAIN ['The Jets actually look a lot like the Patriot team that went to\\nthe Super Bowl two years ago.', 'They have Bill Parcells, Al Groh,\\nBill Belichick, Curtis Martin, and Dave Meggett.', \"Like the Patriots\\nof '96, they won the AFC East and got a first-round playoff bye.\\n\\n\\n\", 'The Jets Sunday play Jacksonville in their first home playoff\\ngame in 12 years.', 'Like the pre-Tuna Patriots, the Jets were an NFL joke for years.\\n', 'But now they are favored to play in the AFC Championship Game next\\nweek.'] \n",
      "\n",
      "TRIPLE EVENT CHAIN [(None, 'look', 'lot'), (None, 'have', 'Parcells'), (None, 'won', 'East'), (None, 'play', 'Jacksonville'), (None, 'were', 'NFL joke'), (None, 'are favored', 'to play')] \n",
      "\n",
      "CANDIDATES [(None, 'win', 'the Super Bowl'), ('the season', 'hurts', None), (None, 'support', 'a team'), (None, 'could make', 'it'), ('us', 'is sprinkled', None)] \n",
      "\n",
      "ENTITY the New York Jets \n",
      "\n",
      "CORRECT 4 \n",
      "\n",
      "PREDICTION 1 with Probability 0.8401629 \n",
      " \n",
      "\n",
      "SENTENCE EVENT CHAIN ['Hachamovitch was a hospital resident in charge of treating women\\nwho had complications from abortions.', \"That, he later said in a\\ncourt deposition, led him to ``make sure that abortion was legal\\nand available and affordable and safe.''\\n\\n\\n\", 'In 1970, Hachamovitch and a partner had incorporated a practice\\nin Westchester County outside New York City.\\n\\n\\n', 'He later told a writer that he believed middle- and low-income\\nwomen needed access to low-cost procedures; rich women could always\\nget them.\\n\\n\\n', 'Hachamovitch received medical\\nlicenses in Washington, D.C., and six states.\\n\\n\\n', 'Meanwhile, he set up clinics in states with booming populations.\\n', \"He was making big, big\\nbucks.''\\n\\n\\n\", 'He also expanded into the Bronx, where he started a clinic in\\nthree apartments.', 'Years later, abortion opponents turned him in to\\nauthorities for violating building codes but he was allowed to\\nstay.\\n\\n\\n', 'Right before\\nshe was to be discharged, Rodriguez started turning blue from lack\\nof oxygen.', 'Problems with drugs being misused by doctors at the Houston\\nclinic prompted Hachamovitch to voluntarily surrender his federal\\nlicense to dispense medicine in 1986 and 1987.\\n\\n\\n', 'The state went to court to shut him down, and Hachamovitch\\nvoluntarily closed the clinic.\\n\\n\\n', \"``His staff in Houston told Hachamovitch that,'' Amshoff said.\\n``He (Hachamovitch) ignored that.\", 'In 1995, Hachamovitch closed his Dallas clinic in the face of\\nanti-abortion protests.', 'A year later, Hachamovitch sold A to Z in\\nSan Antonio.\\n\\n\\n', 'In New York, Hachamovitch still faces a malpractice case in the\\ndeath of a 28-year-old woman who died from complications of a\\nperforated uterus caused by a doctor at a Hachamovitch clinic.\\n\\n\\n', 'At times throughout his career, Hachamovitch would simply deny\\nknowing of any problems and disavow responsibility because he was\\nnot the doctor treating the patient.\\n\\n\\n', \"When Hachamovitch opened clinics in Arizona, he immediately\\nundercut other doctors' prices, said Dr. Brian Finkel, a Phoenix\\nabortion provider who worked for Hachamovitch for several years.\\n\\n\\n\", \"``If he could undercut prices, he knew he'd get more of the\\nmarket share,''\", 'Hachamovitch eventually had at least three clinics in Arizona:\\nA-Z on McDowell Road, and Family Planning Institutes in west\\nPhoenix and Scottsdale.\\n\\n\\n', \"He was eventually censured for the death of a patient before he\\ngave up his license last year after Herron's death.\\n\\n\\n\", 'Each time, however, Hachamovitch was not\\nthe doctor actually involved in the case.\\n\\n\\n', 'He was the target of seven complaints made to BOMEX.', \"The Herrons' attorney, Paul Lazarus, says Hachamovitch has to\\ntake some of the blame.\\n\\n\\n\"] \n",
      "\n",
      "TRIPLE EVENT CHAIN [(None, 'was', 'hospital resident'), ('That', 'led', None), (None, 'had incorporated', 'practice'), (None, 'told', 'writer'), (None, 'received', 'licenses'), (None, 'set', 'clinics'), (None, 'was making', 'bucks'), (None, 'started', 'clinic'), ('abortion opponents', 'turned', None), (None, 'started', 'turning'), ('Problems', 'prompted', None), (None, 'closed', 'clinic'), ('staff', 'told', None), (None, 'closed', 'Dallas clinic'), (None, 'sold', 'A'), (None, 'faces', 'malpractice case'), (None, 'deny', 'knowing'), (None, 'opened', 'clinics'), (None, 'could undercut', 'prices'), (None, 'had', 'clinics'), (None, 'gave', 'license'), (None, 'was not', 'doctor'), (None, 'was', 'target'), (None, 'has', '\\ntake')] \n",
      "\n",
      "CANDIDATES [(None, 'had', 'duty'), ('lawsuits', 'should not have done', None), (None, 'know', 'the A-Z clinic'), ('the pair', 'could', None), ('two former employees', 'starting', None)] \n",
      "\n",
      "ENTITY Hachamovitch \n",
      "\n",
      "CORRECT 1 \n",
      "\n",
      "PREDICTION 1 with Probability 0.8401629 \n",
      " \n",
      "\n",
      "SENTENCE EVENT CHAIN ['There were some\\ndefinite growing pains, but I think toward the end of the year we\\nstarted to play better.', \"Then this year, we took it from there.''\\n\\n\\n\", '``I think we played with some\\nemotion and we had some success and we discovered, `Hey, we can be\\na good offensive line.', 'We can run the ball.'] \n",
      "\n",
      "TRIPLE EVENT CHAIN [(None, 'started', 'to play'), (None, 'took', 'it'), (None, 'had', 'success'), (None, 'can run', 'ball')] \n",
      "\n",
      "CANDIDATES [(None, 'look', 'dollars'), (None, 'can impose', 'will'), ('ex Collins', 'improved', None), (None, 'done', 'anybody'), (None, 'struggled', 'those numbers')] \n",
      "\n",
      "ENTITY we \n",
      "\n",
      "CORRECT 2 \n",
      "\n",
      "PREDICTION 1 with Probability 0.8401629 \n",
      " \n",
      "\n",
      "SENTENCE EVENT CHAIN [\"\\nWith one pass, Plummer put the Cardinals in Chris Jacke's range,\\nthen watched Jacke's 52-yard field goal soar through the uprights\\nas time expired, pushing Arizona past the San Diego Chargers on\\nSunday and giving the Cardinals the NFC's final wild-card spot.\\n\\n\\n\", 'The Cardinals will need to draw on that stick-to-itiveness when\\nthey face the Dallas Cowboys at 3:05 today at Texas Stadium in a\\nfirst-round playoff game.', 'And while the Cardinals are making their first postseason\\nappearance since 1982, the Cowboys are accustomed to elimination\\ngames.', 'Plummer led the first fourth-quarter rally in Week 3, when the\\nCardinals scored 17 points for a 17-3 victory over Philadelphia.\\n'] \n",
      "\n",
      "TRIPLE EVENT CHAIN [('Plummer', 'put', None), (None, 'will need', 'to draw'), (None, 'are making', 'appearance'), (None, 'scored', 'points')] \n",
      "\n",
      "CANDIDATES [(None, \"haven't done\", 'it'), ('`It', 'like', None), ('a testament', \"haven't done\", None), ('them', 'struggled', None), ('a 17-3 victory', 'giving', None)] \n",
      "\n",
      "ENTITY the Cardinals \n",
      "\n",
      "CORRECT 1 \n",
      "\n",
      "PREDICTION 1 with Probability 0.8401629 \n",
      " \n",
      "\n",
      "SENTENCE EVENT CHAIN ['No Entry\\n\\n\\nED KOCH boldly tried to go where he had gone hundreds of times\\nwhen he was mayor: to the Blue Room at City Hall.', 'A police officer stopped him.\\n\\n\\n', 'But the checkpoint that\\nKoch did not pass _ a gate with a desk where the officer sits', 'It was there when Koch was mayor.\\n\\n\\n', 'Koch decided to stop by the Blue Room on the way to a speech by\\nCity Council Speaker PETER VALLONE, and found himself face to face\\nwith the officer.\\n\\n\\n'] \n",
      "\n",
      "TRIPLE EVENT CHAIN [(None, 'tried', 'to go'), ('police officer', 'stopped', None), (None, 'did not pass', '_'), (None, 'was', 'mayor'), (None, 'decided', 'to stop')] \n",
      "\n",
      "CANDIDATES [(None, 'wish', 'The room'), (None, 'barred', 'Bill'), (None, 'be planning', 'the settlement'), ('many years', 'was paying', None), (None, 'was told', 'to do')] \n",
      "\n",
      "ENTITY ED KOCH \n",
      "\n",
      "CORRECT 5 \n",
      "\n",
      "PREDICTION 1 with Probability 0.8401629 \n",
      " \n",
      "\n",
      "SENTENCE EVENT CHAIN [\"It is one of the most historically important\\nand most portable, and it is not strongly associated in the\\npublic's mind with Lincoln Center, unlike the enormous Chagall\\nmurals at the Metropolitan Opera House or the Henry Moore\", 'The Johns is an unusual kind of public art: it dominates through\\nreticence and self-containment, inviting private contemplation.\\n', 'It was somewhat out of character for Johns to accept a public\\ncommission in the first place.', 'Johns recently said that he had intended for the\\npainting to have a metal frame but could not afford it; he made do\\nwith the rather flimsy wood frame that the work still has.\\n\\n\\n'] \n",
      "\n",
      "TRIPLE EVENT CHAIN [(None, 'is', 'one'), (None, 'is', 'kind'), (None, 'to accept', 'commission'), (None, 'had intended', 'to have')] \n",
      "\n",
      "CANDIDATES [('newsprint', 'be', None), (None, 'may have been', 'Balanchine'), (None, 'seems', '9 _'), ('core', 'is', None), (None, 'is not strongly associated', 'all the\\nsculptures')] \n",
      "\n",
      "ENTITY Johns \n",
      "\n",
      "CORRECT 4 \n",
      "\n",
      "PREDICTION 1 with Probability 0.8401629 \n",
      " \n",
      "\n",
      "SENTENCE EVENT CHAIN ['Osgood still opens the show standing next to the Plexiglas\\ntower, and it still ends with buzzing and chirping from some nature\\noutpost.', 'But generally, Osgood has had\\na hands-off approach.\\n\\n\\n', 'Osgood has had a roundabout career.', 'At ABC, he was forced to drop his real last name, Wood,\\nfor his middle name, Osgood, because a Charles Wood already worked\\nthere.\\n\\n\\n', \"At ABC Radio in the early '60s, he met a young reporter named\\nTed Koppel.\", 'Osgood left ABC for CBS Radio when the network ran with the idea\\nbut passed on him as host.', 'He soon began filling in for TV anchor\\nRoger Mudd, however, and from then on his name surfaced as a\\npossibility for a number of high-profile, on-camera jobs, until\\nKuralt retired.\\n\\n\\n'] \n",
      "\n",
      "TRIPLE EVENT CHAIN [(None, 'opens', 'show'), (None, 'has had', 'approach'), (None, 'has had', 'career'), (None, 'was forced', 'to drop'), (None, 'met', 'reporter'), (None, 'left', 'ABC'), (None, 'began', 'filling')] \n",
      "\n",
      "CANDIDATES [('classic segments', 'can become', None), (None, 'ticked', 'TV critic'), ('a Joe DiMaggio interview', 'work', None), (None, 'chirping', 'the college radio station'), (None, 'delivers', 'commentaries')] \n",
      "\n",
      "ENTITY Charles Osgood's \n",
      "\n",
      "CORRECT 5 \n",
      "\n",
      "PREDICTION 1 with Probability 0.8401629 \n",
      " \n",
      "\n",
      "SENTENCE EVENT CHAIN [\"Ecevit is the godfather of Turkey's political left.\", 'He has\\nmaintained his convictions even in the face of trials,\\nassassination attempts and prison terms.', 'His insistence on\\ndriving to work in an aging Turkish sedan rather than using the\\nchauffeur-driven Mercedes to which he is entitled has given him a\\nreputation as something of an eccentric.\\n\\n\\n', \"Ecevit's education also sets him apart from many of his\\ncolleagues.\", 'He studied English literature at Ankara University, and\\nlater Sanskrit and Bengali at London University.'] \n",
      "\n",
      "TRIPLE EVENT CHAIN [(None, 'is', 'godfather'), (None, '\\nmaintained', 'convictions'), ('insistence', 'has given', None), ('education', 'sets', None), (None, 'studied', 'English literature')] \n",
      "\n",
      "CANDIDATES [('These convictions', 'now favors', None), (None, 'departing', 'April'), (None, 'is', 'translator'), (None, 'has', 'religious\\ninfluence'), ('protectionist economics', 'represented', None)] \n",
      "\n",
      "ENTITY Ecevit \n",
      "\n",
      "CORRECT 3 \n",
      "\n",
      "PREDICTION 1 with Probability 0.8401629 \n",
      " \n",
      "\n",
      "SENTENCE EVENT CHAIN ['In this short book, David Bennahum packs in details of\\nhis early experiences with computer games (hence the title),\\nsoftware piracy, and drugs.', 'Bennahum, who now writes for Wired magazine out of its New York\\nadvertising office, does much to shatter the Generation-X myth that\\nportrayed him and those of his age group as a bunch of troubled\\nteenagers and slacker young adults.\\n\\n\\n', 'Bennahum spent years working on Extra Life, and it has taken a\\nlot of twists and turns in the process.', 'For\\nseveral years now Bennahum has been sharing this journey with\\nnearly 5,000 other readers through his free Internet mailing list,\\nMEME.'] \n",
      "\n",
      "TRIPLE EVENT CHAIN [(None, 'packs', 'experiences'), ('that', 'portrayed', None), (None, 'spent', 'years'), (None, 'has been sharing', 'journey')] \n",
      "\n",
      "CANDIDATES [(None, 'make', 'any idea'), ('kids', 'working', None), (None, 'created', 'Memory mailing list'), ('many publications', 'is', None), ('young computer attackers', 'had been sent', None)] \n",
      "\n",
      "ENTITY David Bennahum \n",
      "\n",
      "CORRECT 3 \n",
      "\n",
      "PREDICTION 1 with Probability 0.8401629 \n",
      " \n",
      "\n",
      "SENTENCE EVENT CHAIN ['Team officials said that Ewing mildly sprained his right knee\\nfighting for a rebound with about seven minutes left in the second\\nquarter, but they were unsure when he would return to practice.\\n\\n\\n', \"In foul trouble early, Ewing's minutes were spare but were\\nindicative of how far he has to go to become an impact player\\nagain.\", 'When he left the game, he had three turnovers in seven\\nminutes and was 1 of 1 from the field with one rebound and one\\nassist.\\n\\n\\n', 'On the\\nnext possession, Ewing was stripped of the ball as he put it below\\nhis waist.', 'Although his\\nknee injury did not appear serious, Ewing has had nearly a decade\\nof trouble with his right knee.', 'Over the years, he has had four\\narthroscopic surgeries on that knee.\\n\\n\\n', 'Like his teammates, Ewing is learning how to adjust his\\ngame to the arrival of Latrell Sprewell.', 'In that\\nposition, he can be the recipient of a pass for an open jumper.\\n'] \n",
      "\n",
      "TRIPLE EVENT CHAIN [(None, 'sprained', 'knee'), (None, 'has', 'to go'), (None, 'left', 'game'), (None, 'put', 'it'), (None, 'has had', 'decade'), (None, 'has had', 'surgeries'), (None, 'is learning', 'to adjust'), (None, 'can be', 'recipient')] \n",
      "\n",
      "CANDIDATES [(None, 'came', 'time'), ('the basket', 'carrying', None), (None, 'continued', 'whom'), ('training camp', 'would return', None), (None, 'needs', 'time')] \n",
      "\n",
      "ENTITY Patrick Ewing's \n",
      "\n",
      "CORRECT 5 \n",
      "\n",
      "PREDICTION 1 with Probability 0.8401629 \n",
      " \n",
      "\n",
      "SENTENCE EVENT CHAIN ['White House attorneys are\\nopposed to witnesses, but may decide to call their own if the\\nSenate gives prosecutors permission to do so.\\n\\n\\n', 'Although the Senate is expected to reject the Democratic effort\\nto dismiss the charges on a mostly party-line vote, the motion to\\ncall witnesses is expected to be close.', 'Then the Senate would be asked to vote\\nagain on whether each individual witness would be called for live\\ntestimony on the Senate floor.\\n\\n\\n'] \n",
      "\n",
      "TRIPLE EVENT CHAIN [(None, 'gives', 'prosecutors'), (None, 'is expected', 'to reject'), (None, 'would be asked', 'to vote')] \n",
      "\n",
      "CANDIDATES [(None, 'asserted', 'me'), (None, 'contributed', 'unscheduled\\nrecesses'), (None, 'require', 'impeachment deliberations'), ('each individual witness', 'came', None), (None, 'proceed', 'a comment')] \n",
      "\n",
      "ENTITY the United States Senate \n",
      "\n",
      "CORRECT 3 \n",
      "\n",
      "PREDICTION 1 with Probability 0.8401629 \n",
      " \n",
      "\n",
      "SENTENCE EVENT CHAIN [\"She implored the scholars to seek ``truth'' -- which appeared to\\nmean recovering a unified and coherent past invested with Christian\\ntheological meaning.\\n\\n\\n\", 'While some of her remarks were interesting, she also appeared\\nangry and bitter.', 'Without personally knowing her audience, she\\nattacked the work of some present.', 'She presumed to know the motives\\nbehind their ideas and dismissed them as people without religious\\nconvictions.\\n\\n\\n'] \n",
      "\n",
      "TRIPLE EVENT CHAIN [(None, 'implored', 'scholars'), (None, 'appeared', 'angry'), (None, 'attacked', 'work'), (None, 'presumed', 'to know')] \n",
      "\n",
      "CANDIDATES [('us', 'written', None), ('an academic conference', 'began', None), (None, 'urged', 'us'), (None, 'came', 'most forms'), ('particularly Christianity', 'was', None)] \n",
      "\n",
      "ENTITY She \n",
      "\n",
      "CORRECT 3 \n",
      "\n",
      "PREDICTION 1 with Probability 0.8401629 \n",
      " \n",
      "\n",
      "SENTENCE EVENT CHAIN ['`We view that team as a playoff team.', \"``If we had to play them in the\\nplayoffs, they would be a significant opponent.''\\n\\n\\n\", 'Ironically, the Canucks have defeated the Stars just about every\\nway possible.', 'They did it Dec. 4 while missing offensive stars', 'They did it Jan. 10 by holding the\\nStars to 13 shots.', 'Last night, they did it most convincingly by\\nmaking use of a healthy lineup and two new additions who were\\nmaking their debuts in Canucks uniforms.\\n\\n\\n', \"\\\\Ragainst them\\\\S; we didn't initiate anything.''\\n\\n\\n\"] \n",
      "\n",
      "TRIPLE EVENT CHAIN [('We', 'view', None), (None, 'would be', 'opponent'), (None, 'have defeated', 'Stars'), (None, 'did', 'it'), ('They', 'did', None), ('they', 'did', None), (None, \"didn't initiate\", 'anything')] \n",
      "\n",
      "CANDIDATES [(None, 'would be', 'any talk'), ('it', 'took', None), ('the season', 'when scoring', None), ('Bill Muckalt', 'added', None), ('Bill Muckalt', 'be', None)] \n",
      "\n",
      "ENTITY The 15-23-6 Canucks \n",
      "\n",
      "CORRECT 2 \n",
      "\n",
      "PREDICTION 1 with Probability 0.8401629 \n",
      " \n",
      "\n",
      "SENTENCE EVENT CHAIN ['But also like the Valley, the Woodland Hills\\ninsurer has staged a stunning comeback in five years.\\n\\n\\n', \"Consulting the California Department of Insurance and an outside\\nspecialist, ``we'd done our reinsurance calculations on probable\\nmaximum losses,'' said 20th Century Chief Executive William\\nMellick.\\n\\n\\n\", 'The best estimates were that the company would need to pay out\\n$90 million to $110 million in a worst-case disaster.', \"The company's bread and butter had always been\\n-- and still is -- automobile insurance, in which it is one of the\\nstate's largest and lowest-priced players.\\n\\n\\n\"] \n",
      "\n",
      "TRIPLE EVENT CHAIN [(None, 'has staged', 'comeback'), (None, \"'d done\", 'reinsurance calculations'), (None, 'would need', 'to pay'), (None, 'is', 'one')] \n",
      "\n",
      "CANDIDATES [(\"the nation's largest\\ncommercial property and casualty underwriters\", 'definitely turned', None), (None, 'still is', 'fact'), ('a worst-case disaster', 'come', None), (None, 'agreed', 'to eliminate'), (None, 'controlling', 'both market capitalization')] \n",
      "\n",
      "ENTITY the Woodland Hills\n",
      "insurer \n",
      "\n",
      "CORRECT 4 \n",
      "\n",
      "PREDICTION 1 with Probability 0.8401629 \n",
      " \n",
      "\n",
      "SENTENCE EVENT CHAIN ['Sprewell is no saint; what we looked for Friday was contrition,\\nand Sprewell was filled with it.', 'Someone asked Sprewell Friday if he knew what to expect on\\nopening night.', \"He has an edge, obviously, a scorer's attitude and a consistency\\nthat is the opposite of Starks' unpredictability.\\n\\n\\n\", 'But can Sprewell withstand the withering New York pressure?\\n', 'He knows\\nthat a lot of fans _ and the news media _ will resent him\\nregardless of what he says.'] \n",
      "\n",
      "TRIPLE EVENT CHAIN [(None, 'is', 'saint'), ('Someone', 'asked', None), (None, 'has', 'edge'), (None, 'withstand', 'York pressure'), ('lot', 'will resent', None)] \n",
      "\n",
      "CANDIDATES [('my career', 'realize', None), (None, 'met', '\\nBillie Holiday'), ('the new Knicks player', 'has been', None), (None, 'come', 'no saint'), ('fans', 'will give', None)] \n",
      "\n",
      "ENTITY Friday's Sprewell \n",
      "\n",
      "CORRECT 5 \n",
      "\n",
      "PREDICTION 1 with Probability 0.8401629 \n",
      " \n",
      "\n",
      "SENTENCE EVENT CHAIN ['Remember, Drexler is\\ntrying to survive with six walk-ons.', 'The last thing Drexler needs as he learns the coaching ropes is\\nthe hot breath of the NCAA on his neck.', 'Drexler has nothing to say on the subject', 'As much as he might love basketball, as opposed to\\nhanging around and living off the interest from his investments, he\\nwants to be in an environment where he has at least a fighting\\nchance to win.\\n\\n\\n', \"Drexler can expect to experience more angst than ecstasy\\nover the next couple of months, yet from what we've heard about his\\ngolf swing, it's probably a wash that he opted to coach instead of\\nhit the links daily.\\n\\n\\n\"] \n",
      "\n",
      "TRIPLE EVENT CHAIN [(None, '\\ntrying', 'to survive'), (None, 'learns', 'coaching ropes'), (None, 'has', 'nothing'), (None, 'might love', 'basketball'), (None, 'can expect', 'to experience')] \n",
      "\n",
      "CANDIDATES [('giggling children', 'Had', None), ('an environment', 'be', None), ('one start', 'makes', None), (None, 'declines', 'to pass'), (None, 'Had', 'the golf course')] \n",
      "\n",
      "ENTITY Drexler \n",
      "\n",
      "CORRECT 4 \n",
      "\n",
      "PREDICTION 1 with Probability 0.8401629 \n",
      " \n",
      "\n",
      "SENTENCE EVENT CHAIN ['\\nAs Michael Jordan prepared to tee off\\nWednesday morning, Charles Barkley surveyed the throng of at least\\n5,000 spectators who surrounded the 10th tee.', \"Jordan was one of the amateur celebrities\\nwho competed in Wednesday's first round of the Bob Hope Chrysler\\nClassic, and his presence was the talk of Bermuda Dunes Country\\nClub.\\n\\n\\n\", 'Jordan held his own with two birdies, eight pars, six bogeys and\\ntwo holes where he picked up without finishing.', 'It was an admirable\\nperformance, considering that Jordan will have surgery Monday to\\nrepair a torn tendon in his right index finger.', 'Jordan injured the\\nfinger while cutting the tip off a cigar earlier this month, and\\nthe surgery will prevent him from playing in the AT&AMPT Pebble Beach\\nNational Pro-Am next month.\\n\\n\\n', \"The injury had no bearing on Jordan's decision to retire because\\nhe had already made that decision.\", 'But even if Jordan had decided\\nto return to the NBA, he would not have been ready for the start of\\nthe season.', \"``Michael Jordan is an icon, so I knew what to expect,'' said\\nStewart, winner of the 1989 PGA Championship and the 1991 United\\nStates Open.\", 'Hope, the 95-year-old host of the\\ntournament, greeted Jordan and Barkley on the first tee, and the\\nthreesome posed for pictures.', 'Jordan fell to\\nthe ground in laughter.', \"I don't think he hit anybody\\ntoday, so that's a good thing.\\n\\n\\n\", \"``Michael's got a beautiful rhythm, he's an exceptional athlete,\\nand it kind of flows into his golf game.\", 'But Jordan did not need a name tag, and he ended his day with\\nstyle, making a 30-foot birdie putt on No. 9, as the gallery\\ncheered.'] \n",
      "\n",
      "TRIPLE EVENT CHAIN [(None, 'prepared', 'to tee'), (None, 'was', 'one'), (None, 'held', 'own'), (None, 'will have', 'surgery'), (None, 'injured', 'finger'), (None, 'made', 'decision'), (None, 'had decided', 'to return'), (None, 'is', 'icon'), ('Hope', 'greeted', None), (None, 'fell', 'ground'), (None, 'hit', 'anybody'), (None, \"'s\", 'athlete'), (None, 'did not need', 'name tag')] \n",
      "\n",
      "CANDIDATES [(None, 'figures', 'track'), ('track', 'ended', None), ('the National\\nBasketball Association', 'cure', None), (None, 'considered', 'retirement'), (None, 'seemed', 'to be')] \n",
      "\n",
      "ENTITY Michael Jordan \n",
      "\n",
      "CORRECT 5 \n",
      "\n",
      "PREDICTION 1 with Probability 0.8401629 \n",
      " \n",
      "\n",
      "SENTENCE EVENT CHAIN ['Now Fallows, 49, who was replaced last June as editor of U.S.\\nNews, has an opportunity to influence the software.', 'When Fallows was a writer for The Atlantic Monthly, his editors\\nindulged his nerdish inclinations by allowing him to write\\noccasional computer columns.', \"He was an outspoken member of that\\nquixotic minority that tried to resist the Microsoft tide, writing\\narticles that extolled the virtues of IBM's OS/2 operating system\\nover Windows.\\n\\n\\n\", 'As a journalist, Fallows has had a penchant for public policy.\\n', 'Fallows says he wants to make Word more helpful and less\\nirritating to use for people who do in-depth research and writing,\\nlike academics, journalists and authors.', \"His boss, Jon DeVaan, a\\nMicrosoft vice president, said Fallows brought an author's\\nperspective, creativity and a genuine enthusiasm for technology to\\nthe software design team.\\n\\n\\n\"] \n",
      "\n",
      "TRIPLE EVENT CHAIN [(None, 'has', 'opportunity'), (None, 'was', 'writer'), (None, 'was', 'member'), (None, 'has had', 'penchant'), (None, 'wants', 'to make'), (None, 'brought', 'perspective')] \n",
      "\n",
      "CANDIDATES [('a private office', 'tried', None), (None, 'would sue', 'this civilization'), (None, 'intends', 'to work'), (None, 'solving', 'I'), ('Lewis Cullman', 'was replaced', None)] \n",
      "\n",
      "ENTITY Fallows \n",
      "\n",
      "CORRECT 3 \n",
      "\n",
      "PREDICTION 1 with Probability 0.8401629 \n",
      " \n",
      "\n",
      "SENTENCE EVENT CHAIN ['Plummer rang up nearly 150 yards passing on those two\\npossessions, which included one touchdown, then a journey to the\\n5-yard line in the waning seconds.\\n\\n\\n', \"There is no question he\\nhas some unfinished business from November, and since it's now a\\nsudden-elimination postseason format, Plummer will cause\\nuncomfortable moments for the local team and the local fans at\\nTexas Stadium.\\n\\n\\n\", 'Those kind of compliments are usually reserved for an\\nElway-type, but Plummer is a young quarterback with a proven resume\\nfor manufacturing last-second victories.\\n\\n\\n', 'He is the focal\\npoint for the Cardinals, making their first playoff appearance in\\n16 seasons.', 'He is obviously the focal point for the Cowboys, who\\nmissed the playoffs last season.', 'Kevin Mathis and Kevin Smith have settled in at cornerback,\\nwhile Campo has a better assortment of nickel-coverage defenders\\nthan the last time Plummer faced the Cowboys.\\n\\n\\n'] \n",
      "\n",
      "TRIPLE EVENT CHAIN [(None, 'rang', 'yards'), (None, 'will cause', 'moments'), (None, 'is', 'quarterback'), (None, 'is', 'point'), (None, 'is', 'point'), (None, 'faced', 'Cowboys')] \n",
      "\n",
      "CANDIDATES [('the warhead', 'having', None), (None, 'is', 'warhead'), ('a better assortment', 'will sit', None), ('compliments', 'had', None), (None, 'is', 'a\\nsudden-elimination postseason format')] \n",
      "\n",
      "ENTITY \n",
      "Jake Plummer \n",
      "\n",
      "CORRECT 2 \n",
      "\n",
      "PREDICTION 1 with Probability 0.8401629 \n",
      " \n",
      "\n",
      "SENTENCE EVENT CHAIN [\"The House prosecutors believe Lewinsky's testimony would bolster\\nthe version of events they have laid out in the Senate trial:\\nClinton and Jordan intensified efforts to help Lewinsky find a job\\nafter her name appeared on the Jones witness list, Clinton\\nencouraged Lewinsky to file a false affidavit denying a sexual\\nrelationship with Clinton, and Clinton sent his secretary Betty\\nCurrie to Lewinsky's apartment to retrieve gifts subpoenaed by\\nJones' lawyers.\\n\\n\\n\", 'Lewinsky also would be asked about a Dec. 17, 1998, phone\\nconversation when Clinton informed Lewinsky she was on the Jones\\nwitness list.', 'The White House position on this scenario is that Lewinsky said\\non other occasions that Clinton said nothing when she broached the\\nsubject of retrieving gifts; that since he never had sexual\\nintercourse with Lewinsky and that she could sign a\\nlimited-but-truthful affidavit in the Jones case that they never\\nhad sex; to avoid testifying.\\n\\n\\n', \"Prosecutors believe Jordan's testimony will prove that Clinton\\nencouraged Lewinsky to file the false Jones affidavit.\\n\\n\\n\", 'In her grand jury testimony, Lewinsky admitted her affidavit was\\nfalse and that she and Clinton in fact did have a sexual\\nrelationship.\\n\\n\\n', 'Clinton, through Jordan, intensified efforts to find Lewinsky a\\njob after the appearance of her name on the Jones lawsuit witness\\nlist, prosecutors assert.\\n\\n\\n', \"White House lawyers have insisted the job search was an\\ninnocent, routine effort to help a Clinton friend find employment\\noutside of government, and was unconnected to Clinton's efforts to\\nbuy her silence.\\n\\n\\n\", 'The prosecutors want to question Blumenthal, a presidential\\naide, to prove that Clinton obstructed justice by lying to\\nBlumenthal about his relationship with Lewinsky, knowing that\\nBlumenthal would repeat the lie to the grand jury.', 'Clinton told Blumenthal that\\nLewinsky had repeatedly made sexual advances and that he had\\nrebuffed them.', 'Clinton denied to Blumenthal that he had a sexual\\nrelationship with Lewinsky, adding that Lewinsky threatened to tell\\npeople just the opposite.\\n\\n\\n', \"The prosecutors assert that the testimony from the aide will\\nprove that Clinton sought to attack Lewinsky's character in an\\neffort to exculpate himself, which they contend supports the\\nobstruction charge.\\n\\n\\n\", \"David Kendall, Clinton's private lawyer, last week defended\\nClinton on this charge by claiming that the president's statements\\nto Blumenthal and other aides was no different from what he told\\nthe American people on national television.\\n\\n\\n\", 'Prosecutors accuse Clinton of perjury in that statement because\\nhe failed to repudiate falsehoods in his deposition in his Aug. 17,\\n1998, grand jury testimony.', 'He said that at the time, he was not\\nfocused on what Bennett was saying.', \"WESLEY HOLMES\\n\\n\\nOne of Jones' lawyers, Holmes would be asked about the\\ncircumstances leading up to Clinton's talk with Currie on Jan. 18,\\n1998, the day after Clinton was asked repeated questions about\\nLewinsky in his Jones deposition.\\n\\n\\n\", \"According to the prosecutors, Clinton tried to enlist Currie's\\nsupport for his false version of the Lewinsky relationship, trying\\nto get Currie to agree with him that he and Lewinsky were never\\nalone, and that she wanted to have sex with him but he refused.\\n\", 'In his deposition, Clinton denied a sexual relationship with\\nLewinsky and suggested Currie could back up his version of events.\\n\\n\\n', 'For that reason, prosecutors argue, Clinton must have known Currie\\nwould be a witness and his attempts to sway her testimony amounted\\nto obstruction.\\n\\n\\n', \"The White House legal team has argued Clinton had no idea Currie\\nwould be a witness, and that he was concerned with the potential of\\na media ``firestorm'' growing out of the Jones lawyers' questions\\nabout Lewinsky.\\n\\n\\n\"] \n",
      "\n",
      "TRIPLE EVENT CHAIN [(None, 'intensified', 'efforts'), (None, 'informed', 'Lewinsky'), (None, 'said', 'nothing'), (None, 'encouraged', 'Lewinsky'), (None, 'did have', 'relationship'), (None, 'intensified', 'efforts'), (None, 'find', 'employment'), (None, 'obstructed', 'justice'), (None, 'told', 'Blumenthal'), (None, 'had', 'relationship'), (None, 'sought', 'to attack'), ('David Kendall', 'defended', None), ('Prosecutors', 'accuse', None), (None, 'said', 'that'), (None, 'was asked', 'questions'), (None, 'tried', 'to enlist'), (None, 'denied', 'relationship'), (None, 'must have known', 'Currie'), (None, 'had', 'idea')] \n",
      "\n",
      "CANDIDATES [(None, 'hope', 'T. Wesley\\nHolmes'), ('Lewinsky', 'trying', None), (None, 'defended', 'the factual record'), (None, 'requires', 'Monica Lewinsky'), (None, 'intensified', 'effort')] \n",
      "\n",
      "ENTITY Clinton \n",
      "\n",
      "CORRECT 5 \n",
      "\n",
      "PREDICTION 1 with Probability 0.8401629 \n",
      " \n",
      "\n",
      "SENTENCE EVENT CHAIN [\"\\nFalcons quarterback Chris Chandler's reputation\\nchanged in half an hour Sunday, when he led Atlanta on a\\nlast-minute, eight-play, 71-yard game-tying drive in the Metrodome\\nand then a 10-play, 70-yard drive that set up the game-winning\\nfield goal in the NFC Championship Game.\\n\\n\\n\", 'For most of his 11-year career, Chandler gained attention for\\ninjuries.', 'Chandler was named NFL Offensive Player of the Week after\\ncompleting 27 of 43 passes against the Vikings for 340 yards and\\nthree touchdowns.', 'Chandler completed seven of nine passes on\\nthe two drives, for 103 yards and a touchdown _ a 151.4 passer\\nrating.'] \n",
      "\n",
      "TRIPLE EVENT CHAIN [(None, 'led', 'Atlanta'), (None, 'gained', 'attention'), (None, 'was named', 'Player'), (None, 'completed', 'passes')] \n",
      "\n",
      "CANDIDATES [('A ROLL', 'Leading', None), (None, 'was named', 'Player'), ('a passer rating', 'also was named', None), (None, 'was named', 'a 151.4 passer\\nrating'), ('the Week', 'gained', None)] \n",
      "\n",
      "ENTITY \n",
      "Falcons \n",
      "\n",
      "CORRECT 2 \n",
      "\n",
      "PREDICTION 1 with Probability 0.8401629 \n",
      " \n",
      "\n",
      "SENTENCE EVENT CHAIN [\"He hadn't seen his wife and children in almost two weeks.\", \"Frank had a brief, chilly ritual bath on the front porch in a\\nwashtub, and after it, Delight's mom gave him a blanket.\\n\\n\\n\", \"The rest of Saturday was devoted to food and ``lady things,'' as\\nFrank termed the food preparations.\\n\\n\\n\", \"By the time Frank's mother, Idella, stepped\\nforward and described getting old, and how hard it was, and how\\nlucky Delight and Frank were to have each other, everyone was\\nsobbing.\\n\\n\\n\"] \n",
      "\n",
      "TRIPLE EVENT CHAIN [(None, \"hadn't seen\", 'wife'), (None, 'had', 'bath'), (None, 'termed', 'food preparations'), (None, 'were', 'to have')] \n",
      "\n",
      "CANDIDATES [('many family members', 'cooked', None), ('big cauldrons', 'sheltered seating', None), ('uncle', 'gave', None), ('the stricter traditions', 'throw', None), (None, 'slept', 'a day school\\nprincipal')] \n",
      "\n",
      "ENTITY Frank \n",
      "\n",
      "CORRECT 3 \n",
      "\n",
      "PREDICTION 1 with Probability 0.8401629 \n",
      " \n",
      "\n",
      "SENTENCE EVENT CHAIN [\"The Cardinals haven't decided yet whether they will put Williams\\non Moss, nicknamed ``The Freak'' for his rare combination of size\\n(6 foot 4, 197 pounds) and speed (4.2 seconds in the 40-yard dash).\\n\\n\\n\", \"Williams doesn't get any argument from Vikings Coach Dennis\\nGreen, who considered drafting Chavous in the first round last\\nApril before picking Moss.\", '``If we went the way of cornerback, it probably would have\\nbeen him.', 'He has good size and speed.', \"He's a real talent.''\\n\\n\\n\", \"``The thing that's so encouraging is the way he approaches his\\njob, his dedication,''\"] \n",
      "\n",
      "TRIPLE EVENT CHAIN [('they', 'will put', None), (None, \"doesn't get\", 'argument'), ('it', 'have\\nbeen', None), (None, 'has', 'size'), (None, \"'s\", 'talent'), (None, 'approaches', 'job')] \n",
      "\n",
      "CANDIDATES [(None, 'rated', 'everybody'), (None, 'adjusting', 'the first 11 games'), (None, \"didn't want\", 'Corey'), ('the decision', \"doesn't get\", None), (None, \"'s\", 'football player')] \n",
      "\n",
      "ENTITY Williams \n",
      "\n",
      "CORRECT 5 \n",
      "\n",
      "PREDICTION 1 with Probability 0.8401629 \n",
      " \n",
      "\n",
      "SENTENCE EVENT CHAIN ['\\nIt was the spring of 1967, and a troubled Tom Yawkey sat behind\\nhis desk at Fenway Park.\\n\\n\\n', 'Six months later, Yawkey forgot his troubles.', \"Late in the season, when the Sox\\nwere on the way to drawing 1.7 million to Fenway, Yawkey announced\\nthat he didn't need a new ballpark anymore.\\n\\n\\n\", 'After World War II, when most Americans got automobiles for the\\nfirst time and were making it their primary mode of transportation,\\nYawkey asked the city of Boston to help him get some space for\\nparking.', 'He suggested taking some of the land used for Victory\\nGardens along the Fens.'] \n",
      "\n",
      "TRIPLE EVENT CHAIN [(None, 'sat', 'desk'), (None, 'forgot', 'troubles'), (None, \"didn't need\", 'ballpark'), (None, 'asked', 'city'), (None, 'suggested', 'taking')] \n",
      "\n",
      "CANDIDATES [(None, 'laughed', 'the world'), ('Parcells', 'now coaching', None), ('the team', 'beefing', None), (None, 'got', 'nothing'), ('Victory\\nGardens', 'reportedly wants', None)] \n",
      "\n",
      "ENTITY a troubled Tom Yawkey \n",
      "\n",
      "CORRECT 4 \n",
      "\n",
      "PREDICTION 1 with Probability 0.8401629 \n",
      " \n",
      "\n",
      "SENTENCE EVENT CHAIN ['Arnold Palmer is\\n69 now, an age most measuring devices calculate as old and he is\\nburdened with fighting his own cancer and helping his wife, Winnie,\\nfight hers.\\n\\n\\n', 'Palmer will continue to play in selected tournaments and the\\nSenior Skins Game, which he has won three times, is on the horizon.\\n', \"He will also play in the ``Hope,'' where he is the only five-time\\nchampion, when the regular tour stops in Palm Springs.\", 'And in April\\nhe will walk the hills of Augusta National and again soak up the\\ncheers from an appreciative Masters gallery.\\n\\n\\n', 'He played 13 events in 1997 and won $29,052.', 'So now he shrugs off advancing age and disease and tries to find\\n'] \n",
      "\n"
     ]
    },
    {
     "name": "stdout",
     "output_type": "stream",
     "text": [
      "TRIPLE EVENT CHAIN [(None, 'is', '69'), (None, 'will continue', 'to play'), (None, 'is', 'champion'), (None, 'will walk', 'hills'), (None, 'played', 'events'), (None, 'shrugs', 'advancing')] \n",
      "\n",
      "CANDIDATES [(None, 'shrugs', 'a shot'), (None, 'has graced', 'landscape'), ('a gilded view', 'made', None), ('the stuff', 'has not won', None), (None, 'guess', 'a gilded view')] \n",
      "\n",
      "ENTITY Arnold Palmer \n",
      "\n",
      "CORRECT 2 \n",
      "\n",
      "PREDICTION 1 with Probability 0.8401629 \n",
      " \n",
      "\n",
      "SENTENCE EVENT CHAIN ['\\nThe New York Times said in an editorial Thursday, Jan. 7:\\n\\n\\nFreshly re-elected, Gov. George Pataki gave a State of the State\\naddress Wednesday that was a disappointing effort to make the\\nincremental sound grand.', \"In a long hour, however,\\nPataki spoke only a few seconds on health care, not a word on how\\nto allocate the tobacco settlement and one sentence, an\\nafterthought perhaps, promising to clean up the state's abysmal\\ncampaign finance system.\\n\\n\\n\", 'For felons, Pataki proposes an end to parole and the beginning\\nof universal DNA testing, a costly change with an uncertain\\noutcome.'] \n",
      "\n",
      "TRIPLE EVENT CHAIN [(None, 'gave', 'State'), (None, 'spoke', 'seconds'), (None, 'proposes', 'end')] \n",
      "\n",
      "CANDIDATES [(None, 'made', 'mention'), (None, 'promising', 'the environment'), ('Jan.', 'elected', None), ('parole', 'made', None), (None, 'began collaring', 'the big time')] \n",
      "\n",
      "ENTITY Gov. George Pataki \n",
      "\n",
      "CORRECT 1 \n",
      "\n",
      "PREDICTION 1 with Probability 0.8401629 \n",
      " \n",
      "\n",
      "SENTENCE EVENT CHAIN ['Just days ago, his aides signaled that the governor wanted to\\nuse some of the settlement to provide coverage for the rapidly\\ngrowing number of people without health insurance, raising the\\nhopes of health-care advocates that Pataki planned a major\\ninitiative for the uninsured.', 'But the governor made it clear\\nTuesday that he had in mind a sum that would cover only a small\\nfraction of the more than 3 million New Yorkers who are uninsured.\\n\\n\\n', \"Pataki said in the\\nfirst five years he wanted to dedicate 25 percent of the state's\\nshare to health care, about $100 million a year, a fairly small\\namount to a state health care budget that stands at $27 billion.\\n\", 'The Republican governor was declaring his opening position in\\nwhat is sure to be a long, hard piece of bargaining with the\\nLegislature.'] \n",
      "\n",
      "TRIPLE EVENT CHAIN [(None, 'wanted', '\\nuse'), (None, 'had', 'sum'), (None, 'wanted', 'to dedicate'), (None, 'was declaring', 'opening position')] \n",
      "\n",
      "CANDIDATES [('stance', 'puts', None), ('a\\nhandful', 'is', None), (None, 'signaled', 'part'), (None, 'recoup', 'emergency rooms'), (None, 'wanted', 'hospitals')] \n",
      "\n",
      "ENTITY \n",
      "Gov. George Pataki \n",
      "\n",
      "CORRECT 1 \n",
      "\n",
      "PREDICTION 1 with Probability 0.8401629 \n",
      " \n",
      "\n",
      "SENTENCE EVENT CHAIN ['\\nElton Brand greeted a visitor to Duke University\\nlast week by warmly reaching out to shake hands with his right\\nhand, which is the size of a baseball mitt.', 'Then Brand wrapped his\\nleft hand over the top of the handshake, creating a baseball mitt\\nsandwich of sorts.', 'The\\nadjective is vague for describing perhaps the most ferocious and\\nbest college basketball player in the country, but it is the word\\nthat those who know Brand best frequently use.\\n\\n\\n', 'There is strong speculation that Brand will become the first\\nDuke player with eligibility remaining to leave school for the\\nNational Basketball Association.', 'He would be a lottery pick in the\\nNBA draft if he decides to enter it.', 'But Brand showed no sign of\\ntension over such speculation.', 'As he answered a question about his\\nfuture, he rocked back and forth in a chair as if he were trying to\\ndecide between pepperoni or sausage on his next slice of pizza.', 'The idea is to get the ball to Brand inside,\\nwhere he either overpowers defenders or slithers around them.\\n\\n\\n', 'Ease off Brand and he will toss up the 12-footer he is honing and\\ncrash with Battier and Chris Carrawell.', 'Beware if Brand perfects\\nhis short jumper.\\n\\n\\n', \"``God has given him some special gifts,''\"] \n",
      "\n",
      "TRIPLE EVENT CHAIN [(None, 'greeted', 'visitor'), (None, 'wrapped', 'hand'), ('who', 'know', None), (None, 'will become', 'Duke player'), (None, 'would be', 'lottery pick'), (None, 'showed', 'sign'), (None, 'answered', 'question'), (None, 'overpowers', 'defenders'), (None, 'will toss', 'is honing'), (None, 'perfects', 'jumper'), ('God', 'has given', None)] \n",
      "\n",
      "CANDIDATES [(None, 'get', 'a 19-year-old sophomore'), ('Peekskill', 'shake', None), (None, \"'re not\", 'poorest'), (None, 'know', 'a visitor'), (None, 'ranked', 'I')] \n",
      "\n",
      "ENTITY \n",
      "Elton Brand \n",
      "\n",
      "CORRECT 3 \n",
      "\n",
      "PREDICTION 1 with Probability 0.8401629 \n",
      " \n",
      "\n",
      "SENTENCE EVENT CHAIN ['Among other\\nincidents, he was thrown down a flight of stairs, had his nose\\nbroken twice, was hit in the face with a broom and had his shoulder\\nblade broken, the lawsuit charges.\\n\\n\\n', 'When he finally told his social worker that he was\\ngay, the suit charges, he was sent to a foster home owned by two\\ngay men, one of whom sexually abused him.', 'When he complained, an\\nagency supervisor threatened to place him at a facility in the\\nBronx where tough boys would beat him up for being gay, the suit\\ncharges.\\n\\n\\n', \"Among other examples cited by the lawsuit were a therapist who\\ntold Eric that all gay people get AIDS and it was God's punishment,\\nand a psychiatrist at an upstate residential treatment center who\\ntold another adolescent that ``boys will be boys'' after other\\nyouths had harassed him daily.\\n\\n\\n\"] \n",
      "\n",
      "TRIPLE EVENT CHAIN [(None, 'was thrown', 'flight'), (None, 'told', 'worker'), ('boys', 'would beat', None), ('youths', 'had harassed', None)] \n",
      "\n",
      "CANDIDATES [('young people', 'related', None), (None, 'would beat', 'an internal memo'), (None, 'pointed', 'indicating'), (None, \"doesn't have\", 'the boy'), (None, 'broken', 'a\\nlarge residential treatment center')] \n",
      "\n",
      "ENTITY he \n",
      "\n",
      "CORRECT 3 \n",
      "\n",
      "PREDICTION 1 with Probability 0.8401629 \n",
      " \n",
      "\n",
      "SENTENCE EVENT CHAIN ['He also received $6,438 for mileage\\nexpenses.\\n\\n\\n', 'The move raises questions about why Groscost paid the extra\\nmoney to Aldridge, and what Aldridge was doing while he took it.\\n\\n\\n', 'Groscost replaced him after a three-way race for the post\\nin 1998.\\n\\n\\n', 'On Friday, Groscost said he never discussed the per diem\\nsituation with Aldridge before he was elected speaker in late 1997.\\n\\n\\n', \"``When I became speaker, we didn't think he was going to return\\nas a member.\", \"If you want to extend that argument, any thought that\\nthere was any quid pro quo . . . consider the fact that if he\\nwanted to make me speaker, he would have made me his speaker\\npro-tem, which he did with (Rep. Bill) McGibbon.''\\n`SPECIAL DISPENSATION'\\n\\n\\n\", 'Groscost defeated McGibbon for speaker in the fall of 1997.\\n\\n\\n', \"A few minutes later, Jimmy Jayne, the director of House\\nOperations, said Groscost gave Aldridge a ``special dispensation''\\nto collect per diem payments every day, as if he were still a\\nmember of the leadership team.\\n\\n\\n\"] \n",
      "\n",
      "TRIPLE EVENT CHAIN [(None, 'received', '6,438'), (None, 'paid', 'money'), (None, 'replaced', 'him'), (None, 'never discussed', 'situation'), (None, 'was going', 'to return'), (None, 'wanted', 'to make'), (None, 'defeated', 'McGibbon'), (None, 'gave', 'Aldridge')] \n",
      "\n",
      "CANDIDATES [('a $60 stipend', 'had lost', None), ('re-election', \"'s\", None), (None, 'be allowed', 'extra'), ('a small office', \"How's\", None), (None, 'not do', 'the remainder')] \n",
      "\n",
      "ENTITY $5,160 of the $13,080 Aldridge\n",
      "collected in per diem \n",
      "\n",
      "CORRECT 3 \n",
      "\n",
      "PREDICTION 1 with Probability 0.8401629 \n",
      " \n",
      "\n",
      "SENTENCE EVENT CHAIN ['Once\\nwidely popular for rescuing Peru from the abyss of terrorism,\\ncocaine trafficking and hyperinflation, Fujimori is struggling to\\nrecapture his old magic that has brought him two election\\nvictories.', 'Faced with a spreading wave of terrorism, he unleashed the military\\nand intelligence services and quickly captured the most important\\nrebel leaders.', 'He even ordered the air force to shoot down planes\\nloaded with Peruvian coca paste destined for Colombia leading to a\\nrapid decline in trafficking and coca cultivation.\\n\\n\\n', 'And with crucial military support, he replaced the Congress and\\nSupreme Court in 1992, with like-minded officials.', 'His actions drew\\nheavy criticism from the United States and human rights activists,\\nbut the terrorists lost ground and Fujimori won re-election\\noverwhelmingly in 1995 over former United Nations Secretary-General\\nJavier Perez de Cuellar.\\n\\n\\n', \"A\\nfrightening crime wave in Lima early last year abated after\\nFujimori ordered Peru's intelligence services to infiltrate street\\ngangs and arrest their leaders, but even that has not helped his\\nstanding.\\n\\n\\n\", 'But some\\nanalysts say that if his polls do not improve in the next six to\\neight months, Fujimori may decide to forego the election.\\n\\n\\n', 'Fujimori has been buffeted by widespread criticism that he\\nmanipulated the courts and electoral tribunals to sidestep a\\nconstitutional ban on a third term.', 'Fujimori made many promises, as he doodled on a piece of paper\\nin a wood-paneled office in the government palace.', 'And he promised to hunt down the handful of rebels left\\nin the mountains.\\n\\n\\n'] \n",
      "\n",
      "TRIPLE EVENT CHAIN [(None, 'is struggling', 'recapture'), (None, 'unleashed', 'intelligence services'), (None, 'ordered', 'air force'), (None, 'replaced', 'Congress'), (None, 'won', 'election'), (None, 'ordered', 'intelligence services'), (None, 'may decide', 'to forego'), (None, 'manipulated', 'courts'), (None, 'made', 'promises'), (None, 'promised', 'to hunt')] \n",
      "\n",
      "CANDIDATES [(None, 'is struggling', 'trafficking'), ('the president', 'twirled', None), ('an\\ninstant best-seller', 'Faced', None), (None, 'refused', 'to rule'), ('telephones', 'leading', None)] \n",
      "\n",
      "ENTITY Fujimori \n",
      "\n",
      "CORRECT 4 \n",
      "\n",
      "PREDICTION 1 with Probability 0.8401629 \n",
      " \n",
      "\n",
      "SENTENCE EVENT CHAIN [\"\\nThrough dark clouds and heavy rain, Jordan's\\nKing Hussein piloted his own plane home Tuesday after six months of\\ncancer treatments and received an emotional welcoming by hundreds\\nof thousands of loyal subjects.\\n\\n\\n\", 'Through nearly a half-century of rule, Hussein has taken Jordan\\nfrom a backward desert outpost to a stable, modern and vibrant\\nsociety.\\n\\n\\n', \"``Every now and then we have to review, we have to see what\\nneeds to be done,'' he told reporters upon his arrival Tuesday.\\n\\n\\n\", 'This has\\nfueled speculation that Hussein wants the crown eventually to\\nrevert back to Hamzah, 19, his oldest son by his fourth wife, the\\nAmerican-born Queen Noor.\\n\\n\\n', 'Hussein was discharged last month from the Mayo Clinic in\\nRochester, Minn., where he had been undergoing treatment.', 'He has\\nendured six rounds of chemotherapy since mid-July to treat\\nnon-Hodgkins lymphoma, a type of cancer affecting lymph glands, and\\nrecuperated in London for two weeks ahead of his return home.\\n\\n\\n', 'Despite the rain, Hussein poked his head through the sun roof\\nand waved to hundreds of thousands of cheering Jordanians who lined\\nthe streets.'] \n",
      "\n",
      "TRIPLE EVENT CHAIN [(None, 'piloted', 'plane home'), (None, 'has taken', 'Jordan'), (None, 'told', 'reporters'), (None, 'wants', 'crown'), (None, 'had been undergoing', 'treatment'), (None, '\\nendured', 'rounds'), (None, 'poked', 'head')] \n",
      "\n",
      "CANDIDATES [(None, 'have', 'treatment'), (None, 'is', 'king'), ('this diverse population', 'read', None), ('lymph glands', 'Adding', None), ('the children', 'greet', None)] \n",
      "\n",
      "ENTITY Jordan's\n",
      "King Hussein \n",
      "\n",
      "CORRECT 2 \n",
      "\n",
      "PREDICTION 1 with Probability 0.8401629 \n",
      " \n",
      "\n",
      "SENTENCE EVENT CHAIN [\"Allison seemed somewhat flummoxed by the coach's decision,\\nthough he declined to challenge it.\", 'He is no stranger to benching.\\n', 'Last year he was told to sit out a period against Carolina and\\nagain after the All-Star break against his former team, the\\nCapitals.\\n\\n\\n', \"``He said it was the worst game he's seen us play, so he was\\ngoing to make us sit out the period,'' said Allison.\\n\\n\\n\", \"``If Allison doesn't skate, he's just another borderline\\nplayer,'' said Burns.\"] \n",
      "\n",
      "TRIPLE EVENT CHAIN [(None, 'seemed', 'flummoxed'), (None, 'is', 'stranger'), (None, 'was told', 'to sit'), (None, '\\ngoing', 'to make'), (None, \"'s\", 'player')] \n",
      "\n",
      "CANDIDATES [(None, 'shut', 'a night'), ('center Jason Allison', 'be', None), ('it', \"'s seen\", None), (None, 'was told', '20 minutes'), (None, \"doesn't see\", 'variation')] \n",
      "\n",
      "ENTITY Allison \n",
      "\n",
      "CORRECT 5 \n",
      "\n",
      "PREDICTION 1 with Probability 0.8401629 \n",
      " \n",
      "\n",
      "SENTENCE EVENT CHAIN [\"Honda riders swept the top four finishing positions in the 250cc\\nseason opener two weeks ago at Anaheim, and Lusk leads Honda's Mike\\nLaRocco and Frenchman Mickael Pichon in the standings entering\\nSaturday's Round 3 at Bank One Ballpark.\\n\\n\\n\", 'Lusk has his eye on the same prize, which would be his first\\nafter finishing runner-up last season to McGrath.\\n\\n\\n', '``If neither one gets hurt, my guess is (Lusk) and'] \n",
      "\n",
      "TRIPLE EVENT CHAIN [(None, 'leads', 'LaRocco'), (None, 'has', 'eye'), ('guess', 'is', None)] \n",
      "\n",
      "CANDIDATES [(None, 'estimated', 'Tuscany Hills'), (None, 'attracted', 'the desire'), (None, 'is', 'defending champion'), (None, 'suffered', 'the moment'), (None, \"'s\", 'Conspicuous')] \n",
      "\n",
      "ENTITY Two Ezra Lusk \n",
      "\n",
      "CORRECT 3 \n",
      "\n",
      "PREDICTION 1 with Probability 0.8401629 \n",
      " \n",
      "\n",
      "SENTENCE EVENT CHAIN ['So maybe he is leading a charmed life after all.\\n\\n\\n', \"And he's left the Rick Pitino rebuilding project\\nback in Fahrenheit-impaired Boston.\\n\\n\\n\", 'And to top it all off, he has six years remaining on the\\nseven-year, $22 million deal he signed with the Celtics, the deal\\nthat prompted him to leave L.A. in the first place.\\n\\n\\n', 'Knight said of\\nhis return.'] \n",
      "\n",
      "TRIPLE EVENT CHAIN [(None, 'is leading', 'life'), (None, \"'s left\", 'rebuilding project'), (None, 'has', 'years'), (None, 'said', 'return')] \n",
      "\n",
      "CANDIDATES [('the wide open jump shot', 'do is ask', None), ('some holes', 'signed', None), ('a\\nrookie', 'quickly added', None), (None, 'was not', 'post center'), (None, \"'s\", 'my decision')] \n",
      "\n",
      "ENTITY Travis Knight \n",
      "\n",
      "CORRECT 4 \n",
      "\n",
      "PREDICTION 1 with Probability 0.8401629 \n",
      " \n",
      "\n",
      "SENTENCE EVENT CHAIN ['Ms. Mills pinpoints the eagles on contour maps, recording\\nwhether they are adults, which are (at least 6 years old, or\\njuveniles, distinguished by their splotchy coloring.\\n\\n\\n', 'Ms. Mills started counting at 9 a.m., when most of the eagles\\nhad left their night roosts in cottonwoods or Douglas firs.', 'At a designated counting spot where she used to be able to find\\n100 eagles, she pointed to a 20-foot conifer that now blocks her\\nview of the river.'] \n",
      "\n",
      "TRIPLE EVENT CHAIN [(None, 'pinpoints', 'eagles'), (None, 'started', 'counting'), (None, 'used', 'to be')] \n",
      "\n",
      "CANDIDATES [(None, 'said', 'its wings'), (None, 'had counted', 'a designated counting spot'), (None, 'has been disturbed', 'cottonwood'), (None, 'started', 'working'), ('an octopus', 'pointed', None)] \n",
      "\n",
      "ENTITY Libby Mills\n",
      " \n",
      "\n",
      "CORRECT 4 \n",
      "\n",
      "PREDICTION 1 with Probability 0.8401629 \n",
      " \n",
      "\n",
      "SENTENCE EVENT CHAIN [\"First of all he's fast, so he can outrun you,'' Broncos safety\\nTyrone Braxton said. '\", \"Second of all, he's quick, so he can\\noutmaneuver you.\", \"He's got quick feet.\", 'He can run you over.', \"Growing up watching Earl\\nCampbell, that's who he reminds me most of.\", \"''He's a complete football player,''\", \"He'll block in the running game too,\\nif you ask him.\"] \n",
      "\n",
      "TRIPLE EVENT CHAIN [(None, 'can outrun', 'you'), (None, '\\noutmaneuver', 'you'), (None, \"'s got\", 'feet'), (None, 'can run', 'you'), (None, 'reminds', 'me'), (None, \"'s\", 'football player'), ('you', 'ask', None)] \n",
      "\n",
      "CANDIDATES [(None, \"'s\", 'former Broncos linebacker Tom\\nJackson'), (None, 'reminds', 'butterfly'), (None, 'attack', 'the Broncos'), ('rush defense', 'have', None), (None, 'runs', 'routes')] \n",
      "\n",
      "ENTITY Muhammed Ali \n",
      "\n",
      "CORRECT 5 \n",
      "\n",
      "PREDICTION 1 with Probability 0.8401629 \n",
      " \n",
      "\n",
      "SENTENCE EVENT CHAIN [\"The next time Davis took the field, he cut back to the\\nmiddle for 20 yards and down to the Jets' 21-yard line to set up\\nanother Elam field goal.\\n\\n\\n\", 'And, finally, he did it all by himself.', \"On third-and-3 from the\\nJets' 31- yard line, Davis swept left and broke down the sideline\\nuntil he reached the end zone.\", 'In just nine carries, he had powered\\nthe Broncos to a 20-10 lead.\\n\\n\\n', 'Davis said of\\nhis touchdown run.'] \n",
      "\n",
      "TRIPLE EVENT CHAIN [(None, 'took', 'field'), (None, 'did', 'it'), (None, 'reached', 'end zone'), (None, 'had powered', 'Broncos'), (None, 'said', 'touchdown run')] \n",
      "\n",
      "CANDIDATES [('I', 'told', None), (None, 'start', '78\\nyards'), ('Elway', 'had', None), ('100 yards', 'convert', None), ('third-and-3', 'gave', None)] \n",
      "\n",
      "ENTITY Davis \n",
      "\n",
      "CORRECT 1 \n",
      "\n",
      "PREDICTION 1 with Probability 0.8401629 \n",
      " \n",
      "\n",
      "SENTENCE EVENT CHAIN ['Many Americans have come to believe that Clinton cares about\\nthem and their problems.', \"whether it's real\\nor merely perceived, is the reason he has survived every scandal\\nand every charge of wrongdoing.\", \"Clinton's compassion is the reason\\nhe enjoys sky-high approval ratings even as he stands trial in the\\nSenate on articles of impeachment.\\n\\n\\n\", 'In every poll, Dole obliterated Clinton\\nwhen voters were asked to compare the candidates in terms of\\nhonesty, integrity, trustworthiness.\\n\\n\\n'] \n",
      "\n",
      "TRIPLE EVENT CHAIN [(None, 'cares', 'them'), (None, 'has survived', 'scandal'), (None, 'enjoys', 'approval ratings'), ('Dole', 'obliterated', None)] \n",
      "\n",
      "CANDIDATES [('we', 'be taking', None), (None, 'obliterated', 'Dole'), ('the gender gap', 'stands', None), (None, 'obviously understands', 'a good idea'), (None, 'appealing', 'a spectacular re-election victory')] \n",
      "\n",
      "ENTITY Bill Clinton \n",
      "\n",
      "CORRECT 2 \n",
      "\n",
      "PREDICTION 1 with Probability 0.8401629 \n",
      " \n",
      "\n",
      "SENTENCE EVENT CHAIN ['And she rebutted both of them in fairly short order.\\n\\n\\n', 'The first involves the box of gifts from the president that Mrs.\\nCurrie hid under her bed for Ms. Lewinsky, and turns on the\\nquestion of who asked Ms. Lewinsky to give them to Ms. Currie.', \"The\\nRepublicans say it was Mrs. Currie, acting on the president's\\nsuggestion, relying heavily on Ms. Lewinsky's testimony that the\\npresident had told her he would think about what she should do with\\nthe gifts and surmising that he had decided they must be hidden.\\n\\n\\n\", \"' In fact, Mrs.\\nCurrie testified five times that the whole thing was Ms. Lewinsky's\\nidea, Ms. Mills continued, and Mrs. Currie agreed ``because she's a\\nfriend, and that's not obstruction of justice.''\\n\\n\\n\"] \n",
      "\n",
      "TRIPLE EVENT CHAIN [(None, 'rebutted', 'both'), ('who', 'asked', None), ('it', 'was', None), (None, \"'s\", 'friend')] \n",
      "\n",
      "CANDIDATES [('some\\nimportant points', 'irritating', None), ('no corrupt influence', 'give', None), (None, 'including', 'gifts'), (None, 'would be', 'witness'), (None, 'Dealing', \"Ms. Lewinsky's\\nidea\")] \n",
      "\n",
      "ENTITY Ms. Mills' \n",
      "\n",
      "CORRECT 4 \n",
      "\n",
      "PREDICTION 1 with Probability 0.8401629 \n",
      " \n",
      "\n",
      "SENTENCE EVENT CHAIN [\"The\\ncompany said it planned to use TCI's network to offer telephone,\\nvideo and data services in 10 markets around the country this year\\nand telephone service in most TCI markets in 2000.\\n\\n\\n\", 'AT&AMPT also said it\\nhad reached deals to offer telephone service over the wires of five\\nsmall cable companies: Bresnan Communications, Falcon Cable TV,\\nInsight Communications, Intermedia Partners and Peak Cablevision.\\n', \"When AT&AMPT and TCI announced the acquisition in June, AT&AMPT said\\nthat as part of the deal it would issue a new stock to track the\\ncombined company's consumer services, including cable television\\nand long-distance.\", 'They added that AT&AMPT decided to scrap\\nthe tracking stock altogether as recently as last weekend.', 'A tracking stock tied to less-profitable operations, however,\\nwould have given AT&AMPT a currency that could help the company pursue\\nfuture acquisitions.'] \n",
      "\n",
      "TRIPLE EVENT CHAIN [(None, 'planned', 'to use'), (None, 'had reached', 'deals'), (None, 'would issue', 'stock'), (None, 'decided', 'to scrap'), (None, 'pursue', 'acquisitions')] \n",
      "\n",
      "CANDIDATES [(None, 'tracking', 'spending'), (None, 'was', 'the shares'), ('entertainment', 'would have given', None), (None, 'could consider', 'issuing'), (None, 'would have given', 'a result')] \n",
      "\n",
      "ENTITY AT&AMPT \n",
      "\n",
      "CORRECT 4 \n",
      "\n",
      "PREDICTION 1 with Probability 0.8401629 \n",
      " \n",
      "\n",
      "SENTENCE EVENT CHAIN ['A native of Fort Wayne, Ind., he graduated in 1949 from Yale\\nUniversity, where he also earned his doctorate degree in 1956.', \"Over the years he also taught the classics at\\nYale, Phillips Academy in Andover, Mass., Columbia University and\\nSt. Stephen's School in Rome.\\n\\n\\n\", 'He was the author or co-author of six books on Greek and Latin\\nwriters.', 'His scholarship was recognized early in his career when he\\nwas awarded the Prix de Rome for 1956-57 by the American Academy in\\nRome.\\n\\n\\n'] \n",
      "\n",
      "TRIPLE EVENT CHAIN [(None, 'earned', 'degree'), (None, 'taught', 'classics'), (None, 'was', 'author'), (None, 'was awarded', 'Rome')] \n",
      "\n",
      "CANDIDATES [(None, 'was', 'author'), ('the\\nBrooks School', 'went', None), ('North Andover', 'was', None), (None, 'first taught', 'Columbia University'), ('a spokeswoman', 'also taught', None)] \n",
      "\n",
      "ENTITY Mass. Baade \n",
      "\n",
      "CORRECT 1 \n",
      "\n",
      "PREDICTION 1 with Probability 0.8401629 \n",
      " \n",
      "\n",
      "SENTENCE EVENT CHAIN ['\\nPresident Clinton kept a studied distance Saturday\\nfrom his impeachment trial in the Senate, focusing not on the\\ncharges laid out against him by Republican prosecutors, aides said,\\nbut on the next big event on his political calendar: the State of\\nthe Union speech on Tuesday.\\n\\n\\n', 'Clinton spent the morning reviewing the lengthy draft of his\\nseventh State of the Union speech with a small group of aides, in\\npreparation for a more formal run-through Saturday afternoon in the\\nWhite House family theater.', 'In his customary preparation for the\\nspeech, Clinton was expected to speak from a lectern before a small\\ninvited audience of speech writers, political aides, policy\\nadvisers and friends.\\n\\n\\n', 'White House press secretary Joe Lockhart said that Clinton _ who\\ndoes not have a television in the Oval Office _ had not watched any\\nof the presentations on Capitol Hill on Saturday.', \"At 10:06 a.m., speaking from the Oval Office, Clinton\\ndelivered his weekly radio address, and the topic was the Rev. Dr.\\nMartin Luther King Jr.'s birthday celebration on Monday.\\n\\n\\n\", 'Clinton also spent the day monitoring the situation in Kosovo,\\nwhere a massacre of about 40 people was uncovered Saturday, said\\nState Department spokesman James Foley.', \"The president later issued\\na statement condemning the massacre in ``the strongest possible\\nterms.''\\n\\n\\n\", 'Clinton had rejected the suggestion of some\\nRepublicans that he delay the speech, and the timing of the address\\nappeared to play somewhat to his advantage this weekend, his aides\\nsaid.\\n\\n\\n'] \n",
      "\n",
      "TRIPLE EVENT CHAIN [(None, 'kept', 'distance'), (None, 'spent', 'morning'), (None, 'was expected', 'to speak'), (None, 'had not watched', 'any'), (None, 'delivered', 'radio address'), (None, 'spent', 'day'), (None, 'issued', 'statement'), (None, 'had rejected', 'suggestion')] \n",
      "\n",
      "CANDIDATES [('The demands', 'also spent', None), (None, 'has portrayed', 'himself'), (None, 'do', 'Dr. King'), (None, 'tending', 'Saturday'), ('the suggestion', 'laid', None)] \n",
      "\n",
      "ENTITY \n",
      "President Clinton \n",
      "\n",
      "CORRECT 2 \n",
      "\n",
      "PREDICTION 1 with Probability 0.8401629 \n",
      " \n",
      "\n",
      "SENTENCE EVENT CHAIN ['First one got hurt and then the other, so Dixie Dot Com had to\\nwait for the $316,000 San Fernando Stakes at Santa Anita on\\nSaturday to take a shot at the better-publicized Event of the Year\\nand stomp him by 4{ lengths.\\n\\n\\n', \"Dixie Dot Com, with\\nleading jockey David Flores, was the fans' fourth choice.\\n\\n\\n\", 'Dixie Dot Com ran the 1 1/16-mile race in 1:41.06, a sharp time\\non a track that acted dull most of the day.'] \n",
      "\n",
      "TRIPLE EVENT CHAIN [(None, 'had', '\\nwait'), (None, 'was', 'choice'), (None, 'ran', 'race')] \n",
      "\n",
      "CANDIDATES [(None, 'had', 'to race'), ('entrymate Blue Tune', 'paid', None), ('Corey Nakatani', 'publicized', None), (None, 'had', 'the\\nHoly Bull Stakes'), (None, 'expected', 'the board')] \n",
      "\n",
      "ENTITY Dixie Dot Com \n",
      "\n",
      "CORRECT 1 \n",
      "\n",
      "PREDICTION 1 with Probability 0.8401629 \n",
      " \n",
      "\n",
      "SENTENCE EVENT CHAIN ['Tyson always seems caught in a desperate confrontation with the\\nominous shadow cast by the demons lurking in his dangerous past.\\n\\n\\n', \"Didn't he mean to say dealing\\nwith a life that is a crisis?\\n\\n\\n\", \"He is expected to win at the MGM Grand in his first fight\\nsince he bit Evander Holyfield's ears 19 months ago.\"] \n",
      "\n",
      "TRIPLE EVENT CHAIN [(None, 'seems', 'caught'), (None, 'mean', 'to say'), (None, 'is expected', 'to win')] \n",
      "\n",
      "CANDIDATES [(None, 'break', 'the\\nvery edge'), ('just the latest\\nchapter', 'have', None), (None, 'gone', 'a fighter'), (None, 'beat', 'Tyson'), (None, 'is expected', 'adviser Shelly Finkel')] \n",
      "\n",
      "ENTITY Mike Tyson's \n",
      "\n",
      "CORRECT 4 \n",
      "\n",
      "PREDICTION 1 with Probability 0.8401629 \n",
      " \n",
      "\n",
      "SENTENCE EVENT CHAIN [\"He, too, spoke caustically of the length and scope of Starr's\\n``five-year, relentless, unending investigation,'' describing it as\\n``maybe the most intense investigation not only of a president but\\nof anybody, ever.''\", 'In support, he cited comments made recently by President Carlos\\nMenem of Argentina, President Vaclav Havel of the Czech Republic,\\nKing Hussein of Jordan, and President Nelson Mandela of South\\nAfrica.\\n\\n\\n', \"Like others on Clinton's defense team, he took the House\\nmanagers to task for having stretched evidence beyond the bounds of\\ncommon sense.\", \"But he softened his criticism with the comment ``It's\\nwanting to win too badly.''\\n\\n\\nBumpers, who spoke from notes scrawled on a yellow legal pad,\\nargued at some length that there was perjury and perjury, that some\\nlies told under oath were worse than others.\"] \n",
      "\n",
      "TRIPLE EVENT CHAIN [(None, 'spoke', 'caustically'), (None, 'cited', 'comments'), (None, 'took', 'managers'), (None, 'softened', 'criticism')] \n",
      "\n",
      "CANDIDATES [(None, 'outlined', 'a force'), ('a\\ntotal lack', 'softened', None), ('oath', 'has been', None), ('office', 'answering', None), (None, 'said', 'divorce case')] \n",
      "\n",
      "ENTITY himself \n",
      "\n",
      "CORRECT 5 \n",
      "\n",
      "PREDICTION 1 with Probability 0.8401629 \n",
      " \n",
      "\n",
      "SENTENCE EVENT CHAIN ['One by one, the Democrats who had fought against impeachment\\nfrom the House Judiciary Committee appealed to the new members of\\nthe House not to cast one of their first votes to facilitate the\\ntrial of the president.', \"Rep. John Conyers Jr., the ranking Democrat\\non the committee, said the House had carried out a partisan\\nimpeachment ``totally lacking in credibility and overwhelmingly\\nrejected by the American people.''\\n\\n\\n\", \"``But if the House believes they have to have a few\\nwitnesses to make their case, I'm not going to support some\\npolitical deal that denies them the ability to make their case.''\\n\\n\\n\"] \n",
      "\n",
      "TRIPLE EVENT CHAIN [(None, 'not to cast', 'one'), (None, 'had carried', 'impeachment'), (None, 'have', 'to have')] \n",
      "\n",
      "CANDIDATES [(None, \"'s\", 'order'), (None, 'are', \"' Rep. George Gekas\"), (None, 'have consulted', 'the case'), (None, 'has refused', 'to speculate'), ('the Republicans', 'proceed', None)] \n",
      "\n",
      "ENTITY the House \n",
      "\n",
      "CORRECT 4 \n",
      "\n",
      "PREDICTION 1 with Probability 0.8401629 \n",
      " \n",
      "\n",
      "SENTENCE EVENT CHAIN ['For all his evident\\nconvictions, Fischer appears to have found in the passage from\\nprotest to responsibility a school of pragmatism and balance.\\n\\n\\n', 'Like most members of the Greens, a party with\\norigins in the peace movement, Fischer has little taste for\\nmilitary force.', 'But asked if he therefore opposed NATO air strikes, Fischer\\nsaid: ``I am not a friend of using force, but sometimes it is a\\nnecessary means of last resort.', \"Unilateral actions are generally not in\\nthe interest of the United States.''\\n\\n\\nWry, provocative Fischer has evidently given considerable\\nthought to the job he took over three months ago, seeking a balance\\nbetween a firm commitment to the Western alliance and a\\ndetermination to put forward some new ideas.\", 'Self-taught _ he left\\nschool at 16 _ he evidently relishes debate.\\n\\n\\n'] \n",
      "\n",
      "TRIPLE EVENT CHAIN [(None, 'appears', 'to have found'), (None, 'has', 'taste'), (None, 'opposed', 'NATO air strikes'), (None, 'given', 'thought'), (None, 'left', 'school')] \n",
      "\n",
      "CANDIDATES [(None, 'building', 'the new capital'), (None, 'exuded', 'the making'), (None, 'made', 'clear'), ('balance', 'Turning', None), (None, 'calling', 'the alliance')] \n",
      "\n",
      "ENTITY he \n",
      "\n",
      "CORRECT 3 \n",
      "\n",
      "PREDICTION 1 with Probability 0.8401629 \n",
      " \n",
      "\n",
      "SENTENCE EVENT CHAIN ['Consumer groups have accused Pac Bell of forcing its service\\nrepresentatives to sell add-on phone features, such as Caller ID\\nand Call Waiting, to customers regardless of whether they want or\\ncan afford the products.\\n\\n\\n', \"``This trial is looking exclusively at\\nwhether we violated PUC guidelines, not whether we are allowed to\\nsell,''\", \"``The truth is, we haven't broken any laws.''\\n\\n\\nTuesday, a Pac Bell official told the PUC that service reps are\\nrequired to offer products on every call but denied that they are\\npunished for failing to make a sale.\\n\\n\\n``Service representatives are not required to sell, only\\noffer,'' said Jewel Stoddard, director of Pac Bell's consumer\\nmarkets group.\\n\\n\\n\", 'Stoddard disputed claims made by consumer groups and service\\nrepresentatives that Pac Bell requires reps to sell products on\\nevery call.\\n\\n\\n', \"Consumer groups have accused Pac Bell of trying to mislead\\ncustomers by giving phone-service packages misleading names such as\\n``The Basics'' and ``The Essentials.''\\n\\n\\n\", \"At the hearing before the state Senate Energy, Utilities and\\nCommunications Committee, a Pac Bell official acknowledged that the\\ncompany has started sending Caller ID boxes to new customers _ even\\nthose who say they don't want the service.\\n\\n\\n\", 'Bowen and other senators said Pac Bell is placing an unfair\\nburden on customers.\\n\\n\\n'] \n",
      "\n",
      "TRIPLE EVENT CHAIN [('Consumer groups', 'have accused', None), (None, 'are allowed', '\\nsell'), (None, \"haven't broken\", 'laws'), (None, 'requires', 'reps'), ('Consumer groups', 'have accused', None), (None, 'has started', 'sending'), (None, 'is placing', 'burden')] \n",
      "\n",
      "CANDIDATES [(None, 'were included', 'a lot'), ('``Basics\\nSaver Pack', 'also defended', None), (None, 'could not offer', 'services'), (None, 'mislead', '``Service representatives'), (None, 'offer', 'the state Senate Energy')] \n",
      "\n",
      "ENTITY Pac Bell \n",
      "\n",
      "CORRECT 3 \n",
      "\n",
      "PREDICTION 1 with Probability 0.8401629 \n",
      " \n",
      "\n",
      "SENTENCE EVENT CHAIN [\"And after watching\\nDavid Duval win Sunday for the eighth time in his last 27 starts,\\neven more of his peers were convinced that Duval is the world's\\nbest player.\\n\\n\\n\", 'So as Duval began 1999 with a virtuoso performance, others\\nmarveled at a player who keeps adding to both his reputation and\\nhis bank account.', 'By\\nwinning, Duval opened the season by winning the $468,000\\nfirst-place check, plus a new Mercedes-Benz SL 500 roadster.', 'But while Duval will surely enjoy the car and the money, nothing\\nseems to alter his determination to be the best player he can be.\\n', \"By winning Sunday,\\nDuval became the first player to qualify for next year's Mercedes\\nChampionships, but Duval has bigger goals in mind.\\n\\n\\n\", \"Duval won his final three starts in 1997, he won\\nfour events in 1998, he won last year's money title, and he started\\nthis year by picking up where he left off.\", 'That was the case all weekend, as Duval showed the completeness\\nand coolness that make him so consistent.', 'Duval rarely hits poor\\nshots, and it is more rare for him to lose his temper.', \"O'Meara shot a five-under-par 68 Sunday, while Mayfair shot a\\n71, but Duval turned the tournament into a runaway by shooting a 67\\nin the first round, tying the course record with a 63 in the second\\nround, and shooting a splendid 68 in the third.\"] \n",
      "\n",
      "TRIPLE EVENT CHAIN [(None, 'is', 'player'), (None, 'began', '1999'), (None, 'opened', 'season'), (None, 'enjoy', 'car'), (None, 'became', 'player'), (None, 'won', 'starts'), (None, 'showed', 'completeness'), (None, 'hits', 'shots'), (None, 'turned', 'tournament')] \n",
      "\n",
      "CANDIDATES [(None, 'wondered', 'the best driver'), (None, 'played', 'coolness'), (None, 'getting', 'a runaway'), (None, 'plans', 'to take'), (None, 'started', 'a player')] \n",
      "\n",
      "ENTITY Duval \n",
      "\n",
      "CORRECT 4 \n",
      "\n",
      "PREDICTION 1 with Probability 0.8401629 \n",
      " \n",
      "\n",
      "SENTENCE EVENT CHAIN [\"Higgins found Say ``strident'' at times, but later wondered\\nwhether she was doing the right thing by avoiding the spotlight\\nherself.\\n\\n\\n\", 'She had her head in her hands and was\\nweeping . . .', 'this _ I can see myself committing suicide.\\n', 'In moments of despair, she said, she was lifted by letters and\\ne-mails from men and women in uniform who told her they were\\ninspired by her.\\n\\n\\n', \"Now she hopes to return that favor in some measure, by helping\\nFlorida's veterans get their due.\\n\\n\\n\"] \n",
      "\n",
      "TRIPLE EVENT CHAIN [(None, 'was doing', 'thing'), (None, 'had', 'head'), (None, 'committing', 'suicide'), ('who', 'told', None), (None, 'hopes', 'to return')] \n",
      "\n",
      "CANDIDATES [(None, 'remembers', 'prayer'), (None, 'will', 'Gov. Jeb Bush'), ('mercy', 'recalled', None), (None, 'lobby', 'an\\ninterview'), ('medical experts', 'positively identified', None)] \n",
      "\n",
      "ENTITY Higgins \n",
      "\n",
      "CORRECT 1 \n",
      "\n",
      "PREDICTION 1 with Probability 0.8401629 \n",
      " \n",
      "\n",
      "SENTENCE EVENT CHAIN ['It was exactly this kind of hard work\\nand tireless energy that enabled Waddell to do something few NHL\\nexecutives have been able to accomplish in recent history.', 'Expect Waddell to\\nget double the praise by this time next year.\\n\\n\\n', \"``He already scares me,'' said one veteran NHL scout, who\\ncontinually runs into Waddell on the road, even in the smallest of\\nhockey towns.\\n\\n\\n\", 'But if\\nWaddell does it right, and he and his assistants probably will, the\\nThrashers will be an annual contender well before the Predators.\\n\\n\\n', 'Until then, Waddell will keep hitting the road.'] \n",
      "\n",
      "TRIPLE EVENT CHAIN [('that', 'enabled', None), (None, '\\nget', 'praise'), (None, 'scares', 'me'), (None, 'does', 'it'), (None, 'will keep', 'hitting')] \n",
      "\n",
      "CANDIDATES [(None, 'airport', 'personnel'), (None, 'need', '12 straight days'), (None, 'has', 'more money'), (None, 'will begin', 'interviews'), (None, 'was sitting', 'Europe')] \n",
      "\n",
      "ENTITY Waddell \n",
      "\n",
      "CORRECT 4 \n",
      "\n",
      "PREDICTION 1 with Probability 0.8401629 \n",
      " \n",
      "\n"
     ]
    }
   ],
   "source": [
    "for ec_dict in check_dataset:\n",
    "    print(\"SENTENCE EVENT CHAIN\", ec_dict['sentences'],\"\\n\")\n",
    "    print(\"TRIPLE EVENT CHAIN\", ec_dict['triples'],\"\\n\")\n",
    "    print(\"CANDIDATES\", ec_dict['candidates'],\"\\n\")\n",
    "    print(\"ENTITY\", ec_dict['entity'],\"\\n\")\n",
    "    print(\"CORRECT\", ec_dict['correct'] + 1,\"\\n\")\n",
    "    print(\"PREDICTION\", prediction['labels'], \"with Probability\", np.max(prob),\"\\n\",\"\\n\")"
   ]
  }
 ],
 "metadata": {
  "kernelspec": {
   "display_name": "Python 3",
   "language": "python",
   "name": "python3"
  },
  "language_info": {
   "codemirror_mode": {
    "name": "ipython",
    "version": 3
   },
   "file_extension": ".py",
   "mimetype": "text/x-python",
   "name": "python",
   "nbconvert_exporter": "python",
   "pygments_lexer": "ipython3",
   "version": "3.5.2"
  }
 },
 "nbformat": 4,
 "nbformat_minor": 2
}
