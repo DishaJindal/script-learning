{
 "cells": [
  {
   "cell_type": "code",
   "execution_count": 1,
   "metadata": {
    "scrolled": true
   },
   "outputs": [
    {
     "name": "stderr",
     "output_type": "stream",
     "text": [
      "WARNING: Logging before flag parsing goes to stderr.\n",
      "W0504 19:18:20.398278 140208930854656 __init__.py:56] Some hub symbols are not available because TensorFlow version is less than 1.14\n"
     ]
    },
    {
     "name": "stdout",
     "output_type": "stream",
     "text": [
      "INFO:tensorflow:Saver not created because there are no variables in the graph to restore\n"
     ]
    },
    {
     "name": "stderr",
     "output_type": "stream",
     "text": [
      "I0504 19:18:23.289131 140208930854656 tf_logging.py:115] Saver not created because there are no variables in the graph to restore\n",
      "/home/djjindal/venvs/TF-1.3/lib/python3.6/site-packages/IPython/html.py:14: ShimWarning: The `IPython.html` package has been deprecated since IPython 4.0. You should import from `notebook` instead. `IPython.html.widgets` has moved to `ipywidgets`.\n",
      "  \"`IPython.html.widgets` has moved to `ipywidgets`.\", ShimWarning)\n"
     ]
    },
    {
     "name": "stdout",
     "output_type": "stream",
     "text": [
      "INFO:tensorflow:Saver not created because there are no variables in the graph to restore\n"
     ]
    },
    {
     "name": "stderr",
     "output_type": "stream",
     "text": [
      "I0504 19:18:28.443719 140208930854656 tf_logging.py:115] Saver not created because there are no variables in the graph to restore\n"
     ]
    }
   ],
   "source": [
    "import tensorflow as tf\n",
    "\n",
    "import read\n",
    "import prepare_data\n",
    "import input_builder\n",
    "\n",
    "import importlib\n",
    "import model\n",
    "import numpy as np\n",
    "\n",
    "import pandas as pd\n",
    "import matplotlib.pyplot as plt\n",
    "from ipywidgets import *\n",
    "from IPython.display import display\n",
    "from IPython.html import widgets\n",
    "\n",
    "BATCH_SIZE = 1\n",
    "LEARNING_RATE = 2e-5\n",
    "MAX_SEQ_LENGTH = 128\n",
    "\n",
    "importlib.reload(prepare_data)\n",
    "import os\n",
    "os.environ['TFHUB_CACHE_DIR'] = '/home/djjindal/bert/script-learning'\n",
    "os.environ[\"CUDA_DEVICE_ORDER\"]=\"PCI_BUS_ID\"   # see issue #152\n",
    "os.environ[\"CUDA_VISIBLE_DEVICES\"]=\"2\"\n",
    "model_dir = 'output_triple'\n"
   ]
  },
  {
   "cell_type": "markdown",
   "metadata": {},
   "source": [
    "# DATA"
   ]
  },
  {
   "cell_type": "code",
   "execution_count": 2,
   "metadata": {},
   "outputs": [
    {
     "name": "stdout",
     "output_type": "stream",
     "text": [
      "<input_builder.InputFeatures object at 0x7f844170aeb8>\n"
     ]
    },
    {
     "data": {
      "text/plain": [
       "7874"
      ]
     },
     "execution_count": 2,
     "metadata": {},
     "output_type": "execute_result"
    }
   ],
   "source": [
    "dataset = 'dataset/gw_extractions_no_rep_no_fin.pickle'\n",
    "train_dataset = read.read_data_iterator(dataset)\n",
    "features = list(prepare_data.tokenize_if_small_enough(train_dataset,sentences=False,no_context=False))\n",
    "train_set = features[:int(0.8 * len(features))]\n",
    "val_set = features[int(0.8 * len(features)):int(0.9*len(features))]\n",
    "print(train_set[0])\n",
    "len(train_set)"
   ]
  },
  {
   "cell_type": "markdown",
   "metadata": {},
   "source": [
    "# Model Objects"
   ]
  },
  {
   "cell_type": "code",
   "execution_count": 3,
   "metadata": {},
   "outputs": [
    {
     "name": "stdout",
     "output_type": "stream",
     "text": [
      "INFO:tensorflow:Using config: {'_model_dir': 'output_triple', '_tf_random_seed': None, '_save_summary_steps': 0, '_save_checkpoints_steps': 0, '_save_checkpoints_secs': None, '_session_config': allow_soft_placement: true\n",
      "graph_options {\n",
      "  rewrite_options {\n",
      "    meta_optimizer_iterations: ONE\n",
      "  }\n",
      "}\n",
      ", '_keep_checkpoint_max': 5, '_keep_checkpoint_every_n_hours': 10000, '_log_step_count_steps': 100, '_train_distribute': None, '_device_fn': None, '_protocol': None, '_eval_distribute': None, '_experimental_distribute': None, '_service': None, '_cluster_spec': <tensorflow.python.training.server_lib.ClusterSpec object at 0x7f8402079fd0>, '_task_type': 'worker', '_task_id': 0, '_global_id_in_cluster': 0, '_master': '', '_evaluation_master': '', '_is_chief': True, '_num_ps_replicas': 0, '_num_worker_replicas': 1}\n"
     ]
    },
    {
     "name": "stderr",
     "output_type": "stream",
     "text": [
      "I0504 19:18:40.597968 140208930854656 tf_logging.py:115] Using config: {'_model_dir': 'output_triple', '_tf_random_seed': None, '_save_summary_steps': 0, '_save_checkpoints_steps': 0, '_save_checkpoints_secs': None, '_session_config': allow_soft_placement: true\n",
      "graph_options {\n",
      "  rewrite_options {\n",
      "    meta_optimizer_iterations: ONE\n",
      "  }\n",
      "}\n",
      ", '_keep_checkpoint_max': 5, '_keep_checkpoint_every_n_hours': 10000, '_log_step_count_steps': 100, '_train_distribute': None, '_device_fn': None, '_protocol': None, '_eval_distribute': None, '_experimental_distribute': None, '_service': None, '_cluster_spec': <tensorflow.python.training.server_lib.ClusterSpec object at 0x7f8402079fd0>, '_task_type': 'worker', '_task_id': 0, '_global_id_in_cluster': 0, '_master': '', '_evaluation_master': '', '_is_chief': True, '_num_ps_replicas': 0, '_num_worker_replicas': 1}\n"
     ]
    }
   ],
   "source": [
    "run_config = tf.estimator.RunConfig(\n",
    "    model_dir=model_dir,\n",
    "    save_summary_steps=0,\n",
    "    save_checkpoints_steps=0,\n",
    "    log_step_count_steps=100)\n",
    "\n",
    "model_fn = model.model_fn_builder(\n",
    "  num_labels=5,\n",
    "  learning_rate=LEARNING_RATE,\n",
    "  num_train_steps=1,\n",
    "  num_warmup_steps=1)\n",
    "\n",
    "train_test_input_fn = input_builder.input_fn_builder(\n",
    "    features=train_set,\n",
    "    seq_length=MAX_SEQ_LENGTH,\n",
    "    is_training=False,\n",
    "    drop_remainder=False,\n",
    "    candidates=5)\n",
    "\n",
    "val_test_input_fn = input_builder.input_fn_builder(\n",
    "    features=val_set,\n",
    "    seq_length=MAX_SEQ_LENGTH,\n",
    "    is_training=False,\n",
    "    drop_remainder=False,\n",
    "    candidates=5)\n",
    "\n",
    "estimator = tf.estimator.Estimator(\n",
    "  model_fn=model_fn,\n",
    "  config=run_config,\n",
    "  params={\"batch_size\": BATCH_SIZE})"
   ]
  },
  {
   "cell_type": "markdown",
   "metadata": {},
   "source": [
    "# PREDICT FUNCTION"
   ]
  },
  {
   "cell_type": "code",
   "execution_count": 13,
   "metadata": {},
   "outputs": [],
   "source": [
    "\n",
    "def predict(sentenecs, triples, candidates, entity):\n",
    "    e_dict = dict()\n",
    "    check_dataset = []\n",
    "    e_dict['sentences'] = sentenecs\n",
    "    e_dict['triples'] = triples\n",
    "    e_dict['candidates'] = candidates\n",
    "    e_dict['correct'] = 4\n",
    "    e_dict['entity'] = entity\n",
    "    check_dataset = [e_dict]\n",
    "    predict_set = list(prepare_data.tokenize_if_small_enough(check_dataset, sentences=False,no_context=False))\n",
    "\n",
    "    predict_input_fn = input_builder.input_fn_builder(\n",
    "        features=predict_set,\n",
    "        seq_length=MAX_SEQ_LENGTH,\n",
    "        is_training=False,\n",
    "        drop_remainder=False,\n",
    "        candidates=5)\n",
    "    predictions = estimator.predict(input_fn=predict_input_fn,yield_single_examples=False,no_context=False)\n",
    "\n",
    "    for (i, prediction) in enumerate(predictions):\n",
    "        arr = prediction['probabilities'][0]\n",
    "        prob = [np.exp(arr[0]),np.exp(arr[1]),np.exp(arr[2]),np.exp(arr[3]),np.exp(arr[4])]\n",
    "        total = np.sum(prob)\n",
    "        max= np.max(prob)\n",
    "        ec_dict = check_dataset[i]\n",
    "        print(\"SENTENCE EVENT CHAIN\", ec_dict['sentences'],\"\\n\")\n",
    "        print(\"TRIPLE EVENT CHAIN\", ec_dict['triples'],\"\\n\")\n",
    "        print(\"CANDIDATES\", ec_dict['candidates'],\"\\n\")\n",
    "        print(\"ENTITY\", ec_dict['entity'],\"\\n\")\n",
    "        print(\"PREDICTION\", prediction['labels'], \"with Probability\", np.max(prob),\"\\n\",\"\\n\")\n",
    "        return prediction['labels']\n",
    "\n",
    "def on_button_clicked(b):\n",
    "    print(text1.value, text2.value, text3.value)\n",
    "    print(predict([], text1.value.split('), ('), text2.value.split('), ('), text3.value))    "
   ]
  },
  {
   "cell_type": "markdown",
   "metadata": {},
   "source": [
    "# DEMO"
   ]
  },
  {
   "cell_type": "code",
   "execution_count": 14,
   "metadata": {},
   "outputs": [
    {
     "name": "stderr",
     "output_type": "stream",
     "text": [
      "/home/djjindal/venvs/TF-1.3/lib/python3.6/site-packages/IPython/html.py:14: ShimWarning: The `IPython.html` package has been deprecated since IPython 4.0. You should import from `notebook` instead. `IPython.html.widgets` has moved to `ipywidgets`.\n",
      "  \"`IPython.html.widgets` has moved to `ipywidgets`.\", ShimWarning)\n"
     ]
    },
    {
     "data": {
      "application/vnd.jupyter.widget-view+json": {
       "model_id": "213fba9948704717a7d6e5eaadb8c72f",
       "version_major": 2,
       "version_minor": 0
      },
      "text/plain": [
       "Text(value='', description='Event Chain')"
      ]
     },
     "metadata": {},
     "output_type": "display_data"
    },
    {
     "data": {
      "application/vnd.jupyter.widget-view+json": {
       "model_id": "ff9bdbc4bca54106becb17670b0edb7b",
       "version_major": 2,
       "version_minor": 0
      },
      "text/plain": [
       "Text(value='', description='Candidates')"
      ]
     },
     "metadata": {},
     "output_type": "display_data"
    },
    {
     "data": {
      "application/vnd.jupyter.widget-view+json": {
       "model_id": "bb88e721c13247a2a310ef6ff255dc38",
       "version_major": 2,
       "version_minor": 0
      },
      "text/plain": [
       "Text(value='', description='Entity')"
      ]
     },
     "metadata": {},
     "output_type": "display_data"
    },
    {
     "data": {
      "application/vnd.jupyter.widget-view+json": {
       "model_id": "86abe73c80fc41adbb1e41feff98c1de",
       "version_major": 2,
       "version_minor": 0
      },
      "text/plain": [
       "Button(description='Predict', style=ButtonStyle())"
      ]
     },
     "metadata": {},
     "output_type": "display_data"
    }
   ],
   "source": [
    "\n",
    "text1 = widgets.Text(description=\"Event Chain\", width=200)\n",
    "text2 = widgets.Text(description=\"Candidates\", width=200)\n",
    "text3 = widgets.Text(description=\"Entity\", width=200)\n",
    "button = widgets.Button(description=\"Predict\")\n",
    "button.on_click(on_button_clicked)\n",
    "display(text1)\n",
    "display(text2)\n",
    "display(text3)\n",
    "display(button)\n",
    "\n",
    "# [('john','ordered',None),('john','ate','food')]\n",
    "# [('john','left',None),('john','stays',None)]\n",
    "\n",
    "# [('john','ordered',None),('john','paid',None),('john','ate','food')]\n",
    "# [('john','left',None),('john','stays',None)]\n",
    "\n",
    "# [(None, 'took', 'phone call'), (None, 'had', 'something'), (None, 'began', 'to squint')] \n",
    "# [(None, 'broadcast', '(the two previous record-holders'), ('the pennant', 'slammed', None), (None, \"n't imagine\", 'Maris'), (None, 'expressed', 'interest'), (None, 'turned', '68 _')] "
   ]
  },
  {
   "cell_type": "markdown",
   "metadata": {},
   "source": [
    "# Some Examples"
   ]
  },
  {
   "cell_type": "code",
   "execution_count": 17,
   "metadata": {},
   "outputs": [
    {
     "name": "stderr",
     "output_type": "stream",
     "text": [
      "/home/djjindal/venvs/TF-1.3/lib/python3.6/site-packages/ipykernel_launcher.py:1: DeprecationWarning: generator 'read_data_iterator' raised StopIteration\n",
      "  \"\"\"Entry point for launching an IPython kernel.\n"
     ]
    }
   ],
   "source": [
    "dataset = list(read.read_data_iterator('dataset/gw_extractions_no_rep_no_fin.pickle'))\n",
    "# train_data = dataset[:int(0.8 * len(features))]\n",
    "val_data = dataset[int(0.8 * len(features)):int(0.9*len(features))]\n",
    "\n",
    "for i, ec_dict in zip(range(10), val_data):\n",
    "    check_dataset = [ec_dict]\n",
    "    \n",
    "    predict_set = list(prepare_data.tokenize_if_small_enough(check_dataset, sentences=False))\n",
    "    predict_input_fn = input_builder.input_fn_builder(\n",
    "        features=predict_set,\n",
    "        seq_length=MAX_SEQ_LENGTH,\n",
    "        is_training=False,\n",
    "        drop_remainder=False,\n",
    "        candidates=5)\n",
    "\n",
    "predictions = estimator.predict(input_fn=predict_input_fn,yield_single_examples=False)\n",
    "#     for (i, prediction) in enumerate(predictions):\n",
    "#         arr = prediction['probabilities'][0]\n",
    "#         prob = [np.exp(arr[0]),np.exp(arr[1]),np.exp(arr[2]),np.exp(arr[3]),np.exp(arr[4])]\n",
    "#         total = np.sum(prob)\n",
    "#         max= np.max(prob)\n",
    "#         print(\"SENTENCE EVENT CHAIN\", ec_dict['sentences'],\"\\n\")\n",
    "#         print(\"TRIPLE EVENT CHAIN\", ec_dict['triples'],\"\\n\")\n",
    "#         print(\"CANDIDATES\", ec_dict['candidates'],\"\\n\")\n",
    "#         print(\"ENTITY\", ec_dict['entity'],\"\\n\")\n",
    "#         print(\"CORRECT\", ec_dict['correct'] + 1,\"\\n\")\n",
    "#         print(\"PREDICTION\", prediction['labels'] + 1, \"with Probability\", np.max(prob),\"\\n\",\"\\n\")\n",
    "\n"
   ]
  },
  {
   "cell_type": "code",
   "execution_count": 4,
   "metadata": {
    "scrolled": true
   },
   "outputs": [
    {
     "name": "stderr",
     "output_type": "stream",
     "text": [
      "/home/djjindal/venvs/TF-1.3/lib/python3.6/site-packages/ipykernel_launcher.py:1: DeprecationWarning: generator 'read_data_iterator' raised StopIteration\n",
      "  \"\"\"Entry point for launching an IPython kernel.\n"
     ]
    },
    {
     "name": "stdout",
     "output_type": "stream",
     "text": [
      "INFO:tensorflow:Could not find trained model in model_dir: output_triple, running initialization to predict.\n"
     ]
    },
    {
     "name": "stderr",
     "output_type": "stream",
     "text": [
      "I0504 19:18:47.483046 140208930854656 tf_logging.py:115] Could not find trained model in model_dir: output_triple, running initialization to predict.\n"
     ]
    },
    {
     "name": "stdout",
     "output_type": "stream",
     "text": [
      "INFO:tensorflow:Calling model_fn.\n"
     ]
    },
    {
     "name": "stderr",
     "output_type": "stream",
     "text": [
      "I0504 19:18:49.839376 140208930854656 tf_logging.py:115] Calling model_fn.\n"
     ]
    },
    {
     "name": "stdout",
     "output_type": "stream",
     "text": [
      "INFO:tensorflow:Saver not created because there are no variables in the graph to restore\n"
     ]
    },
    {
     "name": "stderr",
     "output_type": "stream",
     "text": [
      "I0504 19:18:53.164554 140208930854656 tf_logging.py:115] Saver not created because there are no variables in the graph to restore\n"
     ]
    },
    {
     "name": "stdout",
     "output_type": "stream",
     "text": [
      "INFO:tensorflow:Saver not created because there are no variables in the graph to restore\n"
     ]
    },
    {
     "name": "stderr",
     "output_type": "stream",
     "text": [
      "I0504 19:18:53.797435 140208930854656 tf_logging.py:115] Saver not created because there are no variables in the graph to restore\n"
     ]
    },
    {
     "name": "stdout",
     "output_type": "stream",
     "text": [
      "INFO:tensorflow:Saver not created because there are no variables in the graph to restore\n"
     ]
    },
    {
     "name": "stderr",
     "output_type": "stream",
     "text": [
      "I0504 19:18:54.823375 140208930854656 tf_logging.py:115] Saver not created because there are no variables in the graph to restore\n"
     ]
    },
    {
     "name": "stdout",
     "output_type": "stream",
     "text": [
      "INFO:tensorflow:Saver not created because there are no variables in the graph to restore\n"
     ]
    },
    {
     "name": "stderr",
     "output_type": "stream",
     "text": [
      "I0504 19:18:55.526978 140208930854656 tf_logging.py:115] Saver not created because there are no variables in the graph to restore\n"
     ]
    },
    {
     "name": "stdout",
     "output_type": "stream",
     "text": [
      "INFO:tensorflow:Saver not created because there are no variables in the graph to restore\n"
     ]
    },
    {
     "name": "stderr",
     "output_type": "stream",
     "text": [
      "I0504 19:18:56.657824 140208930854656 tf_logging.py:115] Saver not created because there are no variables in the graph to restore\n"
     ]
    },
    {
     "name": "stdout",
     "output_type": "stream",
     "text": [
      "INFO:tensorflow:Done calling model_fn.\n"
     ]
    },
    {
     "name": "stderr",
     "output_type": "stream",
     "text": [
      "I0504 19:18:56.827928 140208930854656 tf_logging.py:115] Done calling model_fn.\n"
     ]
    },
    {
     "name": "stdout",
     "output_type": "stream",
     "text": [
      "INFO:tensorflow:Graph was finalized.\n"
     ]
    },
    {
     "name": "stderr",
     "output_type": "stream",
     "text": [
      "I0504 19:18:57.309812 140208930854656 tf_logging.py:115] Graph was finalized.\n"
     ]
    },
    {
     "name": "stdout",
     "output_type": "stream",
     "text": [
      "INFO:tensorflow:Running local_init_op.\n"
     ]
    },
    {
     "name": "stderr",
     "output_type": "stream",
     "text": [
      "I0504 19:18:58.783755 140208930854656 tf_logging.py:115] Running local_init_op.\n"
     ]
    },
    {
     "name": "stdout",
     "output_type": "stream",
     "text": [
      "INFO:tensorflow:Done running local_init_op.\n"
     ]
    },
    {
     "name": "stderr",
     "output_type": "stream",
     "text": [
      "I0504 19:18:58.924569 140208930854656 tf_logging.py:115] Done running local_init_op.\n"
     ]
    }
   ],
   "source": [
    "dataset = list(read.read_data_iterator('dataset/gw_extractions_no_rep_no_fin.pickle'))\n",
    "train_data = dataset[:int(0.8 * len(features))]\n",
    "val_data = dataset[int(0.8 * len(features)):]\n",
    "\n",
    "check_dataset = []\n",
    "\n",
    "for i, ec_dict in zip(range(1000), val_data):\n",
    "    check_dataset.append(ec_dict)\n",
    "    \n",
    "    \n",
    "predict_set = list(prepare_data.tokenize_if_small_enough(check_dataset,sentences=False,no_context=False))\n",
    "predict_input_fn = input_builder.input_fn_builder(\n",
    "    features=predict_set,\n",
    "    seq_length=MAX_SEQ_LENGTH,\n",
    "    is_training=False,\n",
    "    drop_remainder=False,\n",
    "    candidates=5)\n",
    "\n",
    "predictions = estimator.predict(input_fn=predict_input_fn,yield_single_examples=False)\n",
    "predictions_list = list(predictions)\n",
    "# for (i, prediction) in enumerate(predictions):\n",
    "#     arr = prediction['probabilities'][0]\n",
    "#     prob = [np.exp(arr[0]),np.exp(arr[1]),np.exp(arr[2]),np.exp(arr[3]),np.exp(arr[4])]\n",
    "#     total = np.sum(prob)\n",
    "#     max= np.max(prob)\n",
    "#     ec_dict = check_dataset[i]\n",
    "#     print(\"SENTENCE EVENT CHAIN\", ec_dict['sentences'],\"\\n\")\n",
    "#     print(\"TRIPLE EVENT CHAIN\", ec_dict['triples'],\"\\n\")\n",
    "#     print(\"CANDIDATES\", ec_dict['candidates'],\"\\n\")\n",
    "#     print(\"ENTITY\", ec_dict['entity'],\"\\n\")\n",
    "#     print(prob)\n",
    "#     print(\"CORRECT\", ec_dict['correct'] + 1,\"\\n\")\n",
    "#     print(\"PREDICTION\", prediction['labels']+1, \"with Probability\", np.max(prob),\"\\n\",\"\\n\")\n",
    "\n"
   ]
  },
  {
   "cell_type": "code",
   "execution_count": null,
   "metadata": {},
   "outputs": [],
   "source": [
    "bad = []\n",
    "for i, c in enumerate(check_dataset):\n",
    "    r = list(prepare_data.tokenize_if_small_enough([c],sentences=False,no_context=False))\n",
    "    if not r:\n",
    "#         print(i)\n",
    "        bad.append(i)\n",
    "good_gt = [c for i, c in enumerate(check_dataset) if i not in bad]"
   ]
  },
  {
   "cell_type": "code",
   "execution_count": 11,
   "metadata": {},
   "outputs": [],
   "source": [
    "pred_df = pd.DataFrame.from_dict({'predictions':predictions_list, 'dataset':good_gt})"
   ]
  },
  {
   "cell_type": "code",
   "execution_count": 12,
   "metadata": {},
   "outputs": [
    {
     "name": "stdout",
     "output_type": "stream",
     "text": [
      "0.20901639344262296\n"
     ]
    }
   ],
   "source": [
    "pred_df['pred_label'] = pred_df.predictions.apply(lambda x: x['labels'] - 1)\n",
    "pred_df['gt_label'] = pred_df.dataset.apply(lambda x: x['correct'])\n",
    "pred_df['correct_pred'] = pred_df.apply(lambda s: s.pred_label == s.gt_label, axis=1)\n",
    "print(pred_df.correct_pred.sum()/len(pred_df.index))"
   ]
  },
  {
   "cell_type": "code",
   "execution_count": 13,
   "metadata": {},
   "outputs": [
    {
     "data": {
      "text/html": [
       "<div>\n",
       "<style scoped>\n",
       "    .dataframe tbody tr th:only-of-type {\n",
       "        vertical-align: middle;\n",
       "    }\n",
       "\n",
       "    .dataframe tbody tr th {\n",
       "        vertical-align: top;\n",
       "    }\n",
       "\n",
       "    .dataframe thead th {\n",
       "        text-align: right;\n",
       "    }\n",
       "</style>\n",
       "<table border=\"1\" class=\"dataframe\">\n",
       "  <thead>\n",
       "    <tr style=\"text-align: right;\">\n",
       "      <th></th>\n",
       "      <th>predictions</th>\n",
       "      <th>dataset</th>\n",
       "      <th>pred_label</th>\n",
       "      <th>gt_label</th>\n",
       "      <th>correct_pred</th>\n",
       "    </tr>\n",
       "  </thead>\n",
       "  <tbody>\n",
       "    <tr>\n",
       "      <th>0</th>\n",
       "      <td>{'probabilities': [[-1.7232398, -1.5069797, -1...</td>\n",
       "      <td>{'entity': 'Bush', 'correct': 0, 'sentences': ...</td>\n",
       "      <td>1</td>\n",
       "      <td>0</td>\n",
       "      <td>False</td>\n",
       "    </tr>\n",
       "    <tr>\n",
       "      <th>1</th>\n",
       "      <td>{'probabilities': [[-1.5692232, -1.5910416, -1...</td>\n",
       "      <td>{'entity': 'whose father', 'correct': 1, 'sent...</td>\n",
       "      <td>3</td>\n",
       "      <td>1</td>\n",
       "      <td>False</td>\n",
       "    </tr>\n",
       "    <tr>\n",
       "      <th>2</th>\n",
       "      <td>{'probabilities': [[-1.6051244, -1.5061061, -1...</td>\n",
       "      <td>{'entity': 'the authors', 'correct': 3, 'sente...</td>\n",
       "      <td>3</td>\n",
       "      <td>3</td>\n",
       "      <td>True</td>\n",
       "    </tr>\n",
       "    <tr>\n",
       "      <th>3</th>\n",
       "      <td>{'probabilities': [[-1.647265, -1.4471511, -1....</td>\n",
       "      <td>{'entity': 'the Defense Threat Reduction Agenc...</td>\n",
       "      <td>3</td>\n",
       "      <td>1</td>\n",
       "      <td>False</td>\n",
       "    </tr>\n",
       "    <tr>\n",
       "      <th>4</th>\n",
       "      <td>{'probabilities': [[-1.6502931, -1.4645803, -1...</td>\n",
       "      <td>{'entity': 'Darlene', 'correct': 4, 'sentences...</td>\n",
       "      <td>3</td>\n",
       "      <td>4</td>\n",
       "      <td>False</td>\n",
       "    </tr>\n",
       "    <tr>\n",
       "      <th>5</th>\n",
       "      <td>{'probabilities': [[-1.6494894, -1.4706091, -1...</td>\n",
       "      <td>{'entity': 'Ettinger', 'correct': 3, 'sentence...</td>\n",
       "      <td>3</td>\n",
       "      <td>3</td>\n",
       "      <td>True</td>\n",
       "    </tr>\n",
       "    <tr>\n",
       "      <th>6</th>\n",
       "      <td>{'probabilities': [[-1.6338471, -1.463539, -1....</td>\n",
       "      <td>{'entity': 'Gov. George Pataki', 'correct': 3,...</td>\n",
       "      <td>3</td>\n",
       "      <td>3</td>\n",
       "      <td>True</td>\n",
       "    </tr>\n",
       "    <tr>\n",
       "      <th>7</th>\n",
       "      <td>{'probabilities': [[-1.592204, -1.4600244, -1....</td>\n",
       "      <td>{'entity': 'Serge Savard', 'correct': 4, 'sent...</td>\n",
       "      <td>3</td>\n",
       "      <td>4</td>\n",
       "      <td>False</td>\n",
       "    </tr>\n",
       "    <tr>\n",
       "      <th>8</th>\n",
       "      <td>{'probabilities': [[-1.6337035, -1.4112722, -1...</td>\n",
       "      <td>{'entity': 'AOL', 'correct': 0, 'sentences': [...</td>\n",
       "      <td>3</td>\n",
       "      <td>0</td>\n",
       "      <td>False</td>\n",
       "    </tr>\n",
       "    <tr>\n",
       "      <th>9</th>\n",
       "      <td>{'probabilities': [[-1.6641356, -1.4560769, -1...</td>\n",
       "      <td>{'entity': 'Malick', 'correct': 3, 'sentences'...</td>\n",
       "      <td>3</td>\n",
       "      <td>3</td>\n",
       "      <td>True</td>\n",
       "    </tr>\n",
       "    <tr>\n",
       "      <th>10</th>\n",
       "      <td>{'probabilities': [[-1.6545851, -1.4765658, -1...</td>\n",
       "      <td>{'entity': 'Boeing', 'correct': 0, 'sentences'...</td>\n",
       "      <td>3</td>\n",
       "      <td>0</td>\n",
       "      <td>False</td>\n",
       "    </tr>\n",
       "    <tr>\n",
       "      <th>11</th>\n",
       "      <td>{'probabilities': [[-1.6229137, -1.4757127, -1...</td>\n",
       "      <td>{'entity': 'Ms. Wilson', 'correct': 2, 'senten...</td>\n",
       "      <td>3</td>\n",
       "      <td>2</td>\n",
       "      <td>False</td>\n",
       "    </tr>\n",
       "    <tr>\n",
       "      <th>12</th>\n",
       "      <td>{'probabilities': [[-1.582101, -1.4921397, -1....</td>\n",
       "      <td>{'entity': 'Mobil', 'correct': 4, 'sentences':...</td>\n",
       "      <td>3</td>\n",
       "      <td>4</td>\n",
       "      <td>False</td>\n",
       "    </tr>\n",
       "    <tr>\n",
       "      <th>13</th>\n",
       "      <td>{'probabilities': [[-1.6376966, -1.4636052, -1...</td>\n",
       "      <td>{'entity': 'Ms. Webdale\n",
       "', 'correct': 4, 'sent...</td>\n",
       "      <td>3</td>\n",
       "      <td>4</td>\n",
       "      <td>False</td>\n",
       "    </tr>\n",
       "    <tr>\n",
       "      <th>14</th>\n",
       "      <td>{'probabilities': [[-1.638776, -1.5169549, -1....</td>\n",
       "      <td>{'entity': 'FAA', 'correct': 2, 'sentences': [...</td>\n",
       "      <td>3</td>\n",
       "      <td>2</td>\n",
       "      <td>False</td>\n",
       "    </tr>\n",
       "    <tr>\n",
       "      <th>15</th>\n",
       "      <td>{'probabilities': [[-1.642881, -1.4174114, -1....</td>\n",
       "      <td>{'entity': 'Gov. Gray Davis'\n",
       "', 'correct': 3, ...</td>\n",
       "      <td>3</td>\n",
       "      <td>3</td>\n",
       "      <td>True</td>\n",
       "    </tr>\n",
       "    <tr>\n",
       "      <th>16</th>\n",
       "      <td>{'probabilities': [[-1.5826448, -1.4626122, -1...</td>\n",
       "      <td>{'entity': 'Goldstein', 'correct': 3, 'sentenc...</td>\n",
       "      <td>3</td>\n",
       "      <td>3</td>\n",
       "      <td>True</td>\n",
       "    </tr>\n",
       "    <tr>\n",
       "      <th>17</th>\n",
       "      <td>{'probabilities': [[-1.614895, -1.4779935, -1....</td>\n",
       "      <td>{'entity': 'Michael Ruggiero', 'correct': 2, '...</td>\n",
       "      <td>3</td>\n",
       "      <td>2</td>\n",
       "      <td>False</td>\n",
       "    </tr>\n",
       "    <tr>\n",
       "      <th>18</th>\n",
       "      <td>{'probabilities': [[-1.5514321, -1.5796868, -1...</td>\n",
       "      <td>{'entity': 'Phillip Fulmer', 'correct': 2, 'se...</td>\n",
       "      <td>3</td>\n",
       "      <td>2</td>\n",
       "      <td>False</td>\n",
       "    </tr>\n",
       "    <tr>\n",
       "      <th>19</th>\n",
       "      <td>{'probabilities': [[-1.66517, -1.4512352, -1.5...</td>\n",
       "      <td>{'entity': '\n",
       "Scott Sassa', 'correct': 3, 'sent...</td>\n",
       "      <td>3</td>\n",
       "      <td>3</td>\n",
       "      <td>True</td>\n",
       "    </tr>\n",
       "    <tr>\n",
       "      <th>20</th>\n",
       "      <td>{'probabilities': [[-1.6950574, -1.5997901, -1...</td>\n",
       "      <td>{'entity': 'Clinton', 'correct': 0, 'sentences...</td>\n",
       "      <td>3</td>\n",
       "      <td>0</td>\n",
       "      <td>False</td>\n",
       "    </tr>\n",
       "    <tr>\n",
       "      <th>21</th>\n",
       "      <td>{'probabilities': [[-1.6253603, -1.6918156, -1...</td>\n",
       "      <td>{'entity': '\n",
       "State', 'correct': 1, 'sentences'...</td>\n",
       "      <td>3</td>\n",
       "      <td>1</td>\n",
       "      <td>False</td>\n",
       "    </tr>\n",
       "    <tr>\n",
       "      <th>22</th>\n",
       "      <td>{'probabilities': [[-1.5429369, -1.4901648, -1...</td>\n",
       "      <td>{'entity': 'The guy', 'correct': 2, 'sentences...</td>\n",
       "      <td>1</td>\n",
       "      <td>2</td>\n",
       "      <td>False</td>\n",
       "    </tr>\n",
       "    <tr>\n",
       "      <th>23</th>\n",
       "      <td>{'probabilities': [[-1.9634433, -1.4304442, -1...</td>\n",
       "      <td>{'entity': 'It', 'correct': 2, 'sentences': ['...</td>\n",
       "      <td>3</td>\n",
       "      <td>2</td>\n",
       "      <td>False</td>\n",
       "    </tr>\n",
       "    <tr>\n",
       "      <th>24</th>\n",
       "      <td>{'probabilities': [[-1.6756016, -1.5125109, -1...</td>\n",
       "      <td>{'entity': 'Modano', 'correct': 1, 'sentences'...</td>\n",
       "      <td>3</td>\n",
       "      <td>1</td>\n",
       "      <td>False</td>\n",
       "    </tr>\n",
       "    <tr>\n",
       "      <th>25</th>\n",
       "      <td>{'probabilities': [[-1.5686338, -1.5037622, -1...</td>\n",
       "      <td>{'entity': 'Warren', 'correct': 0, 'sentences'...</td>\n",
       "      <td>1</td>\n",
       "      <td>0</td>\n",
       "      <td>False</td>\n",
       "    </tr>\n",
       "    <tr>\n",
       "      <th>26</th>\n",
       "      <td>{'probabilities': [[-1.5825073, -1.4562365, -1...</td>\n",
       "      <td>{'entity': 'Charles Schumer', 'correct': 1, 's...</td>\n",
       "      <td>3</td>\n",
       "      <td>1</td>\n",
       "      <td>False</td>\n",
       "    </tr>\n",
       "    <tr>\n",
       "      <th>27</th>\n",
       "      <td>{'probabilities': [[-1.5775759, -1.5190161, -1...</td>\n",
       "      <td>{'entity': 'The Jets', 'correct': 1, 'sentence...</td>\n",
       "      <td>3</td>\n",
       "      <td>1</td>\n",
       "      <td>False</td>\n",
       "    </tr>\n",
       "    <tr>\n",
       "      <th>28</th>\n",
       "      <td>{'probabilities': [[-1.6135734, -1.4702741, -1...</td>\n",
       "      <td>{'entity': 'Mrs. Ross\n",
       "', 'correct': 1, 'senten...</td>\n",
       "      <td>3</td>\n",
       "      <td>1</td>\n",
       "      <td>False</td>\n",
       "    </tr>\n",
       "    <tr>\n",
       "      <th>29</th>\n",
       "      <td>{'probabilities': [[-1.5685596, -1.5736805, -1...</td>\n",
       "      <td>{'entity': 'Clarke', 'correct': 4, 'sentences'...</td>\n",
       "      <td>3</td>\n",
       "      <td>4</td>\n",
       "      <td>False</td>\n",
       "    </tr>\n",
       "    <tr>\n",
       "      <th>...</th>\n",
       "      <td>...</td>\n",
       "      <td>...</td>\n",
       "      <td>...</td>\n",
       "      <td>...</td>\n",
       "      <td>...</td>\n",
       "    </tr>\n",
       "    <tr>\n",
       "      <th>946</th>\n",
       "      <td>{'probabilities': [[-1.4892054, -1.595887, -1....</td>\n",
       "      <td>{'entity': 'Abdullah', 'correct': 4, 'sentence...</td>\n",
       "      <td>3</td>\n",
       "      <td>4</td>\n",
       "      <td>False</td>\n",
       "    </tr>\n",
       "    <tr>\n",
       "      <th>947</th>\n",
       "      <td>{'probabilities': [[-1.6094277, -1.44796, -1.6...</td>\n",
       "      <td>{'entity': 'the Vols', 'correct': 3, 'sentence...</td>\n",
       "      <td>3</td>\n",
       "      <td>3</td>\n",
       "      <td>True</td>\n",
       "    </tr>\n",
       "    <tr>\n",
       "      <th>948</th>\n",
       "      <td>{'probabilities': [[-1.5974429, -1.5033208, -1...</td>\n",
       "      <td>{'entity': '\n",
       "David Duval', 'correct': 2, 'sent...</td>\n",
       "      <td>3</td>\n",
       "      <td>2</td>\n",
       "      <td>False</td>\n",
       "    </tr>\n",
       "    <tr>\n",
       "      <th>949</th>\n",
       "      <td>{'probabilities': [[-1.6429033, -1.4329978, -1...</td>\n",
       "      <td>{'entity': 'Merrill', 'correct': 0, 'sentences...</td>\n",
       "      <td>3</td>\n",
       "      <td>0</td>\n",
       "      <td>False</td>\n",
       "    </tr>\n",
       "    <tr>\n",
       "      <th>950</th>\n",
       "      <td>{'probabilities': [[-1.628729, -1.4762121, -1....</td>\n",
       "      <td>{'entity': 'Modern Denver', 'correct': 2, 'sen...</td>\n",
       "      <td>3</td>\n",
       "      <td>2</td>\n",
       "      <td>False</td>\n",
       "    </tr>\n",
       "    <tr>\n",
       "      <th>951</th>\n",
       "      <td>{'probabilities': [[-1.6148102, -1.4732474, -1...</td>\n",
       "      <td>{'entity': 'Lindsey Graham of South Carolina',...</td>\n",
       "      <td>3</td>\n",
       "      <td>0</td>\n",
       "      <td>False</td>\n",
       "    </tr>\n",
       "    <tr>\n",
       "      <th>952</th>\n",
       "      <td>{'probabilities': [[-1.6431122, -1.433798, -1....</td>\n",
       "      <td>{'entity': 'Hardy', 'correct': 2, 'sentences':...</td>\n",
       "      <td>3</td>\n",
       "      <td>2</td>\n",
       "      <td>False</td>\n",
       "    </tr>\n",
       "    <tr>\n",
       "      <th>953</th>\n",
       "      <td>{'probabilities': [[-1.682449, -1.4585454, -1....</td>\n",
       "      <td>{'entity': '8-year-old Jack', 'correct': 3, 's...</td>\n",
       "      <td>3</td>\n",
       "      <td>3</td>\n",
       "      <td>True</td>\n",
       "    </tr>\n",
       "    <tr>\n",
       "      <th>954</th>\n",
       "      <td>{'probabilities': [[-1.5847987, -1.7649927, -1...</td>\n",
       "      <td>{'entity': '\n",
       "President Clinton', 'correct': 3,...</td>\n",
       "      <td>1</td>\n",
       "      <td>3</td>\n",
       "      <td>False</td>\n",
       "    </tr>\n",
       "    <tr>\n",
       "      <th>955</th>\n",
       "      <td>{'probabilities': [[-1.6132425, -1.4674734, -1...</td>\n",
       "      <td>{'entity': 'DiSanto\n",
       "', 'correct': 3, 'sentence...</td>\n",
       "      <td>3</td>\n",
       "      <td>3</td>\n",
       "      <td>True</td>\n",
       "    </tr>\n",
       "    <tr>\n",
       "      <th>956</th>\n",
       "      <td>{'probabilities': [[-1.7332817, -1.5222843, -1...</td>\n",
       "      <td>{'entity': 'Joe', 'correct': 1, 'sentences': [...</td>\n",
       "      <td>3</td>\n",
       "      <td>1</td>\n",
       "      <td>False</td>\n",
       "    </tr>\n",
       "    <tr>\n",
       "      <th>957</th>\n",
       "      <td>{'probabilities': [[-1.6910849, -1.4274266, -1...</td>\n",
       "      <td>{'entity': '\n",
       "An international group of banks, ...</td>\n",
       "      <td>3</td>\n",
       "      <td>1</td>\n",
       "      <td>False</td>\n",
       "    </tr>\n",
       "    <tr>\n",
       "      <th>958</th>\n",
       "      <td>{'probabilities': [[-1.7264352, -1.3977838, -1...</td>\n",
       "      <td>{'entity': 'Neger\n",
       "', 'correct': 2, 'sentences'...</td>\n",
       "      <td>3</td>\n",
       "      <td>2</td>\n",
       "      <td>False</td>\n",
       "    </tr>\n",
       "    <tr>\n",
       "      <th>959</th>\n",
       "      <td>{'probabilities': [[-1.5746914, -1.5259498, -1...</td>\n",
       "      <td>{'entity': 're-signing Alan Henderson', 'corre...</td>\n",
       "      <td>3</td>\n",
       "      <td>1</td>\n",
       "      <td>False</td>\n",
       "    </tr>\n",
       "    <tr>\n",
       "      <th>960</th>\n",
       "      <td>{'probabilities': [[-1.6055329, -1.1776619, -1...</td>\n",
       "      <td>{'entity': 'the Democratic Party', 'correct': ...</td>\n",
       "      <td>0</td>\n",
       "      <td>0</td>\n",
       "      <td>True</td>\n",
       "    </tr>\n",
       "    <tr>\n",
       "      <th>961</th>\n",
       "      <td>{'probabilities': [[-1.5560877, -1.6564002, -1...</td>\n",
       "      <td>{'entity': 'Lindsay', 'correct': 3, 'sentences...</td>\n",
       "      <td>1</td>\n",
       "      <td>3</td>\n",
       "      <td>False</td>\n",
       "    </tr>\n",
       "    <tr>\n",
       "      <th>962</th>\n",
       "      <td>{'probabilities': [[-1.5808208, -1.5658486, -1...</td>\n",
       "      <td>{'entity': 'Twist', 'correct': 2, 'sentences':...</td>\n",
       "      <td>1</td>\n",
       "      <td>2</td>\n",
       "      <td>False</td>\n",
       "    </tr>\n",
       "    <tr>\n",
       "      <th>963</th>\n",
       "      <td>{'probabilities': [[-1.5796038, -1.50177, -1.5...</td>\n",
       "      <td>{'entity': 'Fidelity', 'correct': 1, 'sentence...</td>\n",
       "      <td>3</td>\n",
       "      <td>1</td>\n",
       "      <td>False</td>\n",
       "    </tr>\n",
       "    <tr>\n",
       "      <th>964</th>\n",
       "      <td>{'probabilities': [[-1.6370739, -1.4327679, -1...</td>\n",
       "      <td>{'entity': 'Michael Jordan's', 'correct': 4, '...</td>\n",
       "      <td>3</td>\n",
       "      <td>4</td>\n",
       "      <td>False</td>\n",
       "    </tr>\n",
       "    <tr>\n",
       "      <th>965</th>\n",
       "      <td>{'probabilities': [[-1.6829174, -1.4874519, -1...</td>\n",
       "      <td>{'entity': '\n",
       "Bob Gainey', 'correct': 2, 'sente...</td>\n",
       "      <td>3</td>\n",
       "      <td>2</td>\n",
       "      <td>False</td>\n",
       "    </tr>\n",
       "    <tr>\n",
       "      <th>966</th>\n",
       "      <td>{'probabilities': [[-1.6790748, -1.485956, -1....</td>\n",
       "      <td>{'entity': 'Sharpe', 'correct': 3, 'sentences'...</td>\n",
       "      <td>3</td>\n",
       "      <td>3</td>\n",
       "      <td>True</td>\n",
       "    </tr>\n",
       "    <tr>\n",
       "      <th>967</th>\n",
       "      <td>{'probabilities': [[-1.4807706, -1.4725356, -1...</td>\n",
       "      <td>{'entity': 'The President', 'correct': 1, 'sen...</td>\n",
       "      <td>0</td>\n",
       "      <td>1</td>\n",
       "      <td>False</td>\n",
       "    </tr>\n",
       "    <tr>\n",
       "      <th>968</th>\n",
       "      <td>{'probabilities': [[-1.70397, -1.4218738, -1.5...</td>\n",
       "      <td>{'entity': 'the Patriots', 'correct': 4, 'sent...</td>\n",
       "      <td>3</td>\n",
       "      <td>4</td>\n",
       "      <td>False</td>\n",
       "    </tr>\n",
       "    <tr>\n",
       "      <th>969</th>\n",
       "      <td>{'probabilities': [[-1.52414, -1.5398407, -1.5...</td>\n",
       "      <td>{'entity': '\n",
       "The young player', 'correct': 4, ...</td>\n",
       "      <td>3</td>\n",
       "      <td>4</td>\n",
       "      <td>False</td>\n",
       "    </tr>\n",
       "    <tr>\n",
       "      <th>970</th>\n",
       "      <td>{'probabilities': [[-1.5486459, -1.5287582, -1...</td>\n",
       "      <td>{'entity': 'White House', 'correct': 1, 'sente...</td>\n",
       "      <td>3</td>\n",
       "      <td>1</td>\n",
       "      <td>False</td>\n",
       "    </tr>\n",
       "    <tr>\n",
       "      <th>971</th>\n",
       "      <td>{'probabilities': [[-1.6317929, -1.4111881, -1...</td>\n",
       "      <td>{'entity': 'the Rangers', 'correct': 4, 'sente...</td>\n",
       "      <td>3</td>\n",
       "      <td>4</td>\n",
       "      <td>False</td>\n",
       "    </tr>\n",
       "    <tr>\n",
       "      <th>972</th>\n",
       "      <td>{'probabilities': [[-1.6301981, -1.4942905, -1...</td>\n",
       "      <td>{'entity': 'Dwight', 'correct': 3, 'sentences'...</td>\n",
       "      <td>3</td>\n",
       "      <td>3</td>\n",
       "      <td>True</td>\n",
       "    </tr>\n",
       "    <tr>\n",
       "      <th>973</th>\n",
       "      <td>{'probabilities': [[-1.657687, -1.4847229, -1....</td>\n",
       "      <td>{'entity': 'Miller', 'correct': 3, 'sentences'...</td>\n",
       "      <td>1</td>\n",
       "      <td>3</td>\n",
       "      <td>False</td>\n",
       "    </tr>\n",
       "    <tr>\n",
       "      <th>974</th>\n",
       "      <td>{'probabilities': [[-1.6569898, -1.4256822, -1...</td>\n",
       "      <td>{'entity': 'Wade', 'correct': 3, 'sentences': ...</td>\n",
       "      <td>3</td>\n",
       "      <td>3</td>\n",
       "      <td>True</td>\n",
       "    </tr>\n",
       "    <tr>\n",
       "      <th>975</th>\n",
       "      <td>{'probabilities': [[-1.5908833, -1.5230746, -1...</td>\n",
       "      <td>{'entity': 'Michael Jordan', 'correct': 0, 'se...</td>\n",
       "      <td>3</td>\n",
       "      <td>0</td>\n",
       "      <td>False</td>\n",
       "    </tr>\n",
       "  </tbody>\n",
       "</table>\n",
       "<p>976 rows × 5 columns</p>\n",
       "</div>"
      ],
      "text/plain": [
       "                                           predictions  \\\n",
       "0    {'probabilities': [[-1.7232398, -1.5069797, -1...   \n",
       "1    {'probabilities': [[-1.5692232, -1.5910416, -1...   \n",
       "2    {'probabilities': [[-1.6051244, -1.5061061, -1...   \n",
       "3    {'probabilities': [[-1.647265, -1.4471511, -1....   \n",
       "4    {'probabilities': [[-1.6502931, -1.4645803, -1...   \n",
       "5    {'probabilities': [[-1.6494894, -1.4706091, -1...   \n",
       "6    {'probabilities': [[-1.6338471, -1.463539, -1....   \n",
       "7    {'probabilities': [[-1.592204, -1.4600244, -1....   \n",
       "8    {'probabilities': [[-1.6337035, -1.4112722, -1...   \n",
       "9    {'probabilities': [[-1.6641356, -1.4560769, -1...   \n",
       "10   {'probabilities': [[-1.6545851, -1.4765658, -1...   \n",
       "11   {'probabilities': [[-1.6229137, -1.4757127, -1...   \n",
       "12   {'probabilities': [[-1.582101, -1.4921397, -1....   \n",
       "13   {'probabilities': [[-1.6376966, -1.4636052, -1...   \n",
       "14   {'probabilities': [[-1.638776, -1.5169549, -1....   \n",
       "15   {'probabilities': [[-1.642881, -1.4174114, -1....   \n",
       "16   {'probabilities': [[-1.5826448, -1.4626122, -1...   \n",
       "17   {'probabilities': [[-1.614895, -1.4779935, -1....   \n",
       "18   {'probabilities': [[-1.5514321, -1.5796868, -1...   \n",
       "19   {'probabilities': [[-1.66517, -1.4512352, -1.5...   \n",
       "20   {'probabilities': [[-1.6950574, -1.5997901, -1...   \n",
       "21   {'probabilities': [[-1.6253603, -1.6918156, -1...   \n",
       "22   {'probabilities': [[-1.5429369, -1.4901648, -1...   \n",
       "23   {'probabilities': [[-1.9634433, -1.4304442, -1...   \n",
       "24   {'probabilities': [[-1.6756016, -1.5125109, -1...   \n",
       "25   {'probabilities': [[-1.5686338, -1.5037622, -1...   \n",
       "26   {'probabilities': [[-1.5825073, -1.4562365, -1...   \n",
       "27   {'probabilities': [[-1.5775759, -1.5190161, -1...   \n",
       "28   {'probabilities': [[-1.6135734, -1.4702741, -1...   \n",
       "29   {'probabilities': [[-1.5685596, -1.5736805, -1...   \n",
       "..                                                 ...   \n",
       "946  {'probabilities': [[-1.4892054, -1.595887, -1....   \n",
       "947  {'probabilities': [[-1.6094277, -1.44796, -1.6...   \n",
       "948  {'probabilities': [[-1.5974429, -1.5033208, -1...   \n",
       "949  {'probabilities': [[-1.6429033, -1.4329978, -1...   \n",
       "950  {'probabilities': [[-1.628729, -1.4762121, -1....   \n",
       "951  {'probabilities': [[-1.6148102, -1.4732474, -1...   \n",
       "952  {'probabilities': [[-1.6431122, -1.433798, -1....   \n",
       "953  {'probabilities': [[-1.682449, -1.4585454, -1....   \n",
       "954  {'probabilities': [[-1.5847987, -1.7649927, -1...   \n",
       "955  {'probabilities': [[-1.6132425, -1.4674734, -1...   \n",
       "956  {'probabilities': [[-1.7332817, -1.5222843, -1...   \n",
       "957  {'probabilities': [[-1.6910849, -1.4274266, -1...   \n",
       "958  {'probabilities': [[-1.7264352, -1.3977838, -1...   \n",
       "959  {'probabilities': [[-1.5746914, -1.5259498, -1...   \n",
       "960  {'probabilities': [[-1.6055329, -1.1776619, -1...   \n",
       "961  {'probabilities': [[-1.5560877, -1.6564002, -1...   \n",
       "962  {'probabilities': [[-1.5808208, -1.5658486, -1...   \n",
       "963  {'probabilities': [[-1.5796038, -1.50177, -1.5...   \n",
       "964  {'probabilities': [[-1.6370739, -1.4327679, -1...   \n",
       "965  {'probabilities': [[-1.6829174, -1.4874519, -1...   \n",
       "966  {'probabilities': [[-1.6790748, -1.485956, -1....   \n",
       "967  {'probabilities': [[-1.4807706, -1.4725356, -1...   \n",
       "968  {'probabilities': [[-1.70397, -1.4218738, -1.5...   \n",
       "969  {'probabilities': [[-1.52414, -1.5398407, -1.5...   \n",
       "970  {'probabilities': [[-1.5486459, -1.5287582, -1...   \n",
       "971  {'probabilities': [[-1.6317929, -1.4111881, -1...   \n",
       "972  {'probabilities': [[-1.6301981, -1.4942905, -1...   \n",
       "973  {'probabilities': [[-1.657687, -1.4847229, -1....   \n",
       "974  {'probabilities': [[-1.6569898, -1.4256822, -1...   \n",
       "975  {'probabilities': [[-1.5908833, -1.5230746, -1...   \n",
       "\n",
       "                                               dataset  pred_label  gt_label  \\\n",
       "0    {'entity': 'Bush', 'correct': 0, 'sentences': ...           1         0   \n",
       "1    {'entity': 'whose father', 'correct': 1, 'sent...           3         1   \n",
       "2    {'entity': 'the authors', 'correct': 3, 'sente...           3         3   \n",
       "3    {'entity': 'the Defense Threat Reduction Agenc...           3         1   \n",
       "4    {'entity': 'Darlene', 'correct': 4, 'sentences...           3         4   \n",
       "5    {'entity': 'Ettinger', 'correct': 3, 'sentence...           3         3   \n",
       "6    {'entity': 'Gov. George Pataki', 'correct': 3,...           3         3   \n",
       "7    {'entity': 'Serge Savard', 'correct': 4, 'sent...           3         4   \n",
       "8    {'entity': 'AOL', 'correct': 0, 'sentences': [...           3         0   \n",
       "9    {'entity': 'Malick', 'correct': 3, 'sentences'...           3         3   \n",
       "10   {'entity': 'Boeing', 'correct': 0, 'sentences'...           3         0   \n",
       "11   {'entity': 'Ms. Wilson', 'correct': 2, 'senten...           3         2   \n",
       "12   {'entity': 'Mobil', 'correct': 4, 'sentences':...           3         4   \n",
       "13   {'entity': 'Ms. Webdale\n",
       "', 'correct': 4, 'sent...           3         4   \n",
       "14   {'entity': 'FAA', 'correct': 2, 'sentences': [...           3         2   \n",
       "15   {'entity': 'Gov. Gray Davis'\n",
       "', 'correct': 3, ...           3         3   \n",
       "16   {'entity': 'Goldstein', 'correct': 3, 'sentenc...           3         3   \n",
       "17   {'entity': 'Michael Ruggiero', 'correct': 2, '...           3         2   \n",
       "18   {'entity': 'Phillip Fulmer', 'correct': 2, 'se...           3         2   \n",
       "19   {'entity': '\n",
       "Scott Sassa', 'correct': 3, 'sent...           3         3   \n",
       "20   {'entity': 'Clinton', 'correct': 0, 'sentences...           3         0   \n",
       "21   {'entity': '\n",
       "State', 'correct': 1, 'sentences'...           3         1   \n",
       "22   {'entity': 'The guy', 'correct': 2, 'sentences...           1         2   \n",
       "23   {'entity': 'It', 'correct': 2, 'sentences': ['...           3         2   \n",
       "24   {'entity': 'Modano', 'correct': 1, 'sentences'...           3         1   \n",
       "25   {'entity': 'Warren', 'correct': 0, 'sentences'...           1         0   \n",
       "26   {'entity': 'Charles Schumer', 'correct': 1, 's...           3         1   \n",
       "27   {'entity': 'The Jets', 'correct': 1, 'sentence...           3         1   \n",
       "28   {'entity': 'Mrs. Ross\n",
       "', 'correct': 1, 'senten...           3         1   \n",
       "29   {'entity': 'Clarke', 'correct': 4, 'sentences'...           3         4   \n",
       "..                                                 ...         ...       ...   \n",
       "946  {'entity': 'Abdullah', 'correct': 4, 'sentence...           3         4   \n",
       "947  {'entity': 'the Vols', 'correct': 3, 'sentence...           3         3   \n",
       "948  {'entity': '\n",
       "David Duval', 'correct': 2, 'sent...           3         2   \n",
       "949  {'entity': 'Merrill', 'correct': 0, 'sentences...           3         0   \n",
       "950  {'entity': 'Modern Denver', 'correct': 2, 'sen...           3         2   \n",
       "951  {'entity': 'Lindsey Graham of South Carolina',...           3         0   \n",
       "952  {'entity': 'Hardy', 'correct': 2, 'sentences':...           3         2   \n",
       "953  {'entity': '8-year-old Jack', 'correct': 3, 's...           3         3   \n",
       "954  {'entity': '\n",
       "President Clinton', 'correct': 3,...           1         3   \n",
       "955  {'entity': 'DiSanto\n",
       "', 'correct': 3, 'sentence...           3         3   \n",
       "956  {'entity': 'Joe', 'correct': 1, 'sentences': [...           3         1   \n",
       "957  {'entity': '\n",
       "An international group of banks, ...           3         1   \n",
       "958  {'entity': 'Neger\n",
       "', 'correct': 2, 'sentences'...           3         2   \n",
       "959  {'entity': 're-signing Alan Henderson', 'corre...           3         1   \n",
       "960  {'entity': 'the Democratic Party', 'correct': ...           0         0   \n",
       "961  {'entity': 'Lindsay', 'correct': 3, 'sentences...           1         3   \n",
       "962  {'entity': 'Twist', 'correct': 2, 'sentences':...           1         2   \n",
       "963  {'entity': 'Fidelity', 'correct': 1, 'sentence...           3         1   \n",
       "964  {'entity': 'Michael Jordan's', 'correct': 4, '...           3         4   \n",
       "965  {'entity': '\n",
       "Bob Gainey', 'correct': 2, 'sente...           3         2   \n",
       "966  {'entity': 'Sharpe', 'correct': 3, 'sentences'...           3         3   \n",
       "967  {'entity': 'The President', 'correct': 1, 'sen...           0         1   \n",
       "968  {'entity': 'the Patriots', 'correct': 4, 'sent...           3         4   \n",
       "969  {'entity': '\n",
       "The young player', 'correct': 4, ...           3         4   \n",
       "970  {'entity': 'White House', 'correct': 1, 'sente...           3         1   \n",
       "971  {'entity': 'the Rangers', 'correct': 4, 'sente...           3         4   \n",
       "972  {'entity': 'Dwight', 'correct': 3, 'sentences'...           3         3   \n",
       "973  {'entity': 'Miller', 'correct': 3, 'sentences'...           1         3   \n",
       "974  {'entity': 'Wade', 'correct': 3, 'sentences': ...           3         3   \n",
       "975  {'entity': 'Michael Jordan', 'correct': 0, 'se...           3         0   \n",
       "\n",
       "     correct_pred  \n",
       "0           False  \n",
       "1           False  \n",
       "2            True  \n",
       "3           False  \n",
       "4           False  \n",
       "5            True  \n",
       "6            True  \n",
       "7           False  \n",
       "8           False  \n",
       "9            True  \n",
       "10          False  \n",
       "11          False  \n",
       "12          False  \n",
       "13          False  \n",
       "14          False  \n",
       "15           True  \n",
       "16           True  \n",
       "17          False  \n",
       "18          False  \n",
       "19           True  \n",
       "20          False  \n",
       "21          False  \n",
       "22          False  \n",
       "23          False  \n",
       "24          False  \n",
       "25          False  \n",
       "26          False  \n",
       "27          False  \n",
       "28          False  \n",
       "29          False  \n",
       "..            ...  \n",
       "946         False  \n",
       "947          True  \n",
       "948         False  \n",
       "949         False  \n",
       "950         False  \n",
       "951         False  \n",
       "952         False  \n",
       "953          True  \n",
       "954         False  \n",
       "955          True  \n",
       "956         False  \n",
       "957         False  \n",
       "958         False  \n",
       "959         False  \n",
       "960          True  \n",
       "961         False  \n",
       "962         False  \n",
       "963         False  \n",
       "964         False  \n",
       "965         False  \n",
       "966          True  \n",
       "967         False  \n",
       "968         False  \n",
       "969         False  \n",
       "970         False  \n",
       "971         False  \n",
       "972          True  \n",
       "973         False  \n",
       "974          True  \n",
       "975         False  \n",
       "\n",
       "[976 rows x 5 columns]"
      ]
     },
     "execution_count": 13,
     "metadata": {},
     "output_type": "execute_result"
    }
   ],
   "source": [
    "pred_df"
   ]
  },
  {
   "cell_type": "code",
   "execution_count": 19,
   "metadata": {},
   "outputs": [],
   "source": [
    "pred_df.to_pickle(\"./triple1000_data.pkl\")"
   ]
  },
  {
   "cell_type": "code",
   "execution_count": null,
   "metadata": {},
   "outputs": [],
   "source": [
    "for ec_dict in check_dataset:\n",
    "    print(\"SENTENCE EVENT CHAIN\", ec_dict['sentences'],\"\\n\")\n",
    "    print(\"TRIPLE EVENT CHAIN\", ec_dict['triples'],\"\\n\")\n",
    "    print(\"CANDIDATES\", ec_dict['candidates'],\"\\n\")\n",
    "    print(\"ENTITY\", ec_dict['entity'],\"\\n\")\n",
    "    print(\"CORRECT\", ec_dict['correct'] + 1,\"\\n\")\n",
    "    print(\"PREDICTION\", prediction['labels'], \"with Probability\", np.max(prob),\"\\n\",\"\\n\")"
   ]
  },
  {
   "cell_type": "code",
   "execution_count": null,
   "metadata": {},
   "outputs": [],
   "source": []
  }
 ],
 "metadata": {
  "kernelspec": {
   "display_name": "Python 3",
   "language": "python",
   "name": "python3"
  },
  "language_info": {
   "codemirror_mode": {
    "name": "ipython",
    "version": 3
   },
   "file_extension": ".py",
   "mimetype": "text/x-python",
   "name": "python",
   "nbconvert_exporter": "python",
   "pygments_lexer": "ipython3",
   "version": "3.6.4"
  }
 },
 "nbformat": 4,
 "nbformat_minor": 2
}
